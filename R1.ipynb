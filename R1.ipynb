{
  "nbformat": 4,
  "nbformat_minor": 0,
  "metadata": {
    "colab": {
      "name": "R1.ipynb",
      "provenance": [],
      "collapsed_sections": [
        "nO8q98LH9mkk",
        "fJsTPPStEKjr",
        "dFgSAb2kREcQ",
        "8Ha4MnE-dipM",
        "bmalr6RWkSmh",
        "vpw6a8TJrvf-",
        "c36iyh1m-v_e",
        "8E6XKl5y_RHy"
      ]
    },
    "kernelspec": {
      "name": "ir",
      "display_name": "R"
    },
    "language_info": {
      "name": "R"
    }
  },
  "cells": [
    {
      "cell_type": "markdown",
      "metadata": {
        "id": "FVgm8I6b9p3j"
      },
      "source": [
        "# SESSION B1: R (i)\n",
        "\n",
        "By **Miquel Torrens i Dinarès**\n",
        "\n",
        "*Barcelona School of Economics*\n",
        "\n",
        "*Data Science Center*\n",
        "\n",
        "January 4, 2022"
      ]
    },
    {
      "cell_type": "markdown",
      "metadata": {
        "id": "nO8q98LH9mkk"
      },
      "source": [
        "## 1. The R Environment"
      ]
    },
    {
      "cell_type": "markdown",
      "metadata": {
        "id": "Ku0Q1ddgh-oZ"
      },
      "source": [
        "* Complete user manual: https://cran.r-project.org/doc/manuals/r-release/R-lang.html.\n",
        "* As a beginner, I recommend to start with [RStudio](https://www.rstudio.com/).\n",
        "* As you gain experience and deal with more demanding projects, you can execute your scripts on the [R-GUI console](https://cran.r-project.org/) (current release: `R 4.1.2`), or directly in the Terminal"
      ]
    },
    {
      "cell_type": "markdown",
      "metadata": {
        "id": "zkc7Hm-OURVc"
      },
      "source": [
        "### 1.1 Introduction"
      ]
    },
    {
      "cell_type": "markdown",
      "metadata": {
        "id": "YU92jGjZ92s1"
      },
      "source": [
        "When you open an `R` session, a **console** is displayed, which is where all operations in `R` are run. This is built on an `R` environment that we will call **workspace**. This is the playing field that will contain everything needed to run your code.\n",
        "\n",
        "In a nutshell, in an `R` workspace there are *things* (objects) and *actions* (operators and functions). Objects are located inside the workspace, and we apply functions to these objects to obtain some desired output. For example: we can create a vector `x` (object) and compute its `mean` (function)\n"
      ]
    },
    {
      "cell_type": "code",
      "metadata": {
        "id": "RXN_-b9x5kKC",
        "colab": {
          "base_uri": "https://localhost:8080/",
          "height": 34
        },
        "outputId": "80b91174-4f7f-4c7a-fc56-a423bc9a9c23"
      },
      "source": [
        "x <- 0:10  # This defines a numeric vector \"x\" with integers from 0 to 10\n",
        "mean(x)  # This computes the mean of the vector"
      ],
      "execution_count": null,
      "outputs": [
        {
          "output_type": "display_data",
          "data": {
            "text/plain": [
              "[1] 5"
            ],
            "text/latex": "5",
            "text/markdown": "5",
            "text/html": [
              "5"
            ]
          },
          "metadata": {}
        }
      ]
    },
    {
      "cell_type": "markdown",
      "metadata": {
        "id": "J7YeNbYL-Xi_"
      },
      "source": [
        "Here we displayed an object, an operator, and a function. To create an object, we used an operator of assignment `<-` (right-to-left), and we called a function on this object by placing it inside brackets. We also showed how to comment your code: use `#` to let `R` know it should not run the rest of the line.\n",
        "\n",
        "Some functions do not require an object to be called. For example, you can explore the objects in your workspace using\n"
      ]
    },
    {
      "cell_type": "code",
      "metadata": {
        "id": "4gsIrkr--W8k"
      },
      "source": [
        "ls()"
      ],
      "execution_count": null,
      "outputs": []
    },
    {
      "cell_type": "markdown",
      "metadata": {
        "id": "ntVaezMLGKBy"
      },
      "source": [
        "Most functions also admit **arguments**, which are specifications to control how a function should be run."
      ]
    },
    {
      "cell_type": "code",
      "metadata": {
        "id": "Txvcmv65O9F8"
      },
      "source": [
        "pi  # This is a special object built into R\n",
        "round(pi)  # This functions rounds a number to any decimal point (by default, 0)\n",
        "round(pi, digits = 1)  # The argument \"digits\" controls the number of decimals\n",
        "round(pi, digits = 4)"
      ],
      "execution_count": null,
      "outputs": []
    },
    {
      "cell_type": "markdown",
      "metadata": {
        "id": "8WapugRKP5dS"
      },
      "source": [
        "You can know which arguments are admitted by each function, alongside with a detailed function description, by using the `help()` function, or by typing in an `?` in front of the name of the function:"
      ]
    },
    {
      "cell_type": "code",
      "metadata": {
        "id": "YK0HYT8zP9JF"
      },
      "source": [
        "?mean"
      ],
      "execution_count": null,
      "outputs": []
    },
    {
      "cell_type": "markdown",
      "metadata": {
        "id": "NEW1Juw2AlDf"
      },
      "source": [
        "`R` has a wide array of general functions and operators embedded natively that allow you to do pretty much anything basic. Those functions not readily available that you might require for specific purposes will need to be either (a) installed and loaded from external packages, or (b) coded by YOU. Like many things, coding functions can be both fun and painful.\n",
        "\n",
        "Similarly, you will not create all objects from scratch in a workspace, sometimes you will be importing data, either numeric, in text, or any other format (maps, JSON, SQL, etc.). Your workspace is just the place where you will work on them to generate some output of interest."
      ]
    },
    {
      "cell_type": "markdown",
      "metadata": {
        "id": "4D6bsbX3FT1g"
      },
      "source": [
        "Finally, don't forget to exit your `R` session once your job is done! Do that using the quit function"
      ]
    },
    {
      "cell_type": "code",
      "metadata": {
        "id": "A1dGtbsCFNK1"
      },
      "source": [
        "q()"
      ],
      "execution_count": null,
      "outputs": []
    },
    {
      "cell_type": "markdown",
      "metadata": {
        "id": "OtEJHHSmEp00"
      },
      "source": [
        "Use the command `rm(list = ls())` instead if you don't want to leave the session but want to remove every object in it. But use it with caution!"
      ]
    },
    {
      "cell_type": "markdown",
      "metadata": {
        "id": "oN9glXDbQfZi"
      },
      "source": [
        "### 1.2 General rules to programming (with `R`)"
      ]
    },
    {
      "cell_type": "markdown",
      "metadata": {
        "id": "Q-v9CAFkU7Ff"
      },
      "source": [
        "1. **Reproducibility** is everything: write your code in an `R` script (file with extension `.R`), **NOT** in the console\n",
        "2. **Comment your code thoroughly** and clarify everything, someone else might read it and needs to know what's happening (even yourself in the future)\n",
        "3. Follow a **style guide** and do it **consistently**: spacing, indenting, format..., just like you do writing natural language. [This one](http://adv-r.had.co.nz/Style.html) is decent, no need to follow it to the letter, it's an example that you can tweak to make it your own: just stick to the basics, stay consistent and write as if it were to be read. Remember: **clean code = happy programmer**."
      ]
    },
    {
      "cell_type": "markdown",
      "metadata": {
        "id": "fJsTPPStEKjr"
      },
      "source": [
        "## 2. Input/Output\n"
      ]
    },
    {
      "cell_type": "markdown",
      "metadata": {
        "id": "9cbkwHfuRgKR"
      },
      "source": [
        "### 2.1 Importing functions (libraries)"
      ]
    },
    {
      "cell_type": "markdown",
      "metadata": {
        "id": "ckr_AbQZZrym"
      },
      "source": [
        "Libraries are bundles of functions generally related to one particular topic. For example, the `xtable` package includes a set of functions to convert a table into LaTeX readable format.\n",
        "\n",
        "In `R`, packages need to be installed prior to its use, which then can be loaded into the workspace."
      ]
    },
    {
      "cell_type": "code",
      "metadata": {
        "id": "AG9YdjeVZbLj"
      },
      "source": [
        "# Install the required package (use single or double quotation marks)\n",
        "install.packages('xtable')\n",
        "\n",
        "# Load it into your workspace\n",
        "library(xtable)  # Option 1\n",
        "require(xtable)  # Option 2"
      ],
      "execution_count": null,
      "outputs": []
    },
    {
      "cell_type": "markdown",
      "metadata": {
        "id": "ppZykh6BZlEl"
      },
      "source": [
        "Both commands do the exact same task: dump every function in the package into your workspace -- the only practical difference is that if the loaded package is not available, `library` will crash, while `require` just returns a warning."
      ]
    },
    {
      "cell_type": "code",
      "metadata": {
        "id": "jvSlJ8WXay4e"
      },
      "source": [
        "# The following command will give an error\n",
        "require(mombf)\n",
        "library(mombf)"
      ],
      "execution_count": null,
      "outputs": []
    },
    {
      "cell_type": "markdown",
      "metadata": {
        "id": "HpW8roioa16C"
      },
      "source": [
        "There are two ways to call a function from an installed package:"
      ]
    },
    {
      "cell_type": "code",
      "metadata": {
        "id": "EREEMAh9UOty"
      },
      "source": [
        "data1 <- matrix(1:9, ncol = 3, nrow = 3)\n",
        "data2 <- xtable(data1)  # NOT recommended\n",
        "data2 <- xtable::xtable(data1)  # RECOMMENDED (double colon)\n",
        "print(data1)\n",
        "print(data2)"
      ],
      "execution_count": null,
      "outputs": []
    },
    {
      "cell_type": "markdown",
      "metadata": {
        "id": "2rEPnDmtLy7P"
      },
      "source": [
        "I would recommend that you use **only** the essential libraries you need for your task. Since packages are generally coded by other users, they might\n",
        "* change over time (affecting the time-consistency of the code)\n",
        "* be more prone to errors (smaller critical mass to properly test them)\n",
        "* be *sui generis* with respect to `R`'s proper code structure (susceptible to transient trends)\n",
        "* cause cross-platform trouble and run into replication problems.\n",
        "\n",
        "In summary, if you can do the same thing using only base packages (with reasonable effort), it's much safer to avoid imports in the long run; and if you use an external package, keep it simple and go for the most robust choice, and easily recognisable."
      ]
    },
    {
      "cell_type": "markdown",
      "metadata": {
        "id": "dFgSAb2kREcQ"
      },
      "source": [
        "### 2.2 Importing and exporting external data"
      ]
    },
    {
      "cell_type": "markdown",
      "metadata": {
        "id": "fMs3XfBgJyIX"
      },
      "source": [
        "Here we detail the process of importing and exporting data into an `R` session. Some popular native functions"
      ]
    },
    {
      "cell_type": "code",
      "metadata": {
        "id": "8F_BxrD8Jxyt"
      },
      "source": [
        "# NOT RUN\n",
        "read.csv()  # Import data from a CSV\n",
        "read.txt()  # Import from TXT file\n",
        "read.fwf()  # Read fixed width format files\n",
        "read.table()  # General function\n",
        "readLines()  # Import lines of text\n",
        "download.file()  # To download a data file from a URL\n",
        "# END NOT RUN"
      ],
      "execution_count": null,
      "outputs": []
    },
    {
      "cell_type": "markdown",
      "metadata": {
        "id": "zWCGeIdNMPot"
      },
      "source": [
        "You need to supply the file path to these functions to load the data itself.\n",
        "\n",
        "The library of functions `foreign` will help you to read a number of different other data formats. Most commercial softwares have their own reading methods. For example, to import from Excel you need the function `read_excel()` in the `readxl` package. The `haven` package contains functions to read output files from other popular dinosaur softwares such as Stata, SPSS or SAS. If you use RStudio, some of these imports are automatised in the tab *Import dataset*.\n"
      ]
    },
    {
      "cell_type": "markdown",
      "metadata": {
        "id": "LaNI0m3fDLq5"
      },
      "source": [
        "Similarly to the reading functions, there are equivalent writing functions to save your output into non-`R` generic formats: `write.csv()`,  `write.table()`, or `writeLines()`."
      ]
    },
    {
      "cell_type": "markdown",
      "metadata": {
        "id": "8Ha4MnE-dipM"
      },
      "source": [
        "### 2.3 Importing and exporting R files"
      ]
    },
    {
      "cell_type": "markdown",
      "metadata": {
        "id": "xEctQSdBe8RH"
      },
      "source": [
        "Sometimes you will want to save an object created in `R` to an external file. There are two natural formats to produce `R` outputs: `.RData` or `.rda` (more than one object can be stored), and `.rds` (only one object)."
      ]
    },
    {
      "cell_type": "code",
      "metadata": {
        "id": "0g9XsVdKdjfF"
      },
      "source": [
        "# Write an object on an external file (.RData, rda, rds)\n",
        "save(data1, file = 'data1.RData')  # .RData or .rda\n",
        "saveRDS(data2, file = 'data2.rds')  # .rds\n",
        "save.image(file = 'workspace.RData')  # This saves the entire workspace"
      ],
      "execution_count": null,
      "outputs": []
    },
    {
      "cell_type": "markdown",
      "metadata": {
        "id": "qXgNRPd5geOT"
      },
      "source": [
        "Similarly, you might want to read a file produced in `R`. an `.RData`, again two ways to load them:"
      ]
    },
    {
      "cell_type": "code",
      "metadata": {
        "id": "GFjvZjtNf2nu"
      },
      "source": [
        "rm(data1, data2)  # Remove objects in the workspace to prove this works\n",
        "load('data1.RData')  # This loads into workspace with the name it was saved with\n",
        "data2 <- readRDS('data2.rds')  # This needs an assigment\n",
        "print(data1)\n",
        "print(data2)"
      ],
      "execution_count": null,
      "outputs": []
    },
    {
      "cell_type": "markdown",
      "metadata": {
        "id": "r8I8LATCgm0O"
      },
      "source": [
        "You can actually run an `R` script itself by supplying the command `source()` with the `.R` file path."
      ]
    },
    {
      "cell_type": "markdown",
      "metadata": {
        "id": "1ep9MlzU38Pr"
      },
      "source": [
        "Other relevant functions:"
      ]
    },
    {
      "cell_type": "code",
      "metadata": {
        "id": "xH2MmAwR3-kF"
      },
      "source": [
        "print\n",
        "cat\n",
        "message, warning\n",
        "format\n",
        "sink\n",
        "flie.copy, file.create, file.remove, file.rename, dir.create\n",
        "file.exists\n",
        "file.info\n",
        "download.file"
      ],
      "execution_count": null,
      "outputs": []
    },
    {
      "cell_type": "markdown",
      "metadata": {
        "id": "OrmUKuJc452B"
      },
      "source": [
        "## 3. Objects and object classes"
      ]
    },
    {
      "cell_type": "markdown",
      "metadata": {
        "id": "MGrK5_LukZDf"
      },
      "source": [
        "The **class** of an object determines (a) its structure and (b) what/how functions can be applied to it. "
      ]
    },
    {
      "cell_type": "markdown",
      "metadata": {
        "id": "bmalr6RWkSmh"
      },
      "source": [
        "### 3.1 Common object classes"
      ]
    },
    {
      "cell_type": "markdown",
      "metadata": {
        "id": "Yt8L78Sr-knT"
      },
      "source": [
        "Here we summarise some of the most common object classes:\n",
        "\n",
        "1. Vectors: essentially three types (but not only)\n",
        "\n",
        "  a. `numeric` (float or double) and `integer`\n",
        "\n",
        "  The difference is integers use no decimal points and so are less demanding in terms of memory.\n",
        "\n",
        "  b. `character` and `factor`\n",
        "  \n",
        "  Factors are characters that can only take a specific set of values (known as `levels`), as in a categorical variable.\n",
        "\n",
        "  c. `logical`\n",
        "  \n",
        "  Booleans, they can only be `TRUE` or `FALSE`.\n",
        "\n",
        "2. `list`\n",
        "\n",
        "  They allow you to have different objects (maybe of different class) in one single objects, using *slots*, having one object in each slot.\n",
        "\n",
        "3. `data.frame`\n",
        "\n",
        "  Rectangular data structure similar to a matrix, with rows and columns, where each column can be of a different type.\n",
        "  \n",
        "4. `matrix` and `array`\n",
        "\n",
        "  Matrices are similar to data.frames but less flexible: all its elements have to be of the same classe. On the other hand, computations with matrices are more efficient. arrays are just matrices with potentially more dimensions.\n"
      ]
    },
    {
      "cell_type": "code",
      "metadata": {
        "id": "L3PUZv2JF_Xq"
      },
      "source": [
        "# Types of vectors\n",
        "# [c() creates a vector: it is a function to concatenate elements]\n",
        "x1 <- c(1.4, 2.3, 3.2, 4.1)  # numeric\n",
        "x2 <- c(1L, 2L, 3L, 4L)  # integer\n",
        "x3 <- c('A', 'B', 'C', 'A')  # character\n",
        "x4 <- factor(c('A', 'B', 'C', 'A'))  # declare it as factor with levels \"A\", \"B\" and \"C\"\n",
        "x5 <- c(TRUE, FALSE, TRUE, FALSE)  # logical\n",
        "\n",
        "# The \"class\" function tells you what class an object is\n",
        "class(x1)  # To obtain a boolean, try: is.numeric(x1)\n",
        "class(x2)  # Try: is.integer(x2)\n",
        "class(x3)  # Try: is.character(x3)\n",
        "class(x4)  # Try: is.factor(x4)\n",
        "class(x5)  # Try: is.logical(x5)"
      ],
      "execution_count": null,
      "outputs": []
    },
    {
      "cell_type": "markdown",
      "metadata": {
        "id": "-B5cWldBfhnE"
      },
      "source": [
        "Some classes can be *coerced* into other classes: for example a numeric vector can be coerced into a character vector, and vice versa if the elements of the vector are digits. But numeric vectors cannot be coerced into logical. Use the functions\n",
        "- `as.numeric()`,\n",
        "- `as.integer()`,\n",
        "- `as.character()`,\n",
        "- `as.factor()`,\n",
        "- `as.logical()`,\n",
        "\n",
        "to convert objects into other classes.\n",
        "\n",
        "If some class is not coercible into another, you may be able to use a coercible middle class to do the trick. For example, if `x` is a factor with values in 1, 2, 3, you may coerce it into numeric using"
      ]
    },
    {
      "cell_type": "code",
      "metadata": {
        "id": "eBr8nOdAhJpL"
      },
      "source": [
        "x <- as.factor(c(4:6, 6:4))  # x is a factor\n",
        "cat('* Class of \"x\":', class(x), '\\n')\n",
        "print(x)  # This will print the levels\n",
        "\n",
        "# Factors are not coercible to numeric\n",
        "y <- as.numeric(x)\n",
        "print(y)  # WRONG result\n",
        "\n",
        "# Use character as a translator\n",
        "z <- as.numeric(as.character(x))  # factor -> character -> numeric\n",
        "cat('* Class of \"z\":', class(z), '\\n')\n",
        "print(z)"
      ],
      "execution_count": null,
      "outputs": []
    },
    {
      "cell_type": "markdown",
      "metadata": {
        "id": "moZCgAovi2fW"
      },
      "source": [
        "As for the rest of object classes, here's how to create them:"
      ]
    },
    {
      "cell_type": "code",
      "metadata": {
        "id": "hJ_408O-JH5P"
      },
      "source": [
        "# Create a list\n",
        "a <- list('a' = x, 'b' = z) # with two \"slots\", with names \"a\" and \"b\"\n",
        "print(a)\n",
        "\n",
        "# Create a data.frame\n",
        "b <- data.frame('col1' = x, 'col2' = y, 'col3' = z)\n",
        "print(b)\n",
        "\n",
        "# Create a matrix\n",
        "m <- matrix(1:12, ncol = 3)\n",
        "print(m)"
      ],
      "execution_count": null,
      "outputs": []
    },
    {
      "cell_type": "markdown",
      "metadata": {
        "id": "Q12iP6JTIpHu"
      },
      "source": [
        "These classes are coercible as well, using `as.list()`, `as.data.frame()`, and `as.matrix()`, but **BE CAREFUL** in any type of class coercion, and always inspect the coerced object to make sure the result is in the correct desired format.\n",
        "\n",
        "In more advanced levels you will encounter more classes that stem from this basic set, and more complex, such as [`S4` objects](http://adv-r.had.co.nz/S4.html). You will also learn to create your own classes."
      ]
    },
    {
      "cell_type": "markdown",
      "metadata": {
        "id": "vpw6a8TJrvf-"
      },
      "source": [
        "### 3.2 Functions applicable to a class"
      ]
    },
    {
      "cell_type": "markdown",
      "metadata": {
        "id": "5biiP2Snr5UU"
      },
      "source": [
        "Functions are applied to specific classes. For example, the function `mean()` can be applied to an object of class `numeric`, but applying it to an object of class `character` or `factor` would generate an error in your workspace:"
      ]
    },
    {
      "cell_type": "code",
      "metadata": {
        "colab": {
          "base_uri": "https://localhost:8080/"
        },
        "id": "3BRt1YgwtOhG",
        "outputId": "e73016ed-50b5-45be-df9d-2159dcf199d3"
      },
      "source": [
        "x1 <- c(1, 7, 4, 8, 6, 0)\n",
        "x2 <- as.factor(c('a', 'c', 'd', 'b', 'b', 'd'))\n",
        "print(mean(x1))  # OK\n",
        "print(mean(x2))  # Can't do it"
      ],
      "execution_count": null,
      "outputs": [
        {
          "output_type": "stream",
          "name": "stdout",
          "text": [
            "[1] 4.333333\n"
          ]
        },
        {
          "output_type": "stream",
          "name": "stderr",
          "text": [
            "Warning message in mean.default(x2):\n",
            "“argument is not numeric or logical: returning NA”\n"
          ]
        },
        {
          "output_type": "stream",
          "name": "stdout",
          "text": [
            "[1] NA\n"
          ]
        }
      ]
    },
    {
      "cell_type": "markdown",
      "metadata": {
        "id": "4RZLkSyBtygj"
      },
      "source": [
        "(Note: characters require quotation marks, otherwise it would be as if you were creating a vector with objects `a`, `b`, `c` and `d`, which do not exist.)\n",
        "\n",
        "Other functions are applicable to both classes, but mind you they might produce different types of output:"
      ]
    },
    {
      "cell_type": "code",
      "metadata": {
        "colab": {
          "base_uri": "https://localhost:8080/"
        },
        "id": "lD77LkBQtG6s",
        "outputId": "92d1d05a-0f7a-4bf8-9cee-e14413391c70"
      },
      "source": [
        "cat('* Summary of object \"x1\"\\n')\n",
        "summary(x1)\n",
        "cat('* Summary of object \"x2\"\\n')\n",
        "summary(x2)"
      ],
      "execution_count": null,
      "outputs": [
        {
          "output_type": "stream",
          "name": "stdout",
          "text": [
            "* Summary of object \"x1\"\n"
          ]
        },
        {
          "output_type": "display_data",
          "data": {
            "text/plain": [
              "   Min. 1st Qu.  Median    Mean 3rd Qu.    Max. \n",
              "  0.000   1.750   5.000   4.333   6.750   8.000 "
            ]
          },
          "metadata": {}
        },
        {
          "output_type": "stream",
          "name": "stdout",
          "text": [
            "* Summary of object \"x2\"\n"
          ]
        },
        {
          "output_type": "display_data",
          "data": {
            "text/plain": [
              "a b c d \n",
              "1 2 1 2 "
            ],
            "text/latex": "\\begin{description*}\n\\item[a] 1\n\\item[b] 2\n\\item[c] 1\n\\item[d] 2\n\\end{description*}\n",
            "text/markdown": "a\n:   1b\n:   2c\n:   1d\n:   2\n\n",
            "text/html": [
              "<style>\n",
              ".dl-inline {width: auto; margin:0; padding: 0}\n",
              ".dl-inline>dt, .dl-inline>dd {float: none; width: auto; display: inline-block}\n",
              ".dl-inline>dt::after {content: \":\\0020\"; padding-right: .5ex}\n",
              ".dl-inline>dt:not(:first-of-type) {padding-left: .5ex}\n",
              "</style><dl class=dl-inline><dt>a</dt><dd>1</dd><dt>b</dt><dd>2</dd><dt>c</dt><dd>1</dd><dt>d</dt><dd>2</dd></dl>\n"
            ]
          },
          "metadata": {}
        }
      ]
    },
    {
      "cell_type": "markdown",
      "metadata": {
        "id": "9pMx-rKTu4hU"
      },
      "source": [
        "You can find out if a function is usable on your object class with the function `methods()`, which will display all classes that a given (native) function can handle:"
      ]
    },
    {
      "cell_type": "code",
      "metadata": {
        "id": "Korr627TvEsc"
      },
      "source": [
        "methods(summary)"
      ],
      "execution_count": null,
      "outputs": []
    },
    {
      "cell_type": "markdown",
      "metadata": {
        "id": "BPuurT0xosRM"
      },
      "source": [
        "### 3.2 Quick object inspection"
      ]
    },
    {
      "cell_type": "markdown",
      "metadata": {
        "id": "T02e0klVxvRy"
      },
      "source": [
        "Sometimes we have an object of a given class that you want to inspect."
      ]
    },
    {
      "cell_type": "code",
      "metadata": {
        "id": "EAtJfo8yx6MQ"
      },
      "source": [
        "set.seed(666)  # This functions \"controls\" the random\n",
        "x <- rnorm(10000, mean = 0, sd = 1)  # 10K random values from a standard normal\n",
        "y <- list(A = 1:100, B = letters[1:22], C = rnorm(10), D = c(TRUE, TRUE, FALSE))\n",
        "z <- data.frame(col1 = 1:100, col2 = 101:200, col3 = 201:300)\n",
        "w <- as.matrix(z)\n",
        "\n",
        "cat('* Structure of object \"x\"\\n')\n",
        "str(x)  # This functions provides the structure of the object\n",
        "cat('* Structure of object \"y\"\\n')\n",
        "str(y)\n",
        "cat('* Structure of object \"z\"\\n')\n",
        "str(z)"
      ],
      "execution_count": null,
      "outputs": []
    },
    {
      "cell_type": "markdown",
      "metadata": {
        "id": "sNrLU8hVozYn"
      },
      "source": [
        "The function `summary` above applies to most classes, and some other quick-look functions are also useful."
      ]
    },
    {
      "cell_type": "code",
      "metadata": {
        "id": "KgaOuMT7whE1"
      },
      "source": [
        "x <- round(x, 4)  # For display purposes\n",
        "\n",
        "head(x)  # Provide first values\n",
        "head(x, n = 10)\n",
        "tail(x)  # Provide last values\n",
        "x[1]\n",
        "x[7287]  # Provide value no. 7,287\n",
        "x[10001]  # Returns NA: element 10K+1 doesn't exist"
      ],
      "execution_count": null,
      "outputs": []
    },
    {
      "cell_type": "markdown",
      "metadata": {
        "id": "uc6FWAV40Gu-"
      },
      "source": [
        "Note that indexing in `R` is as in natural language: it starts at `1` (Python is at `0`).\n"
      ]
    },
    {
      "cell_type": "markdown",
      "metadata": {
        "id": "6JPQwIQk1F8R"
      },
      "source": [
        "Different classes have different attributes that can be inspected:\n"
      ]
    },
    {
      "cell_type": "code",
      "metadata": {
        "id": "Pj8RLKZ01Kah"
      },
      "source": [
        "# Matrices and data.frames have dimensions and they have names\n",
        "dim(z)  # Dimension\n",
        "nrow(z)  # No. of rows\n",
        "ncol(z)  # No. of columns\n",
        "colnames(z)  # Names of the columns\n",
        "head(rownames(z))  # Names of the rows\n",
        "rownames(z) <- paste('row', 1:nrow(z), sep = '')  # All these can be changed\n",
        "head(rownames(z))\n",
        "\n",
        "# Lists can also have names but no dimension (they have length)\n",
        "names(y)\n",
        "length(y)\n",
        "\n",
        "# So do vectors\n",
        "names(x)  # This vector has no names, but they can be assigned\n",
        "length(x)\n",
        "names(x) <- paste('val', 1:length(x), sep = '')\n",
        "head(names(x))\n",
        "\n",
        "# For non-continuous vectors, this is a really useful function\n",
        "v <- c('A', 'B', 'A', 'C', 'C', 'A', 'A', 'B', 'C')\n",
        "table(v)  # Absolute frequencies"
      ],
      "execution_count": null,
      "outputs": []
    },
    {
      "cell_type": "markdown",
      "metadata": {
        "id": "wd1s0I432Swu"
      },
      "source": [
        "and different operators to access its elements"
      ]
    },
    {
      "cell_type": "code",
      "metadata": {
        "id": "C2myoUtK2T_-"
      },
      "source": [
        "# Vectors: single parenthesis (access either by index or by name)\n",
        "x[1]\n",
        "x['val1']  # same\n",
        "x[-1]  # negative indices used to drop elements: all elements except the first\n",
        "x[-(1:5)]  # return every element except those in 1 to 5\n",
        "x[11:20][7]  # you can \"double\" subsets: return element 7 from the set 11 to 20\n",
        "\n",
        "# Lists: double parenthesis (index or name)\n",
        "y[[1]]  # First element of the list is a vector\n",
        "y[[1]] <- y[[1]][1:10]  # Lets shorten it: keep first ten values (reassignment)\n",
        "y[[1]]  # Repeat: now shorter vector\n",
        "y[['A']]  # same result\n",
        "y$A  # same, but NOT recommended: \"partial matching\" can cause errors\n",
        "\n",
        "# Why not use the \"$\" operator? Let's see what can happen\n",
        "names(y) <- c('Abcd', 'Defg', 'Hijk', 'Lmno')  # Let's set new names\n",
        "y[['A']]  # NA (well-done!): a slot named \"A\" does not exist\n",
        "y$A  # Returns an element, WRONG: I call for 'A' and it gives me something with a different name\n",
        "\n",
        "# data.frames and matrices: ROWS before *comma*, COLUMNS after\n",
        "head(z[, 1])  # column 1\n",
        "head(z[1, ])  # row 1\n",
        "head(z[1, 1])  # element 1 in column 1\n",
        "head(z[, 'col1'])\n",
        "head(z['row1', ])\n",
        "\n",
        "# Operator \"$\" works also for data.frames, but not for matrices\n",
        "head(z$col1)  # In data.frame: NOT recommended\n",
        "try(head(w$col1))  # In matrix: ERROR\n",
        "\n",
        "colnames(z) <- c('Abcd', 'Defg', 'Hijk')  # Same exercise: partial matching\n",
        "head(z[, 'A'])  # ERROR: good!\n",
        "head(z$A)  # Again: it gives you something you're not asking for"
      ],
      "execution_count": null,
      "outputs": []
    },
    {
      "cell_type": "markdown",
      "metadata": {
        "id": "G9zgb-1v0sR-"
      },
      "source": [
        "Generally, avoid the use of the `$` operator: it's shorter code but more prone to errors (code of lower quality and robustness), especially in lists and `data.frame`'s. Instead, use either indexing or (if named) full quotation."
      ]
    },
    {
      "cell_type": "markdown",
      "metadata": {
        "id": "oLjxvmSqo12f"
      },
      "source": [
        "## 4. Operators"
      ]
    },
    {
      "cell_type": "markdown",
      "metadata": {
        "id": "CwMWyAL9o49K"
      },
      "source": [
        "Operators are functions in the form of symbols to perform specific mathematical or logical computations. We provide a list of the native `R` operators with an example:"
      ]
    },
    {
      "cell_type": "markdown",
      "metadata": {
        "id": "c36iyh1m-v_e"
      },
      "source": [
        "### 4.1 Basic operators"
      ]
    },
    {
      "cell_type": "markdown",
      "metadata": {
        "id": "3sYFSfZJ2oTf"
      },
      "source": [
        "*   **Arithmetic** operators"
      ]
    },
    {
      "cell_type": "code",
      "metadata": {
        "id": "PFkHjU2p1AjS",
        "colab": {
          "base_uri": "https://localhost:8080/",
          "height": 466
        },
        "outputId": "2e383b9f-fdf1-43d2-a1dc-fc743d66a0d7"
      },
      "source": [
        "# Numeric and integer vectors\n",
        "3 + 1  # addition\n",
        "3 - 1  # subtraction\n",
        "5 * 2  # multiplication\n",
        "5 / 2  # division\n",
        "5 %% 2  # remainder\n",
        "5 %/% 2  # quotient\n",
        "2 ** 3  # exponentiation, also: 2^3\n",
        "exp(1)  # e^1 = 2.718282... (NOT an operator)\n",
        "\n",
        "# Matrix operators\n",
        "A <- matrix(1:9, ncol = 3)\n",
        "B <- matrix(10:18, ncol = 3)\n",
        "A * B  # elementwise multiplication (!)\n",
        "A %*% B  # matrix multiplication\n",
        "A %o% B  # outer product"
      ],
      "execution_count": null,
      "outputs": [
        {
          "output_type": "display_data",
          "data": {
            "text/plain": [
              "[1] 4"
            ],
            "text/latex": "4",
            "text/markdown": "4",
            "text/html": [
              "4"
            ]
          },
          "metadata": {}
        },
        {
          "output_type": "display_data",
          "data": {
            "text/plain": [
              "[1] 2"
            ],
            "text/latex": "2",
            "text/markdown": "2",
            "text/html": [
              "2"
            ]
          },
          "metadata": {}
        },
        {
          "output_type": "display_data",
          "data": {
            "text/plain": [
              "[1] 10"
            ],
            "text/latex": "10",
            "text/markdown": "10",
            "text/html": [
              "10"
            ]
          },
          "metadata": {}
        },
        {
          "output_type": "display_data",
          "data": {
            "text/plain": [
              "[1] 2.5"
            ],
            "text/latex": "2.5",
            "text/markdown": "2.5",
            "text/html": [
              "2.5"
            ]
          },
          "metadata": {}
        },
        {
          "output_type": "display_data",
          "data": {
            "text/plain": [
              "[1] 1"
            ],
            "text/latex": "1",
            "text/markdown": "1",
            "text/html": [
              "1"
            ]
          },
          "metadata": {}
        },
        {
          "output_type": "display_data",
          "data": {
            "text/plain": [
              "[1] 2"
            ],
            "text/latex": "2",
            "text/markdown": "2",
            "text/html": [
              "2"
            ]
          },
          "metadata": {}
        },
        {
          "output_type": "display_data",
          "data": {
            "text/plain": [
              "[1] 8"
            ],
            "text/latex": "8",
            "text/markdown": "8",
            "text/html": [
              "8"
            ]
          },
          "metadata": {}
        },
        {
          "output_type": "display_data",
          "data": {
            "text/plain": [
              "[1] 2.718282"
            ],
            "text/latex": "2.71828182845905",
            "text/markdown": "2.71828182845905",
            "text/html": [
              "2.71828182845905"
            ]
          },
          "metadata": {}
        },
        {
          "output_type": "display_data",
          "data": {
            "text/plain": [
              "     [,1] [,2] [,3]\n",
              "[1,] 10   52   112 \n",
              "[2,] 22   70   136 \n",
              "[3,] 36   90   162 "
            ],
            "text/latex": "A matrix: 3 × 3 of type int\n\\begin{tabular}{lll}\n\t 10 & 52 & 112\\\\\n\t 22 & 70 & 136\\\\\n\t 36 & 90 & 162\\\\\n\\end{tabular}\n",
            "text/markdown": "\nA matrix: 3 × 3 of type int\n\n| 10 | 52 | 112 |\n| 22 | 70 | 136 |\n| 36 | 90 | 162 |\n\n",
            "text/html": [
              "<table class=\"dataframe\">\n",
              "<caption>A matrix: 3 × 3 of type int</caption>\n",
              "<tbody>\n",
              "\t<tr><td>10</td><td>52</td><td>112</td></tr>\n",
              "\t<tr><td>22</td><td>70</td><td>136</td></tr>\n",
              "\t<tr><td>36</td><td>90</td><td>162</td></tr>\n",
              "</tbody>\n",
              "</table>\n"
            ]
          },
          "metadata": {}
        },
        {
          "output_type": "display_data",
          "data": {
            "text/plain": [
              "     [,1] [,2] [,3]\n",
              "[1,] 138  174  210 \n",
              "[2,] 171  216  261 \n",
              "[3,] 204  258  312 "
            ],
            "text/latex": "A matrix: 3 × 3 of type dbl\n\\begin{tabular}{lll}\n\t 138 & 174 & 210\\\\\n\t 171 & 216 & 261\\\\\n\t 204 & 258 & 312\\\\\n\\end{tabular}\n",
            "text/markdown": "\nA matrix: 3 × 3 of type dbl\n\n| 138 | 174 | 210 |\n| 171 | 216 | 261 |\n| 204 | 258 | 312 |\n\n",
            "text/html": [
              "<table class=\"dataframe\">\n",
              "<caption>A matrix: 3 × 3 of type dbl</caption>\n",
              "<tbody>\n",
              "\t<tr><td>138</td><td>174</td><td>210</td></tr>\n",
              "\t<tr><td>171</td><td>216</td><td>261</td></tr>\n",
              "\t<tr><td>204</td><td>258</td><td>312</td></tr>\n",
              "</tbody>\n",
              "</table>\n"
            ]
          },
          "metadata": {}
        },
        {
          "output_type": "display_data",
          "data": {
            "text/plain": [
              ", , 1, 1\n",
              "\n",
              "     [,1] [,2] [,3]\n",
              "[1,]   10   40   70\n",
              "[2,]   20   50   80\n",
              "[3,]   30   60   90\n",
              "\n",
              ", , 2, 1\n",
              "\n",
              "     [,1] [,2] [,3]\n",
              "[1,]   11   44   77\n",
              "[2,]   22   55   88\n",
              "[3,]   33   66   99\n",
              "\n",
              ", , 3, 1\n",
              "\n",
              "     [,1] [,2] [,3]\n",
              "[1,]   12   48   84\n",
              "[2,]   24   60   96\n",
              "[3,]   36   72  108\n",
              "\n",
              ", , 1, 2\n",
              "\n",
              "     [,1] [,2] [,3]\n",
              "[1,]   13   52   91\n",
              "[2,]   26   65  104\n",
              "[3,]   39   78  117\n",
              "\n",
              ", , 2, 2\n",
              "\n",
              "     [,1] [,2] [,3]\n",
              "[1,]   14   56   98\n",
              "[2,]   28   70  112\n",
              "[3,]   42   84  126\n",
              "\n",
              ", , 3, 2\n",
              "\n",
              "     [,1] [,2] [,3]\n",
              "[1,]   15   60  105\n",
              "[2,]   30   75  120\n",
              "[3,]   45   90  135\n",
              "\n",
              ", , 1, 3\n",
              "\n",
              "     [,1] [,2] [,3]\n",
              "[1,]   16   64  112\n",
              "[2,]   32   80  128\n",
              "[3,]   48   96  144\n",
              "\n",
              ", , 2, 3\n",
              "\n",
              "     [,1] [,2] [,3]\n",
              "[1,]   17   68  119\n",
              "[2,]   34   85  136\n",
              "[3,]   51  102  153\n",
              "\n",
              ", , 3, 3\n",
              "\n",
              "     [,1] [,2] [,3]\n",
              "[1,]   18   72  126\n",
              "[2,]   36   90  144\n",
              "[3,]   54  108  162\n"
            ],
            "text/latex": "\\begin{enumerate*}\n\\item 10\n\\item 20\n\\item 30\n\\item 40\n\\item 50\n\\item 60\n\\item 70\n\\item 80\n\\item 90\n\\item 11\n\\item 22\n\\item 33\n\\item 44\n\\item 55\n\\item 66\n\\item 77\n\\item 88\n\\item 99\n\\item 12\n\\item 24\n\\item 36\n\\item 48\n\\item 60\n\\item 72\n\\item 84\n\\item 96\n\\item 108\n\\item 13\n\\item 26\n\\item 39\n\\item 52\n\\item 65\n\\item 78\n\\item 91\n\\item 104\n\\item 117\n\\item 14\n\\item 28\n\\item 42\n\\item 56\n\\item 70\n\\item 84\n\\item 98\n\\item 112\n\\item 126\n\\item 15\n\\item 30\n\\item 45\n\\item 60\n\\item 75\n\\item 90\n\\item 105\n\\item 120\n\\item 135\n\\item 16\n\\item 32\n\\item 48\n\\item 64\n\\item 80\n\\item 96\n\\item 112\n\\item 128\n\\item 144\n\\item 17\n\\item 34\n\\item 51\n\\item 68\n\\item 85\n\\item 102\n\\item 119\n\\item 136\n\\item 153\n\\item 18\n\\item 36\n\\item 54\n\\item 72\n\\item 90\n\\item 108\n\\item 126\n\\item 144\n\\item 162\n\\end{enumerate*}\n",
            "text/markdown": "1. 10\n2. 20\n3. 30\n4. 40\n5. 50\n6. 60\n7. 70\n8. 80\n9. 90\n10. 11\n11. 22\n12. 33\n13. 44\n14. 55\n15. 66\n16. 77\n17. 88\n18. 99\n19. 12\n20. 24\n21. 36\n22. 48\n23. 60\n24. 72\n25. 84\n26. 96\n27. 108\n28. 13\n29. 26\n30. 39\n31. 52\n32. 65\n33. 78\n34. 91\n35. 104\n36. 117\n37. 14\n38. 28\n39. 42\n40. 56\n41. 70\n42. 84\n43. 98\n44. 112\n45. 126\n46. 15\n47. 30\n48. 45\n49. 60\n50. 75\n51. 90\n52. 105\n53. 120\n54. 135\n55. 16\n56. 32\n57. 48\n58. 64\n59. 80\n60. 96\n61. 112\n62. 128\n63. 144\n64. 17\n65. 34\n66. 51\n67. 68\n68. 85\n69. 102\n70. 119\n71. 136\n72. 153\n73. 18\n74. 36\n75. 54\n76. 72\n77. 90\n78. 108\n79. 126\n80. 144\n81. 162\n\n\n",
            "text/html": [
              "<style>\n",
              ".list-inline {list-style: none; margin:0; padding: 0}\n",
              ".list-inline>li {display: inline-block}\n",
              ".list-inline>li:not(:last-child)::after {content: \"\\00b7\"; padding: 0 .5ex}\n",
              "</style>\n",
              "<ol class=list-inline><li>10</li><li>20</li><li>30</li><li>40</li><li>50</li><li>60</li><li>70</li><li>80</li><li>90</li><li>11</li><li>22</li><li>33</li><li>44</li><li>55</li><li>66</li><li>77</li><li>88</li><li>99</li><li>12</li><li>24</li><li>36</li><li>48</li><li>60</li><li>72</li><li>84</li><li>96</li><li>108</li><li>13</li><li>26</li><li>39</li><li>52</li><li>65</li><li>78</li><li>91</li><li>104</li><li>117</li><li>14</li><li>28</li><li>42</li><li>56</li><li>70</li><li>84</li><li>98</li><li>112</li><li>126</li><li>15</li><li>30</li><li>45</li><li>60</li><li>75</li><li>90</li><li>105</li><li>120</li><li>135</li><li>16</li><li>32</li><li>48</li><li>64</li><li>80</li><li>96</li><li>112</li><li>128</li><li>144</li><li>17</li><li>34</li><li>51</li><li>68</li><li>85</li><li>102</li><li>119</li><li>136</li><li>153</li><li>18</li><li>36</li><li>54</li><li>72</li><li>90</li><li>108</li><li>126</li><li>144</li><li>162</li></ol>\n"
            ]
          },
          "metadata": {}
        }
      ]
    },
    {
      "cell_type": "markdown",
      "metadata": {
        "id": "6arLGI1e2t2A"
      },
      "source": [
        "*   **Relational** operators (returning a boolean)"
      ]
    },
    {
      "cell_type": "code",
      "metadata": {
        "id": "uDd_mKIg3-VB"
      },
      "source": [
        "7 > 2  # bigger than\n",
        "7 < 2  # smaller than\n",
        "7 >= 2  # bigger or equal than\n",
        "7 <= 2  # smaller or equal than\n",
        "7 == 2  # equal to\n",
        "7 != 2  # different than"
      ],
      "execution_count": null,
      "outputs": []
    },
    {
      "cell_type": "markdown",
      "metadata": {
        "id": "aQFbk47A237G"
      },
      "source": [
        "*   **Logical** operators (test if a statement is true)"
      ]
    },
    {
      "cell_type": "code",
      "metadata": {
        "id": "ZP1dh82H3Asw"
      },
      "source": [
        "(7 > 2) & (3 > 4)  # AND\n",
        "(7 > 2) | (3 > 4)  # OR\n",
        "! (7 > 2)  # NOT\n",
        "xor(7 > 2, 3 > 4)  # AND/OR (not an operator)"
      ],
      "execution_count": null,
      "outputs": []
    },
    {
      "cell_type": "markdown",
      "metadata": {
        "id": "uuHduECL5Oid"
      },
      "source": [
        "If the elements to which we apply a logical operator are vectors (of the same length), the operator will return a logical vector comparing the two input vectors elementwise: you can use double `AND` or `OR` to inspect only the first element: `x && y`, or `x || y`."
      ]
    },
    {
      "cell_type": "markdown",
      "metadata": {
        "id": "dNUEAlDv24ui"
      },
      "source": [
        "*   **Miscellaneous** operators"
      ]
    },
    {
      "cell_type": "code",
      "metadata": {
        "id": "-UsGZmc76PBm"
      },
      "source": [
        "2:8  # Integer sequence of 2 to 8\n",
        "7 %in% 2:8  # Is an element inside of a vector"
      ],
      "execution_count": null,
      "outputs": []
    },
    {
      "cell_type": "markdown",
      "metadata": {
        "id": "-HDmp_Fr9ztV"
      },
      "source": [
        "Some other basic operators are already covered in other sections, like the help operator (`?`), component/slot extraction (`$` and `@`), indexing (`[` and `[[`), formula (`~`) and library access (`::` or `:::`)."
      ]
    },
    {
      "cell_type": "markdown",
      "metadata": {
        "id": "hh9FnoUm1Jwv"
      },
      "source": [
        "*   **Assignment** operators: we cover them in the next subsection."
      ]
    },
    {
      "cell_type": "markdown",
      "metadata": {
        "id": "7-ruQ_s9xf9t"
      },
      "source": [
        "Like in every language, operators in `R` have *precedence*, i.e. in the same expression some operators are applied before others. Think of math: in an equation we multiply before we add, thus in the expression `x <- 1 + 3 * 4` gives 13 instead of 16, i.e. `*` has precedence over `+`. There is a precedence order for all operators in `R`: explore the precedence list using the command `?Syntax`."
      ]
    },
    {
      "cell_type": "markdown",
      "metadata": {
        "id": "-4tcuu1rQtav"
      },
      "source": [
        "### 4.2 Assignment"
      ]
    },
    {
      "cell_type": "markdown",
      "metadata": {
        "id": "xfnjO_hcKnXk"
      },
      "source": [
        "In `R`, objects can be created, re-written and removed without restrictions. Once an object is declared, the expression we are assigning to it is evaluated. The standard method of assigment is the use of the operator `<-`, even though there are other options. We illustrate the most common ones:"
      ]
    },
    {
      "cell_type": "code",
      "metadata": {
        "id": "lQwjitPcQ-Ms"
      },
      "source": [
        "# Vector\n",
        "rm(x)  # Remove the object from the workspace\n",
        "x <- c(1, 7, 4, 8, 6, 0)\n",
        "\n",
        "# Here the expression \"mean(x)\" will be evaluated 4 times\n",
        "x1 <- mean(x)  # Good :-)\n",
        "x2 = mean(x)  # NOT good: \"=\" is *not* an assigment operator\n",
        "x3 <<- mean(x)  # Used only in functions to declare an object in a superior environment\n",
        "assign('x4', mean(x))  # Good: useful when the object has an \"unknown\" name\n",
        "mean(x) -> x5  # Good, but standard is to assign right to left (same with ->>)\n",
        "\n",
        "# Test if the four objects were assigned correctly\n",
        "identical(x1, x2, x3, x4, x5)  # It returns TRUE if the objects are equal"
      ],
      "execution_count": null,
      "outputs": []
    },
    {
      "cell_type": "markdown",
      "metadata": {
        "id": "GzPe2n7vqNH1"
      },
      "source": [
        "For more advanced assignment methods, I recommend you also check the functions `get()`, `with()`, and `within()`.\n",
        "\n",
        "Multiple assignments require multiple operators:"
      ]
    },
    {
      "cell_type": "code",
      "metadata": {
        "colab": {
          "base_uri": "https://localhost:8080/",
          "height": 148
        },
        "id": "jwOyrq6mJ9rm",
        "outputId": "6f83a9e7-aa4c-458e-c602-6fbf76159623"
      },
      "source": [
        "obj1 <- obj2 <- 1:5\n",
        "#obj1, obj2 <- 1:5  # NOT POSSIBLE"
      ],
      "execution_count": null,
      "outputs": [
        {
          "output_type": "error",
          "ename": "ERROR",
          "evalue": "ignored",
          "traceback": [
            "Error in parse(text = x, srcfile = src): <text>:2:5: unexpected ','\n1: obj1 <- obj2 <- 1:5\n2: obj1,\n       ^\nTraceback:\n"
          ]
        }
      ]
    },
    {
      "cell_type": "markdown",
      "metadata": {
        "id": "Qy8qW14KRCl2"
      },
      "source": [
        "**(!) NOTE** – Although technically you can assign an expression using the `=` symbol, `=` is not formally an assignment operator in `R`, and its use is designed for functions. That's why it is **not** recommended despite widespread misuse. In short, refrain from assignment use."
      ]
    },
    {
      "cell_type": "markdown",
      "metadata": {
        "id": "t_kwBMjbzSoE"
      },
      "source": [
        "### 4.3 Reserved words"
      ]
    },
    {
      "cell_type": "markdown",
      "metadata": {
        "id": "_QGVP7rRzVcZ"
      },
      "source": [
        "There are certain reserved words in `R` (keywords) that cannot be assigned or over-written since they are essential built-in elements. We list the most important, words for:\n",
        "\n",
        "*   Booleans: `TRUE`, `FALSE`.\n",
        "*   Iterables: `if`, `else` (`if`-statements), `for`, `in`, `next` (`for`-loops), `while`, `break`, `repeat` (`while`-loops).\n",
        "*   Functions: `function`, `...`.\n",
        "*   Particular values: `NA`, `NULL`, `NaN`, `Inf`.\n",
        "\n",
        "We review most of them later on.\n",
        "\n",
        "Still, even if the rest functions in `R` can be over-written (stuff like `mean <- 3` is factually perpetrable), refrain from doing it."
      ]
    },
    {
      "cell_type": "markdown",
      "metadata": {
        "id": "8E6XKl5y_RHy"
      },
      "source": [
        "## 5. Functions"
      ]
    },
    {
      "cell_type": "markdown",
      "source": [
        "Functions are often used to encapsulate a sequence of expressions that need to be executed numerous times, with some explicitly specified set of parameters or *arguments* that give it flexibility. Functions are stored in the `R` environment like any other object, in this case with class `function`."
      ],
      "metadata": {
        "id": "Zcvm_Der_un1"
      }
    },
    {
      "cell_type": "markdown",
      "metadata": {
        "id": "QRmsljaBAMt0"
      },
      "source": [
        "### 5.1 Coding functions"
      ]
    },
    {
      "cell_type": "markdown",
      "source": [
        "Coding functions in `R` is fairly simple. You only need three basic things: the `function` function, the list of inputs (if any) it requires, and the `return` function to output your desired object (if any). "
      ],
      "metadata": {
        "id": "U90PYA3c-Ugg"
      }
    },
    {
      "cell_type": "code",
      "source": [
        "# Define function to compute the mean of numeric vector\n",
        "average <- function(x) {  # input \"arguments\" inside parenthesis,\n",
        "  n <- length(x)          # commands of the function inside \"{\" and \"}\"\n",
        "  avg <- sum(x) / n\n",
        "  return(avg)  # \"return\" assigns the outcome to \"average\"\n",
        "}\n",
        "\n",
        "# Function to compute the mode\n",
        "the.mode <- function(x, print.it = TRUE) {  # Some arguments can have a default value\n",
        "  freqs <- sort(table(x), decreasing = TRUE)  # Nested function\n",
        "  value <- names(freqs)[1]\n",
        "  if (print.it == TRUE) {\n",
        "    cat('The mode is:', value, '\\n')\n",
        "  }\n",
        "  return(value)\n",
        "}\n",
        "\n",
        "# You can create a function calling to other functions of yours\n",
        "mean.and.mode <- function(x, y) {  # Multiple arguments\n",
        "  obj1 <- average(x)\n",
        "  obj2 <- the.mode(y)\n",
        "  return(c(obj1, obj2))\n",
        "}\n",
        "\n",
        "# Arguments and outputs are not even mandatory for a function\n",
        "hello.world <- function() {  # Keep the parenthesis though!\n",
        "  cat('Hello world! My coding teacher is awesome.\\n')\n",
        "}\n",
        "\n",
        "avg1 <- mean(1:10)\n",
        "avg2 <- average(1:10)  # Here you call your first function\n",
        "identical(avg1, avg2)  # They should be the same\n",
        "mode1 <- the.mode(c(2, 2, 3, 4, 4, 4, 1))\n",
        "mode2 <- the.mode(c(2, 2, 3, 4, 4, 4, 1), print.it = FALSE)  # change default\n",
        "mode3 <- the.mode(c('A', 'D', 'B', 'B', 'C'))\n",
        "mode3\n",
        "mean.and.mode(1:10, c(2, 2, 3, 4, 4, 4, 1))  # Assigning is not mandatory\n",
        "hello.world()"
      ],
      "metadata": {
        "colab": {
          "base_uri": "https://localhost:8080/",
          "height": 173
        },
        "id": "ItgzmSoymPcs",
        "outputId": "e9e4148f-97bf-40b9-934f-c8da542058b1"
      },
      "execution_count": 6,
      "outputs": [
        {
          "output_type": "display_data",
          "data": {
            "text/plain": [
              "[1] TRUE"
            ],
            "text/latex": "TRUE",
            "text/markdown": "TRUE",
            "text/html": [
              "TRUE"
            ]
          },
          "metadata": {}
        },
        {
          "output_type": "stream",
          "name": "stdout",
          "text": [
            "The mode is: 4 \n",
            "The mode is: B \n"
          ]
        },
        {
          "output_type": "display_data",
          "data": {
            "text/plain": [
              "[1] \"B\""
            ],
            "text/latex": "'B'",
            "text/markdown": "'B'",
            "text/html": [
              "'B'"
            ]
          },
          "metadata": {}
        },
        {
          "output_type": "stream",
          "name": "stdout",
          "text": [
            "The mode is: 4 \n"
          ]
        },
        {
          "output_type": "display_data",
          "data": {
            "text/plain": [
              "[1] \"5.5\" \"4\"  "
            ],
            "text/latex": "\\begin{enumerate*}\n\\item '5.5'\n\\item '4'\n\\end{enumerate*}\n",
            "text/markdown": "1. '5.5'\n2. '4'\n\n\n",
            "text/html": [
              "<style>\n",
              ".list-inline {list-style: none; margin:0; padding: 0}\n",
              ".list-inline>li {display: inline-block}\n",
              ".list-inline>li:not(:last-child)::after {content: \"\\00b7\"; padding: 0 .5ex}\n",
              "</style>\n",
              "<ol class=list-inline><li>'5.5'</li><li>'4'</li></ol>\n"
            ]
          },
          "metadata": {}
        },
        {
          "output_type": "stream",
          "name": "stdout",
          "text": [
            "Hello world! My coding teacher is awesome.\n"
          ]
        },
        {
          "output_type": "display_data",
          "data": {
            "text/plain": [
              "$x\n",
              "\n"
            ]
          },
          "metadata": {}
        }
      ]
    },
    {
      "cell_type": "markdown",
      "source": [
        "By default, if no `return()` function is used, a function will return the last expression evaluated (although this is not recommended praxis).\n",
        "\n",
        "**Important: what happens in a function stays in the function.** Keep in mind that functions have their own *environment*: everything inside `{` and `}` occurs on a separate environment *inferior* to the global one. This means that once you're **inside** the function, what exists in the \"superior\" environment (the workspace you're in) is known, but the objects created therein live in that separate space and are not poured onto the superior global environment, unless you explicitely tell them to (as one does using `return`)."
      ],
      "metadata": {
        "id": "REYMd48elirV"
      }
    },
    {
      "cell_type": "markdown",
      "metadata": {
        "id": "yVGLRGoZAT7U"
      },
      "source": [
        "### 5.2 The `apply` family of functions"
      ]
    },
    {
      "cell_type": "markdown",
      "source": [
        "Sometimes you will encounter situations in which you want to apply a function repeatedly to elements of an object without using expensive loops. The set of `apply` functions are efficient and elegant ways to do that. There are more `apply`-type of functions, but here we present the four more common ones\n",
        "\n",
        "*   `apply`: used to iterate over the dimensions of a `data.frame` or `matrix` or larger `array`-type objects, the simplest case being to apply a function on each row/column\n",
        "*   `lapply`: uses `apply` on `list`-type objects, and also outputs a `list`\n",
        "*   `tapply`: summarises a vector by groups defined by another vector, i.e. say you want the group-mean of variable `x`, where in one column you have the value of `x` and the group they belong to in another\n",
        "*   `sapply`: uses `apply` on vector-type objects, returning a vector\n",
        "\n",
        "Check out other functions like `vapply` (similar to `sapply`), `mapply` (for multiple parallel data structures), `mcapply` (multi-core), `mclapply` (multi-core `lapply` from the `parallel` package).\n"
      ],
      "metadata": {
        "id": "UhMCK5ZvChzH"
      }
    },
    {
      "cell_type": "code",
      "source": [
        "df1 <- data.frame(x = 1:10, y = 11:20, z = -10:-1)\n",
        "df2 <- data.frame(x = 1:10, group = c(rep('A', 5), rep('B', 5)))\n",
        "df3 <- data.frame(x = c('a', 'b', 'c', 'a'), y = c('e', 'e', 'f', 'f'))\n",
        "l1 <- list(A = 1:10, B = 11:20, C = -10:-1)\n",
        "\n",
        "# On the columns of df: find the max of each\n",
        "apply(df1, 2, max)  # \"2\" is the dimension: in this case is columns (1 = rows)\n",
        "                    # order of arguments: object, dimension, function to apply\n",
        "\n",
        "# Same operation but now the vectors are elements of a list\n",
        "lapply(l1, max)  # output object is a list (here you need no dimension)\n",
        "\n",
        "# Compute the mean of \"x\" as a function of \"group\"\n",
        "tapply(df2[, 'x'], df2[, 'group'], mean)\n",
        "\n",
        "# Similar to \"apply\" but directly on a set of vectors\n",
        "sapply(df1, class)\n",
        "\n",
        "# Check how many unique elements are in each column\n",
        "apply(df3, 2, function(x) { length(unique(x)) })  # This is an \"anonymous\" function! It is never defined"
      ],
      "metadata": {
        "colab": {
          "base_uri": "https://localhost:8080/",
          "height": 236
        },
        "id": "0lkjT_7RH419",
        "outputId": "655a1a45-4be1-4c7a-f23e-0c74e84a2fd9"
      },
      "execution_count": 23,
      "outputs": [
        {
          "output_type": "display_data",
          "data": {
            "text/plain": [
              " x  y  z \n",
              "10 20 -1 "
            ],
            "text/latex": "\\begin{description*}\n\\item[x] 10\n\\item[y] 20\n\\item[z] -1\n\\end{description*}\n",
            "text/markdown": "x\n:   10y\n:   20z\n:   -1\n\n",
            "text/html": [
              "<style>\n",
              ".dl-inline {width: auto; margin:0; padding: 0}\n",
              ".dl-inline>dt, .dl-inline>dd {float: none; width: auto; display: inline-block}\n",
              ".dl-inline>dt::after {content: \":\\0020\"; padding-right: .5ex}\n",
              ".dl-inline>dt:not(:first-of-type) {padding-left: .5ex}\n",
              "</style><dl class=dl-inline><dt>x</dt><dd>10</dd><dt>y</dt><dd>20</dd><dt>z</dt><dd>-1</dd></dl>\n"
            ]
          },
          "metadata": {}
        },
        {
          "output_type": "display_data",
          "data": {
            "text/plain": [
              "$A\n",
              "[1] 10\n",
              "\n",
              "$B\n",
              "[1] 20\n",
              "\n",
              "$C\n",
              "[1] -1\n"
            ],
            "text/latex": "\\begin{description}\n\\item[\\$A] 10\n\\item[\\$B] 20\n\\item[\\$C] -1\n\\end{description}\n",
            "text/markdown": "$A\n:   10\n$B\n:   20\n$C\n:   -1\n\n\n",
            "text/html": [
              "<dl>\n",
              "\t<dt>$A</dt>\n",
              "\t\t<dd>10</dd>\n",
              "\t<dt>$B</dt>\n",
              "\t\t<dd>20</dd>\n",
              "\t<dt>$C</dt>\n",
              "\t\t<dd>-1</dd>\n",
              "</dl>\n"
            ]
          },
          "metadata": {}
        },
        {
          "output_type": "display_data",
          "data": {
            "text/plain": [
              "A B \n",
              "3 8 "
            ],
            "text/latex": "\\begin{description*}\n\\item[A] 3\n\\item[B] 8\n\\end{description*}\n",
            "text/markdown": "A\n:   3B\n:   8\n\n",
            "text/html": [
              "<style>\n",
              ".dl-inline {width: auto; margin:0; padding: 0}\n",
              ".dl-inline>dt, .dl-inline>dd {float: none; width: auto; display: inline-block}\n",
              ".dl-inline>dt::after {content: \":\\0020\"; padding-right: .5ex}\n",
              ".dl-inline>dt:not(:first-of-type) {padding-left: .5ex}\n",
              "</style><dl class=dl-inline><dt>A</dt><dd>3</dd><dt>B</dt><dd>8</dd></dl>\n"
            ]
          },
          "metadata": {}
        },
        {
          "output_type": "display_data",
          "data": {
            "text/plain": [
              " A  B  C \n",
              "10 20 -1 "
            ],
            "text/latex": "\\begin{description*}\n\\item[A] 10\n\\item[B] 20\n\\item[C] -1\n\\end{description*}\n",
            "text/markdown": "A\n:   10B\n:   20C\n:   -1\n\n",
            "text/html": [
              "<style>\n",
              ".dl-inline {width: auto; margin:0; padding: 0}\n",
              ".dl-inline>dt, .dl-inline>dd {float: none; width: auto; display: inline-block}\n",
              ".dl-inline>dt::after {content: \":\\0020\"; padding-right: .5ex}\n",
              ".dl-inline>dt:not(:first-of-type) {padding-left: .5ex}\n",
              "</style><dl class=dl-inline><dt>A</dt><dd>10</dd><dt>B</dt><dd>20</dd><dt>C</dt><dd>-1</dd></dl>\n"
            ]
          },
          "metadata": {}
        },
        {
          "output_type": "display_data",
          "data": {
            "text/plain": [
              "        x         y         z \n",
              "\"integer\" \"integer\" \"integer\" "
            ],
            "text/latex": "\\begin{description*}\n\\item[x] 'integer'\n\\item[y] 'integer'\n\\item[z] 'integer'\n\\end{description*}\n",
            "text/markdown": "x\n:   'integer'y\n:   'integer'z\n:   'integer'\n\n",
            "text/html": [
              "<style>\n",
              ".dl-inline {width: auto; margin:0; padding: 0}\n",
              ".dl-inline>dt, .dl-inline>dd {float: none; width: auto; display: inline-block}\n",
              ".dl-inline>dt::after {content: \":\\0020\"; padding-right: .5ex}\n",
              ".dl-inline>dt:not(:first-of-type) {padding-left: .5ex}\n",
              "</style><dl class=dl-inline><dt>x</dt><dd>'integer'</dd><dt>y</dt><dd>'integer'</dd><dt>z</dt><dd>'integer'</dd></dl>\n"
            ]
          },
          "metadata": {}
        },
        {
          "output_type": "display_data",
          "data": {
            "text/plain": [
              "x y \n",
              "3 2 "
            ],
            "text/latex": "\\begin{description*}\n\\item[x] 3\n\\item[y] 2\n\\end{description*}\n",
            "text/markdown": "x\n:   3y\n:   2\n\n",
            "text/html": [
              "<style>\n",
              ".dl-inline {width: auto; margin:0; padding: 0}\n",
              ".dl-inline>dt, .dl-inline>dd {float: none; width: auto; display: inline-block}\n",
              ".dl-inline>dt::after {content: \":\\0020\"; padding-right: .5ex}\n",
              ".dl-inline>dt:not(:first-of-type) {padding-left: .5ex}\n",
              "</style><dl class=dl-inline><dt>x</dt><dd>3</dd><dt>y</dt><dd>2</dd></dl>\n"
            ]
          },
          "metadata": {}
        }
      ]
    },
    {
      "cell_type": "markdown",
      "source": [
        "The `apply` family of functions are formally *functionals*: functions that take another function as an argument. They are very important and frequently used in `R`, and can become quite complex quickly. I recommend the following link to Hadley Wickham's book if you wish to go deeper on the set of `apply` functions: http://adv-r.had.co.nz/Functionals.html."
      ],
      "metadata": {
        "id": "sti1npb-Hp_G"
      }
    },
    {
      "cell_type": "markdown",
      "metadata": {
        "id": "rr70cUvrAHvJ"
      },
      "source": [
        "### 5.3 Useful miscellaneous functions"
      ]
    },
    {
      "cell_type": "code",
      "source": [
        "args(median)\n",
        "formals(median)\n",
        "body(median)\n",
        "\n",
        "try()\n",
        "debug()\n",
        "stop()\n",
        "warning()\n",
        "\n",
        "unlist()\n",
        "\n",
        "sort\n",
        "seq\n",
        "nchar\n",
        "\n",
        "unique"
      ],
      "metadata": {
        "id": "YJ6ztXZHDfDo"
      },
      "execution_count": null,
      "outputs": []
    },
    {
      "cell_type": "markdown",
      "metadata": {
        "id": "RQMq6byR-72x"
      },
      "source": [
        "## 6. Dataset manipulation: subsetting and merging\n",
        "\n",
        "Often times you want to clean, select, merge and, in a nutshell, manipulate datasets. Here we present basic operations that allow us to perform these tasks. We had a preview in Section 3.2. on how to select elements on different classes of objects, but here we concentrate on common relational datasets, such as `data.frame`'s and matrices."
      ]
    },
    {
      "cell_type": "markdown",
      "source": [
        "### 6.1 Subset and expand\n",
        "\n",
        "We start covering the operations to subset or expand a dataset."
      ],
      "metadata": {
        "id": "6pvVp8PYotDU"
      }
    },
    {
      "cell_type": "code",
      "source": [
        "set.seed(666)  # This function \"controls random\", i.e. we all get the same random numbers\n",
        "df <- data.frame(x = 1:10, y = rep(c('A', 'B'), 5), z = rnorm(10))\n",
        "\n",
        "# Select a set of observations (KEY: position of the comma)\n",
        "df1 <- df[which(df[, 'x'] > 6), ]  # Select observations where variable x > 6\n",
        "df2 <- df[which(df[, 'x'] > 6 & df[, 'y'] == 'A'), ]  # Double condition\n",
        "\n",
        "# Select a set of columns (KEY: position of the comma)\n",
        "df3 <- df[, which(colnames(df) != 'x')]  # Select every column except \"x\": this is more robust than \"df[, -1]\" \n",
        "df3 <- df[, which(colnames(df) %in% c('A', 'B'))]  # Identical with %in% operator\n",
        "\n",
        "# Order the observations by the value of a row, or column\n",
        "df4 <- df[order(df[, 'z'], decreasing = TRUE), ]  # Order rows by value of column \"z\" (highest-to-lowest)\n",
        "df5 <- df[, c('z', 'y', 'x')]  # Change order of columns\n",
        "\n",
        "# Add columns or rows\n",
        "df6 <- cbind.data.frame(df5, w = 11:20) # cbind for matrix\n",
        "df6[, 'v'] <- 21:30  # add a new column from a new object\n",
        "df7 <- rbind.data.frame(df5[1:5, ], df5[6:10, ]) # rbind for matrix\n",
        "df7[11, ] <- c(11, 'B', 0)  # add a new observation from a new object\n",
        "\n",
        "# Rename variables or observations, change class, transform\n",
        "colnames(df5) <- c('Z', 'Y', 'X')\n",
        "rownames(df5) <- paste('obs', 1:nrow(df5), sep = '')\n",
        "df5[, 'X'] <- as.integer(df5[, 'X'])  # it's ok to re-write: it is reversible\n",
        "df5[, 'Z'] <- df5[, 'Z'] * 3  # modify an existing column\n",
        "colnames(df5)\n",
        "rownames(df5)"
      ],
      "metadata": {
        "colab": {
          "base_uri": "https://localhost:8080/",
          "height": 52
        },
        "id": "JAdYWH2Rptmj",
        "outputId": "f5cfd6eb-e301-4b1a-e342-52c39d02ad02"
      },
      "execution_count": 7,
      "outputs": [
        {
          "output_type": "display_data",
          "data": {
            "text/plain": [
              "[1] \"Z\" \"Y\" \"X\""
            ],
            "text/latex": "\\begin{enumerate*}\n\\item 'Z'\n\\item 'Y'\n\\item 'X'\n\\end{enumerate*}\n",
            "text/markdown": "1. 'Z'\n2. 'Y'\n3. 'X'\n\n\n",
            "text/html": [
              "<style>\n",
              ".list-inline {list-style: none; margin:0; padding: 0}\n",
              ".list-inline>li {display: inline-block}\n",
              ".list-inline>li:not(:last-child)::after {content: \"\\00b7\"; padding: 0 .5ex}\n",
              "</style>\n",
              "<ol class=list-inline><li>'Z'</li><li>'Y'</li><li>'X'</li></ol>\n"
            ]
          },
          "metadata": {}
        },
        {
          "output_type": "display_data",
          "data": {
            "text/plain": [
              " [1] \"obs1\"  \"obs2\"  \"obs3\"  \"obs4\"  \"obs5\"  \"obs6\"  \"obs7\"  \"obs8\"  \"obs9\" \n",
              "[10] \"obs10\""
            ],
            "text/latex": "\\begin{enumerate*}\n\\item 'obs1'\n\\item 'obs2'\n\\item 'obs3'\n\\item 'obs4'\n\\item 'obs5'\n\\item 'obs6'\n\\item 'obs7'\n\\item 'obs8'\n\\item 'obs9'\n\\item 'obs10'\n\\end{enumerate*}\n",
            "text/markdown": "1. 'obs1'\n2. 'obs2'\n3. 'obs3'\n4. 'obs4'\n5. 'obs5'\n6. 'obs6'\n7. 'obs7'\n8. 'obs8'\n9. 'obs9'\n10. 'obs10'\n\n\n",
            "text/html": [
              "<style>\n",
              ".list-inline {list-style: none; margin:0; padding: 0}\n",
              ".list-inline>li {display: inline-block}\n",
              ".list-inline>li:not(:last-child)::after {content: \"\\00b7\"; padding: 0 .5ex}\n",
              "</style>\n",
              "<ol class=list-inline><li>'obs1'</li><li>'obs2'</li><li>'obs3'</li><li>'obs4'</li><li>'obs5'</li><li>'obs6'</li><li>'obs7'</li><li>'obs8'</li><li>'obs9'</li><li>'obs10'</li></ol>\n"
            ]
          },
          "metadata": {}
        }
      ]
    },
    {
      "cell_type": "markdown",
      "source": [
        "Some thoughts on these operations:\n",
        "\n",
        "*   The function `which()` is one you should get acquainted with very well. It depicts the elements of a set *which* satisfy the logical condition(s) in parenthesis.\n",
        "*   Be aware of the distinction between `sort()` and `order()`: the former grabs a set of values and puts them from lowest to highest, the latter gives you the indices in the vector of said order, not the values themselves.\n",
        "*   One helpful function we have not looked into is `subset()`, which essentially does the same thing we did above. It works well for simple commands, but the framework above is more flexible and can deal with complex operations. Feel free to use it though! Try: `subset(airquality, Temp > 80, select = c(Ozone, Temp))`.\n",
        "*   Notice I never modify the original object I am subsetting. It is important that when you subset that you don't over-write previously existing objects (and, in particular, the object you are subsetting), unless you recursively subset one particular object. These operations are **irreversible**, in the sense that if you over-write the object being subsetted, the information that was cut out cannot be re-used anywhere else in your code. Often times this is not desirable. If you have memory problems in your CPU, you have to balance this with keeping as few possible copies of the data as possible, but try to keep the originals intact in your workspace."
      ],
      "metadata": {
        "id": "TbUWb9tOqPhe"
      }
    },
    {
      "cell_type": "markdown",
      "source": [
        "### 6.2. Merge and join\n",
        "\n",
        "Beyond the straightforward expansion or selection of rows and columns explained before, one may want to *merge* two datasets, e.g. we have different data on the same set of individuals, or different years, etc. This usually involves joining two full datasets, instead of just adding rows or columns based on some coditions."
      ],
      "metadata": {
        "id": "8vRD1JpYwKFN"
      }
    },
    {
      "cell_type": "code",
      "source": [
        "set.seed(666)\n",
        "df1 <- data.frame(id1 = sample(1:10, replace = FALSE), col1 = rnorm(10), col2 = rchisq(10, df = 1))\n",
        "df2 <- data.frame(id2 = sample(1:10, replace = FALSE), col3 = rnorm(10), col4 = rchisq(10, df = 1))\n",
        "head(df1, 5)\n",
        "head(df2, 5)\n",
        "\n",
        "# Joint datasets using \"match\"\n",
        "df3 <- cbind.data.frame(df1, df2[match(df1[, 'id1'], df2[, 'id2']), -1])  # Exclude \"id\" column to avoid redundancy\n",
        "head(df3, 5)\n",
        "\n",
        "# Joint datasets using \"merge\"\n",
        "colnames(df1)[1] <- 'id'\n",
        "colnames(df2)[1] <- 'id'\n",
        "df3 <- merge(df1, df2, by = 'id')  # This is fine but be careful if ID lists and column names are not equal\n",
        "head(df3, 5)  # The original order is altered"
      ],
      "metadata": {
        "colab": {
          "base_uri": "https://localhost:8080/",
          "height": 843
        },
        "id": "wxP8wK_X0yF1",
        "outputId": "8ed7c64a-d4e3-4438-c281-7ee11ced379d"
      },
      "execution_count": 6,
      "outputs": [
        {
          "output_type": "display_data",
          "data": {
            "text/plain": [
              "  id1 col1        col2     \n",
              "1 5    1.23528305 3.0634462\n",
              "2 9   -0.08365711 0.8760082\n",
              "3 4    0.25683143 2.8367350\n",
              "4 1   -1.07362365 0.3991052\n",
              "5 2   -0.62286788 1.5607040"
            ],
            "text/latex": "A data.frame: 5 × 3\n\\begin{tabular}{r|lll}\n  & id1 & col1 & col2\\\\\n  & <int> & <dbl> & <dbl>\\\\\n\\hline\n\t1 & 5 &  1.23528305 & 3.0634462\\\\\n\t2 & 9 & -0.08365711 & 0.8760082\\\\\n\t3 & 4 &  0.25683143 & 2.8367350\\\\\n\t4 & 1 & -1.07362365 & 0.3991052\\\\\n\t5 & 2 & -0.62286788 & 1.5607040\\\\\n\\end{tabular}\n",
            "text/markdown": "\nA data.frame: 5 × 3\n\n| <!--/--> | id1 &lt;int&gt; | col1 &lt;dbl&gt; | col2 &lt;dbl&gt; |\n|---|---|---|---|\n| 1 | 5 |  1.23528305 | 3.0634462 |\n| 2 | 9 | -0.08365711 | 0.8760082 |\n| 3 | 4 |  0.25683143 | 2.8367350 |\n| 4 | 1 | -1.07362365 | 0.3991052 |\n| 5 | 2 | -0.62286788 | 1.5607040 |\n\n",
            "text/html": [
              "<table class=\"dataframe\">\n",
              "<caption>A data.frame: 5 × 3</caption>\n",
              "<thead>\n",
              "\t<tr><th></th><th scope=col>id1</th><th scope=col>col1</th><th scope=col>col2</th></tr>\n",
              "\t<tr><th></th><th scope=col>&lt;int&gt;</th><th scope=col>&lt;dbl&gt;</th><th scope=col>&lt;dbl&gt;</th></tr>\n",
              "</thead>\n",
              "<tbody>\n",
              "\t<tr><th scope=row>1</th><td>5</td><td> 1.23528305</td><td>3.0634462</td></tr>\n",
              "\t<tr><th scope=row>2</th><td>9</td><td>-0.08365711</td><td>0.8760082</td></tr>\n",
              "\t<tr><th scope=row>3</th><td>4</td><td> 0.25683143</td><td>2.8367350</td></tr>\n",
              "\t<tr><th scope=row>4</th><td>1</td><td>-1.07362365</td><td>0.3991052</td></tr>\n",
              "\t<tr><th scope=row>5</th><td>2</td><td>-0.62286788</td><td>1.5607040</td></tr>\n",
              "</tbody>\n",
              "</table>\n"
            ]
          },
          "metadata": {}
        },
        {
          "output_type": "display_data",
          "data": {
            "text/plain": [
              "  id2 col3       col4     \n",
              "1  1  -0.9564482 0.1428781\n",
              "2  8   1.1390113 1.5188775\n",
              "3 10  -1.4151442 0.1644284\n",
              "4  6   0.2009336 0.4742982\n",
              "5  7  -1.2343732 0.1326316"
            ],
            "text/latex": "A data.frame: 5 × 3\n\\begin{tabular}{r|lll}\n  & id2 & col3 & col4\\\\\n  & <int> & <dbl> & <dbl>\\\\\n\\hline\n\t1 &  1 & -0.9564482 & 0.1428781\\\\\n\t2 &  8 &  1.1390113 & 1.5188775\\\\\n\t3 & 10 & -1.4151442 & 0.1644284\\\\\n\t4 &  6 &  0.2009336 & 0.4742982\\\\\n\t5 &  7 & -1.2343732 & 0.1326316\\\\\n\\end{tabular}\n",
            "text/markdown": "\nA data.frame: 5 × 3\n\n| <!--/--> | id2 &lt;int&gt; | col3 &lt;dbl&gt; | col4 &lt;dbl&gt; |\n|---|---|---|---|\n| 1 |  1 | -0.9564482 | 0.1428781 |\n| 2 |  8 |  1.1390113 | 1.5188775 |\n| 3 | 10 | -1.4151442 | 0.1644284 |\n| 4 |  6 |  0.2009336 | 0.4742982 |\n| 5 |  7 | -1.2343732 | 0.1326316 |\n\n",
            "text/html": [
              "<table class=\"dataframe\">\n",
              "<caption>A data.frame: 5 × 3</caption>\n",
              "<thead>\n",
              "\t<tr><th></th><th scope=col>id2</th><th scope=col>col3</th><th scope=col>col4</th></tr>\n",
              "\t<tr><th></th><th scope=col>&lt;int&gt;</th><th scope=col>&lt;dbl&gt;</th><th scope=col>&lt;dbl&gt;</th></tr>\n",
              "</thead>\n",
              "<tbody>\n",
              "\t<tr><th scope=row>1</th><td> 1</td><td>-0.9564482</td><td>0.1428781</td></tr>\n",
              "\t<tr><th scope=row>2</th><td> 8</td><td> 1.1390113</td><td>1.5188775</td></tr>\n",
              "\t<tr><th scope=row>3</th><td>10</td><td>-1.4151442</td><td>0.1644284</td></tr>\n",
              "\t<tr><th scope=row>4</th><td> 6</td><td> 0.2009336</td><td>0.4742982</td></tr>\n",
              "\t<tr><th scope=row>5</th><td> 7</td><td>-1.2343732</td><td>0.1326316</td></tr>\n",
              "</tbody>\n",
              "</table>\n"
            ]
          },
          "metadata": {}
        },
        {
          "output_type": "display_data",
          "data": {
            "text/plain": [
              "  id1 col1        col2      col3       col4     \n",
              "8 5    1.23528305 3.0634462 -0.3334186 0.3311042\n",
              "6 9   -0.08365711 0.8760082 -0.1211411 0.9001866\n",
              "7 4    0.25683143 2.8367350  0.6722846 2.3237402"
            ],
            "text/latex": "A data.frame: 3 × 5\n\\begin{tabular}{r|lllll}\n  & id1 & col1 & col2 & col3 & col4\\\\\n  & <int> & <dbl> & <dbl> & <dbl> & <dbl>\\\\\n\\hline\n\t8 & 5 &  1.23528305 & 3.0634462 & -0.3334186 & 0.3311042\\\\\n\t6 & 9 & -0.08365711 & 0.8760082 & -0.1211411 & 0.9001866\\\\\n\t7 & 4 &  0.25683143 & 2.8367350 &  0.6722846 & 2.3237402\\\\\n\\end{tabular}\n",
            "text/markdown": "\nA data.frame: 3 × 5\n\n| <!--/--> | id1 &lt;int&gt; | col1 &lt;dbl&gt; | col2 &lt;dbl&gt; | col3 &lt;dbl&gt; | col4 &lt;dbl&gt; |\n|---|---|---|---|---|---|\n| 8 | 5 |  1.23528305 | 3.0634462 | -0.3334186 | 0.3311042 |\n| 6 | 9 | -0.08365711 | 0.8760082 | -0.1211411 | 0.9001866 |\n| 7 | 4 |  0.25683143 | 2.8367350 |  0.6722846 | 2.3237402 |\n\n",
            "text/html": [
              "<table class=\"dataframe\">\n",
              "<caption>A data.frame: 3 × 5</caption>\n",
              "<thead>\n",
              "\t<tr><th></th><th scope=col>id1</th><th scope=col>col1</th><th scope=col>col2</th><th scope=col>col3</th><th scope=col>col4</th></tr>\n",
              "\t<tr><th></th><th scope=col>&lt;int&gt;</th><th scope=col>&lt;dbl&gt;</th><th scope=col>&lt;dbl&gt;</th><th scope=col>&lt;dbl&gt;</th><th scope=col>&lt;dbl&gt;</th></tr>\n",
              "</thead>\n",
              "<tbody>\n",
              "\t<tr><th scope=row>8</th><td>5</td><td> 1.23528305</td><td>3.0634462</td><td>-0.3334186</td><td>0.3311042</td></tr>\n",
              "\t<tr><th scope=row>6</th><td>9</td><td>-0.08365711</td><td>0.8760082</td><td>-0.1211411</td><td>0.9001866</td></tr>\n",
              "\t<tr><th scope=row>7</th><td>4</td><td> 0.25683143</td><td>2.8367350</td><td> 0.6722846</td><td>2.3237402</td></tr>\n",
              "</tbody>\n",
              "</table>\n"
            ]
          },
          "metadata": {}
        },
        {
          "output_type": "display_data",
          "data": {
            "text/plain": [
              "  id col1       col2      col3       col4     \n",
              "1 1  -1.0736237 0.3991052 -0.9564482 0.1428781\n",
              "2 2  -0.6228679 1.5607040  2.3682631 0.3960097\n",
              "3 3   0.2849911 1.3178794  0.2514136 0.6331147"
            ],
            "text/latex": "A data.frame: 3 × 5\n\\begin{tabular}{r|lllll}\n  & id & col1 & col2 & col3 & col4\\\\\n  & <int> & <dbl> & <dbl> & <dbl> & <dbl>\\\\\n\\hline\n\t1 & 1 & -1.0736237 & 0.3991052 & -0.9564482 & 0.1428781\\\\\n\t2 & 2 & -0.6228679 & 1.5607040 &  2.3682631 & 0.3960097\\\\\n\t3 & 3 &  0.2849911 & 1.3178794 &  0.2514136 & 0.6331147\\\\\n\\end{tabular}\n",
            "text/markdown": "\nA data.frame: 3 × 5\n\n| <!--/--> | id &lt;int&gt; | col1 &lt;dbl&gt; | col2 &lt;dbl&gt; | col3 &lt;dbl&gt; | col4 &lt;dbl&gt; |\n|---|---|---|---|---|---|\n| 1 | 1 | -1.0736237 | 0.3991052 | -0.9564482 | 0.1428781 |\n| 2 | 2 | -0.6228679 | 1.5607040 |  2.3682631 | 0.3960097 |\n| 3 | 3 |  0.2849911 | 1.3178794 |  0.2514136 | 0.6331147 |\n\n",
            "text/html": [
              "<table class=\"dataframe\">\n",
              "<caption>A data.frame: 3 × 5</caption>\n",
              "<thead>\n",
              "\t<tr><th></th><th scope=col>id</th><th scope=col>col1</th><th scope=col>col2</th><th scope=col>col3</th><th scope=col>col4</th></tr>\n",
              "\t<tr><th></th><th scope=col>&lt;int&gt;</th><th scope=col>&lt;dbl&gt;</th><th scope=col>&lt;dbl&gt;</th><th scope=col>&lt;dbl&gt;</th><th scope=col>&lt;dbl&gt;</th></tr>\n",
              "</thead>\n",
              "<tbody>\n",
              "\t<tr><th scope=row>1</th><td>1</td><td>-1.0736237</td><td>0.3991052</td><td>-0.9564482</td><td>0.1428781</td></tr>\n",
              "\t<tr><th scope=row>2</th><td>2</td><td>-0.6228679</td><td>1.5607040</td><td> 2.3682631</td><td>0.3960097</td></tr>\n",
              "\t<tr><th scope=row>3</th><td>3</td><td> 0.2849911</td><td>1.3178794</td><td> 0.2514136</td><td>0.6331147</td></tr>\n",
              "</tbody>\n",
              "</table>\n"
            ]
          },
          "metadata": {}
        }
      ]
    },
    {
      "cell_type": "markdown",
      "source": [
        "The function `match()` basically looks for the elements of the first vector present in the second vector, and returns the corresponding indices of the latter in the order of the former. It is another hall-of-famer function in `R` and is super useful in a number of contexts. Use it!\n",
        "\n",
        "Using `merge()` is also a good option, especially if you're familiar with classic database management, as it is well equipped to easily do *inner* (default), *outer* (left, right) and *cross* joints."
      ],
      "metadata": {
        "id": "lNLeTX1f0jw_"
      }
    },
    {
      "cell_type": "markdown",
      "metadata": {
        "id": "RIYUd3OF_ZV3"
      },
      "source": [
        "## 7. Control flows\n",
        "\n",
        "We cover `if` statements, and the basic loops: `for`, `while`, `repeat`."
      ]
    },
    {
      "cell_type": "markdown",
      "source": [
        "### 7.1 `if`-statements\n",
        "\n",
        "When you want to run some chunk of code only if a certain condition hold (and maybe some other chunk if it doesn't, we use `if`-clauses."
      ],
      "metadata": {
        "id": "Lg1UZGGC27k8"
      }
    },
    {
      "cell_type": "code",
      "source": [
        "gender <- 'male'\n",
        "age <- 20 \n",
        "\n",
        "# If-statement: use logical object as condition, then indent conditional actions\n",
        "# Isolate condition in parenthesis, with pre- and post- single space\n",
        "cat('* Person: ')\n",
        "if (gender == 'female') {  # \"if\" clauses use \"{\" and \"}\"\n",
        "  if (age > 18) {\n",
        "    cat('Woman.\\n')\n",
        "  } else {\n",
        "    cat('Girl.\\n')\n",
        "  }\n",
        "} else if (gender == 'male') {  # \"else if\" tell what happens if there is another mutually exclusive condition\n",
        "  if (age > 18) {\n",
        "    cat('Man.\\n')\n",
        "  } else {\n",
        "    cat('Boy.\\n')\n",
        "  }\n",
        "} else {  # \"else\" tell what happens if previous conditions do not hold\n",
        "  cat('Other gender.\\n')\n",
        "}\n",
        "\n",
        "# Other ways to use if-statements\n",
        "if (gender == 'male') cat('* Gender is male.\\n')  # You can skip the clause if single-line (not recommended)\n",
        "under.age <- ifelse(age < 18, 'Yes.', 'No.')  # Assign first element if condition holds, second element otherwise (single element operation)\n",
        "cat('* Is the person under age:', under.age, '\\n')"
      ],
      "metadata": {
        "colab": {
          "base_uri": "https://localhost:8080/"
        },
        "id": "W2JUhPUb27A1",
        "outputId": "b96f8988-e371-47a2-f3bd-4ad51799bd5d"
      },
      "execution_count": 6,
      "outputs": [
        {
          "output_type": "stream",
          "name": "stdout",
          "text": [
            "* Person: Man.\n",
            "* Gender is male.\n",
            "* Is the person under age: No. \n"
          ]
        }
      ]
    },
    {
      "cell_type": "markdown",
      "source": [
        "Note that `if`-conditions do not require an `else` statement, this is used when something in the code must happen either-or. If you only want a part of the code to run (without `else` contingency), you can just write `if (...) { ... }` and omit the rest."
      ],
      "metadata": {
        "id": "wyr3aRET8CB5"
      }
    },
    {
      "cell_type": "markdown",
      "source": [
        "### 7.2 `for`-loops\n",
        "\n",
        "These are used when you want to apply a set of operations on an *iterable* object. A `for`-loop will replicate the computations for each element of the $n$ elements of the object and provide $n$ results."
      ],
      "metadata": {
        "id": "BKxPeJSe8iQn"
      }
    },
    {
      "cell_type": "code",
      "source": [
        "n <- 5  # 5 elements\n",
        "x <- rep(NA, n)  # Set an empty vector with n elements\n",
        "for (i in 1:(2 * n)) {  # For element \"i\" from 1:n, perform the following operations\n",
        "  cat('Iteration:', i, '\\n')\n",
        "  result <- i^2 - 5  \n",
        "  if (result < 0) {\n",
        "    next  # This is necessary because later I compute the squared root\n",
        "  }\n",
        "  x[i] <- sqrt(result)  # Set the i-th element with the squared root\n",
        "  if (i > n) {\n",
        "    break  # I only have n elements in the vector, the n+1 could not be assigned\n",
        "  }\n",
        "}\n",
        "\n",
        "# Check the outcome\n",
        "print(x)"
      ],
      "metadata": {
        "colab": {
          "base_uri": "https://localhost:8080/"
        },
        "id": "qZ7_Mv03-7B_",
        "outputId": "1772e167-ac13-42b6-f7a2-1522a631f739"
      },
      "execution_count": 11,
      "outputs": [
        {
          "output_type": "stream",
          "name": "stdout",
          "text": [
            "Iteration: 1 \n",
            "Iteration: 2 \n",
            "Iteration: 3 \n",
            "Iteration: 4 \n",
            "Iteration: 5 \n",
            "Iteration: 6 \n",
            "[1]       NA       NA 2.000000 3.316625 4.472136 5.567764\n"
          ]
        }
      ]
    },
    {
      "cell_type": "markdown",
      "source": [
        "The set of operations can be of any difficulty and length, this is just regular code: the only difference is that you repeat them for each element on the list\n",
        "\n",
        "**Note:** there are two critical *reserved* words when looping: `next` and `break`. These are used to prevent loops from getting stuck or running into errors.\n",
        "\n",
        "*   `next`: this will make a loop jump immediately to the next iteration, without running the remaining body of the loop from that point on (on the current iteration)\n",
        "*   `break`: it will make the loop stop completely, i.e. you exit the body of the loop and proceed with the rest of the code normally.\n",
        "\n"
      ],
      "metadata": {
        "id": "uu573i_8_DnS"
      }
    },
    {
      "cell_type": "markdown",
      "source": [
        "### 7.3 `while`-loops (and `repeat`)\n",
        "\n",
        "These are used when you want an iterable loop to be executed as long as a certain condition holds. It is structured like a `for`-loop, but they as an `if`-statement: testing a condition. This condition is tested every time the body loop is executed, until it does not hold."
      ],
      "metadata": {
        "id": "DcKRkEm89pJT"
      }
    },
    {
      "cell_type": "code",
      "source": [
        "count <- 0\n",
        "while (count < 10) {\n",
        "  count <- count + 1\n",
        "  cat('* Count:', count, '\\n')\n",
        "}\n",
        "\n",
        "# \"repeat\" works in the same way but needs a \"break\" to stop\n",
        "count <- 0\n",
        "repeat {\n",
        "  count <- count + 1\n",
        "  cat('* Count:', count, '\\n')\n",
        "  if (count == 10) {\n",
        "    break\n",
        "  }\n",
        "}"
      ],
      "metadata": {
        "colab": {
          "base_uri": "https://localhost:8080/"
        },
        "id": "dL3bnv697YDi",
        "outputId": "0e0cf82f-f260-4ab1-cd3a-96646365de59"
      },
      "execution_count": 5,
      "outputs": [
        {
          "output_type": "stream",
          "name": "stdout",
          "text": [
            "* Count: 1 \n",
            "* Count: 2 \n",
            "* Count: 3 \n",
            "* Count: 4 \n",
            "* Count: 5 \n",
            "* Count: 6 \n",
            "* Count: 7 \n",
            "* Count: 8 \n",
            "* Count: 9 \n",
            "* Count: 10 \n",
            "* Count: 1 \n",
            "* Count: 2 \n",
            "* Count: 3 \n",
            "* Count: 4 \n",
            "* Count: 5 \n",
            "* Count: 6 \n",
            "* Count: 7 \n",
            "* Count: 8 \n",
            "* Count: 9 \n",
            "* Count: 10 \n"
          ]
        }
      ]
    },
    {
      "cell_type": "markdown",
      "metadata": {
        "id": "7jEV2OIO_b96"
      },
      "source": [
        "## 8. Stats and math\n",
        "\n",
        "### 8.1 Basic functions\n",
        "\n",
        "One of `R`'s strongest suits is the amount of statistical software it is fluent in, whether natively or with packages that run on it. Here we provide the very basics to get you started, and introducte some of the functions that are bread and butter for statistical and mathematical programmers."
      ]
    },
    {
      "cell_type": "code",
      "source": [
        "# Basic mathematical functions (operators aside)\n",
        "abs(-3)\n",
        "sign(c(-4, 0, 7))\n",
        "exp(3)\n",
        "log(100); log10(100); log2(64)  # Note you can separate commands with \";\"\n",
        "sqrt(25)\n",
        "sin(1); cos(1); tan(1)\n",
        "choose(5, 3)  # Combinatorial number (n choose k)\n",
        "factorial(5)  # Factorial number: x!\n",
        "combn(1:4, 2)  # Provides all combinations of \"2\" elements in the set 1:4\n",
        "\n",
        "# Basic statistical summaries\n",
        "x <- seq(-3, 3, 1)\n",
        "y <- seq(-6, 6, 2)\n",
        "max(x)  # Cumulative maximum: cummax(x)\n",
        "min(x)  # cummin(x)\n",
        "sum(x)  # cumsum(x)\n",
        "prod(x)  # cumprod(x)\n",
        "diff(x)  # With respect to previous value in the vector\n",
        "table(x)  # Abs. Frequencies\n",
        "table(x, y)  # Contingency table\n",
        "quantile(1:200, probs = c(0.1, 0.5, 0.9))\n",
        "range(x)\n",
        "rank(x)\n",
        "\n",
        "mean(x)\n",
        "median(x)\n",
        "cor(x, y)\n",
        "cov(x, y)\n",
        "sd(x)\n",
        "var(x)"
      ],
      "metadata": {
        "colab": {
          "base_uri": "https://localhost:8080/",
          "height": 625
        },
        "id": "y0gOQyNY-tDz",
        "outputId": "a20d9293-a745-45be-e38a-ebc6763beeb9"
      },
      "execution_count": 9,
      "outputs": [
        {
          "output_type": "display_data",
          "data": {
            "text/plain": [
              "[1] 3"
            ],
            "text/latex": "3",
            "text/markdown": "3",
            "text/html": [
              "3"
            ]
          },
          "metadata": {}
        },
        {
          "output_type": "display_data",
          "data": {
            "text/plain": [
              "[1] -1  0  1"
            ],
            "text/latex": "\\begin{enumerate*}\n\\item -1\n\\item 0\n\\item 1\n\\end{enumerate*}\n",
            "text/markdown": "1. -1\n2. 0\n3. 1\n\n\n",
            "text/html": [
              "<style>\n",
              ".list-inline {list-style: none; margin:0; padding: 0}\n",
              ".list-inline>li {display: inline-block}\n",
              ".list-inline>li:not(:last-child)::after {content: \"\\00b7\"; padding: 0 .5ex}\n",
              "</style>\n",
              "<ol class=list-inline><li>-1</li><li>0</li><li>1</li></ol>\n"
            ]
          },
          "metadata": {}
        },
        {
          "output_type": "display_data",
          "data": {
            "text/plain": [
              "[1] 20.08554"
            ],
            "text/latex": "20.0855369231877",
            "text/markdown": "20.0855369231877",
            "text/html": [
              "20.0855369231877"
            ]
          },
          "metadata": {}
        },
        {
          "output_type": "display_data",
          "data": {
            "text/plain": [
              "[1] 4.60517"
            ],
            "text/latex": "4.60517018598809",
            "text/markdown": "4.60517018598809",
            "text/html": [
              "4.60517018598809"
            ]
          },
          "metadata": {}
        },
        {
          "output_type": "display_data",
          "data": {
            "text/plain": [
              "[1] 2"
            ],
            "text/latex": "2",
            "text/markdown": "2",
            "text/html": [
              "2"
            ]
          },
          "metadata": {}
        },
        {
          "output_type": "display_data",
          "data": {
            "text/plain": [
              "[1] 6"
            ],
            "text/latex": "6",
            "text/markdown": "6",
            "text/html": [
              "6"
            ]
          },
          "metadata": {}
        },
        {
          "output_type": "display_data",
          "data": {
            "text/plain": [
              "[1] 5"
            ],
            "text/latex": "5",
            "text/markdown": "5",
            "text/html": [
              "5"
            ]
          },
          "metadata": {}
        },
        {
          "output_type": "display_data",
          "data": {
            "text/plain": [
              "[1] 0.841471"
            ],
            "text/latex": "0.841470984807897",
            "text/markdown": "0.841470984807897",
            "text/html": [
              "0.841470984807897"
            ]
          },
          "metadata": {}
        },
        {
          "output_type": "display_data",
          "data": {
            "text/plain": [
              "[1] 0.5403023"
            ],
            "text/latex": "0.54030230586814",
            "text/markdown": "0.54030230586814",
            "text/html": [
              "0.54030230586814"
            ]
          },
          "metadata": {}
        },
        {
          "output_type": "display_data",
          "data": {
            "text/plain": [
              "[1] 1.557408"
            ],
            "text/latex": "1.5574077246549",
            "text/markdown": "1.5574077246549",
            "text/html": [
              "1.5574077246549"
            ]
          },
          "metadata": {}
        },
        {
          "output_type": "display_data",
          "data": {
            "text/plain": [
              "[1] 3"
            ],
            "text/latex": "3",
            "text/markdown": "3",
            "text/html": [
              "3"
            ]
          },
          "metadata": {}
        },
        {
          "output_type": "display_data",
          "data": {
            "text/plain": [
              "[1] -3"
            ],
            "text/latex": "-3",
            "text/markdown": "-3",
            "text/html": [
              "-3"
            ]
          },
          "metadata": {}
        },
        {
          "output_type": "display_data",
          "data": {
            "text/plain": [
              "[1] 0"
            ],
            "text/latex": "0",
            "text/markdown": "0",
            "text/html": [
              "0"
            ]
          },
          "metadata": {}
        },
        {
          "output_type": "display_data",
          "data": {
            "text/plain": [
              "[1] 0"
            ],
            "text/latex": "0",
            "text/markdown": "0",
            "text/html": [
              "0"
            ]
          },
          "metadata": {}
        },
        {
          "output_type": "display_data",
          "data": {
            "text/plain": [
              "[1] 1 1 1 1 1 1"
            ],
            "text/latex": "\\begin{enumerate*}\n\\item 1\n\\item 1\n\\item 1\n\\item 1\n\\item 1\n\\item 1\n\\end{enumerate*}\n",
            "text/markdown": "1. 1\n2. 1\n3. 1\n4. 1\n5. 1\n6. 1\n\n\n",
            "text/html": [
              "<style>\n",
              ".list-inline {list-style: none; margin:0; padding: 0}\n",
              ".list-inline>li {display: inline-block}\n",
              ".list-inline>li:not(:last-child)::after {content: \"\\00b7\"; padding: 0 .5ex}\n",
              "</style>\n",
              "<ol class=list-inline><li>1</li><li>1</li><li>1</li><li>1</li><li>1</li><li>1</li></ol>\n"
            ]
          },
          "metadata": {}
        },
        {
          "output_type": "display_data",
          "data": {
            "text/plain": [
              "x\n",
              "-3 -2 -1  0  1  2  3 \n",
              " 1  1  1  1  1  1  1 "
            ]
          },
          "metadata": {}
        },
        {
          "output_type": "display_data",
          "data": {
            "text/plain": [
              "    y\n",
              "x    -6 -4 -2 0 2 4 6\n",
              "  -3  1  0  0 0 0 0 0\n",
              "  -2  0  1  0 0 0 0 0\n",
              "  -1  0  0  1 0 0 0 0\n",
              "  0   0  0  0 1 0 0 0\n",
              "  1   0  0  0 0 1 0 0\n",
              "  2   0  0  0 0 0 1 0\n",
              "  3   0  0  0 0 0 0 1"
            ]
          },
          "metadata": {}
        },
        {
          "output_type": "display_data",
          "data": {
            "text/plain": [
              "  10%   50%   90% \n",
              " 20.9 100.5 180.1 "
            ],
            "text/latex": "\\begin{description*}\n\\item[10\\textbackslash{}\\%] 20.9\n\\item[50\\textbackslash{}\\%] 100.5\n\\item[90\\textbackslash{}\\%] 180.1\n\\end{description*}\n",
            "text/markdown": "10%\n:   20.950%\n:   100.590%\n:   180.1\n\n",
            "text/html": [
              "<style>\n",
              ".dl-inline {width: auto; margin:0; padding: 0}\n",
              ".dl-inline>dt, .dl-inline>dd {float: none; width: auto; display: inline-block}\n",
              ".dl-inline>dt::after {content: \":\\0020\"; padding-right: .5ex}\n",
              ".dl-inline>dt:not(:first-of-type) {padding-left: .5ex}\n",
              "</style><dl class=dl-inline><dt>10%</dt><dd>20.9</dd><dt>50%</dt><dd>100.5</dd><dt>90%</dt><dd>180.1</dd></dl>\n"
            ]
          },
          "metadata": {}
        },
        {
          "output_type": "display_data",
          "data": {
            "text/plain": [
              "[1] -3  3"
            ],
            "text/latex": "\\begin{enumerate*}\n\\item -3\n\\item 3\n\\end{enumerate*}\n",
            "text/markdown": "1. -3\n2. 3\n\n\n",
            "text/html": [
              "<style>\n",
              ".list-inline {list-style: none; margin:0; padding: 0}\n",
              ".list-inline>li {display: inline-block}\n",
              ".list-inline>li:not(:last-child)::after {content: \"\\00b7\"; padding: 0 .5ex}\n",
              "</style>\n",
              "<ol class=list-inline><li>-3</li><li>3</li></ol>\n"
            ]
          },
          "metadata": {}
        },
        {
          "output_type": "display_data",
          "data": {
            "text/plain": [
              "[1] 1 2 3 4 5 6 7"
            ],
            "text/latex": "\\begin{enumerate*}\n\\item 1\n\\item 2\n\\item 3\n\\item 4\n\\item 5\n\\item 6\n\\item 7\n\\end{enumerate*}\n",
            "text/markdown": "1. 1\n2. 2\n3. 3\n4. 4\n5. 5\n6. 6\n7. 7\n\n\n",
            "text/html": [
              "<style>\n",
              ".list-inline {list-style: none; margin:0; padding: 0}\n",
              ".list-inline>li {display: inline-block}\n",
              ".list-inline>li:not(:last-child)::after {content: \"\\00b7\"; padding: 0 .5ex}\n",
              "</style>\n",
              "<ol class=list-inline><li>1</li><li>2</li><li>3</li><li>4</li><li>5</li><li>6</li><li>7</li></ol>\n"
            ]
          },
          "metadata": {}
        },
        {
          "output_type": "display_data",
          "data": {
            "text/plain": [
              "[1] 0"
            ],
            "text/latex": "0",
            "text/markdown": "0",
            "text/html": [
              "0"
            ]
          },
          "metadata": {}
        },
        {
          "output_type": "display_data",
          "data": {
            "text/plain": [
              "[1] 0"
            ],
            "text/latex": "0",
            "text/markdown": "0",
            "text/html": [
              "0"
            ]
          },
          "metadata": {}
        },
        {
          "output_type": "display_data",
          "data": {
            "text/plain": [
              "[1] 1"
            ],
            "text/latex": "1",
            "text/markdown": "1",
            "text/html": [
              "1"
            ]
          },
          "metadata": {}
        },
        {
          "output_type": "display_data",
          "data": {
            "text/plain": [
              "[1] 2.160247"
            ],
            "text/latex": "2.16024689946929",
            "text/markdown": "2.16024689946929",
            "text/html": [
              "2.16024689946929"
            ]
          },
          "metadata": {}
        },
        {
          "output_type": "display_data",
          "data": {
            "text/plain": [
              "[1] 4.666667"
            ],
            "text/latex": "4.66666666666667",
            "text/markdown": "4.66666666666667",
            "text/html": [
              "4.66666666666667"
            ]
          },
          "metadata": {}
        }
      ]
    },
    {
      "cell_type": "markdown",
      "source": [
        "We will list, however, some useful and verycommon matrix algebra functions (to use on `matrix`-type objects):\n",
        "\n",
        "*   `t` (matrix transpose), `diag` (matrix diagonal)\n",
        "*   `crossprod`, `tcrossprod`, `outer` (cross-, transpose-cross- and outer-products)\n",
        "*   `eigen`, `qr`, `svd` (eigen, QR and SVD decompositions)\n",
        "*   `rcond` (condition number)\n",
        "*   `solve` (matrix inverse, or systems of equations)"
      ],
      "metadata": {
        "id": "VT5bK4wkPN63"
      }
    },
    {
      "cell_type": "markdown",
      "source": [
        "### 8.2 Statistical distributions (characterisation and simulation)\n",
        "\n",
        "One of `R`'s strengthts is simulation power. You can find PDFs and CDFs for a wide variety of parametric distributions, as well as take random samples from them. Here are some basics to simulate things in `R`:"
      ],
      "metadata": {
        "id": "xE3ng5mIWJJm"
      }
    },
    {
      "cell_type": "code",
      "source": [
        "set.seed(666)\n",
        "sample(1:10, 1)  # Most basic simulation function: sample 1 element out of 1:10\n",
        "sample(1:5, 3, replace = TRUE)  # Replace TRUE puts the sampled values back in the pool\n",
        "sample(1:5, 3, replace = FALSE)  # Once a value is drawn, it cannot be drawn again"
      ],
      "metadata": {
        "colab": {
          "base_uri": "https://localhost:8080/",
          "height": 69
        },
        "id": "eVM2wXZRPmTs",
        "outputId": "970c6e0e-c263-4213-e8ad-3979047c0f74"
      },
      "execution_count": 15,
      "outputs": [
        {
          "output_type": "display_data",
          "data": {
            "text/plain": [
              "[1] 5"
            ],
            "text/latex": "5",
            "text/markdown": "5",
            "text/html": [
              "5"
            ]
          },
          "metadata": {}
        },
        {
          "output_type": "display_data",
          "data": {
            "text/plain": [
              "[1] 1 4 1"
            ],
            "text/latex": "\\begin{enumerate*}\n\\item 1\n\\item 4\n\\item 1\n\\end{enumerate*}\n",
            "text/markdown": "1. 1\n2. 4\n3. 1\n\n\n",
            "text/html": [
              "<style>\n",
              ".list-inline {list-style: none; margin:0; padding: 0}\n",
              ".list-inline>li {display: inline-block}\n",
              ".list-inline>li:not(:last-child)::after {content: \"\\00b7\"; padding: 0 .5ex}\n",
              "</style>\n",
              "<ol class=list-inline><li>1</li><li>4</li><li>1</li></ol>\n"
            ]
          },
          "metadata": {}
        },
        {
          "output_type": "display_data",
          "data": {
            "text/plain": [
              "[1] 2 3 1"
            ],
            "text/latex": "\\begin{enumerate*}\n\\item 2\n\\item 3\n\\item 1\n\\end{enumerate*}\n",
            "text/markdown": "1. 2\n2. 3\n3. 1\n\n\n",
            "text/html": [
              "<style>\n",
              ".list-inline {list-style: none; margin:0; padding: 0}\n",
              ".list-inline>li {display: inline-block}\n",
              ".list-inline>li:not(:last-child)::after {content: \"\\00b7\"; padding: 0 .5ex}\n",
              "</style>\n",
              "<ol class=list-inline><li>2</li><li>3</li><li>1</li></ol>\n"
            ]
          },
          "metadata": {}
        }
      ]
    },
    {
      "cell_type": "markdown",
      "source": [
        "There are four key letters to deal with a given available parametric distribution:\n",
        "\n",
        "*   `d`: provides the *density* (PDF) of the distribution at the supplied value \n",
        "*   `p`: provides the *cumulative probability* (CDF) up to the supplied value\n",
        "*   `q`: provides the *quantile* of the distribution that accumulates the supplied percentage of the probability mass \n",
        "*   `r`: provides a *random* sample of the supplied size for the specified distribution\n",
        "\n",
        "We illustrate this with the Normal distribution:"
      ],
      "metadata": {
        "id": "1c0C18HKNV-h"
      }
    },
    {
      "cell_type": "code",
      "source": [
        "x <- 1  # Any value on the real line\n",
        "a <- 0.6  # Any value between 0 and 1\n",
        "n <- 1e3  # Any integer (note the scientific notation: 10^3 = 1,000)\n",
        "\n",
        "dnorm(x, mean = 0, sd = 1)  # PDF of the Normal at x = 1 (density)\n",
        "pnorm(x, mean = 0, sd = 1)  # CDF of the Normal: returns P(X < 1)\n",
        "qnorm(a, mean = 0, sd = 1)  # Quantile: returns x such that P(X < x) = 0.6\n",
        "pnorm(x, mean = 0, sd = 1, lower.tail = FALSE)  # Upper-tail CDF of the Normal: returns P(X > 1)\n",
        "qnorm(a, mean = 0, sd = 1, lower.tail = FALSE)  # Quantile, but opposite tail P(X > x) = 0.6, i.e. P(X < x) = 1 - 0.6\n",
        "head(rnorm(n, mean = 0, sd = 1))  # Here we ask for 1,000 random draws of a N(0, 1): note we require a different parameter!"
      ],
      "metadata": {
        "colab": {
          "base_uri": "https://localhost:8080/",
          "height": 121
        },
        "id": "5cmvsYhQQiWI",
        "outputId": "f32b7921-52b6-4682-e242-58910c618cff"
      },
      "execution_count": 25,
      "outputs": [
        {
          "output_type": "display_data",
          "data": {
            "text/plain": [
              "[1] 0.2419707"
            ],
            "text/latex": "0.241970724519143",
            "text/markdown": "0.241970724519143",
            "text/html": [
              "0.241970724519143"
            ]
          },
          "metadata": {}
        },
        {
          "output_type": "display_data",
          "data": {
            "text/plain": [
              "[1] 0.8413447"
            ],
            "text/latex": "0.841344746068543",
            "text/markdown": "0.841344746068543",
            "text/html": [
              "0.841344746068543"
            ]
          },
          "metadata": {}
        },
        {
          "output_type": "display_data",
          "data": {
            "text/plain": [
              "[1] 0.2533471"
            ],
            "text/latex": "0.2533471031358",
            "text/markdown": "0.2533471031358",
            "text/html": [
              "0.2533471031358"
            ]
          },
          "metadata": {}
        },
        {
          "output_type": "display_data",
          "data": {
            "text/plain": [
              "[1] 0.1586553"
            ],
            "text/latex": "0.158655253931457",
            "text/markdown": "0.158655253931457",
            "text/html": [
              "0.158655253931457"
            ]
          },
          "metadata": {}
        },
        {
          "output_type": "display_data",
          "data": {
            "text/plain": [
              "[1] -0.2533471"
            ],
            "text/latex": "-0.2533471031358",
            "text/markdown": "-0.2533471031358",
            "text/html": [
              "-0.2533471031358"
            ]
          },
          "metadata": {}
        },
        {
          "output_type": "display_data",
          "data": {
            "text/plain": [
              "[1] -1.1618627 -0.9575398  0.7408697 -1.1961989  0.2315603 -1.3518877"
            ],
            "text/latex": "\\begin{enumerate*}\n\\item -1.16186269906835\n\\item -0.957539783984007\n\\item 0.74086970144693\n\\item -1.19619888468854\n\\item 0.231560277027933\n\\item -1.35188770614247\n\\end{enumerate*}\n",
            "text/markdown": "1. -1.16186269906835\n2. -0.957539783984007\n3. 0.74086970144693\n4. -1.19619888468854\n5. 0.231560277027933\n6. -1.35188770614247\n\n\n",
            "text/html": [
              "<style>\n",
              ".list-inline {list-style: none; margin:0; padding: 0}\n",
              ".list-inline>li {display: inline-block}\n",
              ".list-inline>li:not(:last-child)::after {content: \"\\00b7\"; padding: 0 .5ex}\n",
              "</style>\n",
              "<ol class=list-inline><li>-1.16186269906835</li><li>-0.957539783984007</li><li>0.74086970144693</li><li>-1.19619888468854</li><li>0.231560277027933</li><li>-1.35188770614247</li></ol>\n"
            ]
          },
          "metadata": {}
        }
      ]
    },
    {
      "cell_type": "markdown",
      "source": [
        "\n",
        "Every distribution will have its set of parameters: the Normal here has `mean` and `sd`, which you can specify to whatever values you need, and if not specificied are taken to be `mean = 0`, and `sd = 1` (the standard Normal). But for example the `chisq` ($χ_{\\nu}^{2}$) requires the parameter `df` (degrees of freedom, $\\nu$), with no default, or the binomial needs to be supplied `size` ($p$) and `prob` ($k$). \n",
        "\n",
        "Here I list the most common distributions available and their command name: `beta`, `binom`, `cauchy`, `chisq`, `exp`, `f`, `gamma`, `geom`, `hyper`, `lnorm` (log-normal), `logis`, `multinom`, `nbinom` (negative binomial), `norm`, `pois`, `t`, `unif`, `weibull`, `wilcox`, `birthday`, `tukey`.\n",
        "\n",
        "There are also various statistical tests that are readily available, even a summary is beyond the scope of this intro course. This set of tests is close to uncountable, so as a basic rule, if you look for \"R [name of the test]\" in your favourite search engine, you will most likely find what command you need quickly, for example you can do an ANOVA test with the command `anova` (surprise?)."
      ],
      "metadata": {
        "id": "MVqiQwYEQjAf"
      }
    },
    {
      "cell_type": "markdown",
      "source": [
        "### 8.3 Statistical models\n",
        "\n",
        "As a final note, `R` is equipped with numerous statistical models that can be run, here I show how to run linear regression"
      ],
      "metadata": {
        "id": "lJ2QZn5OH4Vn"
      }
    },
    {
      "cell_type": "code",
      "source": [
        "# Simulate some data\n",
        "set.seed(666)\n",
        "n <- 100  # rows\n",
        "p <- 50  # columns\n",
        "X <- matrix(rnorm(n * p), nrow = n, ncol = p)  # Regression matrix\n",
        "b <- c(1, 1, 1/2, 1/2, rep(0, p - 4))  # Regression coefficients\n",
        "y <- X %*% b + rnorm(n)  # Model: y = X * b + epsilon, epsilon is N(0, 1)\n",
        "df <- cbind.data.frame(y, X)  # Put all the data into one data.frame\n",
        "colnames(df) <- c('y', paste('var', 1:p, sep = ''))  # Column names\n",
        "\n",
        "# Linear regression\n",
        "model <- lm(y ~ var1 + var2, data = df)  # \"lm\" is linear model: you declare a \"formula\" with the \"~\" symbol,\n",
        "                                         # and add variables (names) with \"+\"\n",
        "model <- lm(y ~ ., data = df)  # The dot tells it to add all variables\n",
        "\n",
        "# Some useful diagnostics\n",
        "# These following functions are generic: they work for most models in R!\n",
        "summary(model)  # This gives you the classical table with the results\n",
        "head(coef(model))  # Estimated coefficients (beta hat)\n",
        "head(confint(model))  # Confidence intervals for the coefficients (you can change significance)\n",
        "head(fitted(model))  # Fitted values\n",
        "head(resid(model))  # Model residuals\n",
        "\n",
        "# Prediction (create five new observations and use the estimated model to predict)\n",
        "new.df <- matrix(rnorm(5 * p), nrow = 5, ncol = p) # \"predict\" function requires a data.frame\n",
        "colnames(new.df) <- colnames(df)[-1]  # Needs to be in the same format\n",
        "predict(model, newdata = as.data.frame(new.df))  # Prediction for a new observation with covariates rnorm(n)"
      ],
      "metadata": {
        "colab": {
          "base_uri": "https://localhost:8080/",
          "height": 1000
        },
        "id": "n8jQfu4YWt_O",
        "outputId": "50ab3cc2-f602-4546-b0ed-b6de4465ced7"
      },
      "execution_count": 44,
      "outputs": [
        {
          "output_type": "display_data",
          "data": {
            "text/plain": [
              "\n",
              "Call:\n",
              "lm(formula = y ~ ., data = df)\n",
              "\n",
              "Residuals:\n",
              "     Min       1Q   Median       3Q      Max \n",
              "-1.85209 -0.44267  0.03548  0.45171  1.60441 \n",
              "\n",
              "Coefficients:\n",
              "              Estimate Std. Error t value Pr(>|t|)    \n",
              "(Intercept) -0.0972054  0.1293670  -0.751  0.45601    \n",
              "var1         0.8675616  0.1221973   7.100 4.65e-09 ***\n",
              "var2         1.0101160  0.1229673   8.215 8.99e-11 ***\n",
              "var3         0.7222472  0.1373306   5.259 3.16e-06 ***\n",
              "var4         0.5443718  0.1368960   3.977  0.00023 ***\n",
              "var5        -0.1920666  0.1507418  -1.274  0.20862    \n",
              "var6        -0.1268034  0.1636196  -0.775  0.44207    \n",
              "var7        -0.0859963  0.1222497  -0.703  0.48511    \n",
              "var8         0.0671576  0.1630104   0.412  0.68215    \n",
              "var9        -0.1211380  0.1301038  -0.931  0.35637    \n",
              "var10       -0.0020973  0.1297702  -0.016  0.98717    \n",
              "var11        0.1749164  0.1438082   1.216  0.22969    \n",
              "var12       -0.0526155  0.1462959  -0.360  0.72065    \n",
              "var13        0.2009111  0.1343164   1.496  0.14112    \n",
              "var14       -0.2733351  0.1210974  -2.257  0.02849 *  \n",
              "var15        0.2728135  0.1380232   1.977  0.05373 .  \n",
              "var16       -0.1273695  0.1300232  -0.980  0.33210    \n",
              "var17        0.0810815  0.1419483   0.571  0.57047    \n",
              "var18       -0.0875188  0.1216090  -0.720  0.47514    \n",
              "var19       -0.3142951  0.1304842  -2.409  0.01982 *  \n",
              "var20       -0.2793551  0.1481550  -1.886  0.06529 .  \n",
              "var21        0.1174433  0.1620858   0.725  0.47216    \n",
              "var22       -0.0386011  0.1435442  -0.269  0.78912    \n",
              "var23        0.1056372  0.1214347   0.870  0.38859    \n",
              "var24        0.2497858  0.1441591   1.733  0.08944 .  \n",
              "var25       -0.2179101  0.1445678  -1.507  0.13815    \n",
              "var26        0.0829086  0.1580452   0.525  0.60224    \n",
              "var27       -0.1365329  0.1354677  -1.008  0.31847    \n",
              "var28        0.2715009  0.1658391   1.637  0.10801    \n",
              "var29       -0.1954284  0.1296886  -1.507  0.13826    \n",
              "var30       -0.0829588  0.1337705  -0.620  0.53803    \n",
              "var31        0.2287958  0.1180904   1.937  0.05846 .  \n",
              "var32        0.0344723  0.1377009   0.250  0.80337    \n",
              "var33        0.0527801  0.1232461   0.428  0.67035    \n",
              "var34       -0.0004392  0.1162996  -0.004  0.99700    \n",
              "var35        0.0987559  0.1230976   0.802  0.42628    \n",
              "var36        0.0425538  0.1276708   0.333  0.74032    \n",
              "var37        0.2412908  0.1252784   1.926  0.05991 .  \n",
              "var38        0.0502137  0.1344340   0.374  0.71037    \n",
              "var39        0.1716808  0.1556868   1.103  0.27553    \n",
              "var40       -0.0975610  0.1081948  -0.902  0.37162    \n",
              "var41        0.0389306  0.1325148   0.294  0.77016    \n",
              "var42       -0.0895673  0.1118277  -0.801  0.42703    \n",
              "var43       -0.1185985  0.1056086  -1.123  0.26691    \n",
              "var44        0.0546713  0.1170871   0.467  0.64262    \n",
              "var45        0.1552234  0.1065051   1.457  0.15138    \n",
              "var46        0.0737796  0.1429112   0.516  0.60799    \n",
              "var47        0.1557650  0.1347075   1.156  0.25316    \n",
              "var48        0.0207517  0.1077752   0.193  0.84811    \n",
              "var49       -0.0222888  0.1353260  -0.165  0.86985    \n",
              "var50       -0.0137175  0.1211147  -0.113  0.91029    \n",
              "---\n",
              "Signif. codes:  0 ‘***’ 0.001 ‘**’ 0.01 ‘*’ 0.05 ‘.’ 0.1 ‘ ’ 1\n",
              "\n",
              "Residual standard error: 0.9051 on 49 degrees of freedom\n",
              "Multiple R-squared:  0.9147,\tAdjusted R-squared:  0.8277 \n",
              "F-statistic: 10.51 on 50 and 49 DF,  p-value: 3.716e-14\n"
            ]
          },
          "metadata": {}
        },
        {
          "output_type": "display_data",
          "data": {
            "text/plain": [
              "(Intercept)        var1        var2        var3        var4        var5 \n",
              "-0.09720536  0.86756164  1.01011598  0.72224716  0.54437178 -0.19206660 "
            ],
            "text/latex": "\\begin{description*}\n\\item[(Intercept)] -0.0972053628295793\n\\item[var1] 0.867561635588142\n\\item[var2] 1.01011597832828\n\\item[var3] 0.722247160274496\n\\item[var4] 0.544371784919104\n\\item[var5] -0.192066598412759\n\\end{description*}\n",
            "text/markdown": "(Intercept)\n:   -0.0972053628295793var1\n:   0.867561635588142var2\n:   1.01011597832828var3\n:   0.722247160274496var4\n:   0.544371784919104var5\n:   -0.192066598412759\n\n",
            "text/html": [
              "<style>\n",
              ".dl-inline {width: auto; margin:0; padding: 0}\n",
              ".dl-inline>dt, .dl-inline>dd {float: none; width: auto; display: inline-block}\n",
              ".dl-inline>dt::after {content: \":\\0020\"; padding-right: .5ex}\n",
              ".dl-inline>dt:not(:first-of-type) {padding-left: .5ex}\n",
              "</style><dl class=dl-inline><dt>(Intercept)</dt><dd>-0.0972053628295793</dd><dt>var1</dt><dd>0.867561635588142</dd><dt>var2</dt><dd>1.01011597832828</dd><dt>var3</dt><dd>0.722247160274496</dd><dt>var4</dt><dd>0.544371784919104</dd><dt>var5</dt><dd>-0.192066598412759</dd></dl>\n"
            ]
          },
          "metadata": {}
        },
        {
          "output_type": "display_data",
          "data": {
            "text/plain": [
              "            2.5 %      97.5 %   \n",
              "(Intercept) -0.3571781 0.1627674\n",
              "var1         0.6219970 1.1131262\n",
              "var2         0.7630040 1.2572280\n",
              "var3         0.4462710 0.9982233\n",
              "var4         0.2692690 0.8194746\n",
              "var5        -0.4949935 0.1108603"
            ],
            "text/latex": "A matrix: 6 × 2 of type dbl\n\\begin{tabular}{r|ll}\n  & 2.5 \\% & 97.5 \\%\\\\\n\\hline\n\t(Intercept) & -0.3571781 & 0.1627674\\\\\n\tvar1 &  0.6219970 & 1.1131262\\\\\n\tvar2 &  0.7630040 & 1.2572280\\\\\n\tvar3 &  0.4462710 & 0.9982233\\\\\n\tvar4 &  0.2692690 & 0.8194746\\\\\n\tvar5 & -0.4949935 & 0.1108603\\\\\n\\end{tabular}\n",
            "text/markdown": "\nA matrix: 6 × 2 of type dbl\n\n| <!--/--> | 2.5 % | 97.5 % |\n|---|---|---|\n| (Intercept) | -0.3571781 | 0.1627674 |\n| var1 |  0.6219970 | 1.1131262 |\n| var2 |  0.7630040 | 1.2572280 |\n| var3 |  0.4462710 | 0.9982233 |\n| var4 |  0.2692690 | 0.8194746 |\n| var5 | -0.4949935 | 0.1108603 |\n\n",
            "text/html": [
              "<table class=\"dataframe\">\n",
              "<caption>A matrix: 6 × 2 of type dbl</caption>\n",
              "<thead>\n",
              "\t<tr><th></th><th scope=col>2.5 %</th><th scope=col>97.5 %</th></tr>\n",
              "</thead>\n",
              "<tbody>\n",
              "\t<tr><th scope=row>(Intercept)</th><td>-0.3571781</td><td>0.1627674</td></tr>\n",
              "\t<tr><th scope=row>var1</th><td> 0.6219970</td><td>1.1131262</td></tr>\n",
              "\t<tr><th scope=row>var2</th><td> 0.7630040</td><td>1.2572280</td></tr>\n",
              "\t<tr><th scope=row>var3</th><td> 0.4462710</td><td>0.9982233</td></tr>\n",
              "\t<tr><th scope=row>var4</th><td> 0.2692690</td><td>0.8194746</td></tr>\n",
              "\t<tr><th scope=row>var5</th><td>-0.4949935</td><td>0.1108603</td></tr>\n",
              "</tbody>\n",
              "</table>\n"
            ]
          },
          "metadata": {}
        },
        {
          "output_type": "display_data",
          "data": {
            "text/plain": [
              "          1           2           3           4           5           6 \n",
              " 0.42735670  0.98253188 -0.08173233  4.92210505 -3.13904850  0.32190933 "
            ],
            "text/latex": "\\begin{description*}\n\\item[1] 0.427356695198144\n\\item[2] 0.982531878775401\n\\item[3] -0.0817323282245176\n\\item[4] 4.92210504711478\n\\item[5] -3.13904850295375\n\\item[6] 0.321909326565657\n\\end{description*}\n",
            "text/markdown": "1\n:   0.4273566951981442\n:   0.9825318787754013\n:   -0.08173232822451764\n:   4.922105047114785\n:   -3.139048502953756\n:   0.321909326565657\n\n",
            "text/html": [
              "<style>\n",
              ".dl-inline {width: auto; margin:0; padding: 0}\n",
              ".dl-inline>dt, .dl-inline>dd {float: none; width: auto; display: inline-block}\n",
              ".dl-inline>dt::after {content: \":\\0020\"; padding-right: .5ex}\n",
              ".dl-inline>dt:not(:first-of-type) {padding-left: .5ex}\n",
              "</style><dl class=dl-inline><dt>1</dt><dd>0.427356695198144</dd><dt>2</dt><dd>0.982531878775401</dd><dt>3</dt><dd>-0.0817323282245176</dd><dt>4</dt><dd>4.92210504711478</dd><dt>5</dt><dd>-3.13904850295375</dd><dt>6</dt><dd>0.321909326565657</dd></dl>\n"
            ]
          },
          "metadata": {}
        },
        {
          "output_type": "display_data",
          "data": {
            "text/plain": [
              "          1           2           3           4           5           6 \n",
              "-0.50505047  0.39327450  0.17637673 -0.96308610  0.08577684  0.25467706 "
            ],
            "text/latex": "\\begin{description*}\n\\item[1] -0.50505047354012\n\\item[2] 0.393274504576358\n\\item[3] 0.176376728652023\n\\item[4] -0.963086095425228\n\\item[5] 0.0857768408440955\n\\item[6] 0.254677063301565\n\\end{description*}\n",
            "text/markdown": "1\n:   -0.505050473540122\n:   0.3932745045763583\n:   0.1763767286520234\n:   -0.9630860954252285\n:   0.08577684084409556\n:   0.254677063301565\n\n",
            "text/html": [
              "<style>\n",
              ".dl-inline {width: auto; margin:0; padding: 0}\n",
              ".dl-inline>dt, .dl-inline>dd {float: none; width: auto; display: inline-block}\n",
              ".dl-inline>dt::after {content: \":\\0020\"; padding-right: .5ex}\n",
              ".dl-inline>dt:not(:first-of-type) {padding-left: .5ex}\n",
              "</style><dl class=dl-inline><dt>1</dt><dd>-0.50505047354012</dd><dt>2</dt><dd>0.393274504576358</dd><dt>3</dt><dd>0.176376728652023</dd><dt>4</dt><dd>-0.963086095425228</dd><dt>5</dt><dd>0.0857768408440955</dd><dt>6</dt><dd>0.254677063301565</dd></dl>\n"
            ]
          },
          "metadata": {}
        },
        {
          "output_type": "display_data",
          "data": {
            "text/plain": [
              "        1         2         3         4         5 \n",
              " 1.798792 -2.402820 -1.889108 -1.281219  1.456660 "
            ],
            "text/latex": "\\begin{description*}\n\\item[1] 1.79879242251393\n\\item[2] -2.40281987323315\n\\item[3] -1.889108263616\n\\item[4] -1.28121888614748\n\\item[5] 1.45665965335889\n\\end{description*}\n",
            "text/markdown": "1\n:   1.798792422513932\n:   -2.402819873233153\n:   -1.8891082636164\n:   -1.281218886147485\n:   1.45665965335889\n\n",
            "text/html": [
              "<style>\n",
              ".dl-inline {width: auto; margin:0; padding: 0}\n",
              ".dl-inline>dt, .dl-inline>dd {float: none; width: auto; display: inline-block}\n",
              ".dl-inline>dt::after {content: \":\\0020\"; padding-right: .5ex}\n",
              ".dl-inline>dt:not(:first-of-type) {padding-left: .5ex}\n",
              "</style><dl class=dl-inline><dt>1</dt><dd>1.79879242251393</dd><dt>2</dt><dd>-2.40281987323315</dd><dt>3</dt><dd>-1.889108263616</dd><dt>4</dt><dd>-1.28121888614748</dd><dt>5</dt><dd>1.45665965335889</dd></dl>\n"
            ]
          },
          "metadata": {}
        }
      ]
    },
    {
      "cell_type": "markdown",
      "source": [
        " If your outcome is binary, for example, use `glm(..., link = 'binomial')` instead as the modelling function (the rest stays the same). Many models are natively built into `R`, but many others are not. This is where packages kick in: if you're trying to estimate a model that is not built-in, most likely it has been used before and someone has written a package on it. Use the search engine rule again and you may find a solution!"
      ],
      "metadata": {
        "id": "aKu7MBrVWvb1"
      }
    },
    {
      "cell_type": "markdown",
      "metadata": {
        "id": "NNC3hZuvBLmZ"
      },
      "source": [
        "## 9. String manipulation\n",
        "\n",
        "* grep, grepl, agrep, substr, gsub\n",
        "* Regular expressions\n"
      ]
    },
    {
      "cell_type": "markdown",
      "metadata": {
        "id": "TTAdo_uDBPk3"
      },
      "source": [
        "## 10. Basic data visualization"
      ]
    },
    {
      "cell_type": "markdown",
      "metadata": {
        "id": "ZI0WQtPGBWpr"
      },
      "source": [
        "## 11. Popular packages\n",
        "\n",
        "* data.table/dplyr/ggplot/shiny"
      ]
    },
    {
      "cell_type": "markdown",
      "metadata": {
        "id": "k3QsbI4MBe9O"
      },
      "source": [
        "## 12. Relevant topics\n",
        "\n",
        "* Dates, web scrapping, visualization?"
      ]
    }
  ]
}