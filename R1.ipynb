{
  "nbformat": 4,
  "nbformat_minor": 0,
  "metadata": {
    "colab": {
      "name": "R1.ipynb",
      "provenance": [],
      "collapsed_sections": [
        "nO8q98LH9mkk",
        "fJsTPPStEKjr",
        "dFgSAb2kREcQ",
        "8Ha4MnE-dipM",
        "bmalr6RWkSmh",
        "vpw6a8TJrvf-",
        "c36iyh1m-v_e",
        "8E6XKl5y_RHy"
      ]
    },
    "kernelspec": {
      "name": "ir",
      "display_name": "R"
    },
    "language_info": {
      "name": "R"
    }
  },
  "cells": [
    {
      "cell_type": "markdown",
      "metadata": {
        "id": "FVgm8I6b9p3j"
      },
      "source": [
        "# SESSION B1: R (i)\n",
        "\n",
        "By **Miquel Torrens i Dinarès**\n",
        "\n",
        "*Barcelona School of Economics*\n",
        "\n",
        "*Data Science Center*\n",
        "\n",
        "January 4, 2022"
      ]
    },
    {
      "cell_type": "markdown",
      "metadata": {
        "id": "nO8q98LH9mkk"
      },
      "source": [
        "## 1. The R Environment"
      ]
    },
    {
      "cell_type": "markdown",
      "metadata": {
        "id": "Ku0Q1ddgh-oZ"
      },
      "source": [
        "Complete user manual: https://cran.r-project.org/doc/manuals/r-release/R-lang.html"
      ]
    },
    {
      "cell_type": "markdown",
      "metadata": {
        "id": "zkc7Hm-OURVc"
      },
      "source": [
        "### 1.1 Introduction"
      ]
    },
    {
      "cell_type": "markdown",
      "metadata": {
        "id": "YU92jGjZ92s1"
      },
      "source": [
        "When you open an `R` session, a **console** is displayed, which is where all operations in `R` are run. This is built on an `R` environment that we will call **workspace**. This is the playing field that will contain everything needed to run your code.\n",
        "\n",
        "In a nutshell, in an `R` workspace there are *things* (objects) and *actions* (operators and functions). Objects are located inside the workspace, and we apply functions to these objects to obtain some desired output. For example: we can create a vector `x` (object) and compute its `mean` (function)\n"
      ]
    },
    {
      "cell_type": "code",
      "metadata": {
        "id": "RXN_-b9x5kKC",
        "colab": {
          "base_uri": "https://localhost:8080/",
          "height": 34
        },
        "outputId": "80b91174-4f7f-4c7a-fc56-a423bc9a9c23"
      },
      "source": [
        "x <- 0:10  # This defines a numeric vector with integers from 0 to 10\n",
        "mean(x)  # This computes the mean of the vector"
      ],
      "execution_count": null,
      "outputs": [
        {
          "output_type": "display_data",
          "data": {
            "text/plain": [
              "[1] 5"
            ],
            "text/latex": "5",
            "text/markdown": "5",
            "text/html": [
              "5"
            ]
          },
          "metadata": {}
        }
      ]
    },
    {
      "cell_type": "markdown",
      "metadata": {
        "id": "J7YeNbYL-Xi_"
      },
      "source": [
        "Here we displayed an object, an operator, and a function. To create an object, we used an operator of assignment `<-` (right-to-left), and we called a function on this object by placing it inside brackets. We also showed how to comment your code: use `#` to let `R` know it should not run the rest of the line.\n",
        "\n",
        "Some functions do not require an object to be called. For example, you can explore the objects in your workspace using\n"
      ]
    },
    {
      "cell_type": "code",
      "metadata": {
        "colab": {
          "base_uri": "https://localhost:8080/",
          "height": 34
        },
        "id": "4gsIrkr--W8k",
        "outputId": "ba158910-d2a8-4a4c-8a07-124db6909323"
      },
      "source": [
        "ls()"
      ],
      "execution_count": null,
      "outputs": [
        {
          "output_type": "display_data",
          "data": {
            "text/plain": [
              "[1] \"x\"  \"x1\" \"x2\" \"x3\" \"x4\" \"x5\" \"y\"  \"z\" "
            ],
            "text/latex": "\\begin{enumerate*}\n\\item 'x'\n\\item 'x1'\n\\item 'x2'\n\\item 'x3'\n\\item 'x4'\n\\item 'x5'\n\\item 'y'\n\\item 'z'\n\\end{enumerate*}\n",
            "text/markdown": "1. 'x'\n2. 'x1'\n3. 'x2'\n4. 'x3'\n5. 'x4'\n6. 'x5'\n7. 'y'\n8. 'z'\n\n\n",
            "text/html": [
              "<style>\n",
              ".list-inline {list-style: none; margin:0; padding: 0}\n",
              ".list-inline>li {display: inline-block}\n",
              ".list-inline>li:not(:last-child)::after {content: \"\\00b7\"; padding: 0 .5ex}\n",
              "</style>\n",
              "<ol class=list-inline><li>'x'</li><li>'x1'</li><li>'x2'</li><li>'x3'</li><li>'x4'</li><li>'x5'</li><li>'y'</li><li>'z'</li></ol>\n"
            ]
          },
          "metadata": {}
        }
      ]
    },
    {
      "cell_type": "markdown",
      "metadata": {
        "id": "ntVaezMLGKBy"
      },
      "source": [
        "Most functions also admit **arguments**, which are specifications to control how a function should be run."
      ]
    },
    {
      "cell_type": "code",
      "metadata": {
        "colab": {
          "base_uri": "https://localhost:8080/",
          "height": 86
        },
        "id": "Txvcmv65O9F8",
        "outputId": "c26b3a0c-fcda-46ba-b3bf-c3c29a01d435"
      },
      "source": [
        "pi  # This is a special object built into R\n",
        "round(pi)  # This functions rounds a number to any decimal point (by default, 0)\n",
        "round(pi, digits = 1)  # The argument \"digits\" controls the number of decimals\n",
        "round(pi, digits = 4)"
      ],
      "execution_count": null,
      "outputs": [
        {
          "output_type": "display_data",
          "data": {
            "text/plain": [
              "[1] 3.141593"
            ],
            "text/latex": "3.14159265358979",
            "text/markdown": "3.14159265358979",
            "text/html": [
              "3.14159265358979"
            ]
          },
          "metadata": {}
        },
        {
          "output_type": "display_data",
          "data": {
            "text/plain": [
              "[1] 3"
            ],
            "text/latex": "3",
            "text/markdown": "3",
            "text/html": [
              "3"
            ]
          },
          "metadata": {}
        },
        {
          "output_type": "display_data",
          "data": {
            "text/plain": [
              "[1] 3.1"
            ],
            "text/latex": "3.1",
            "text/markdown": "3.1",
            "text/html": [
              "3.1"
            ]
          },
          "metadata": {}
        },
        {
          "output_type": "display_data",
          "data": {
            "text/plain": [
              "[1] 3.1416"
            ],
            "text/latex": "3.1416",
            "text/markdown": "3.1416",
            "text/html": [
              "3.1416"
            ]
          },
          "metadata": {}
        }
      ]
    },
    {
      "cell_type": "markdown",
      "metadata": {
        "id": "8WapugRKP5dS"
      },
      "source": [
        "You can know which arguments are admitted by each function, alongside with a detailed function description, by using the `help()` function, or by typing in an `?` in front of the name of the function:"
      ]
    },
    {
      "cell_type": "code",
      "metadata": {
        "id": "YK0HYT8zP9JF"
      },
      "source": [
        "?mean"
      ],
      "execution_count": null,
      "outputs": []
    },
    {
      "cell_type": "markdown",
      "metadata": {
        "id": "NEW1Juw2AlDf"
      },
      "source": [
        "`R` has a wide array of general functions and operators embedded natively that allow you to do pretty much anything basic. Those functions not readily available that you might require for specific purposes will need to be either (a) installed and loaded from external packages, or (b) coded by YOU. Like many things, coding functions can be both fun and painful.\n",
        "\n",
        "Similarly, you will not create all objects from scratch in a workspace, sometimes you will be importing data, either numeric, in text, or any other format (maps, JSON, SQL, etc.). Your workspace is just the place where you will work on them to generate some output of interest."
      ]
    },
    {
      "cell_type": "markdown",
      "metadata": {
        "id": "4D6bsbX3FT1g"
      },
      "source": [
        "Finally, don't forget to exit your R session once your job is done! Do that using the quit function"
      ]
    },
    {
      "cell_type": "code",
      "metadata": {
        "id": "A1dGtbsCFNK1"
      },
      "source": [
        "q()"
      ],
      "execution_count": null,
      "outputs": []
    },
    {
      "cell_type": "markdown",
      "metadata": {
        "id": "OtEJHHSmEp00"
      },
      "source": [
        "Use the command `rm(list = ls())` if instead you don't want to leave the session but want to remove every object in it."
      ]
    },
    {
      "cell_type": "markdown",
      "metadata": {
        "id": "oN9glXDbQfZi"
      },
      "source": [
        "### 1.2 General rules to programming (with `R`)"
      ]
    },
    {
      "cell_type": "markdown",
      "metadata": {
        "id": "Q-v9CAFkU7Ff"
      },
      "source": [
        "1. **Reproducibility** is everything: write your code in an `R` script (file with extension `.R`), NOT in the console\n",
        "2. **Comment your code thoroughly** and clarify everything, someone else might read it and needs to know what's happening (even yourself in the future)\n",
        "3. Follow a **style guide** and do it **consistently**: spacing, indenting, format..., just like you do writing natural language. [The one from Google](https://google.github.io/styleguide/Rguide.html) is decent, it's an example that you can tweak to make it your own, just follow the basics and stay consistent. Remember: **clean code = happy programmer**."
      ]
    },
    {
      "cell_type": "markdown",
      "metadata": {
        "id": "fJsTPPStEKjr"
      },
      "source": [
        "## 2. Input/Output\n"
      ]
    },
    {
      "cell_type": "markdown",
      "metadata": {
        "id": "9cbkwHfuRgKR"
      },
      "source": [
        "### 2.1 Importing functions (libraries)"
      ]
    },
    {
      "cell_type": "markdown",
      "metadata": {
        "id": "ckr_AbQZZrym"
      },
      "source": [
        "Libraries are bundles of functions generally related to one particular topic. For example, the `xtable` package includes a set of functions to convert a table into LaTeX readable format.\n",
        "\n",
        "In `R`, packages need to be installed prior to its use, which then can be loaded into the workspace."
      ]
    },
    {
      "cell_type": "code",
      "metadata": {
        "id": "AG9YdjeVZbLj"
      },
      "source": [
        "# Install the required package (use single or double quotation marks)\n",
        "install.packages('xtable')\n",
        "\n",
        "# Load it into your workspace\n",
        "library(xtable)  # Option 1\n",
        "require(xtable)  # Option 2"
      ],
      "execution_count": null,
      "outputs": []
    },
    {
      "cell_type": "markdown",
      "metadata": {
        "id": "ppZykh6BZlEl"
      },
      "source": [
        "Both commands do the exact same task: dump every function in the package into your workspace -- the only practical difference is that if the loaded package is not available, `library` will crash, while `require` just returns a warning."
      ]
    },
    {
      "cell_type": "code",
      "metadata": {
        "id": "jvSlJ8WXay4e"
      },
      "source": [
        "# The following command will give an error\n",
        "require(mombf)\n",
        "library(mombf)"
      ],
      "execution_count": null,
      "outputs": []
    },
    {
      "cell_type": "markdown",
      "metadata": {
        "id": "HpW8roioa16C"
      },
      "source": [
        "There are two ways to call a function from an installed package:"
      ]
    },
    {
      "cell_type": "code",
      "metadata": {
        "colab": {
          "base_uri": "https://localhost:8080/"
        },
        "id": "EREEMAh9UOty",
        "outputId": "c84f8a7d-71a1-475d-cae3-8b83d4c35971"
      },
      "source": [
        "data1 <- matrix(1:9, ncol = 3, nrow = 3)\n",
        "data2 <- xtable(data1)  # NOT recommended\n",
        "data2 <- xtable::xtable(data1)  # RECOMMENDED (double colon)\n",
        "print(data1)\n",
        "print(data2)"
      ],
      "execution_count": null,
      "outputs": [
        {
          "output_type": "stream",
          "name": "stdout",
          "text": [
            "     [,1] [,2] [,3]\n",
            "[1,]    1    4    7\n",
            "[2,]    2    5    8\n",
            "[3,]    3    6    9\n",
            "% latex table generated in R 4.1.1 by xtable 1.8-4 package\n",
            "% Fri Oct 29 14:42:54 2021\n",
            "\\begin{table}[ht]\n",
            "\\centering\n",
            "\\begin{tabular}{rrrr}\n",
            "  \\hline\n",
            " & 1 & 2 & 3 \\\\ \n",
            "  \\hline\n",
            "1 &   1 &   4 &   7 \\\\ \n",
            "  2 &   2 &   5 &   8 \\\\ \n",
            "  3 &   3 &   6 &   9 \\\\ \n",
            "   \\hline\n",
            "\\end{tabular}\n",
            "\\end{table}\n"
          ]
        }
      ]
    },
    {
      "cell_type": "markdown",
      "metadata": {
        "id": "dFgSAb2kREcQ"
      },
      "source": [
        "### 2.2 Importing and exporting external data"
      ]
    },
    {
      "cell_type": "markdown",
      "metadata": {
        "id": "fMs3XfBgJyIX"
      },
      "source": [
        "Here we detail the process of importing and exporting data into an `R` session. Some popular native functions"
      ]
    },
    {
      "cell_type": "code",
      "metadata": {
        "id": "8F_BxrD8Jxyt"
      },
      "source": [
        "# NOT RUN\n",
        "read.csv()  # Import data from a CSV\n",
        "read.txt()  # Import from TXT file\n",
        "read.fwf()  # Read fixed width format files\n",
        "read.table()  # General function\n",
        "readLines()  # Import lines of text\n",
        "download.file()  # To download a data file from a URL\n",
        "# END NOT RUN"
      ],
      "execution_count": null,
      "outputs": []
    },
    {
      "cell_type": "markdown",
      "metadata": {
        "id": "zWCGeIdNMPot"
      },
      "source": [
        "You need to supply the file path to these functions to load the data itself.\n",
        "\n",
        "The library of functions `foreign` will help you to read a number of different other data formats. Most commercial softwares have their own reading methods. For example, to import from Excel you need the function `read_excel()` in the `readxl` package. The `haven` package contains functions to read output files from other popular dinosaur softwares such as Stata, SPSS or SAS. If you use RStudio, some of these imports are automatised in the tab *Import dataset*.\n"
      ]
    },
    {
      "cell_type": "markdown",
      "metadata": {
        "id": "LaNI0m3fDLq5"
      },
      "source": [
        "Similarly to the reading functions, there are equivalent writing functions to save your output into non-`R` generic formats: `write.csv()`,  `write.table()`, or `writeLines()`."
      ]
    },
    {
      "cell_type": "markdown",
      "metadata": {
        "id": "8Ha4MnE-dipM"
      },
      "source": [
        "### 2.3 Importing and exporting R files"
      ]
    },
    {
      "cell_type": "markdown",
      "metadata": {
        "id": "xEctQSdBe8RH"
      },
      "source": [
        "Sometimes you will want to save an object created in `R` to an external file. There are two natural formats to produce `R` outputs: `.RData` or `.rda` (more than one object can be stored), and `.rds` (only one object)."
      ]
    },
    {
      "cell_type": "code",
      "metadata": {
        "id": "0g9XsVdKdjfF"
      },
      "source": [
        "# Write an object on an external file (.RData, rda, rds)\n",
        "save(data1, file = 'data1.RData')  # .RData or .rda\n",
        "saveRDS(data2, file = 'data2.rds')  # .rds\n",
        "save.image(file = 'workspace.RData')  # This saves the entire workspace"
      ],
      "execution_count": null,
      "outputs": []
    },
    {
      "cell_type": "markdown",
      "metadata": {
        "id": "qXgNRPd5geOT"
      },
      "source": [
        "Similarly, you might want to read a file produced in `R`. an `.RData`, again two ways to load them:"
      ]
    },
    {
      "cell_type": "code",
      "metadata": {
        "id": "GFjvZjtNf2nu"
      },
      "source": [
        "rm(data1, data2)  # Remove objects in the workspace to prove this works\n",
        "load('data1.RData')  # This loads into workspace with the name it was saved with\n",
        "data2 <- readRDS('data2.rds')  # This needs an assigment\n",
        "print(data1)\n",
        "print(data2)"
      ],
      "execution_count": null,
      "outputs": []
    },
    {
      "cell_type": "markdown",
      "metadata": {
        "id": "r8I8LATCgm0O"
      },
      "source": [
        "You can actually run an `R` script itself by supplying the command `source()` with the `.R` file path."
      ]
    },
    {
      "cell_type": "markdown",
      "metadata": {
        "id": "1ep9MlzU38Pr"
      },
      "source": [
        "Other relevant functions:"
      ]
    },
    {
      "cell_type": "code",
      "metadata": {
        "id": "xH2MmAwR3-kF"
      },
      "source": [
        "print\n",
        "cat\n",
        "message, warning\n",
        "format\n",
        "sink\n",
        "flie.copy, file.create, file.remove, file.rename, dir.create\n",
        "file.exists\n",
        "file.info\n",
        "download.file"
      ],
      "execution_count": null,
      "outputs": []
    },
    {
      "cell_type": "markdown",
      "metadata": {
        "id": "OrmUKuJc452B"
      },
      "source": [
        "## 3. Objects and object classes"
      ]
    },
    {
      "cell_type": "markdown",
      "metadata": {
        "id": "MGrK5_LukZDf"
      },
      "source": [
        "The **class** of an object determines (a) its structure and (b) what/how functions can be applied to it. "
      ]
    },
    {
      "cell_type": "markdown",
      "metadata": {
        "id": "bmalr6RWkSmh"
      },
      "source": [
        "### 3.1 Common object classes"
      ]
    },
    {
      "cell_type": "markdown",
      "metadata": {
        "id": "Yt8L78Sr-knT"
      },
      "source": [
        "Here we summarise some of the most common object classes:\n",
        "\n",
        "1. Vectors: essentially three types (but not only)\n",
        "\n",
        "  a. `numeric` (float or double) and `integer`\n",
        "\n",
        "  The difference is integers use no decimal points and so are less demanding in terms of memory.\n",
        "\n",
        "  b. `character` and `factor`\n",
        "  \n",
        "  Factors are characters that can only take a specific set of values (known as `levels`), as in a categorical variable.\n",
        "\n",
        "  c. `logical`\n",
        "  \n",
        "  Booleans, they can only be `TRUE` or `FALSE`.\n",
        "\n",
        "2. `list`\n",
        "\n",
        "  They allow you to have different objects (maybe of different class) in one single objects, using *slots*, having one object in each slot.\n",
        "\n",
        "3. `data.frame`\n",
        "\n",
        "  Rectangular data structure similar to a matrix, with rows and columns, where each column can be of a different type.\n",
        "  \n",
        "4. `matrix` and `array`\n",
        "\n",
        "  Matrices are similar to data.frames but less flexible: all its elements have to be of the same classe. On the other hand, computations with matrices are more efficient. arrays are just matrices with potentially more dimensions.\n"
      ]
    },
    {
      "cell_type": "code",
      "metadata": {
        "id": "L3PUZv2JF_Xq"
      },
      "source": [
        "# Types of vectors\n",
        "# [c() creates a vector: it is a function to concatenate elements]\n",
        "x1 <- c(1.4, 2.3, 3.2, 4.1)  # numeric\n",
        "x2 <- c(1L, 2L, 3L, 4L)  # integer\n",
        "x3 <- c('A', 'B', 'C', 'A')  # character\n",
        "x4 <- factor(c('A', 'B', 'C', 'A'))  # declare it as factor with levels \"A\", \"B\" and \"C\"\n",
        "x5 <- c(TRUE, FALSE, TRUE, FALSE)  # logical\n",
        "\n",
        "# The \"class\" function tells you what class an object is\n",
        "class(x1)  # To obtain a boolean, try: is.numeric(x1)\n",
        "class(x2)  # Try: is.integer(x2)\n",
        "class(x3)  # Try: is.character(x3)\n",
        "class(x4)  # Try: is.factor(x4)\n",
        "class(x5)  # Try: is.logical(x5)"
      ],
      "execution_count": null,
      "outputs": []
    },
    {
      "cell_type": "markdown",
      "metadata": {
        "id": "-B5cWldBfhnE"
      },
      "source": [
        "Some classes can be *coerced* into other classes: for example a numeric vector can be coerced into a character vector, and vice versa if the elements of the vector are digits. But numeric vectors cannot be coerced into logical. Use the functions\n",
        "- `as.numeric()`,\n",
        "- `as.integer()`,\n",
        "- `as.character()`,\n",
        "- `as.factor()`,\n",
        "- `as.logical()`,\n",
        "\n",
        "to convert objects into other classes.\n",
        "\n",
        "If some class is not coercible into another, you may be able to use a coercible middle class to do the trick. For example, if `x` is a factor with values in 1, 2, 3, you may coerce it into numeric using"
      ]
    },
    {
      "cell_type": "code",
      "metadata": {
        "id": "eBr8nOdAhJpL"
      },
      "source": [
        "x <- as.factor(c(4:6, 6:4))  # x is a factor\n",
        "cat('* Class of \"x\":', class(x), '\\n')\n",
        "print(x)  # This will print the levels\n",
        "\n",
        "# Factors are not coercible to numeric\n",
        "y <- as.numeric(x)\n",
        "print(y)  # WRONG result\n",
        "\n",
        "# Use character as a translator\n",
        "z <- as.numeric(as.character(x))  # factor -> character -> numeric\n",
        "cat('* Class of \"z\":', class(z), '\\n')\n",
        "print(z)"
      ],
      "execution_count": null,
      "outputs": []
    },
    {
      "cell_type": "markdown",
      "metadata": {
        "id": "moZCgAovi2fW"
      },
      "source": [
        "As for the rest of object classes, here's how to create them:"
      ]
    },
    {
      "cell_type": "code",
      "metadata": {
        "id": "hJ_408O-JH5P"
      },
      "source": [
        "# Create a list\n",
        "a <- list('a' = x, 'b' = z) # with two \"slots\", with names \"a\" and \"b\"\n",
        "print(a)\n",
        "\n",
        "# Create a data.frame\n",
        "b <- data.frame('col1' = x, 'col2' = y, 'col3' = z)\n",
        "print(b)\n",
        "\n",
        "# Create a matrix\n",
        "m <- matrix(1:12, ncol = 3)\n",
        "print(m)"
      ],
      "execution_count": null,
      "outputs": []
    },
    {
      "cell_type": "markdown",
      "metadata": {
        "id": "Q12iP6JTIpHu"
      },
      "source": [
        "These classes are coercible as well, using `as.list()`, `as.data.frame()`, and `as.matrix()`, but **BE CAREFUL** in any type of class coercion, and always inspect the coerced object to make sure the result is in the correct desired format.\n",
        "\n",
        "In more advanced levels you will encounter more classes that stem from this basic set, and more complex, such as [`S4` objects](http://adv-r.had.co.nz/S4.html). You will also learn to create your own classes."
      ]
    },
    {
      "cell_type": "markdown",
      "metadata": {
        "id": "vpw6a8TJrvf-"
      },
      "source": [
        "### 3.2 Functions applicable to a class"
      ]
    },
    {
      "cell_type": "markdown",
      "metadata": {
        "id": "5biiP2Snr5UU"
      },
      "source": [
        "Functions are applied to specific classes. For example, the function `mean()` can be applied to an object of class `numeric`, but applying it to an object of class `character` or `factor` would generate an error in your workspace:"
      ]
    },
    {
      "cell_type": "code",
      "metadata": {
        "colab": {
          "base_uri": "https://localhost:8080/"
        },
        "id": "3BRt1YgwtOhG",
        "outputId": "e73016ed-50b5-45be-df9d-2159dcf199d3"
      },
      "source": [
        "x1 <- c(1, 7, 4, 8, 6, 0)\n",
        "x2 <- as.factor(c('a', 'c', 'd', 'b', 'b', 'd'))\n",
        "print(mean(x1))  # OK\n",
        "print(mean(x2))  # Can't do it"
      ],
      "execution_count": null,
      "outputs": [
        {
          "output_type": "stream",
          "name": "stdout",
          "text": [
            "[1] 4.333333\n"
          ]
        },
        {
          "output_type": "stream",
          "name": "stderr",
          "text": [
            "Warning message in mean.default(x2):\n",
            "“argument is not numeric or logical: returning NA”\n"
          ]
        },
        {
          "output_type": "stream",
          "name": "stdout",
          "text": [
            "[1] NA\n"
          ]
        }
      ]
    },
    {
      "cell_type": "markdown",
      "metadata": {
        "id": "4RZLkSyBtygj"
      },
      "source": [
        "(Note: characters require quotation marks, otherwise it would be as if you were creating a vector with objects `a`, `b`, `c` and `d`, which do not exist.)\n",
        "\n",
        "Other functions are applicable to both classes, but mind you they might produce different types of output:"
      ]
    },
    {
      "cell_type": "code",
      "metadata": {
        "colab": {
          "base_uri": "https://localhost:8080/"
        },
        "id": "lD77LkBQtG6s",
        "outputId": "92d1d05a-0f7a-4bf8-9cee-e14413391c70"
      },
      "source": [
        "cat('* Summary of object \"x1\"\\n')\n",
        "summary(x1)\n",
        "cat('* Summary of object \"x2\"\\n')\n",
        "summary(x2)"
      ],
      "execution_count": null,
      "outputs": [
        {
          "output_type": "stream",
          "name": "stdout",
          "text": [
            "* Summary of object \"x1\"\n"
          ]
        },
        {
          "output_type": "display_data",
          "data": {
            "text/plain": [
              "   Min. 1st Qu.  Median    Mean 3rd Qu.    Max. \n",
              "  0.000   1.750   5.000   4.333   6.750   8.000 "
            ]
          },
          "metadata": {}
        },
        {
          "output_type": "stream",
          "name": "stdout",
          "text": [
            "* Summary of object \"x2\"\n"
          ]
        },
        {
          "output_type": "display_data",
          "data": {
            "text/plain": [
              "a b c d \n",
              "1 2 1 2 "
            ],
            "text/latex": "\\begin{description*}\n\\item[a] 1\n\\item[b] 2\n\\item[c] 1\n\\item[d] 2\n\\end{description*}\n",
            "text/markdown": "a\n:   1b\n:   2c\n:   1d\n:   2\n\n",
            "text/html": [
              "<style>\n",
              ".dl-inline {width: auto; margin:0; padding: 0}\n",
              ".dl-inline>dt, .dl-inline>dd {float: none; width: auto; display: inline-block}\n",
              ".dl-inline>dt::after {content: \":\\0020\"; padding-right: .5ex}\n",
              ".dl-inline>dt:not(:first-of-type) {padding-left: .5ex}\n",
              "</style><dl class=dl-inline><dt>a</dt><dd>1</dd><dt>b</dt><dd>2</dd><dt>c</dt><dd>1</dd><dt>d</dt><dd>2</dd></dl>\n"
            ]
          },
          "metadata": {}
        }
      ]
    },
    {
      "cell_type": "markdown",
      "metadata": {
        "id": "9pMx-rKTu4hU"
      },
      "source": [
        "You can find out if a function is usable on your object class with the function `methods()`, which will display all classes that a given (native) function can handle:"
      ]
    },
    {
      "cell_type": "code",
      "metadata": {
        "id": "Korr627TvEsc"
      },
      "source": [
        "methods(summary)"
      ],
      "execution_count": null,
      "outputs": []
    },
    {
      "cell_type": "markdown",
      "metadata": {
        "id": "BPuurT0xosRM"
      },
      "source": [
        "### 3.2 Quick object inspection"
      ]
    },
    {
      "cell_type": "markdown",
      "metadata": {
        "id": "T02e0klVxvRy"
      },
      "source": [
        "Sometimes we have an object of a given class that you want to inspect."
      ]
    },
    {
      "cell_type": "code",
      "metadata": {
        "id": "EAtJfo8yx6MQ"
      },
      "source": [
        "set.seed(666)  # This functions \"controls\" the random\n",
        "x <- rnorm(10000, mean = 0, sd = 1)  # 10K random values from a standard normal\n",
        "y <- list(A = 1:100, B = letters[1:22], C = rnorm(10), D = c(TRUE, TRUE, FALSE))\n",
        "z <- data.frame(col1 = 1:100, col2 = 101:200, col3 = 201:300)\n",
        "w <- as.matrix(z)\n",
        "\n",
        "cat('* Structure of object \"x\"\\n')\n",
        "str(x)  # This functions provides the structure of the object\n",
        "cat('* Structure of object \"y\"\\n')\n",
        "str(y)\n",
        "cat('* Structure of object \"z\"\\n')\n",
        "str(z)"
      ],
      "execution_count": null,
      "outputs": []
    },
    {
      "cell_type": "markdown",
      "metadata": {
        "id": "sNrLU8hVozYn"
      },
      "source": [
        "The function `summary` above applies to most classes, and some other quick-look functions are also useful."
      ]
    },
    {
      "cell_type": "code",
      "metadata": {
        "id": "KgaOuMT7whE1"
      },
      "source": [
        "x <- round(x, 4)  # For display purposes\n",
        "\n",
        "head(x)  # Provide first values\n",
        "head(x, n = 10)\n",
        "tail(x)  # Provide last values\n",
        "x[1]\n",
        "x[7287]  # Provide value no. 7,287\n",
        "x[10001]  # Returns NA: element 10K+1 doesn't exist"
      ],
      "execution_count": null,
      "outputs": []
    },
    {
      "cell_type": "markdown",
      "metadata": {
        "id": "uc6FWAV40Gu-"
      },
      "source": [
        "Note that indexing in `R` is as in natural language: it starts at `1` (Python is at `0`).\n"
      ]
    },
    {
      "cell_type": "markdown",
      "metadata": {
        "id": "6JPQwIQk1F8R"
      },
      "source": [
        "Different classes have different attributes that can be inspected:\n"
      ]
    },
    {
      "cell_type": "code",
      "metadata": {
        "id": "Pj8RLKZ01Kah"
      },
      "source": [
        "# Matrices and data.frames have dimensions and they have names\n",
        "dim(z)  # Dimension\n",
        "nrow(z)  # No. of rows\n",
        "ncol(z)  # No. of columns\n",
        "colnames(z)  # Names of the columns\n",
        "head(rownames(z))  # Names of the rows\n",
        "rownames(z) <- paste('row', 1:nrow(z), sep = '')  # All these can be changed\n",
        "head(rownames(z))\n",
        "\n",
        "# Lists can also have names but no dimension (they have length)\n",
        "names(y)\n",
        "length(y)\n",
        "\n",
        "# So do vectors\n",
        "names(x)  # This vector has no names, but they can be assigned\n",
        "length(x)\n",
        "names(x) <- paste('val', 1:length(x), sep = '')\n",
        "head(names(x))\n",
        "\n",
        "# For non-continuous vectors, this is a really useful function\n",
        "v <- c('A', 'B', 'A', 'C', 'C', 'A', 'A', 'B', 'C')\n",
        "table(v)  # Absolute frequencies"
      ],
      "execution_count": null,
      "outputs": []
    },
    {
      "cell_type": "markdown",
      "metadata": {
        "id": "wd1s0I432Swu"
      },
      "source": [
        "and different operators to access its elements"
      ]
    },
    {
      "cell_type": "code",
      "metadata": {
        "id": "C2myoUtK2T_-"
      },
      "source": [
        "# Vectors: single parenthesis (access either by index or by name)\n",
        "x[1]\n",
        "x['val1']  # same\n",
        "x[-1]  # negative indices used to drop elements: all elements except the first\n",
        "x[-(1:5)]  # return every element except those in 1 to 5\n",
        "x[11:20][7]  # you can \"double\" subsets: return element 7 from the set 11 to 20\n",
        "\n",
        "# Lists: double parenthesis (index or name)\n",
        "y[[1]]  # First element of the list is a vector\n",
        "y[[1]] <- y[[1]][1:10]  # Lets shorten it: keep first ten values (reassignment)\n",
        "y[[1]]  # Repeat: now shorter vector\n",
        "y[['A']]  # same result\n",
        "y$A  # same, but NOT recommended: \"partial matching\" can cause errors\n",
        "\n",
        "# Why not use the \"$\" operator? Let's see what can happen\n",
        "names(y) <- c('Abcd', 'Defg', 'Hijk', 'Lmno')  # Let's set new names\n",
        "y[['A']]  # NA (well-done!): a slot named \"A\" does not exist\n",
        "y$A  # Returns an element, WRONG: I call for 'A' and it gives me something with a different name\n",
        "\n",
        "# data.frames and matrices: ROWS before *comma*, COLUMNS after\n",
        "head(z[, 1])  # column 1\n",
        "head(z[1, ])  # row 1\n",
        "head(z[1, 1])  # element 1 in column 1\n",
        "head(z[, 'col1'])\n",
        "head(z['row1', ])\n",
        "\n",
        "# Operator \"$\" works also for data.frames, but not for matrices\n",
        "head(z$col1)  # In data.frame: NOT recommended\n",
        "try(head(w$col1))  # In matrix: ERROR\n",
        "\n",
        "colnames(z) <- c('Abcd', 'Defg', 'Hijk')  # Same exercise: partial matching\n",
        "head(z[, 'A'])  # ERROR: good!\n",
        "head(z$A)  # Again: it gives you something you're not asking for"
      ],
      "execution_count": null,
      "outputs": []
    },
    {
      "cell_type": "markdown",
      "metadata": {
        "id": "G9zgb-1v0sR-"
      },
      "source": [
        "Generally, avoid the use of the `$` operator: it's shorter code but more prone to errors (code of lower quality and robustness), especially in lists and `data.frame`'s. Instead, use either indexing or (if named) full quotation."
      ]
    },
    {
      "cell_type": "markdown",
      "metadata": {
        "id": "oLjxvmSqo12f"
      },
      "source": [
        "## 4. Operators"
      ]
    },
    {
      "cell_type": "markdown",
      "metadata": {
        "id": "CwMWyAL9o49K"
      },
      "source": [
        "Operators are functions in the form of symbols to perform specific mathematical or logical computations. We provide a list of the native `R` operators with an example:"
      ]
    },
    {
      "cell_type": "markdown",
      "metadata": {
        "id": "c36iyh1m-v_e"
      },
      "source": [
        "### 4.1 Basic operators"
      ]
    },
    {
      "cell_type": "markdown",
      "metadata": {
        "id": "3sYFSfZJ2oTf"
      },
      "source": [
        "*   **Arithmetic** operators"
      ]
    },
    {
      "cell_type": "code",
      "metadata": {
        "id": "PFkHjU2p1AjS"
      },
      "source": [
        "# Numeric and integer vectors\n",
        "3 + 1  # addition\n",
        "3 - 1  # subtraction\n",
        "5 * 2  # multiplication\n",
        "5 / 2  # division\n",
        "5 %% 2  # remainder\n",
        "5 %/% 2  # quotient\n",
        "2 ** 3  # exponentiation, also: 2^3\n",
        "\n",
        "# Matrix operators\n",
        "A <- matrix(1:9, ncol = 3)\n",
        "B <- matrix(10:18, ncol = 3)\n",
        "A * B  # elementwise multiplication (!)\n",
        "A %*% B  # matrix multiplication\n",
        "A %o% B  # outer product"
      ],
      "execution_count": null,
      "outputs": []
    },
    {
      "cell_type": "markdown",
      "metadata": {
        "id": "6arLGI1e2t2A"
      },
      "source": [
        "*   **Relational** operators (returning a boolean)"
      ]
    },
    {
      "cell_type": "code",
      "metadata": {
        "id": "uDd_mKIg3-VB"
      },
      "source": [
        "7 > 2  # bigger than\n",
        "7 < 2  # smaller than\n",
        "7 >= 2  # bigger or equal than\n",
        "7 <= 2  # smaller or equal than\n",
        "7 == 2  # equal to\n",
        "7 != 2  # different to"
      ],
      "execution_count": null,
      "outputs": []
    },
    {
      "cell_type": "markdown",
      "metadata": {
        "id": "aQFbk47A237G"
      },
      "source": [
        "*   **Logical** operators (test if a statement is true)"
      ]
    },
    {
      "cell_type": "code",
      "metadata": {
        "id": "ZP1dh82H3Asw"
      },
      "source": [
        "(7 > 2) & (3 > 4)  # AND\n",
        "(7 > 2) | (3 > 4)  # OR\n",
        "! (7 > 2)  # NOT\n",
        "xor(7 > 2, 3 > 4)  # AND/OR (not an operator)"
      ],
      "execution_count": null,
      "outputs": []
    },
    {
      "cell_type": "markdown",
      "metadata": {
        "id": "uuHduECL5Oid"
      },
      "source": [
        "If the elements to which we apply a logical operator are vectors (of the same length), the operator will return a logical vector comparing the two input vectors elementwise: you can use double `AND` or `OR` to inspect only the first element: `x && y`, or `x || y`."
      ]
    },
    {
      "cell_type": "markdown",
      "metadata": {
        "id": "dNUEAlDv24ui"
      },
      "source": [
        "*   **Miscellaneous** operators"
      ]
    },
    {
      "cell_type": "code",
      "metadata": {
        "id": "-UsGZmc76PBm"
      },
      "source": [
        "2:8  # Integer sequence of 2 to 8\n",
        "7 %in% 2:8  # Is an element inside of a vector"
      ],
      "execution_count": null,
      "outputs": []
    },
    {
      "cell_type": "markdown",
      "metadata": {
        "id": "-HDmp_Fr9ztV"
      },
      "source": [
        "Some other basic operators are already covered in other sections, like the help operator (`?`), component/slot extraction (`$` and `@`), indexing (`[` and `[[`), formula (`~`) and library access (`::` or `:::`)."
      ]
    },
    {
      "cell_type": "markdown",
      "metadata": {
        "id": "hh9FnoUm1Jwv"
      },
      "source": [
        "*   **Assignment** operators: we cover them in the next subsection."
      ]
    },
    {
      "cell_type": "markdown",
      "metadata": {
        "id": "7-ruQ_s9xf9t"
      },
      "source": [
        "Like in every language, operators in `R` have *precedence*, i.e. in the same expression some operators are applied before others. Think of math: in an equation we multiply before we add, thus in the expression `x <- 3 * 4 + 1` results into 13 instead of 15. Explore the precedence list in `R` using the command `?Syntax`."
      ]
    },
    {
      "cell_type": "markdown",
      "metadata": {
        "id": "-4tcuu1rQtav"
      },
      "source": [
        "### 4.2 Assignment"
      ]
    },
    {
      "cell_type": "markdown",
      "metadata": {
        "id": "xfnjO_hcKnXk"
      },
      "source": [
        "In `R`, objects can be created, re-written and removed without restrictions. Once an object is declared, the expression we are assigning to it is evaluated. The standard method of assigment is the use of the operator `<-`, even though there are other options. We illustrate the most common ones:"
      ]
    },
    {
      "cell_type": "code",
      "metadata": {
        "id": "lQwjitPcQ-Ms"
      },
      "source": [
        "# Vector\n",
        "rm(x)  # Remove the object from the workspace\n",
        "x <- c(1, 7, 4, 8, 6, 0)\n",
        "\n",
        "# Here the expression \"mean(x)\" will be evaluated 4 times\n",
        "x1 <- mean(x)  # Good :-)\n",
        "x2 = mean(x)  # NOT good: \"=\" is *not* an assigment operator\n",
        "x3 <<- mean(x)  # Used only in functions to declare an object in a superior environment\n",
        "assign('x4', mean(x))  # Good: useful when the object has an \"unknown\" name\n",
        "mean(x) -> x5  # Good, but standard is to assign right to left (same with ->>)\n",
        "\n",
        "# Test if the four objects were assigned correctly\n",
        "identical(x1, x2, x3, x4, x5)  # It returns TRUE if the objects are equal"
      ],
      "execution_count": null,
      "outputs": []
    },
    {
      "cell_type": "markdown",
      "metadata": {
        "id": "GzPe2n7vqNH1"
      },
      "source": [
        "For more advanced assignment methods, I recommend you also check the functions `get()`, `with()`, and `within()`.\n",
        "\n",
        "Multiple assignments require multiple operators:"
      ]
    },
    {
      "cell_type": "code",
      "metadata": {
        "colab": {
          "base_uri": "https://localhost:8080/",
          "height": 147
        },
        "id": "jwOyrq6mJ9rm",
        "outputId": "6f83a9e7-aa4c-458e-c602-6fbf76159623"
      },
      "source": [
        "obj1 <- obj2 <- 1:5\n",
        "#obj1, obj2 <- 1:5  # NOT POSSIBLE"
      ],
      "execution_count": 2,
      "outputs": [
        {
          "output_type": "error",
          "ename": "ERROR",
          "evalue": "ignored",
          "traceback": [
            "Error in parse(text = x, srcfile = src): <text>:2:5: unexpected ','\n1: obj1 <- obj2 <- 1:5\n2: obj1,\n       ^\nTraceback:\n"
          ]
        }
      ]
    },
    {
      "cell_type": "markdown",
      "metadata": {
        "id": "Qy8qW14KRCl2"
      },
      "source": [
        "**(!) NOTE** – Although technically you can assign an expression using the `=` symbol, `=` is not formally an assignment operator in `R`, and its use is designed for functions. That's why it is **not** recommended despite widespread misuse. In short, refrain from assignment use."
      ]
    },
    {
      "cell_type": "markdown",
      "metadata": {
        "id": "t_kwBMjbzSoE"
      },
      "source": [
        "### 4.3 Reserved words"
      ]
    },
    {
      "cell_type": "markdown",
      "metadata": {
        "id": "_QGVP7rRzVcZ"
      },
      "source": [
        "There are certain reserved words in `R` (keywords) that cannot be assigned or over-written since they are essential built-in elements. We list the most important, words for:\n",
        "\n",
        "*   Booleans: `TRUE`, `FALSE`.\n",
        "*   Iterables: `if`, `else` (`if`-statements), `for`, `in`, `next` (`for`-loops), `while`, `break`, `repeat` (`while`-loops).\n",
        "*   Functions: `function`, `...`.\n",
        "*   Particular values: `NA`, `NULL`, `NaN`, `Inf`.\n",
        "\n",
        "We review most of them later on.\n",
        "\n",
        "Still, even if the rest functions in `R` can be over-written (stuff like `mean <- 3` is factually perpetrable), refrain from doing it."
      ]
    },
    {
      "cell_type": "markdown",
      "metadata": {
        "id": "8E6XKl5y_RHy"
      },
      "source": [
        "## 5. Functions"
      ]
    },
    {
      "cell_type": "markdown",
      "metadata": {
        "id": "QRmsljaBAMt0"
      },
      "source": [
        "### 5.1 Coding functions"
      ]
    },
    {
      "cell_type": "markdown",
      "metadata": {
        "id": "yVGLRGoZAT7U"
      },
      "source": [
        "### 5.2 The `apply` family of functions"
      ]
    },
    {
      "cell_type": "markdown",
      "metadata": {
        "id": "rr70cUvrAHvJ"
      },
      "source": [
        "### 5.3 Useful miscellaneous functions"
      ]
    },
    {
      "cell_type": "markdown",
      "metadata": {
        "id": "RQMq6byR-72x"
      },
      "source": [
        "## 6. Dataset manipulation: subsetting and merging"
      ]
    },
    {
      "cell_type": "markdown",
      "metadata": {
        "id": "RIYUd3OF_ZV3"
      },
      "source": [
        "## 7. Control flows"
      ]
    },
    {
      "cell_type": "markdown",
      "metadata": {
        "id": "7jEV2OIO_b96"
      },
      "source": [
        "## 8. Stats and math"
      ]
    },
    {
      "cell_type": "markdown",
      "metadata": {
        "id": "NNC3hZuvBLmZ"
      },
      "source": [
        "## 9. Character manipulation\n",
        "\n",
        "* grep, grepl, agrep, substr, gsub\n",
        "* Regular expressions\n"
      ]
    },
    {
      "cell_type": "markdown",
      "metadata": {
        "id": "TTAdo_uDBPk3"
      },
      "source": [
        "## 10. Basic data visualization"
      ]
    },
    {
      "cell_type": "markdown",
      "metadata": {
        "id": "ZI0WQtPGBWpr"
      },
      "source": [
        "## 11. Popular packages\n",
        "\n",
        "* data.table/dplyr/ggplot/shiny"
      ]
    },
    {
      "cell_type": "markdown",
      "metadata": {
        "id": "k3QsbI4MBe9O"
      },
      "source": [
        "## 12. Relevant topics\n",
        "\n",
        "* Dates, web scrapping, visualization?"
      ]
    }
  ]
}