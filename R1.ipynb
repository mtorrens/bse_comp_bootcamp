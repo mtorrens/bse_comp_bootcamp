{
  "nbformat": 4,
  "nbformat_minor": 0,
  "metadata": {
    "colab": {
      "name": "R1.ipynb",
      "provenance": [],
      "collapsed_sections": [
        "zkc7Hm-OURVc",
        "oN9glXDbQfZi",
        "9cbkwHfuRgKR"
      ]
    },
    "kernelspec": {
      "name": "ir",
      "display_name": "R"
    },
    "language_info": {
      "name": "R"
    }
  },
  "cells": [
    {
      "cell_type": "markdown",
      "metadata": {
        "id": "FVgm8I6b9p3j"
      },
      "source": [
        "# R SESSION #1\n"
      ]
    },
    {
      "cell_type": "markdown",
      "metadata": {
        "id": "ImiJBBR8R-6k"
      },
      "source": [
        "By **Miquel Torrens i Dinarès**\n",
        "\n",
        "January 4, 2022"
      ]
    },
    {
      "cell_type": "markdown",
      "metadata": {
        "id": "nO8q98LH9mkk"
      },
      "source": [
        "## 1. The R Environment"
      ]
    },
    {
      "cell_type": "markdown",
      "metadata": {
        "id": "zkc7Hm-OURVc"
      },
      "source": [
        "### 1.1 Introduction"
      ]
    },
    {
      "cell_type": "markdown",
      "metadata": {
        "id": "YU92jGjZ92s1"
      },
      "source": [
        "When you open an `R` session, a **console** is displayed, which is where all operations in `R` are run. This is built on an `R` environment that we will call **workspace**. This is the playing field that will contain everything needed to run your code.\n",
        "\n",
        "In a nutshell, in an `R` workspace there are *things* (objects) and *actions* (operators and functions). Objects are located inside the workspace, and we apply functions to these objects to obtain some desired output. For example: we can create a vector `x` (object) and compute its `mean` (function)\n"
      ]
    },
    {
      "cell_type": "code",
      "metadata": {
        "id": "RXN_-b9x5kKC",
        "colab": {
          "base_uri": "https://localhost:8080/",
          "height": 34
        },
        "outputId": "60c68a47-d9e3-401b-ce23-9c05f857aaf9"
      },
      "source": [
        "x <- 0:10  # This defines a numeric vector with integers from 0 to 10\n",
        "mean(x)  # This computes the mean of the vector"
      ],
      "execution_count": 14,
      "outputs": [
        {
          "output_type": "display_data",
          "data": {
            "text/plain": [
              "[1] 5"
            ],
            "text/latex": "5",
            "text/markdown": "5",
            "text/html": [
              "5"
            ]
          },
          "metadata": {}
        }
      ]
    },
    {
      "cell_type": "markdown",
      "metadata": {
        "id": "J7YeNbYL-Xi_"
      },
      "source": [
        "Here we displayed an object, an operator, and a function. To create an object, we used an operator of assignment `<-` (right-to-left), and we called a function on this object by placing it inside brackets. We also showed how to comment your code: use `#` to let `R` know it should not run the rest of the line.\n",
        "\n",
        "Some functions do not require an object to be called. For example, you can explore the objects in your workspace using\n"
      ]
    },
    {
      "cell_type": "code",
      "metadata": {
        "colab": {
          "base_uri": "https://localhost:8080/",
          "height": 34
        },
        "id": "4gsIrkr--W8k",
        "outputId": "1e9e1448-c320-4f1f-f753-35c9f6d02957"
      },
      "source": [
        "ls()"
      ],
      "execution_count": 8,
      "outputs": [
        {
          "output_type": "display_data",
          "data": {
            "text/plain": [
              "[1] \"x\""
            ],
            "text/latex": "'x'",
            "text/markdown": "'x'",
            "text/html": [
              "'x'"
            ]
          },
          "metadata": {}
        }
      ]
    },
    {
      "cell_type": "markdown",
      "metadata": {
        "id": "ntVaezMLGKBy"
      },
      "source": [
        "Most functions also admit **arguments**, which are specifications to control how a function should be run."
      ]
    },
    {
      "cell_type": "code",
      "metadata": {
        "colab": {
          "base_uri": "https://localhost:8080/",
          "height": 86
        },
        "id": "Txvcmv65O9F8",
        "outputId": "a8faf815-dbb3-4403-d6a3-65778c064af5"
      },
      "source": [
        "pi  # This is a special object built into R\n",
        "round(pi)  # This functions rounds a number to any decimal point (by default, 0)\n",
        "round(pi, digits = 1)\n",
        "round(pi, digits = 4)"
      ],
      "execution_count": 13,
      "outputs": [
        {
          "output_type": "display_data",
          "data": {
            "text/plain": [
              "[1] 3.141593"
            ],
            "text/latex": "3.14159265358979",
            "text/markdown": "3.14159265358979",
            "text/html": [
              "3.14159265358979"
            ]
          },
          "metadata": {}
        },
        {
          "output_type": "display_data",
          "data": {
            "text/plain": [
              "[1] 3"
            ],
            "text/latex": "3",
            "text/markdown": "3",
            "text/html": [
              "3"
            ]
          },
          "metadata": {}
        },
        {
          "output_type": "display_data",
          "data": {
            "text/plain": [
              "[1] 3.1"
            ],
            "text/latex": "3.1",
            "text/markdown": "3.1",
            "text/html": [
              "3.1"
            ]
          },
          "metadata": {}
        },
        {
          "output_type": "display_data",
          "data": {
            "text/plain": [
              "[1] 3.1416"
            ],
            "text/latex": "3.1416",
            "text/markdown": "3.1416",
            "text/html": [
              "3.1416"
            ]
          },
          "metadata": {}
        }
      ]
    },
    {
      "cell_type": "markdown",
      "metadata": {
        "id": "8WapugRKP5dS"
      },
      "source": [
        "You can know which arguments are admitted by each function, alongside with a detailed function description, by using the `help()` function, or by typing in an `?` in front of the name of the function:"
      ]
    },
    {
      "cell_type": "code",
      "metadata": {
        "id": "YK0HYT8zP9JF"
      },
      "source": [
        "?mean"
      ],
      "execution_count": null,
      "outputs": []
    },
    {
      "cell_type": "markdown",
      "metadata": {
        "id": "NEW1Juw2AlDf"
      },
      "source": [
        "`R` has a wide array of general functions and operators embedded natively that allow you to do pretty much anything basic. Those functions not readily available that you might require for specific purposes will need to be either (a) installed and loaded from external packages, or (b) coded by YOU. Like many things, coding functions can be both fun and painful.\n",
        "\n",
        "Similarly, you will not create all objects from scratch in a workspace, sometimes you will be importing data, either numeric, in text, or any other format (maps, JSON, SQL, etc.). Your workspace is just the place where you will work on them to generate some output of interest."
      ]
    },
    {
      "cell_type": "markdown",
      "metadata": {
        "id": "4D6bsbX3FT1g"
      },
      "source": [
        "Finally, don't forget to exit your R session once your job is done! Do that using the quit function"
      ]
    },
    {
      "cell_type": "code",
      "metadata": {
        "id": "A1dGtbsCFNK1"
      },
      "source": [
        "q()"
      ],
      "execution_count": 4,
      "outputs": []
    },
    {
      "cell_type": "markdown",
      "metadata": {
        "id": "oN9glXDbQfZi"
      },
      "source": [
        "### 1.2 General rules to programming (with `R`)"
      ]
    },
    {
      "cell_type": "markdown",
      "metadata": {
        "id": "Q-v9CAFkU7Ff"
      },
      "source": [
        "1. **Reproducibility** is everything: write your code on an `R` script (file with extension `.R`), NOT in the console\n",
        "2. **Comment your code thoroughly** and clarify everything, someone else might read it and needs to know what's happening (even yourself in the future)\n",
        "3. Follow a **style guide** and do it **consistently**: spacing, indenting, format..., just like you do writing natural language. Remember: **clean code = happy programmer**."
      ]
    },
    {
      "cell_type": "markdown",
      "metadata": {
        "id": "fJsTPPStEKjr"
      },
      "source": [
        "## 2. Input/Output\n"
      ]
    },
    {
      "cell_type": "markdown",
      "metadata": {
        "id": "9cbkwHfuRgKR"
      },
      "source": [
        "### 2.1 Importing functions (libraries)"
      ]
    },
    {
      "cell_type": "markdown",
      "metadata": {
        "id": "ckr_AbQZZrym"
      },
      "source": [
        "Libraries are bundles of functions generally related to one particular topic. For example, the `xtable` package includes a set of functions to convert a table into LaTeX readable format.\n",
        "\n",
        "In `R`, packages need to be installed prior to its use, which then can be loaded into the workspace."
      ]
    },
    {
      "cell_type": "code",
      "metadata": {
        "id": "AG9YdjeVZbLj"
      },
      "source": [
        "# Install the required package (use quotation marks)\n",
        "install.packages('xtable')\n",
        "\n",
        "# Load it into your workspace\n",
        "library(xtable)  # Option 1\n",
        "require(xtable)  # Option 2"
      ],
      "execution_count": null,
      "outputs": []
    },
    {
      "cell_type": "markdown",
      "metadata": {
        "id": "ppZykh6BZlEl"
      },
      "source": [
        "Both commands do the exact same task: dump every function in the package into your workspace -- the only practical difference is that if the loaded package is not available, `library` will crash, while `require` just returns a warning."
      ]
    },
    {
      "cell_type": "code",
      "metadata": {
        "id": "jvSlJ8WXay4e"
      },
      "source": [
        "# The following command will give an error\n",
        "require(mombf)\n",
        "library(mombf)"
      ],
      "execution_count": null,
      "outputs": []
    },
    {
      "cell_type": "markdown",
      "metadata": {
        "id": "HpW8roioa16C"
      },
      "source": [
        "There are two ways to call a function from an installed package:"
      ]
    },
    {
      "cell_type": "code",
      "metadata": {
        "colab": {
          "base_uri": "https://localhost:8080/"
        },
        "id": "EREEMAh9UOty",
        "outputId": "c84f8a7d-71a1-475d-cae3-8b83d4c35971"
      },
      "source": [
        "data1 <- matrix(1:9, ncol = 3, nrow = 3)\n",
        "data2 <- xtable(data1)  # NOT recommended\n",
        "data2 <- xtable::xtable(data1)  # RECOMMENDED\n",
        "print(data1)\n",
        "print(data2)"
      ],
      "execution_count": 25,
      "outputs": [
        {
          "output_type": "stream",
          "name": "stdout",
          "text": [
            "     [,1] [,2] [,3]\n",
            "[1,]    1    4    7\n",
            "[2,]    2    5    8\n",
            "[3,]    3    6    9\n",
            "% latex table generated in R 4.1.1 by xtable 1.8-4 package\n",
            "% Fri Oct 29 14:42:54 2021\n",
            "\\begin{table}[ht]\n",
            "\\centering\n",
            "\\begin{tabular}{rrrr}\n",
            "  \\hline\n",
            " & 1 & 2 & 3 \\\\ \n",
            "  \\hline\n",
            "1 &   1 &   4 &   7 \\\\ \n",
            "  2 &   2 &   5 &   8 \\\\ \n",
            "  3 &   3 &   6 &   9 \\\\ \n",
            "   \\hline\n",
            "\\end{tabular}\n",
            "\\end{table}\n"
          ]
        }
      ]
    },
    {
      "cell_type": "markdown",
      "metadata": {
        "id": "dFgSAb2kREcQ"
      },
      "source": [
        "### 2.2 Importing and exporting external data"
      ]
    },
    {
      "cell_type": "markdown",
      "metadata": {
        "id": "fMs3XfBgJyIX"
      },
      "source": [
        "Here we detail the process of importing and exporting data into an `R` session. Some popular native functions"
      ]
    },
    {
      "cell_type": "code",
      "metadata": {
        "id": "8F_BxrD8Jxyt"
      },
      "source": [
        "# NOT RUN\n",
        "read.csv()  # Import data from a CSV\n",
        "read.txt()  # Import from TXT file\n",
        "read.fwf()  # Read fixed width format files\n",
        "read.table()  # General function\n",
        "readLines()  # Import lines of text\n",
        "# END NOT RUN"
      ],
      "execution_count": null,
      "outputs": []
    },
    {
      "cell_type": "markdown",
      "metadata": {
        "id": "zWCGeIdNMPot"
      },
      "source": [
        "You need to supply the file path to these functions to load the data itself.\n",
        "\n",
        "The library of functions `foreign` will help you to read a number of different other data formats. Most commercial softwares have their own reading methods. For example, to import from Excel you need the function `read_excel()` in the `readxl` package. The `haven` package contains functions to read output files from other popular dinosaur softwares such as Stata, SPSS or SAS. If you use RStudio, some of these imports are automatised in the tab *Import dataset*.\n"
      ]
    },
    {
      "cell_type": "markdown",
      "metadata": {
        "id": "LaNI0m3fDLq5"
      },
      "source": [
        "Similarly to the reading functions, there are equivalent writing functions to save your output into non-`R` generic formats: `write.csv()`,  `write.table()`, or `writeLines()`."
      ]
    },
    {
      "cell_type": "markdown",
      "metadata": {
        "id": "8Ha4MnE-dipM"
      },
      "source": [
        "### 2.3 Importing and exporting R files"
      ]
    },
    {
      "cell_type": "markdown",
      "metadata": {
        "id": "xEctQSdBe8RH"
      },
      "source": [
        "Sometimes you will want to save an object created in `R` to an external file. There are two natural formats to produce `R` outputs: `.RData` or `.rda` (more than one object can be stored), and `.rds` (only one object)."
      ]
    },
    {
      "cell_type": "code",
      "metadata": {
        "id": "0g9XsVdKdjfF"
      },
      "source": [
        "# Write an object on an external file (.RData, rda, rds)\n",
        "save(data1, file = 'data1.RData')  # .RData or .rda\n",
        "saveRDS(data2, file = 'data2.rds')  # .rds\n",
        "save.image(file = 'workspace.RData')  # This saves the entire workspace"
      ],
      "execution_count": 26,
      "outputs": []
    },
    {
      "cell_type": "markdown",
      "metadata": {
        "id": "qXgNRPd5geOT"
      },
      "source": [
        "Similarly, you might want to read a file produced in `R`. an `.RData`, again two ways to load them:"
      ]
    },
    {
      "cell_type": "code",
      "metadata": {
        "id": "GFjvZjtNf2nu"
      },
      "source": [
        "rm(data1, data2)  # Remove objects in the workspace to prove this works\n",
        "load('data1.RData')  # This loads into workspace with the name it was saved with\n",
        "data2 <- readRDS('data2.rds')  # This needs an assigment\n",
        "print(data1)\n",
        "print(data2)"
      ],
      "execution_count": null,
      "outputs": []
    },
    {
      "cell_type": "markdown",
      "metadata": {
        "id": "r8I8LATCgm0O"
      },
      "source": [
        "You can actually run an `R` script itself by supplying the command `source()` with the `.R` file path."
      ]
    },
    {
      "cell_type": "markdown",
      "metadata": {
        "id": "1ep9MlzU38Pr"
      },
      "source": [
        "Other relevant functions:"
      ]
    },
    {
      "cell_type": "code",
      "metadata": {
        "id": "xH2MmAwR3-kF"
      },
      "source": [
        "print\n",
        "cat\n",
        "message, warning\n",
        "format\n",
        "sink\n",
        "flie.copy, file.create, file.remove, file.rename, dir.create\n",
        "file.exists\n",
        "file.info\n",
        "download.file"
      ],
      "execution_count": null,
      "outputs": []
    },
    {
      "cell_type": "markdown",
      "metadata": {
        "id": "OrmUKuJc452B"
      },
      "source": [
        "## 3. Objects and object classes"
      ]
    },
    {
      "cell_type": "markdown",
      "metadata": {
        "id": "MGrK5_LukZDf"
      },
      "source": [
        "The **class** of an object determines (a) its structure and (b) what/how functions can be applied to it. "
      ]
    },
    {
      "cell_type": "markdown",
      "metadata": {
        "id": "bmalr6RWkSmh"
      },
      "source": [
        "### 3.1 Common object classes"
      ]
    },
    {
      "cell_type": "markdown",
      "metadata": {
        "id": "Yt8L78Sr-knT"
      },
      "source": [
        "Here we summarise some of the most common object classes:\n",
        "\n",
        "1. Vectors: essentially three types (there are more)\n",
        "\n",
        "  a. `numeric` (float or double) and `integer`\n",
        "\n",
        "  The difference is integers use no decimal points and so are less demanding in terms of memory.\n",
        "\n",
        "  b. `character` and `factor`\n",
        "  \n",
        "  Factors are characters that can only take a specific set of values (known as `levels`), as in a categorical variable.\n",
        "\n",
        "  c. `logical`\n",
        "  \n",
        "  Booleans, they can only be `TRUE` or `FALSE`.\n",
        "\n",
        "2. `list`\n",
        "\n",
        "  They allow you to have different objects (maybe of different class) in one single objects, using *slots*, having one object in each slot.\n",
        "3. `data.frame`\n",
        "\n",
        "  Rectangular data structure similar to a matrix, with rows and columns, where each column can be of a different type.\n",
        "4. `matrix` and `array`\n",
        "\n",
        "  Matrices are similar to data.frames but less flexible: all its elements have to be of the same classe. On the other hand, computations with matrices are more efficient. arrays are just matrices with potentially more dimensions.\n"
      ]
    },
    {
      "cell_type": "code",
      "metadata": {
        "id": "L3PUZv2JF_Xq"
      },
      "source": [
        "# Types of vectors\n",
        "x1 <- c(1.4, 2.3, 3.2, 4.1)  # numeric\n",
        "x2 <- c(1L, 2L, 3L, 4L)  # integer\n",
        "x3 <- c('A', 'B', 'C', 'A')  # character\n",
        "x4 <- factor(c('A', 'B', 'C', 'A'))  # declare it as factor with levels \"A\", \"B\" and \"C\"\n",
        "x5 <- c(TRUE, FALSE, TRUE, FALSE)  # logical\n",
        "\n",
        "# The \"class\" function tells you what class an object is\n",
        "class(x1)  # To obtain a boolean, try: is.numeric(x1)\n",
        "class(x2)  # Try: is.integer(x2)\n",
        "class(x3)  # Try: is.character(x3)\n",
        "class(x4)  # Try: is.factor(x4)\n",
        "class(x5)  # Try: is.logical(x5)"
      ],
      "execution_count": null,
      "outputs": []
    },
    {
      "cell_type": "markdown",
      "metadata": {
        "id": "-B5cWldBfhnE"
      },
      "source": [
        "Some classes can be *coerced* into other classes: for example a numeric vector can be coerced into a character vector, and vice versa if the elements of the vector are digits. But numeric vectors cannot be coerced into logical. Use the functions\n",
        "- `as.numeric()`,\n",
        "- `as.integer()`,\n",
        "- `as.character()`,\n",
        "- `as.factor()`,\n",
        "- `as.logical()`,\n",
        "\n",
        "to convert objects into other classes.\n",
        "\n",
        "If some class is not coercible into another, you may be able to use a coercible middle class to do the trick. For example, if `x` is a factor with values in 1, 2, 3, you may coerce it into numeric using"
      ]
    },
    {
      "cell_type": "code",
      "metadata": {
        "id": "eBr8nOdAhJpL"
      },
      "source": [
        "x <- as.factor(c(4:6, 6:4))  # x is a factor\n",
        "cat('* Class of \"x\":', class(x), '\\n')\n",
        "print(x)  # This will print the levels\n",
        "\n",
        "# Factors are not coercible to numeric\n",
        "y <- as.numeric(x)\n",
        "print(y)  # WRONG result\n",
        "\n",
        "# Use character as a translator\n",
        "z <- as.numeric(as.character(x))  # factor -> character -> numeric\n",
        "cat('* Class of \"z\":', class(z), '\\n')\n",
        "print(z)"
      ],
      "execution_count": null,
      "outputs": []
    },
    {
      "cell_type": "markdown",
      "metadata": {
        "id": "moZCgAovi2fW"
      },
      "source": [
        "As for the rest of object classes, here's how to create them:"
      ]
    },
    {
      "cell_type": "code",
      "metadata": {
        "id": "hJ_408O-JH5P"
      },
      "source": [
        "# Create a list\n",
        "a <- list('a' = x, 'b' = z) # with two \"slots\", with names \"a\" and \"b\"\n",
        "print(a)\n",
        "\n",
        "# Create a data.frame\n",
        "b <- data.frame('col1' = x, 'col2' = y, 'col3' = z)\n",
        "print(b)\n",
        "\n",
        "# Create a matrix\n",
        "m <- matrix(1:12, ncol = 3)\n",
        "print(m)"
      ],
      "execution_count": null,
      "outputs": []
    },
    {
      "cell_type": "markdown",
      "metadata": {
        "id": "Q12iP6JTIpHu"
      },
      "source": [
        "These classes are coercible as well, using `as.list()`, `as.data.frame()`, and `as.matrix()`, but **BE CAREFUL** in any type of class coercion, and always inspect the coerced object to make sure the result is in the correct desired format.\n",
        "\n",
        "In more advanced levels you will encounter more classes that stem from this basic set, and more complex, such as [`S4` objects](http://adv-r.had.co.nz/S4.html). You will also learn to create your own classes."
      ]
    },
    {
      "cell_type": "markdown",
      "metadata": {
        "id": "BPuurT0xosRM"
      },
      "source": [
        "### 3.2 Object inspection"
      ]
    },
    {
      "cell_type": "markdown",
      "metadata": {
        "id": "sNrLU8hVozYn"
      },
      "source": [
        "Text."
      ]
    },
    {
      "cell_type": "markdown",
      "metadata": {
        "id": "oLjxvmSqo12f"
      },
      "source": [
        "## 4. Operators"
      ]
    },
    {
      "cell_type": "markdown",
      "metadata": {
        "id": "CwMWyAL9o49K"
      },
      "source": [
        "Text."
      ]
    },
    {
      "cell_type": "markdown",
      "metadata": {
        "id": "-4tcuu1rQtav"
      },
      "source": [
        "### 4.2 Assignment"
      ]
    },
    {
      "cell_type": "markdown",
      "metadata": {
        "id": "xfnjO_hcKnXk"
      },
      "source": [
        "In `R`, objects can be created, re-written and removed without restrictions. Once an object is declared, the expression we are assigning to it is evaluated. The standard method of assigment is the use of the operator `<-`, even though there are other options."
      ]
    },
    {
      "cell_type": "code",
      "metadata": {
        "colab": {
          "base_uri": "https://localhost:8080/",
          "height": 34
        },
        "id": "lQwjitPcQ-Ms",
        "outputId": "7d703884-e4d8-40c7-d6f9-0f5fe113a697"
      },
      "source": [
        "# Vector\n",
        "rm(x)  # Remove the object (if it exists)\n",
        "x <- c(1, 7, 4, 8, 6, 0)  # c() creates a vector: it is a function to concatenate elements\n",
        "\n",
        "# Here the expression \"mean(x)\" will be evaluated 4 times\n",
        "x1 <- mean(x)  # Good :-)\n",
        "x2 = mean(x)  # NOT good: \"=\" is *not* an operator\n",
        "x3 <<- mean(x)  # NOT recommended: used in functions to declare an object in a superior environment\n",
        "assign('x4', mean(x))  # Good: useful when the object has an \"unknown\" name\n",
        "mean(x) -> x5  # Good, but standard is to assign right to left\n",
        "\n",
        "# Test if the four objects were assigned correctly\n",
        "identical(x1, x2, x3, x4, x5)  # It returns TRUE if the objects are equal"
      ],
      "execution_count": 4,
      "outputs": [
        {
          "output_type": "display_data",
          "data": {
            "text/plain": [
              "[1] TRUE"
            ],
            "text/latex": "TRUE",
            "text/markdown": "TRUE",
            "text/html": [
              "TRUE"
            ]
          },
          "metadata": {}
        }
      ]
    },
    {
      "cell_type": "markdown",
      "metadata": {
        "id": "Qy8qW14KRCl2"
      },
      "source": [
        "Note that, technically, you can assign an expression using the `=` sign, although `=` is not formally an operator in `R`, and its use is designed for functions. That's why its use is **not** recommended."
      ]
    },
    {
      "cell_type": "markdown",
      "metadata": {
        "id": "V5kfCLEApJdL"
      },
      "source": [
        "WITH AND GET."
      ]
    }
  ]
}