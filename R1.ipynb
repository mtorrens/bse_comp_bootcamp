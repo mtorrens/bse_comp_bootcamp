{
  "nbformat": 4,
  "nbformat_minor": 0,
  "metadata": {
    "colab": {
      "name": "R1.ipynb",
      "provenance": [],
      "collapsed_sections": [
        "nO8q98LH9mkk",
        "fJsTPPStEKjr",
        "OrmUKuJc452B",
        "bmalr6RWkSmh",
        "vpw6a8TJrvf-",
        "BPuurT0xosRM",
        "oLjxvmSqo12f",
        "c36iyh1m-v_e",
        "-4tcuu1rQtav",
        "QRmsljaBAMt0",
        "yVGLRGoZAT7U",
        "rr70cUvrAHvJ",
        "RQMq6byR-72x",
        "6pvVp8PYotDU",
        "8vRD1JpYwKFN",
        "RIYUd3OF_ZV3",
        "Lg1UZGGC27k8",
        "BKxPeJSe8iQn",
        "DcKRkEm89pJT",
        "B1BlSIRHZo3G",
        "DnYJHbRKU4vc",
        "z0_5bRNjl3-I",
        "7jEV2OIO_b96",
        "xE3ng5mIWJJm",
        "lJ2QZn5OH4Vn",
        "NNC3hZuvBLmZ",
        "TTAdo_uDBPk3",
        "ZI0WQtPGBWpr"
      ]
    },
    "kernelspec": {
      "name": "ir",
      "display_name": "R"
    },
    "language_info": {
      "name": "R"
    }
  },
  "cells": [
    {
      "cell_type": "markdown",
      "metadata": {
        "id": "FVgm8I6b9p3j"
      },
      "source": [
        "# SESSION 2: R\n",
        "\n",
        "By **Miquel Torrens i Dinarès**\n",
        "\n",
        "*Barcelona School of Economics* – \n",
        "*Data Science Center*\n",
        "\n",
        "January 4, 2022"
      ]
    },
    {
      "cell_type": "markdown",
      "metadata": {
        "id": "nO8q98LH9mkk"
      },
      "source": [
        "## 1. The R Environment\n",
        "\n",
        "* Complete user manual: https://cran.r-project.org/doc/manuals/r-release/R-lang.html.\n",
        "* As a beginner, I recommend to start coding your scripts using [RStudio](https://www.rstudio.com/).\n",
        "* As you gain experience and deal with more demanding projects, you can work directly on the [R-GUI console](https://cran.r-project.org/) (current release: `R 4.1.2`), or even better on the Terminal"
      ]
    },
    {
      "cell_type": "markdown",
      "metadata": {
        "id": "zkc7Hm-OURVc"
      },
      "source": [
        "### 1.1 Introduction\n",
        "\n",
        "When you open an `R` session, a **console** is displayed, which is where all operations in `R` are run. This is built on an `R` environment that we will call **workspace**. This is the playing field that will contain everything needed to run your code.\n",
        "\n",
        "In a nutshell, in an `R` workspace there are *things* (objects) and *actions* (operators and functions). Objects are located inside the workspace, and we apply functions to these objects to obtain some desired output. For example: we can create a vector `x` (object) and compute its `mean` (function)"
      ]
    },
    {
      "cell_type": "code",
      "metadata": {
        "id": "RXN_-b9x5kKC"
      },
      "source": [
        "x <- 0:10  # This defines a numeric vector \"x\" with integers from 0 to 10\n",
        "mean(x)  # This computes the mean of the vector"
      ],
      "execution_count": null,
      "outputs": []
    },
    {
      "cell_type": "markdown",
      "metadata": {
        "id": "J7YeNbYL-Xi_"
      },
      "source": [
        "Here we displayed an object, an operator, and a function. To create an object, we used an operator of assignment `<-` (right-to-left), and we called a function on this object by placing it inside brackets. We also showed how to comment your code: use `#` to let `R` know it should not run the rest of the line.\n",
        "\n",
        "Some functions do not require an object to be called. For example, you can explore the objects in your workspace using\n"
      ]
    },
    {
      "cell_type": "code",
      "metadata": {
        "id": "4gsIrkr--W8k"
      },
      "source": [
        "ls()"
      ],
      "execution_count": null,
      "outputs": []
    },
    {
      "cell_type": "markdown",
      "metadata": {
        "id": "ntVaezMLGKBy"
      },
      "source": [
        "Most functions also admit **arguments**, which are specifications to control how a function should be run."
      ]
    },
    {
      "cell_type": "code",
      "metadata": {
        "id": "Txvcmv65O9F8"
      },
      "source": [
        "pi  # This is a special object built into R\n",
        "round(pi)  # This functions rounds a number to any decimal point (by default, 0)\n",
        "round(pi, digits = 1)  # The argument \"digits\" controls the number of decimals\n",
        "round(pi, digits = 4)"
      ],
      "execution_count": null,
      "outputs": []
    },
    {
      "cell_type": "markdown",
      "metadata": {
        "id": "8WapugRKP5dS"
      },
      "source": [
        "You can know which arguments are admitted by each function, alongside with a detailed function description, by using the `help()` function, or by typing in an `?` in front of the name of the function:"
      ]
    },
    {
      "cell_type": "code",
      "metadata": {
        "id": "YK0HYT8zP9JF"
      },
      "source": [
        "?mean"
      ],
      "execution_count": null,
      "outputs": []
    },
    {
      "cell_type": "markdown",
      "metadata": {
        "id": "NEW1Juw2AlDf"
      },
      "source": [
        "`R` has a wide array of general functions and operators embedded natively that allow you to do pretty much anything basic. Those functions not readily available that you might require for specific purposes will need to be either (a) installed and loaded from external packages, or (b) coded by YOU. Like many things, coding functions can be both fun and painful.\n",
        "\n",
        "Similarly, you will not create all objects from scratch in a workspace, sometimes you will be importing data, either numeric, in text, or any other format (maps, JSON, SQL, etc.). Your workspace is just the place where you will work on them to generate some output of interest."
      ]
    },
    {
      "cell_type": "markdown",
      "metadata": {
        "id": "4D6bsbX3FT1g"
      },
      "source": [
        "Finally, don't forget to exit your `R` session once your job is done! Do that using the quit function"
      ]
    },
    {
      "cell_type": "code",
      "metadata": {
        "id": "A1dGtbsCFNK1"
      },
      "source": [
        "q()"
      ],
      "execution_count": null,
      "outputs": []
    },
    {
      "cell_type": "markdown",
      "metadata": {
        "id": "OtEJHHSmEp00"
      },
      "source": [
        "Use the command `rm(list = ls())` instead if you don't want to leave the session but want to remove every object in it. The `rm()` function will remove what's inside its parenthesis from the workspace, but use it with caution."
      ]
    },
    {
      "cell_type": "markdown",
      "metadata": {
        "id": "oN9glXDbQfZi"
      },
      "source": [
        "### 1.2 General rules to programming (with `R`)\n",
        "\n",
        "1. **Reproducibility** is everything: write your code in an `R` script (file with extension `.R`), **NOT** in the console\n",
        "2. **Comment your code thoroughly** and clarify everything, someone else might read it and needs to know what's happening (even yourself in the future)\n",
        "3. Follow a **style guide** and do it **consistently**: spacing, indenting, format..., just like you do writing natural language. [This one](http://adv-r.had.co.nz/Style.html) is decent, no need to follow it to the letter, it's an example that you can tweak to make it your own: just stick to the basics, stay consistent and write as if it were to be read. Remember: **clean code = happy programmer**."
      ]
    },
    {
      "cell_type": "markdown",
      "metadata": {
        "id": "fJsTPPStEKjr"
      },
      "source": [
        "## 2. Input/Output\n"
      ]
    },
    {
      "cell_type": "markdown",
      "metadata": {
        "id": "9cbkwHfuRgKR"
      },
      "source": [
        "### 2.1 Importing functions (libraries)\n",
        "\n",
        "*Libraries* (a.k.a. *packages*) are bundles of functions generally related to one particular topic. For example, the `xtable` package includes a set of functions to convert a table into $\\LaTeX$ readable format.\n",
        "\n",
        "In `R`, packages need to be installed prior to its use, which then can be loaded into the workspace."
      ]
    },
    {
      "cell_type": "code",
      "metadata": {
        "id": "AG9YdjeVZbLj"
      },
      "source": [
        "# Install the required package (use single or double quotation marks)\n",
        "install.packages('xtable')\n",
        "\n",
        "# Load it into your workspace\n",
        "library(xtable)  # Option 1\n",
        "require(xtable)  # Option 2"
      ],
      "execution_count": null,
      "outputs": []
    },
    {
      "cell_type": "markdown",
      "metadata": {
        "id": "ppZykh6BZlEl"
      },
      "source": [
        "Both commands do the exact same task: dump every function in the package into your workspace -- the only practical difference is that if the loaded package is not available, `library` will crash, while `require` just returns a warning."
      ]
    },
    {
      "cell_type": "code",
      "metadata": {
        "id": "jvSlJ8WXay4e"
      },
      "source": [
        "# The following command will give an error\n",
        "require(mombf)\n",
        "library(mombf)"
      ],
      "execution_count": null,
      "outputs": []
    },
    {
      "cell_type": "markdown",
      "metadata": {
        "id": "HpW8roioa16C"
      },
      "source": [
        "There are two ways to call a function from an installed package:"
      ]
    },
    {
      "cell_type": "code",
      "metadata": {
        "id": "EREEMAh9UOty"
      },
      "source": [
        "data1 <- matrix(1:9, ncol = 3, nrow = 3)\n",
        "data2 <- xtable(data1)  # NOT recommended\n",
        "data2 <- xtable::xtable(data1)  # RECOMMENDED (double colon)\n",
        "print(data1)\n",
        "print(data2)"
      ],
      "execution_count": null,
      "outputs": []
    },
    {
      "cell_type": "markdown",
      "metadata": {
        "id": "2rEPnDmtLy7P"
      },
      "source": [
        "I would recommend that you use **only** the essential libraries you need for your task. Since packages are generally coded by other users, they might\n",
        "* change over time (affecting the time-consistency of the code)\n",
        "* be more prone to errors (smaller critical mass to properly test them)\n",
        "* be *sui generis* with respect to `R`'s proper code structure (susceptible to transient trends)\n",
        "* cause cross-platform trouble and run into replication problems.\n",
        "\n",
        "In summary, if you can do the same thing using only base packages (with reasonable effort), it's much safer to avoid imports in the long run. In the case you need to use an external package, keep it simple and go for the most robust choice, avoid obscure packages and functions that you don't rely on 100%.\n",
        "\n",
        "There is an officious list of `R` \"approved\" packages in the *Comprehensive R Archive Network* (CRAN). This is no definitive guarantee that a package is rock solid, but at least the packages featured in CRAN have been checked on functional criteria and satisfy a set of quality standards."
      ]
    },
    {
      "cell_type": "markdown",
      "metadata": {
        "id": "dFgSAb2kREcQ"
      },
      "source": [
        "### 2.2 Importing and exporting external data\n",
        "\n",
        "Here we detail the process of importing and exporting data into an `R` session. Some popular native functions:"
      ]
    },
    {
      "cell_type": "code",
      "metadata": {
        "id": "8F_BxrD8Jxyt"
      },
      "source": [
        "# # NOT RUN\n",
        "# read.table()  # General function\n",
        "# read.csv()  # Import data from a CSV\n",
        "# read.csv2()  # CSV when \",\" is decimal point and a \";\" is field separator\n",
        "# read.txt()  # Import from TXT file\n",
        "# read.fwf()  # Read fixed width format files\n",
        "# readLines()  # Import lines of text\n",
        "# download.file()  # To download a data file from a URL\n",
        "# # END NOT RUN"
      ],
      "execution_count": null,
      "outputs": []
    },
    {
      "cell_type": "markdown",
      "metadata": {
        "id": "zWCGeIdNMPot"
      },
      "source": [
        "You need to supply the file path to these functions to load the data itself.\n",
        "\n",
        "The library of functions `foreign` will help you to read a number of different other data formats. Most commercial softwares have their own reading methods. For example, to import from Excel you need the function `read_excel()` in the `readxl` package. The `haven` package contains functions to read output files from other popular dinosaur softwares such as Stata, SPSS or SAS. If you use RStudio, some of these imports are automatised in the tab *Import dataset*.\n"
      ]
    },
    {
      "cell_type": "markdown",
      "metadata": {
        "id": "LaNI0m3fDLq5"
      },
      "source": [
        "Similarly to the reading functions, there are equivalent writing functions to save your output into non-`R` generic formats: `write.csv()`,  `write.table()`, or `writeLines()`."
      ]
    },
    {
      "cell_type": "markdown",
      "metadata": {
        "id": "8Ha4MnE-dipM"
      },
      "source": [
        "### 2.3 Importing and exporting R files\n",
        "\n",
        "Sometimes you will want to save an object created in `R` to an external file. There are two natural formats to produce `R` outputs: `.RData` or `.rda` (more than one object can be stored), and `.rds` (only one object)."
      ]
    },
    {
      "cell_type": "code",
      "metadata": {
        "id": "0g9XsVdKdjfF"
      },
      "source": [
        "# Write an object on an external file (.RData, rda, rds)\n",
        "save(data1, file = 'data1.RData')  # .RData or .rda\n",
        "saveRDS(data2, file = 'data2.rds')  # .rds\n",
        "save.image(file = 'workspace.RData')  # This saves the entire workspace"
      ],
      "execution_count": null,
      "outputs": []
    },
    {
      "cell_type": "markdown",
      "metadata": {
        "id": "qXgNRPd5geOT"
      },
      "source": [
        "Similarly, you might want to read a file produced in `R`. an `.RData`, again two ways to load them:"
      ]
    },
    {
      "cell_type": "code",
      "metadata": {
        "id": "GFjvZjtNf2nu"
      },
      "source": [
        "rm(data1, data2)  # Remove objects in the workspace to prove this works\n",
        "load('data1.RData')  # This loads into workspace with the name it was saved with\n",
        "data2 <- readRDS('data2.rds')  # This needs an assigment\n",
        "data1 <- get(load('data1.RData'))  # This is even safer, to control the names of what you're loading\n",
        "print(data1)\n",
        "print(data2)"
      ],
      "execution_count": null,
      "outputs": []
    },
    {
      "cell_type": "markdown",
      "metadata": {
        "id": "r8I8LATCgm0O"
      },
      "source": [
        "You can actually run an `R` script itself by supplying the command `source()` with the `.R` file path."
      ]
    },
    {
      "cell_type": "markdown",
      "metadata": {
        "id": "1ep9MlzU38Pr"
      },
      "source": [
        "Other relevant self-explanatory functions for file management (outside of your workspace):"
      ]
    },
    {
      "cell_type": "code",
      "metadata": {
        "id": "xH2MmAwR3-kF"
      },
      "source": [
        "# # NOT RUN\n",
        "# dir.create()\n",
        "# file.create()\n",
        "# file.rename()\n",
        "# file.copy()\n",
        "# file.remove()\n",
        "# file.exists()\n",
        "# file.info()\n",
        "# # END NOT RUN"
      ],
      "execution_count": null,
      "outputs": []
    },
    {
      "cell_type": "markdown",
      "metadata": {
        "id": "OrmUKuJc452B"
      },
      "source": [
        "## 3. Objects and object classes\n",
        "\n",
        "The **class** of an object determines (a) its structure and (b) what/how functions can be applied to it."
      ]
    },
    {
      "cell_type": "markdown",
      "metadata": {
        "id": "bmalr6RWkSmh"
      },
      "source": [
        "### 3.1 Common object classes"
      ]
    },
    {
      "cell_type": "markdown",
      "metadata": {
        "id": "Yt8L78Sr-knT"
      },
      "source": [
        "Here we summarise some of the most common object classes:\n",
        "\n",
        "1. Vectors: essentially three types (but not only)\n",
        "\n",
        "  a. `numeric` (float or double) and `integer`\n",
        "\n",
        "    The difference between them is integers use no decimal points and so are less demanding in terms of memory.\n",
        "\n",
        "  b. `character` and `factor`\n",
        "  \n",
        "    Factors are characters that can only take a specific set of values (known as `levels`), as in a categorical variable.\n",
        "\n",
        "  c. `logical`\n",
        "  \n",
        "    *Booleans*, they can only be `TRUE` or `FALSE`.\n",
        "\n",
        "2. `list`\n",
        "\n",
        "    They allow you to have different objects (maybe of different class) in one single objects, using *slots*, having one object in each slot.\n",
        "\n",
        "3. `data.frame`\n",
        "\n",
        "    Rectangular data structure similar to a matrix, with rows and columns, where each column can be of a different type.\n",
        "  \n",
        "4. `matrix` and `array`\n",
        "\n",
        "    Matrices are similar to a `data.frame`; they are less flexible (all its elements have to be of the same class) but computations with matrices are more efficient (fast). `array`s are a generalisation of a matrix (they can potentially have more dimensions).\n"
      ]
    },
    {
      "cell_type": "code",
      "metadata": {
        "id": "L3PUZv2JF_Xq"
      },
      "source": [
        "# Types of vectors\n",
        "# [c() creates a vector: it is a function to concatenate elements]\n",
        "x1 <- c(1.4, 2.3, 3.2, 4.1)  # numeric\n",
        "x2 <- c(1L, 2L, 3L, 4L)  # integer\n",
        "x3 <- c('A', 'B', 'C', 'A')  # character\n",
        "x4 <- factor(c('A', 'B', 'C', 'A'))  # declare it as factor with levels \"A\", \"B\" and \"C\"\n",
        "x5 <- c(TRUE, FALSE, TRUE, FALSE)  # logical\n",
        "\n",
        "# The \"class\" function tells you what class an object is\n",
        "class(x1)  # To obtain a boolean, try: is.numeric(x1)\n",
        "class(x2)  # Try: is.integer(x2)\n",
        "class(x3)  # Try: is.character(x3)\n",
        "class(x4)  # Try: is.factor(x4)\n",
        "class(x5)  # Try: is.logical(x5)"
      ],
      "execution_count": null,
      "outputs": []
    },
    {
      "cell_type": "markdown",
      "metadata": {
        "id": "-B5cWldBfhnE"
      },
      "source": [
        "Some classes can be *coerced* into other classes: for example a numeric vector can be coerced into a character vector, and vice versa if the elements of the vector are digits. But numeric vectors cannot be coerced into logical. Use the functions\n",
        "- `as.numeric()`,\n",
        "- `as.integer()`,\n",
        "- `as.character()`,\n",
        "- `as.factor()`,\n",
        "- `as.logical()`,\n",
        "\n",
        "to convert objects into other classes.\n",
        "\n",
        "If some class is not coercible into another, you may be able to use a coercible middle class to do the trick. For example, if `x` is a factor with values in 1, 2, 3, you may coerce it into numeric using"
      ]
    },
    {
      "cell_type": "code",
      "metadata": {
        "id": "eBr8nOdAhJpL"
      },
      "source": [
        "x <- as.factor(c(4:6, 6:4))  # x is a factor\n",
        "cat('* Class of \"x\":', class(x), '\\n')\n",
        "print(x)  # This will print the levels\n",
        "\n",
        "# Factors are not coercible to numeric\n",
        "y <- as.numeric(x)\n",
        "print(y)  # WRONG result\n",
        "\n",
        "# Use character as a translator\n",
        "z <- as.numeric(as.character(x))  # factor -> character -> numeric\n",
        "cat('* Class of \"z\":', class(z), '\\n')\n",
        "print(z)"
      ],
      "execution_count": null,
      "outputs": []
    },
    {
      "cell_type": "markdown",
      "metadata": {
        "id": "moZCgAovi2fW"
      },
      "source": [
        "As for the rest of object classes, here's how to create them:"
      ]
    },
    {
      "cell_type": "code",
      "metadata": {
        "id": "hJ_408O-JH5P"
      },
      "source": [
        "# Create a list\n",
        "a <- list('a' = x, 'b' = z) # with two \"slots\", with names \"a\" and \"b\"\n",
        "print(a)\n",
        "\n",
        "# Create a data.frame\n",
        "b <- data.frame('col1' = x, 'col2' = y, 'col3' = z)\n",
        "print(b)\n",
        "\n",
        "# Create a matrix\n",
        "m <- matrix(1:12, ncol = 3)\n",
        "print(m)"
      ],
      "execution_count": null,
      "outputs": []
    },
    {
      "cell_type": "markdown",
      "metadata": {
        "id": "Q12iP6JTIpHu"
      },
      "source": [
        "These classes are coercible as well, using `as.list()`, `as.data.frame()`, and `as.matrix()`, but **BE CAREFUL** in any type of class coercion, and always inspect the coerced object to make sure the result is in the correct desired format.\n",
        "\n",
        "In more advanced levels you will encounter more classes that stem from this basic set, and more complex, such as [`S4` objects](http://adv-r.had.co.nz/S4.html). You will also learn to create your own classes."
      ]
    },
    {
      "cell_type": "markdown",
      "metadata": {
        "id": "vpw6a8TJrvf-"
      },
      "source": [
        "### 3.2 Functions applicable to a class\n",
        "\n",
        "Functions are applied to specific classes. For example, the function `mean()` can be applied to an object of class `numeric`, but applying it to an object of class `character` or `factor` would generate an error in your workspace:"
      ]
    },
    {
      "cell_type": "code",
      "metadata": {
        "id": "3BRt1YgwtOhG"
      },
      "source": [
        "x1 <- c(1, 7, 4, 8, 6, 0)\n",
        "x2 <- as.factor(c('a', 'c', 'd', 'b', 'b', 'd'))\n",
        "print(mean(x1))  # OK\n",
        "print(mean(x2))  # Can't do it"
      ],
      "execution_count": null,
      "outputs": []
    },
    {
      "cell_type": "markdown",
      "metadata": {
        "id": "4RZLkSyBtygj"
      },
      "source": [
        "**Note:** characters require quotation marks, otherwise it would be as if you were creating a vector with objects `a`, `b`, `c` and `d`, which do not exist. Recall that in `R` single (`'`) and double (`\"`) quotation marks are equivalent.\n",
        "\n",
        "Other functions are applicable to both classes, but mind you they might produce different types of output:"
      ]
    },
    {
      "cell_type": "code",
      "metadata": {
        "colab": {
          "base_uri": "https://localhost:8080/"
        },
        "id": "lD77LkBQtG6s",
        "outputId": "92d1d05a-0f7a-4bf8-9cee-e14413391c70"
      },
      "source": [
        "cat('* Summary of object \"x1\"\\n')\n",
        "summary(x1)\n",
        "cat('* Summary of object \"x2\"\\n')\n",
        "summary(x2)"
      ],
      "execution_count": null,
      "outputs": [
        {
          "output_type": "stream",
          "name": "stdout",
          "text": [
            "* Summary of object \"x1\"\n"
          ]
        },
        {
          "output_type": "display_data",
          "data": {
            "text/plain": [
              "   Min. 1st Qu.  Median    Mean 3rd Qu.    Max. \n",
              "  0.000   1.750   5.000   4.333   6.750   8.000 "
            ]
          },
          "metadata": {}
        },
        {
          "output_type": "stream",
          "name": "stdout",
          "text": [
            "* Summary of object \"x2\"\n"
          ]
        },
        {
          "output_type": "display_data",
          "data": {
            "text/plain": [
              "a b c d \n",
              "1 2 1 2 "
            ],
            "text/latex": "\\begin{description*}\n\\item[a] 1\n\\item[b] 2\n\\item[c] 1\n\\item[d] 2\n\\end{description*}\n",
            "text/markdown": "a\n:   1b\n:   2c\n:   1d\n:   2\n\n",
            "text/html": [
              "<style>\n",
              ".dl-inline {width: auto; margin:0; padding: 0}\n",
              ".dl-inline>dt, .dl-inline>dd {float: none; width: auto; display: inline-block}\n",
              ".dl-inline>dt::after {content: \":\\0020\"; padding-right: .5ex}\n",
              ".dl-inline>dt:not(:first-of-type) {padding-left: .5ex}\n",
              "</style><dl class=dl-inline><dt>a</dt><dd>1</dd><dt>b</dt><dd>2</dd><dt>c</dt><dd>1</dd><dt>d</dt><dd>2</dd></dl>\n"
            ]
          },
          "metadata": {}
        }
      ]
    },
    {
      "cell_type": "markdown",
      "metadata": {
        "id": "9pMx-rKTu4hU"
      },
      "source": [
        "You can find out if a function is usable on your object class with the function `methods()`, which will display all classes that a given (native) function can handle:"
      ]
    },
    {
      "cell_type": "code",
      "metadata": {
        "id": "Korr627TvEsc"
      },
      "source": [
        "methods(summary)"
      ],
      "execution_count": null,
      "outputs": []
    },
    {
      "cell_type": "markdown",
      "metadata": {
        "id": "BPuurT0xosRM"
      },
      "source": [
        "### 3.3 Quick object inspection"
      ]
    },
    {
      "cell_type": "markdown",
      "metadata": {
        "id": "T02e0klVxvRy"
      },
      "source": [
        "Sometimes we have an object of a given class that you want to inspect."
      ]
    },
    {
      "cell_type": "code",
      "metadata": {
        "id": "EAtJfo8yx6MQ"
      },
      "source": [
        "set.seed(666)  # This functions \"controls\" the random\n",
        "x <- rnorm(10000, mean = 0, sd = 1)  # 10K random values from a standard normal\n",
        "y <- list(A = 1:100, B = letters[1:22], C = rnorm(10), D = c(TRUE, TRUE, FALSE))\n",
        "z <- data.frame(col1 = 1:100, col2 = 101:200, col3 = 201:300)\n",
        "w <- as.matrix(z)\n",
        "\n",
        "cat('* Structure of object \"x\"\\n')\n",
        "str(x)  # This functions provides the structure of the object\n",
        "cat('* Structure of object \"y\"\\n')\n",
        "str(y)\n",
        "cat('* Structure of object \"z\"\\n')\n",
        "str(z)"
      ],
      "execution_count": null,
      "outputs": []
    },
    {
      "cell_type": "markdown",
      "metadata": {
        "id": "sNrLU8hVozYn"
      },
      "source": [
        "The function `summary` above applies to most classes, and some other quick-look functions are also useful."
      ]
    },
    {
      "cell_type": "code",
      "metadata": {
        "id": "KgaOuMT7whE1"
      },
      "source": [
        "x <- round(x, 4)  # For display purposes\n",
        "\n",
        "head(x)  # Provide first values\n",
        "head(x, n = 10)\n",
        "tail(x)  # Provide last values\n",
        "x[1]\n",
        "x[7287]  # Provide value no. 7,287\n",
        "x[10001]  # Returns NA: element 10K+1 doesn't exist"
      ],
      "execution_count": null,
      "outputs": []
    },
    {
      "cell_type": "markdown",
      "metadata": {
        "id": "uc6FWAV40Gu-"
      },
      "source": [
        "Note that indexing in `R` is as in natural language: it starts at `1` (Python is at `0`).\n",
        "\n",
        "Different classes have different attributes that can be inspected:\n"
      ]
    },
    {
      "cell_type": "code",
      "metadata": {
        "id": "Pj8RLKZ01Kah"
      },
      "source": [
        "# Matrices and data.frames have dimensions and they have names\n",
        "dim(z)  # Dimension\n",
        "nrow(z)  # No. of rows\n",
        "ncol(z)  # No. of columns\n",
        "colnames(z)  # Names of the columns\n",
        "head(rownames(z))  # Names of the rows\n",
        "rownames(z) <- paste('row', 1:nrow(z), sep = '')  # All these can be changed\n",
        "head(rownames(z))\n",
        "\n",
        "# Lists can also have names but no dimension (they have length)\n",
        "names(y)\n",
        "length(y)\n",
        "\n",
        "# So do vectors\n",
        "names(x)  # This vector has no names, but they can be assigned\n",
        "length(x)\n",
        "names(x) <- paste('val', 1:length(x), sep = '')\n",
        "head(names(x))\n",
        "\n",
        "# For non-continuous vectors, this is a really useful function\n",
        "v <- c('A', 'B', 'A', 'C', 'C', 'A', 'A', 'B', 'C')\n",
        "table(v)  # Absolute frequencies (VERY USEFUL function)"
      ],
      "execution_count": null,
      "outputs": []
    },
    {
      "cell_type": "markdown",
      "metadata": {
        "id": "wd1s0I432Swu"
      },
      "source": [
        "and different operators to access its elements"
      ]
    },
    {
      "cell_type": "code",
      "metadata": {
        "id": "C2myoUtK2T_-"
      },
      "source": [
        "# Vectors: single parenthesis (access either by index or by name)\n",
        "x[1]\n",
        "x['val1']  # same\n",
        "x[-1]  # negative indices used to drop elements: all elements except the first\n",
        "x[-(1:5)]  # return every element except those in 1 to 5\n",
        "x[11:20][7]  # you can \"double\" subsets: return element 7 from the set 11 to 20\n",
        "\n",
        "# Lists: double parenthesis (index or name)\n",
        "y[[1]]  # First element of the list is a vector\n",
        "y[[1]] <- y[[1]][1:10]  # Lets shorten it: keep first ten values (reassignment)\n",
        "y[[1]]  # Repeat: now shorter vector\n",
        "y[['A']]  # same result\n",
        "y$A  # same, but NOT recommended: \"partial matching\" can cause errors\n",
        "\n",
        "# Why not use the \"$\" operator? Let's see what can happen\n",
        "names(y) <- c('Abcd', 'Defg', 'Hijk', 'Lmno')  # Let's set new names\n",
        "y[['A']]  # NA (well-done!): a slot named \"A\" does not exist\n",
        "y$A  # Returns an element, WRONG: I call for 'A' and it gives me something with a different name\n",
        "\n",
        "# data.frames and matrices: ROWS before *comma*, COLUMNS after\n",
        "head(z[, 1])  # column 1\n",
        "head(z[1, ])  # row 1\n",
        "head(z[1, 1])  # element 1 in column 1\n",
        "head(z[, 'col1'])\n",
        "head(z['row1', ])\n",
        "\n",
        "# Operator \"$\" works also for data.frames, but not for matrices\n",
        "head(z$col1)  # In data.frame: NOT recommended\n",
        "try(head(w$col1))  # In matrix: ERROR\n",
        "\n",
        "colnames(z) <- c('Abcd', 'Defg', 'Hijk')  # Same exercise: partial matching\n",
        "head(z[, 'A'])  # ERROR: good!\n",
        "head(z$A)  # Again: it gives you something you're not asking for"
      ],
      "execution_count": null,
      "outputs": []
    },
    {
      "cell_type": "markdown",
      "metadata": {
        "id": "G9zgb-1v0sR-"
      },
      "source": [
        "Generally, avoid the use of the `$` operator: it's shorter code but more prone to errors (code of lower quality and robustness), especially in lists and `data.frame`'s. Instead, use either indexing or (if named) full quotation."
      ]
    },
    {
      "cell_type": "markdown",
      "metadata": {
        "id": "oLjxvmSqo12f"
      },
      "source": [
        "## 4. Operators"
      ]
    },
    {
      "cell_type": "markdown",
      "metadata": {
        "id": "CwMWyAL9o49K"
      },
      "source": [
        "Operators are functions in the form of symbols to perform specific mathematical or logical computations. We provide a list of the native `R` operators with an example:"
      ]
    },
    {
      "cell_type": "markdown",
      "metadata": {
        "id": "c36iyh1m-v_e"
      },
      "source": [
        "### 4.1 Basic operators"
      ]
    },
    {
      "cell_type": "markdown",
      "source": [
        "*   **Arithmetic** operators"
      ],
      "metadata": {
        "id": "dpElV0aqfji5"
      }
    },
    {
      "cell_type": "code",
      "metadata": {
        "id": "PFkHjU2p1AjS"
      },
      "source": [
        "# Numeric and integer vectors\n",
        "3 + 1  # addition\n",
        "3 - 1  # subtraction\n",
        "5 * 2  # multiplication\n",
        "5 / 2  # division\n",
        "5 %% 2  # remainder\n",
        "5 %/% 2  # quotient\n",
        "2 ** 3  # exponentiation, also: 2^3\n",
        "exp(1)  # e^1 = 2.718282... (NOT an operator)\n",
        "\n",
        "# Matrix operators\n",
        "A <- matrix(1:9, ncol = 3)\n",
        "B <- matrix(10:18, ncol = 3)\n",
        "A * B  # elementwise multiplication (!)\n",
        "A %*% B  # matrix multiplication\n",
        "A %o% B  # outer product"
      ],
      "execution_count": null,
      "outputs": []
    },
    {
      "cell_type": "markdown",
      "metadata": {
        "id": "6arLGI1e2t2A"
      },
      "source": [
        "*   **Relational** operators (returning a boolean)"
      ]
    },
    {
      "cell_type": "code",
      "metadata": {
        "id": "uDd_mKIg3-VB"
      },
      "source": [
        "7 > 2  # bigger than\n",
        "7 < 2  # smaller than\n",
        "7 >= 2  # bigger or equal than\n",
        "7 <= 2  # smaller or equal than\n",
        "7 == 2  # equal to\n",
        "7 != 2  # different than"
      ],
      "execution_count": null,
      "outputs": []
    },
    {
      "cell_type": "markdown",
      "metadata": {
        "id": "aQFbk47A237G"
      },
      "source": [
        "*   **Logical** operators (test if a statement is true)"
      ]
    },
    {
      "cell_type": "code",
      "metadata": {
        "id": "ZP1dh82H3Asw"
      },
      "source": [
        "(7 > 2) & (3 > 4)  # AND\n",
        "(7 > 2) | (3 > 4)  # OR\n",
        "! (7 > 2)  # NOT\n",
        "xor(7 > 2, 3 > 4)  # AND/OR (not an operator)"
      ],
      "execution_count": null,
      "outputs": []
    },
    {
      "cell_type": "markdown",
      "metadata": {
        "id": "uuHduECL5Oid"
      },
      "source": [
        "If the elements to which we apply a logical operator are vectors (of the same length), the operator will return a logical vector comparing the two input vectors elementwise: you can use double `AND` or `OR` to inspect only the first element: `x && y`, or `x || y`."
      ]
    },
    {
      "cell_type": "markdown",
      "source": [
        "*   **Miscellaneous** operators"
      ],
      "metadata": {
        "id": "rHTXUZLEffB7"
      }
    },
    {
      "cell_type": "code",
      "metadata": {
        "id": "-UsGZmc76PBm"
      },
      "source": [
        "2:8  # Integer sequence of 2 to 8\n",
        "7 %in% 2:8  # Is an element inside of a vector"
      ],
      "execution_count": null,
      "outputs": []
    },
    {
      "cell_type": "markdown",
      "metadata": {
        "id": "-HDmp_Fr9ztV"
      },
      "source": [
        "Some other basic operators are already covered in other sections, like the help operator (`?`), component/slot extraction (`$` and `@`), indexing (`[` and `[[`), formula (`~`) and library access (`::` or `:::`)."
      ]
    },
    {
      "cell_type": "markdown",
      "source": [
        "*   **Assignment** operators: we cover them in the next subsection."
      ],
      "metadata": {
        "id": "jxR5KndhfcL-"
      }
    },
    {
      "cell_type": "markdown",
      "metadata": {
        "id": "hh9FnoUm1Jwv"
      },
      "source": [
        "Like in every language, operators in `R` have *precedence*, i.e. in the same expression some operators are applied before others. Think of math: in an equation we multiply before we add, thus in the expression `x <- 1 + 3 * 4` gives 13 instead of 16, i.e. `*` has precedence over `+`. There is a precedence order for all operators in `R`: explore the precedence list using the command `?Syntax`."
      ]
    },
    {
      "cell_type": "markdown",
      "metadata": {
        "id": "-4tcuu1rQtav"
      },
      "source": [
        "### 4.2 Assignment\n",
        "\n",
        "In `R`, objects can be created, re-written and removed without restrictions. Once an object is declared, the expression we are assigning to it is evaluated. The standard method of assigment is the use of the operator `<-`, even though there are other options. We illustrate the most common ones:"
      ]
    },
    {
      "cell_type": "code",
      "metadata": {
        "id": "lQwjitPcQ-Ms"
      },
      "source": [
        "# Vector\n",
        "rm(x)  # Remove the object from the workspace\n",
        "x <- c(1, 7, 4, 8, 6, 0)\n",
        "\n",
        "# Here the expression \"mean(x)\" will be evaluated 4 times\n",
        "x1 <- mean(x)  # Good :-)\n",
        "x2 = mean(x)  # NOT good: \"=\" is *not* an assigment operator\n",
        "x3 <<- mean(x)  # Used only in functions to declare an object in a superior environment\n",
        "assign('x4', mean(x))  # Good: useful when the object has an \"unknown\" name\n",
        "mean(x) -> x5  # Good, but standard is to assign right to left (same with ->>)\n",
        "\n",
        "# Test if the four objects were assigned correctly\n",
        "identical(x1, x2, x3, x4, x5)  # It returns TRUE if the objects are equal"
      ],
      "execution_count": null,
      "outputs": []
    },
    {
      "cell_type": "markdown",
      "metadata": {
        "id": "GzPe2n7vqNH1"
      },
      "source": [
        "For more advanced assignment methods, I recommend you also check the functions `get()`, `with()`, and `within()`.\n",
        "\n",
        "Multiple assignments require multiple operators:"
      ]
    },
    {
      "cell_type": "code",
      "metadata": {
        "id": "jwOyrq6mJ9rm"
      },
      "source": [
        "obj1 <- obj2 <- 1:5\n",
        "#obj1, obj2 <- 1:5  # NOT POSSIBLE"
      ],
      "execution_count": null,
      "outputs": []
    },
    {
      "cell_type": "markdown",
      "metadata": {
        "id": "Qy8qW14KRCl2"
      },
      "source": [
        "**(!) NOTE** – Although technically you can assign an expression using the `=` symbol, `=` is not formally an assignment operator in `R`, and its use is designed for functions. That's why it is **not** recommended despite widespread misuse. In short, refrain from assignment use."
      ]
    },
    {
      "cell_type": "markdown",
      "metadata": {
        "id": "t_kwBMjbzSoE"
      },
      "source": [
        "### 4.3 Reserved words\n",
        "\n",
        "There are certain reserved words in `R` (keywords) that cannot be assigned or over-written since they are essential built-in elements. We list the most important, words for:\n",
        "\n",
        "*   Booleans: `TRUE`, `FALSE`.\n",
        "*   Iterables: `if`, `else` (`if`-statements), `for`, `in`, `next` (`for`-loops), `while`, `break`, `repeat` (`while`-loops).\n",
        "*   Functions: `function`, `...`.\n",
        "*   Particular values: `NA`, `NULL`, `NaN`, `Inf`.\n",
        "\n",
        "We review most of them later on.\n",
        "\n",
        "Still, even if the rest functions in `R` can be over-written (stuff like `mean <- 3` is factually perpetrable), refrain from doing it."
      ]
    },
    {
      "cell_type": "markdown",
      "metadata": {
        "id": "8E6XKl5y_RHy"
      },
      "source": [
        "## 5. Functions\n",
        "\n",
        "Functions are often used to encapsulate a sequence of expressions that need to be executed numerous times, with some explicitly specified set of parameters or *arguments* that give it flexibility. Functions are stored in the `R` environment like any other object, in this case with class `function`."
      ]
    },
    {
      "cell_type": "markdown",
      "metadata": {
        "id": "QRmsljaBAMt0"
      },
      "source": [
        "### 5.1 Coding functions"
      ]
    },
    {
      "cell_type": "markdown",
      "source": [
        "Coding functions in `R` is fairly simple. You only need three basic things: the `function` function, the list of inputs (if any) it requires, and the `return` function to output your desired object (if any). "
      ],
      "metadata": {
        "id": "U90PYA3c-Ugg"
      }
    },
    {
      "cell_type": "code",
      "source": [
        "# Define function to compute the mean of numeric vector\n",
        "average <- function(x) {  # input \"arguments\" inside parenthesis,\n",
        "  n <- length(x)          # commands of the function inside \"{\" and \"}\"\n",
        "  avg <- sum(x) / n\n",
        "  return(avg)  # \"return\" assigns the outcome to \"average\"\n",
        "}\n",
        "\n",
        "# Use it\n",
        "avg1 <- mean(1:10)\n",
        "avg2 <- average(1:10)  # Here you call your first function\n",
        "identical(avg1, avg2)  # They should be the same"
      ],
      "metadata": {
        "id": "ItgzmSoymPcs"
      },
      "execution_count": null,
      "outputs": []
    },
    {
      "cell_type": "code",
      "source": [
        "# Function to compute the squared of the mean\n",
        "mean.sq <- function(x, ...) {  # \"...\" indicates: pass any other arguments to function below\n",
        "  out <- mean(x, ...)  # \"...\" reads other arguments passed that apply to \"mean\"\n",
        "  return(out)  # \"return\" assigns the outcome to \"average\"\n",
        "}\n",
        "\n",
        "# Use it\n",
        "avgsq <- mean.sq(1:10, na.rm = TRUE)  # \"na.rm\" is an argument of inside function \"mean\""
      ],
      "metadata": {
        "id": "_A1Ig34U9sm8"
      },
      "execution_count": null,
      "outputs": []
    },
    {
      "cell_type": "code",
      "source": [
        "# Function to compute the mode\n",
        "the.mode <- function(x, print.it = TRUE) {  # Some arguments can have a default value\n",
        "  freqs <- sort(table(x), decreasing = TRUE)  # Nested function\n",
        "  value <- names(freqs)[1]\n",
        "  if (print.it == TRUE) {\n",
        "    cat('The mode is:', value, '\\n')\n",
        "  }\n",
        "  return(value)\n",
        "}\n",
        "\n",
        "# Compute this functions\n",
        "(mode1 <- the.mode(c(2, 2, 3, 4, 4, 4, 1)))  # parenthesis around a call makes R print the output\n",
        "(mode2 <- the.mode(c(2, 2, 3, 4, 4, 4, 1), print.it = FALSE))  # change default\n",
        "(mode3 <- the.mode(c('A', 'D', 'B', 'B', 'C')))"
      ],
      "metadata": {
        "id": "BZlJXMAc9SsF"
      },
      "execution_count": null,
      "outputs": []
    },
    {
      "cell_type": "code",
      "source": [
        "# You can create a function calling to other functions of yours\n",
        "mean.and.mode <- function(x, y) {  # Multiple arguments\n",
        "  obj1 <- average(x)\n",
        "  obj2 <- the.mode(y)\n",
        "  return(list(mean = obj1, mode = obj2))\n",
        "  #return(c(obj1, obj2))  # More simple alternative: return a vector\n",
        "}\n",
        "\n",
        "# Use it\n",
        "mean.and.mode(1:10, c(2, 2, 3, 4, 4, 4, 1))  # Assigning is not mandatory"
      ],
      "metadata": {
        "id": "FACq6zcP9wYc"
      },
      "execution_count": null,
      "outputs": []
    },
    {
      "cell_type": "code",
      "source": [
        "# Arguments and outputs are not even mandatory for a function\n",
        "hello.world <- function() {  # Keep the parenthesis though!\n",
        "  cat('Hello world! My coding teacher is awesome.\\n')\n",
        "}\n",
        "\n",
        "# Not a very helpful function\n",
        "hello.world()"
      ],
      "metadata": {
        "id": "l8nTkzvs9xik"
      },
      "execution_count": null,
      "outputs": []
    },
    {
      "cell_type": "markdown",
      "source": [
        "By default, if no `return()` function is used, a function will return the last expression evaluated (although this is not recommended praxis).\n",
        "\n",
        "**Important: what happens in a function stays in the function.** Keep in mind that functions have their own *environment*: everything inside `{` and `}` occurs on a separate environment *inferior* to the global one. This means that once you're **inside** the function, what exists in the \"superior\" environment (the workspace you're in) is known, but the objects created therein live in that separate space and are not poured onto the superior global environment, unless you explicitely tell them to (as one does using `return`, or *double* assignment `<<-`)."
      ],
      "metadata": {
        "id": "REYMd48elirV"
      }
    },
    {
      "cell_type": "markdown",
      "metadata": {
        "id": "yVGLRGoZAT7U"
      },
      "source": [
        "### 5.2 The `apply` family of functions"
      ]
    },
    {
      "cell_type": "markdown",
      "source": [
        "Sometimes you will encounter situations in which you want to apply a function repeatedly to elements of an object without using expensive loops. The set of `apply` functions are efficient and elegant ways to do that. There are more `apply`-type of functions, but here we present the four more common ones\n",
        "\n",
        "*   `apply`: used to iterate over the dimensions of a `data.frame` or `matrix` or larger `array`-type objects, the simplest case being to apply a function on each row/column\n",
        "*   `lapply`: uses `apply` on `list`-type objects, and also outputs a `list`\n",
        "*   `tapply`: summarises a vector by groups defined by another vector, i.e. say you want the group-mean of variable `x`, where in one column you have the value of `x` and the group they belong to in another\n",
        "*   `sapply`: uses `apply` on vector-type objects, returning a vector\n",
        "\n",
        "Check out other functions like `vapply` (similar to `sapply`), `mapply` (for multiple parallel data structures), `mcapply` (multi-core), `mclapply` (multi-core `lapply` from the `parallel` package).\n"
      ],
      "metadata": {
        "id": "UhMCK5ZvChzH"
      }
    },
    {
      "cell_type": "code",
      "source": [
        "df1 <- data.frame(x = 1:10, y = 11:20, z = -10:-1)\n",
        "df2 <- data.frame(x = 1:10, group = c(rep('A', 5), rep('B', 5)))\n",
        "df3 <- data.frame(x = c('a', 'b', 'c', 'a'), y = c('e', 'e', 'f', 'f'))\n",
        "l1 <- list(A = 1:10, B = 11:20, C = -10:-1)\n",
        "\n",
        "# On the columns of df: find the max of each\n",
        "apply(df1, 2, max)  # \"2\" is the dimension: in this case is columns (1 = rows)\n",
        "                    # order of arguments: object, dimension, function to apply\n",
        "# Check out also \"sweep()\": same syntax, used to \"sweep out\" a summary statistic\n",
        "\n",
        "# Same operation but now the vectors are elements of a list\n",
        "lapply(l1, max)  # output object is a list (here you need no dimension)\n",
        "\n",
        "# Compute the mean of \"x\" as a function of \"group\"\n",
        "tapply(df2[, 'x'], df2[, 'group'], mean)\n",
        "\n",
        "# Similar to \"apply\" but directly on a set of vectors\n",
        "sapply(df1, class)\n",
        "\n",
        "# Check how many unique elements are in each column\n",
        "apply(df3, 2, function(x) { length(unique(x)) })  # This is an \"anonymous\" function! It is never defined"
      ],
      "metadata": {
        "id": "0lkjT_7RH419"
      },
      "execution_count": null,
      "outputs": []
    },
    {
      "cell_type": "markdown",
      "source": [
        "The `apply` family of functions are formally *functionals*: functions that take another function as an argument. They are very important and frequently used in `R`, and can become quite complex quickly. I recommend the following link to Hadley Wickham's book if you wish to go deeper on the set of `apply` functions: http://adv-r.had.co.nz/Functionals.html."
      ],
      "metadata": {
        "id": "sti1npb-Hp_G"
      }
    },
    {
      "cell_type": "markdown",
      "source": [
        "### 5.3 Error handling\n",
        "\n",
        "**[This section is moved to Section 7.5 after we have introduced control flow structures]**"
      ],
      "metadata": {
        "id": "-9_b5kELK12j"
      }
    },
    {
      "cell_type": "markdown",
      "metadata": {
        "id": "rr70cUvrAHvJ"
      },
      "source": [
        "### 5.4 Useful miscellaneous functions\n",
        "\n",
        "Here I introduce a few generic functions that are very helpful but are employed in many contexts and are not explicitely introduced anywhere else in this course."
      ]
    },
    {
      "cell_type": "code",
      "source": [
        "# Replication of elements\n",
        "x <- rep(1:3, 2)  # replicate 1:3 two times\n",
        "print(x)\n",
        "\n",
        "unique(x)  # Returns unique elements in x\n",
        "duplicated(x)  # Returns logical stating whether elements have been found before\n",
        "rev(x)  # Return elements in x in reverse"
      ],
      "metadata": {
        "id": "EWdGCnOD2K0g"
      },
      "execution_count": null,
      "outputs": []
    },
    {
      "cell_type": "code",
      "source": [
        "x <- seq(0, 1, 0.1)  # Return a sequence from 0 to 1, with distance between elements of 0.1\n",
        "y <- seq(-1e3, 1e3, 1e2)  # From -10^3 to 10^3 every 10^2\n",
        "format(y, scientific = TRUE)  # This is a very flexible function with various uses\n",
        "format(y, scientific = FALSE)"
      ],
      "metadata": {
        "id": "aDtfTPXE34D_"
      },
      "execution_count": null,
      "outputs": []
    },
    {
      "cell_type": "code",
      "source": [
        "# Subdivision of vectors\n",
        "x <- 1:5\n",
        "y <- 3:7\n",
        "z <- as.factor(c(rep('A', 3), rep('B', 2)))  # Declare character as factor\n",
        "\n",
        "intersect(x, y)  # Returns intersection set of elements in x and y\n",
        "union(x, y)  # Returns union set of elements in x or y\n",
        "setdiff(x, y)  # Returns elements in x not in y\n",
        "\n",
        "split(x, z)  # group elements in x as a function of a factor z\n",
        "cut(x, breaks = 2)  # divides elements in x into \"breaks\" number of groups"
      ],
      "metadata": {
        "id": "hSPjiVLU5PhV"
      },
      "execution_count": null,
      "outputs": []
    },
    {
      "cell_type": "code",
      "source": [
        "# Basic checks of numeric elements\n",
        "x <- 10.3\n",
        "is.na(x)  # logical on wehter x is NA\n",
        "is.finite(x)  # logical on wehter x is not +Inf or -Inf\n",
        "ceiling(x)  # Returns closest integer to x from above\n",
        "floor(x)  # Returns closest integer to x from below"
      ],
      "metadata": {
        "id": "sMHMzVYm2G6-"
      },
      "execution_count": null,
      "outputs": []
    },
    {
      "cell_type": "markdown",
      "metadata": {
        "id": "RQMq6byR-72x"
      },
      "source": [
        "## 6. Dataset manipulation: subsetting and merging\n",
        "\n",
        "Often times you want to perform access/slice/filter operations, i.e. clean, subset, merge and, in a nutshell, manipulate datasets. Here we present basic operations that allow us to perform these tasks. We had a preview in Section 3.2. on how to select elements on different classes of objects, but here we concentrate on common relational datasets, such as `data.frame`'s and matrices."
      ]
    },
    {
      "cell_type": "markdown",
      "source": [
        "### 6.1 Subset and expand\n",
        "\n",
        "We start covering the operations to subset or expand a dataset."
      ],
      "metadata": {
        "id": "6pvVp8PYotDU"
      }
    },
    {
      "cell_type": "code",
      "source": [
        "set.seed(666)  # This function \"controls random\", i.e. we all get the same random numbers\n",
        "df <- data.frame(x = 1:10, y = rep(c('A', 'B'), 5), z = rnorm(10))\n",
        "\n",
        "# Select a set of observations (KEY: position of the comma)\n",
        "df1 <- df[which(df[, 'x'] > 6), ]  # Select observations where variable x > 6\n",
        "df2 <- df[which(df[, 'x'] > 6 & df[, 'y'] == 'A'), ]  # Double condition\n",
        "\n",
        "# Select a set of columns (KEY: position of the comma)\n",
        "df3 <- df[, which(colnames(df) != 'x')]  # Select every column except \"x\": this is more robust than \"df[, -1]\" \n",
        "df3 <- df[, which(colnames(df) %in% c('A', 'B'))]  # Identical with %in% operator\n",
        "\n",
        "# Order the observations by the value of a row, or column\n",
        "df4 <- df[order(df[, 'z'], decreasing = TRUE), ]  # Order rows by value of column \"z\" (highest-to-lowest)\n",
        "df5 <- df[, c('z', 'y', 'x')]  # Change order of columns\n",
        "\n",
        "# Add columns or rows\n",
        "df6 <- cbind.data.frame(df5, w = 11:20) # cbind for matrix\n",
        "df6[, 'v'] <- 21:30  # add a new column from a new object\n",
        "df7 <- rbind.data.frame(df5[1:5, ], df5[6:10, ]) # rbind for matrix\n",
        "df7[11, ] <- c(11, 'B', 0)  # add a new observation from a new object\n",
        "\n",
        "# Rename variables or observations, change class, transform\n",
        "colnames(df5) <- c('Z', 'Y', 'X')\n",
        "rownames(df5) <- paste('obs', 1:nrow(df5), sep = '')\n",
        "df5[, 'X'] <- as.integer(df5[, 'X'])  # it's ok to re-write: it is reversible\n",
        "df5[, 'Z'] <- df5[, 'Z'] * 3  # modify an existing column\n",
        "colnames(df5)\n",
        "rownames(df5)"
      ],
      "metadata": {
        "id": "JAdYWH2Rptmj"
      },
      "execution_count": null,
      "outputs": []
    },
    {
      "cell_type": "markdown",
      "source": [
        "Some thoughts on these operations:\n",
        "\n",
        "*   The function `which()` is one you should get acquainted with very well. It depicts the elements of a set *which* satisfy the logical condition(s) in parenthesis.\n",
        "*   Be aware of the distinction between `sort()` and `order()`: the former grabs a set of values and puts them from lowest to highest, the latter gives you the indices in the vector of said order, not the values themselves.\n",
        "*   One helpful function we have not looked into is `subset()`, which essentially does the same thing we did above. It works well for simple commands, but the framework above is more flexible and can deal with complex operations. Feel free to use it though! Try: `subset(airquality, Temp > 80, select = c(Ozone, Temp))`.\n",
        "*   Notice I never modify the original object I am subsetting. It is important that when you subset that you don't over-write previously existing objects (and, in particular, the object you are subsetting), unless you recursively subset one particular object. These operations are **irreversible**, in the sense that if you over-write the object being subsetted, the information that was cut out cannot be re-used anywhere else in your code. Often times this is not desirable. If you have memory problems in your CPU, you have to balance this with keeping as few possible copies of the data as possible, but try to keep the originals intact in your workspace."
      ],
      "metadata": {
        "id": "TbUWb9tOqPhe"
      }
    },
    {
      "cell_type": "markdown",
      "source": [
        "### 6.2. Merge and join\n",
        "\n",
        "Beyond the straightforward expansion or selection of rows and columns explained before, one may want to *merge* two datasets, e.g. we have different data on the same set of individuals, or different years, etc. This usually involves joining two full datasets, instead of just adding rows or columns based on some coditions."
      ],
      "metadata": {
        "id": "8vRD1JpYwKFN"
      }
    },
    {
      "cell_type": "code",
      "source": [
        "set.seed(666)\n",
        "df1 <- data.frame(id1 = sample(1:10, replace = FALSE), col1 = rnorm(10), col2 = rchisq(10, df = 1))\n",
        "df2 <- data.frame(id2 = sample(1:10, replace = FALSE), col3 = rnorm(10), col4 = rchisq(10, df = 1))\n",
        "head(df1, 5)\n",
        "head(df2, 5)\n",
        "\n",
        "# Joint datasets using \"match\"\n",
        "df3 <- cbind.data.frame(df1, df2[match(df1[, 'id1'], df2[, 'id2']), -1])  # Exclude \"id\" column to avoid redundancy\n",
        "head(df3, 5)\n",
        "\n",
        "# Joint datasets using \"merge\"\n",
        "colnames(df1)[1] <- 'id'\n",
        "colnames(df2)[1] <- 'id'\n",
        "df3 <- merge(df1, df2, by = 'id')  # This is fine but be careful if ID lists and column names are not equal\n",
        "head(df3, 5)  # The original order is altered"
      ],
      "metadata": {
        "id": "wxP8wK_X0yF1"
      },
      "execution_count": null,
      "outputs": []
    },
    {
      "cell_type": "markdown",
      "source": [
        "The function `match()` basically looks for the elements of the first vector present in the second vector, and returns the corresponding indices of the latter in the order of the former. It is another hall-of-famer function in `R` and is super useful in a number of contexts. Use it!\n",
        "\n",
        "Using `merge()` is also a good option, especially if you're familiar with classic database management, as it is well equipped to easily do *inner* (default), *outer* and *cross* joints."
      ],
      "metadata": {
        "id": "lNLeTX1f0jw_"
      }
    },
    {
      "cell_type": "markdown",
      "metadata": {
        "id": "RIYUd3OF_ZV3"
      },
      "source": [
        "## 7. Control flows\n",
        "\n",
        "We cover `if` statements, and the basic loops: `for`, `while`, `repeat`."
      ]
    },
    {
      "cell_type": "markdown",
      "source": [
        "### 7.1 `if`-statements\n",
        "\n",
        "When you want to run some chunk of code only if a certain condition hold (and maybe some other chunk if it doesn't, we use `if`-clauses."
      ],
      "metadata": {
        "id": "Lg1UZGGC27k8"
      }
    },
    {
      "cell_type": "code",
      "source": [
        "gender <- 'male'\n",
        "age <- 20 \n",
        "\n",
        "# If-statement: use logical object as condition, then indent conditional actions\n",
        "# Isolate condition in parenthesis, with pre- and post- single space\n",
        "cat('* Person: ')\n",
        "if (gender == 'female') {  # \"if\" clauses use \"{\" and \"}\"\n",
        "  if (age > 18) {\n",
        "    cat('Woman.\\n')\n",
        "  } else {\n",
        "    cat('Girl.\\n')\n",
        "  }\n",
        "} else if (gender == 'male') {  # \"else if\" tell what happens if there is another mutually exclusive condition\n",
        "  if (age > 18) {\n",
        "    cat('Man.\\n')\n",
        "  } else {\n",
        "    cat('Boy.\\n')\n",
        "  }\n",
        "} else {  # \"else\" tell what happens if previous conditions do not hold\n",
        "  cat('Other gender.\\n')\n",
        "}\n",
        "\n",
        "# Other ways to use if-statements\n",
        "if (gender == 'male') cat('* Gender is male.\\n')  # You can skip the clause if single-line (not recommended)\n",
        "under.age <- ifelse(age < 18, 'Yes.', 'No.')  # Assign first element if condition holds, second element otherwise (single element operation)\n",
        "cat('* Is the person under age:', under.age, '\\n')"
      ],
      "metadata": {
        "id": "W2JUhPUb27A1"
      },
      "execution_count": null,
      "outputs": []
    },
    {
      "cell_type": "markdown",
      "source": [
        "Note that `if`-conditions do not require an `else` statement, this is used when something in the code must happen either-or. If you only want a part of the code to run (without `else` contingency), you can just write `if (...) { ... }` and omit the rest."
      ],
      "metadata": {
        "id": "wyr3aRET8CB5"
      }
    },
    {
      "cell_type": "markdown",
      "source": [
        "### 7.2 `for`-loops\n",
        "\n",
        "These are used when you want to apply a set of operations on an *iterable* object. A `for`-loop will replicate the computations for each element of the $n$ elements of the object and provide $n$ results."
      ],
      "metadata": {
        "id": "BKxPeJSe8iQn"
      }
    },
    {
      "cell_type": "code",
      "source": [
        "n <- 5  # 5 elements\n",
        "x <- rep(NA, n)  # Set an empty vector with n elements\n",
        "for (i in 1:(2*n)) {  # For element \"i\" from 1 to 2*n, perform the following operations\n",
        "  cat('Iteration:', i, '\\n')\n",
        "  result <- i^2 - 5  \n",
        "  if (result < 0) {\n",
        "    next  # This is necessary because later I compute the squared root\n",
        "  }\n",
        "  x[i] <- sqrt(result)  # Set the i-th element with the squared root\n",
        "  if (i > n) {\n",
        "    break  # I only have n elements in the vector, the n+1 could not be assigned\n",
        "  }\n",
        "}\n",
        "\n",
        "# Check the outcome\n",
        "print(x)"
      ],
      "metadata": {
        "id": "qZ7_Mv03-7B_"
      },
      "execution_count": null,
      "outputs": []
    },
    {
      "cell_type": "markdown",
      "source": [
        "The set of operations can be of any difficulty and length, this is just regular code: the only difference is that you repeat them for each element on the list\n",
        "\n",
        "**Note:** there are two critical *reserved* words when looping: `next` and `break`. These are used to prevent loops from getting stuck or running into errors.\n",
        "\n",
        "*   `next`: this will make a loop jump immediately to the next iteration, without running the remaining body of the loop from that point on (on the current iteration)\n",
        "*   `break`: it will make the loop stop completely, i.e. you exit the body of the loop and proceed with the rest of the code normally.\n",
        "\n"
      ],
      "metadata": {
        "id": "uu573i_8_DnS"
      }
    },
    {
      "cell_type": "markdown",
      "source": [
        "### 7.3 `while`-loops (and `repeat`)\n",
        "\n",
        "These are used when you want an iterable loop to be executed as long as a certain condition holds. It is structured like a `for`-loop, but they as an `if`-statement: testing a condition. This condition is tested every time the body loop is executed, until it does not hold."
      ],
      "metadata": {
        "id": "DcKRkEm89pJT"
      }
    },
    {
      "cell_type": "code",
      "source": [
        "count <- 0\n",
        "while (count < 10) {\n",
        "  count <- count + 1\n",
        "  cat('* Count:', count, '\\n')\n",
        "}\n",
        "\n",
        "# \"repeat\" works in the same way but needs a \"break\" to stop\n",
        "count <- 0\n",
        "repeat {\n",
        "  count <- count + 1\n",
        "  cat('* Count:', count, '\\n')\n",
        "  if (count == 10) {\n",
        "    break\n",
        "  }\n",
        "}"
      ],
      "metadata": {
        "id": "dL3bnv697YDi"
      },
      "execution_count": null,
      "outputs": []
    },
    {
      "cell_type": "markdown",
      "source": [
        "### 7.4 Parallelisation\n",
        "\n",
        "Loops sometimes involve heavy computations and can be costly to evaluate in terms of computing time. Most programming languages natively use one single core in your computer to run a script, but most modern computers have multiple cores, and so in some situations it might be helpful to involve more cores in a computation to divide the *parallelisable* workload onto more than one core. This can sensibly cuts computation time.\n",
        "\n",
        "(By *parallelisable* I mean that iterations are mutually independent from each other, this is not the case when the result of one iteration implicates the next one.)\n",
        "\n",
        "We introduce a package to easily make `for`-loops parallel on multiple cores."
      ],
      "metadata": {
        "id": "B1BlSIRHZo3G"
      }
    },
    {
      "cell_type": "code",
      "source": [
        "# You need some libraries for this\n",
        "if (! require(doMC)) { install.packages('doMC') }  # Not installed by default\n",
        "library(foreach)  # Parallel loop\n",
        "library(parallel)  #\n",
        "library(doMC)\n",
        "\n",
        "n <- 1e4  # 10^4 = 10,000 elements\n",
        "\n",
        "# Regular for-loop\n",
        "x1 <- rep(NA, n)  # Set an empty vector with n elements\n",
        "for (i in 1:n) {  # For element \"i\" from 1:n, perform the following operations\n",
        "  x1[i] <- i^2 - 5\n",
        "}\n",
        "\n",
        "# Parallelised loop\n",
        "ncores <- 2\n",
        "#ncores <- parallel::detectCores() - 1  # if you want to dedicate all but one core to this\n",
        "doMC::registerDoMC(cores = ncores)  # This asks the computer to dedicate \"ncores\" to this computation\n",
        "x2 <- foreach::foreach(i = 1:n, .errorhandling = 'pass') %dopar% {\n",
        "  out <- i^2 - 5\n",
        "  return(out)\n",
        "}\n",
        "# \"foreach\" returns a list by default: look into the argument \".combine\" to change that\n",
        "x2 <- unlist(x2)  # function \"unlist()\" is awesome: turn a list into a vector\n",
        "\n",
        "# Check the outcome\n",
        "print(head(x1))\n",
        "print(head(x2))\n",
        "identical(x1, x2)  # Same result\n"
      ],
      "metadata": {
        "colab": {
          "base_uri": "https://localhost:8080/",
          "height": 0
        },
        "id": "lUxQYMEiEuyr",
        "outputId": "f385cd1b-e059-41e1-d9e1-5fc79912c97f"
      },
      "execution_count": 40,
      "outputs": [
        {
          "output_type": "stream",
          "name": "stdout",
          "text": [
            "[1] -4 -1  4 11 20 31\n",
            "[1] -4 -1  4 11 20 31\n"
          ]
        },
        {
          "output_type": "display_data",
          "data": {
            "text/plain": [
              "[1] TRUE"
            ],
            "text/latex": "TRUE",
            "text/markdown": "TRUE",
            "text/html": [
              "TRUE"
            ]
          },
          "metadata": {}
        }
      ]
    },
    {
      "cell_type": "markdown",
      "source": [
        "### 7.5 Error handling\n",
        "\n",
        "Coding errors (a.k.a. *bugs*) happen. But it is much better if they can be easily caught and corrected, and that's why we have to write code that is as easy to *debug* as possible: spot where errors might happen fast and find a solution to suppress or by-pass them. Let us introduce some tools to deal with them."
      ],
      "metadata": {
        "id": "DnYJHbRKU4vc"
      }
    },
    {
      "cell_type": "code",
      "source": [
        "# Say you have written a function like this\n",
        "average <- function(x) {\n",
        "  n <- length(x)\n",
        "  avg <- sum(x) / n\n",
        "  return(avg)\n",
        "}\n",
        "\n",
        "average(1:5)  # Ok"
      ],
      "metadata": {
        "id": "Y_1c_O60U_NU"
      },
      "execution_count": null,
      "outputs": []
    },
    {
      "cell_type": "code",
      "source": [
        "average(LETTERS[1:4])  # Error"
      ],
      "metadata": {
        "id": "tOA0KHpk_uCl"
      },
      "execution_count": null,
      "outputs": []
    },
    {
      "cell_type": "code",
      "source": [
        "average(c(1:5, NA))  # Not an error, but not the output we intended to"
      ],
      "metadata": {
        "id": "sYUvHjVr_s0z"
      },
      "execution_count": null,
      "outputs": []
    },
    {
      "cell_type": "markdown",
      "source": [
        "Obviously, our `average()` function cannot deal with averaging letters or `NA`s, but our code did not foresee that, which causes a *bug* in the code. In this function the error is obvious, but that is not always the case, that's why the function `debug()` is helpful."
      ],
      "metadata": {
        "id": "o9cne05z-UnB"
      }
    },
    {
      "cell_type": "code",
      "source": [
        "debug(average)\n",
        "average(LETTERS[1:4])  # Error\n",
        "undebug(average)  # Stop debugging"
      ],
      "metadata": {
        "id": "0M7A_Bn0-qI9"
      },
      "execution_count": null,
      "outputs": []
    },
    {
      "cell_type": "markdown",
      "source": [
        "This function runs the code of what you're debugging line by line, and is interactive (you can run code in the middle of the execution to inspect what is going on). In this case you spot what and where it goes wrong: `Error in sum(x): invalid 'type' (character) of argument`. (`debug(<function>)` can be over-turned by `undebug(<function>)`, or by re-defining the function again.)\n",
        "\n",
        "There are two ways to deal with this kind of errors: one is to fix it using control flows, the second one is to set-up a *controlled* error."
      ],
      "metadata": {
        "id": "eL-BMHHZ-upJ"
      }
    },
    {
      "cell_type": "code",
      "source": [
        "# Re-write a more solid function (add one argument)\n",
        "average <- function(x, rm.na = TRUE) {  # rm.na = TRUE means \"TRUE\" is the default of this parameter unless specified otherwise\n",
        "  # Deal with averaging non-numeric things: controlled error\n",
        "  if (! is.numeric(x)) {\n",
        "    stop('\"average\" cannot be computed because data is not \"numeric\".')  # Controlled error\n",
        "  }\n",
        "\n",
        "  # Deal with NAs: either solve by removing them, or controlled \"warning\"\n",
        "  if (any(is.na(x))) {  # Function \"any()\": VERY USEFUL; tells if any element of x satisfies condition inside\n",
        "    warning('\"x\" contains \"NA\" values.')  # \"warning\" gives a heads up of something potentially problematic while allowing the code to continue\n",
        "    if (rm.na == TRUE) {\n",
        "      x <- x[which(! is.na(x))]\n",
        "    }\n",
        "  }\n",
        "\n",
        "  # Computation\n",
        "  n <- length(x)\n",
        "  avg <- sum(x) / n\n",
        "  return(avg)\n",
        "}\n",
        "\n",
        "# Try again\n",
        "average(1:5)  # Changes nothin when there is no problem"
      ],
      "metadata": {
        "id": "So8SeO8C-HRy"
      },
      "execution_count": null,
      "outputs": []
    },
    {
      "cell_type": "markdown",
      "source": [
        "*Note:* similarly to `any(<logical_condition>)`, there is the function `all(<logical_condition>)`, testing that all elements inside check the condition (instead of *at least one*). These two functions are really helfpul to avoid potentially heavy loops."
      ],
      "metadata": {
        "id": "sUpL5-lfDjPg"
      }
    },
    {
      "cell_type": "code",
      "source": [
        "average(LETTERS[1:5])  # Now the controlled error pops up (good)"
      ],
      "metadata": {
        "id": "gfvmfgbAB66d"
      },
      "execution_count": null,
      "outputs": []
    },
    {
      "cell_type": "code",
      "source": [
        "average(c(1:5, NA))  # Does the computation but it warns you that something is irregular"
      ],
      "metadata": {
        "id": "ZinhS9MRCFY-"
      },
      "execution_count": null,
      "outputs": []
    },
    {
      "cell_type": "markdown",
      "source": [
        "As a last resort, there is always a function called `try()` that will allow for the error to run but proceed with the posterior code regardless."
      ],
      "metadata": {
        "id": "FT9bQSvsARR0"
      }
    },
    {
      "cell_type": "code",
      "source": [
        "att1 <- try(average(LETTERS[1:5]))  # Put the commend inside the \"try()\" function\n",
        "if (class(att1) == 'try-error') {  # if try() \"fails\", the object returned is of this class\n",
        "  cat('* RESULT: The average could not be computed.\\n')\n",
        "} else {  # if it doesn't fail, then the result is as if \"try()\" had not been executed\n",
        "  cat('* RESULT: The average is:', att1, '.\\n')\n",
        "}\n",
        "\n",
        "att2 <- try(average(1:5))\n",
        "if (class(att2) == 'try-error') {\n",
        "  cat('* RESULT: The average could not be computed.\\n')\n",
        "} else {\n",
        "  cat('* RESULT: The average is:', att2, '.\\n')\n",
        "}\n",
        "\n",
        "# try() is verbose by default but it can be made silent if you don't want the error to be printed (check arguments)"
      ],
      "metadata": {
        "colab": {
          "base_uri": "https://localhost:8080/"
        },
        "id": "qkFGxU36CkHZ",
        "outputId": "5e9bb38e-d292-4451-b3dd-e6d14d8f4505"
      },
      "execution_count": 17,
      "outputs": [
        {
          "output_type": "stream",
          "name": "stdout",
          "text": [
            "Error in average(LETTERS[1:5]) : \n",
            "  \"average\" cannot be computed because data is not \"numeric\".\n",
            "* RESULT: The average could not be computed.\n",
            "* RESULT: The average is: 3 .\n"
          ]
        }
      ]
    },
    {
      "cell_type": "markdown",
      "source": [
        "## 8. Stats and math"
      ],
      "metadata": {
        "id": "z0_5bRNjl3-I"
      }
    },
    {
      "cell_type": "markdown",
      "metadata": {
        "id": "7jEV2OIO_b96"
      },
      "source": [
        "### 8.1 Basic functions\n",
        "\n",
        "One of `R`'s strongest suits is the amount of statistical software it is fluent in, whether natively or with packages that run on it. Here we provide the very basics to get you started, and introducte some of the functions that are bread and butter for statistical and mathematical programmers."
      ]
    },
    {
      "cell_type": "code",
      "source": [
        "# Basic mathematical functions (operators aside)\n",
        "abs(-3)\n",
        "sign(c(-4, 0, 7))\n",
        "exp(3)\n",
        "log(100); log10(100); log2(64)  # Note you can separate commands with \";\"\n",
        "sqrt(25)\n",
        "sin(1); cos(1); tan(1)\n",
        "choose(5, 3)  # Combinatorial number (n choose k)\n",
        "factorial(5)  # Factorial number: x!\n",
        "combn(1:4, 2)  # Provides all combinations of \"2\" elements in the set 1:4"
      ],
      "metadata": {
        "id": "y0gOQyNY-tDz"
      },
      "execution_count": null,
      "outputs": []
    },
    {
      "cell_type": "code",
      "source": [
        "# Basic statistical summaries\n",
        "x <- seq(-3, 3, 1)\n",
        "y <- seq(-6, 6, 2)\n",
        "max(x)  # Cumulative maximum: cummax(x)\n",
        "min(x)  # cummin(x)\n",
        "sum(x)  # cumsum(x)\n",
        "prod(x)  # cumprod(x)\n",
        "diff(x)  # With respect to previous value in the vector\n",
        "table(x)  # Abs. Frequencies\n",
        "table(x, y)  # Contingency table\n",
        "quantile(1:200, probs = c(0.1, 0.5, 0.9))\n",
        "range(x)\n",
        "rank(x)"
      ],
      "metadata": {
        "id": "gQClAq1kiGgX"
      },
      "execution_count": null,
      "outputs": []
    },
    {
      "cell_type": "code",
      "source": [
        "# More advanced descriptive statistics\n",
        "mean(x)\n",
        "median(x)\n",
        "cor(x, y)\n",
        "cov(x, y)\n",
        "sd(x)\n",
        "var(x)"
      ],
      "metadata": {
        "id": "qi9CeRxFiJeB"
      },
      "execution_count": null,
      "outputs": []
    },
    {
      "cell_type": "markdown",
      "source": [
        "We will list, however, some useful and verycommon matrix algebra functions (to use on `matrix`-type objects):\n",
        "\n",
        "*   `t` (matrix transpose), `diag` (matrix diagonal)\n",
        "*   `crossprod`, `tcrossprod`, `outer` (cross-, transpose-cross- and outer-products)\n",
        "*   `eigen`, `qr`, `svd` (eigen, QR and SVD decompositions)\n",
        "*   `rcond` (condition number)\n",
        "*   `solve` (matrix inverse, or systems of equations)"
      ],
      "metadata": {
        "id": "VT5bK4wkPN63"
      }
    },
    {
      "cell_type": "markdown",
      "source": [
        "### 8.2 Statistical distributions (characterisation and simulation)\n",
        "\n",
        "One of `R`'s strengthts is simulation power. You can find PDFs and CDFs for a wide variety of parametric distributions, as well as take random samples from them. Here are some basics to simulate things in `R`:"
      ],
      "metadata": {
        "id": "xE3ng5mIWJJm"
      }
    },
    {
      "cell_type": "code",
      "source": [
        "set.seed(666)\n",
        "sample(1:10, 1)  # Most basic simulation function: sample 1 element out of 1:10\n",
        "sample(1:5, 3, replace = TRUE)  # Replace TRUE puts the sampled values back in the pool\n",
        "sample(1:5, 3, replace = FALSE)  # Once a value is drawn, it cannot be drawn again"
      ],
      "metadata": {
        "id": "eVM2wXZRPmTs"
      },
      "execution_count": null,
      "outputs": []
    },
    {
      "cell_type": "markdown",
      "source": [
        "There are four key letters to deal with a given available parametric distribution:\n",
        "\n",
        "*   `d`: provides the *density* (PDF) of the distribution at the supplied value \n",
        "*   `p`: provides the *cumulative probability* (CDF) up to the supplied value\n",
        "*   `q`: provides the *quantile* of the distribution that accumulates the supplied percentage of the probability mass \n",
        "*   `r`: provides a *random* sample of the supplied size for the specified distribution\n",
        "\n",
        "We illustrate this with the Normal distribution:"
      ],
      "metadata": {
        "id": "1c0C18HKNV-h"
      }
    },
    {
      "cell_type": "code",
      "source": [
        "x <- 1  # Any value on the real line\n",
        "a <- 0.6  # Any value between 0 and 1\n",
        "n <- 1e3  # Any integer (note the scientific notation: 10^3 = 1,000)\n",
        "\n",
        "dnorm(x, mean = 0, sd = 1)  # PDF of the Normal at x = 1 (density)\n",
        "pnorm(x, mean = 0, sd = 1)  # CDF of the Normal: returns P(X < 1)\n",
        "qnorm(a, mean = 0, sd = 1)  # Quantile: returns x such that P(X < x) = 0.6\n",
        "pnorm(x, mean = 0, sd = 1, lower.tail = FALSE)  # Upper-tail CDF of the Normal: returns P(X > 1)\n",
        "qnorm(a, mean = 0, sd = 1, lower.tail = FALSE)  # Quantile, but opposite tail P(X > x) = 0.6, i.e. P(X < x) = 1 - 0.6\n",
        "head(rnorm(n, mean = 0, sd = 1))  # Here we ask for 1,000 random draws of a N(0, 1): note we require a different parameter!"
      ],
      "metadata": {
        "id": "5cmvsYhQQiWI"
      },
      "execution_count": null,
      "outputs": []
    },
    {
      "cell_type": "markdown",
      "source": [
        "\n",
        "Every distribution will have its set of parameters: the Normal here has `mean` and `sd`, which you can specify to whatever values you need, and if not specificied are taken to be `mean = 0`, and `sd = 1` (the standard Normal). But for example the `chisq` ($χ_{\\nu}^{2}$) requires the parameter `df` (degrees of freedom, $\\nu$), with no default, or the binomial needs to be supplied `size` ($p$) and `prob` ($k$). \n",
        "\n",
        "Here I list the most common distributions available and their command name: `beta`, `binom`, `cauchy`, `chisq`, `exp`, `f`, `gamma`, `geom`, `hyper`, `lnorm` (log-normal), `logis`, `multinom`, `nbinom` (negative binomial), `norm`, `pois`, `t`, `unif`, `weibull`, `wilcox`, `birthday`, `tukey`. There are also functions to simulate from multivariate distributions, but they typically come from external packages (for example, the Normal distribution is in the CRAN package `mvnorm`). Look them up!\n",
        "\n",
        "There are also various statistical tests that are readily available, even a summary is beyond the scope of this intro course. This set of tests is close to uncountable, so as a basic rule, if you look for \"R [name of the test]\" in your favourite search engine, you will most likely find what command you need quickly, for example you can do an ANOVA test with the command `anova` (surprise?)."
      ],
      "metadata": {
        "id": "MVqiQwYEQjAf"
      }
    },
    {
      "cell_type": "markdown",
      "source": [
        "### 8.3 Statistical models\n",
        "\n",
        "As a final note, `R` is equipped with numerous statistical models that can be run, here I show how to run linear regression"
      ],
      "metadata": {
        "id": "lJ2QZn5OH4Vn"
      }
    },
    {
      "cell_type": "code",
      "source": [
        "# Simulate some data\n",
        "set.seed(666)\n",
        "n <- 100  # rows\n",
        "p <- 50  # columns\n",
        "X <- matrix(rnorm(n * p), nrow = n, ncol = p)  # Regression matrix\n",
        "b <- c(1, 1, 1/2, 1/2, rep(0, p - 4))  # Regression coefficients\n",
        "y <- X %*% b + rnorm(n)  # Model: y = X * b + epsilon, epsilon is N(0, 1)\n",
        "df <- cbind.data.frame(y, X)  # Put all the data into one data.frame\n",
        "colnames(df) <- c('y', paste('var', 1:p, sep = ''))  # Column names\n",
        "\n",
        "# Linear regression\n",
        "model <- lm(y ~ var1 + var2, data = df)  # \"lm\" is linear model: you declare a \"formula\" with the \"~\" symbol,\n",
        "                                         # and add variables (names) with \"+\"\n",
        "model <- lm(y ~ ., data = df)  # The dot tells it to add all variables"
      ],
      "metadata": {
        "id": "n8jQfu4YWt_O"
      },
      "execution_count": null,
      "outputs": []
    },
    {
      "cell_type": "code",
      "source": [
        "# Some useful diagnostics\n",
        "# These following functions are generic: they work for most models in R!\n",
        "summary(model)  # This gives you the classical table with the results\n",
        "head(coef(model))  # Estimated coefficients (beta hat)\n",
        "head(confint(model))  # Confidence intervals for the coefficients (you can change significance)\n",
        "head(fitted(model))  # Fitted values\n",
        "head(resid(model))  # Model residuals\n",
        "\n",
        "# Prediction (create five new observations and use the estimated model to predict)\n",
        "new.df <- matrix(rnorm(5 * p), nrow = 5, ncol = p) # \"predict\" function requires a data.frame\n",
        "colnames(new.df) <- colnames(df)[-1]  # Needs to be in the same format\n",
        "predict(model, newdata = as.data.frame(new.df))  # Prediction for a new observation with covariates rnorm(n)"
      ],
      "metadata": {
        "id": "xGHgqgApkF7M"
      },
      "execution_count": null,
      "outputs": []
    },
    {
      "cell_type": "markdown",
      "source": [
        " If your outcome is binary, for example, use `glm(..., link = 'binomial')` instead as the modelling function (the rest stays the same). Many models are natively built into `R`, but many others are not. This is where packages kick in: if you're trying to estimate a model that is not built-in, most likely it has been used before and someone has written a package on it. Use the search engine rule again and you may find a solution!"
      ],
      "metadata": {
        "id": "aKu7MBrVWvb1"
      }
    },
    {
      "cell_type": "markdown",
      "metadata": {
        "id": "NNC3hZuvBLmZ"
      },
      "source": [
        "## 9. String manipulation\n",
        "\n",
        "Sometimes instead of numbers you may need to work with text data. We present some functions to manipulate text data (strings) easily."
      ]
    },
    {
      "cell_type": "code",
      "source": [
        "# Deal with raw text\n",
        "raw.text <- 'abcd dcba efg 1xyz mnop0'  # Say you have some raw text\n",
        "data <- strsplit(raw.text, ' ')  # You can split it into several elements (cut by \" \")\n",
        "data <- unlist(data)  # \"strsplit\" returns a list\n",
        "print(data)\n",
        "\n",
        "# Number of characters in a string\n",
        "nchar(data)\n",
        "\n",
        "# Paste elements\n",
        "paste(data[1], data[2], sep = '_')  # Paste two elements with separator\n",
        "paste(data, collapse = '+')  # Paste all elements with collapsing character"
      ],
      "metadata": {
        "id": "KCNzmzWtkz6M"
      },
      "execution_count": null,
      "outputs": []
    },
    {
      "cell_type": "code",
      "source": [
        "# Set of letters\n",
        "head(LETTERS)  # Uppercase\n",
        "head(letters)  # Lowercase\n",
        "LETTERS[1:4]  # A, B, C, D (can be subsetted like any other object)\n",
        "\"\\u00b5\"  # Some non-roman characters are encoded: this prints the greek letter \"mu\" (unicode)\n",
        "\n",
        "# Transform to upper- or lower-case\n",
        "tolower('CAPS ARE YELLING IN WRITING')\n",
        "toupper('but sometimes it is necessary')\n",
        "\n",
        "# Suppress white spaces from start or finish of a string\n",
        "trimws('   this string is too long.   ')"
      ],
      "metadata": {
        "id": "q4mhyhCn6w3S"
      },
      "execution_count": null,
      "outputs": []
    },
    {
      "cell_type": "code",
      "source": [
        "# Identify elements with certain patterns\n",
        "grep('bc', data)  # Returns indices of elements containing \"bc\"\n",
        "grepl('a', data)  # Returns logical instead of indices\n",
        "agrep('bco', data)  # \"Approx.\" grep, looks for elements \"close\" to matching pattern ('bco' is nowhere but I get 1)\n",
        "\n",
        "# Subtract characters in a specific position\n",
        "substr(data, 1, 2)  # Get characters from 1 to 2 (of each element)\n",
        "\n",
        "# You can also replace parts of the string with something else\n",
        "gsub('ab', 'AB', data[1])  # Careful with order of arguments\n",
        "\n",
        "# Line change\n",
        "for (i in 1:5) cat(i, '\\n')  # Print \"i\" and write next in a new line\n",
        "for (i in 1:5) cat('\\r', i)  # Print \"i\" over-writing the current text line"
      ],
      "metadata": {
        "id": "NnIqTXOViaax"
      },
      "execution_count": null,
      "outputs": []
    },
    {
      "cell_type": "markdown",
      "source": [
        "With respect to text display on the console, there are three (plus bonus) common ways of printing:\n",
        "\n",
        "*   `print()`: works with anything but output is less \"pretty\"/readable\n",
        "*   `cat()`: easier to manipulate (works like `paste()`) but only works on atomic types (logical, integer, real, character...) and names\n",
        "*   `message()`: mostly used inside functions to display text on relevant diagnostics occuring in your code\n",
        "*   `sink()`: this allows you to write output on an external file. Basically, write `sink([file_name].txt`, and then whatever is printed after that (with `print`/`cat`) will be written on `[file_name].txt`. To stop the connection, write `sink()` again (no arguments) and the display is back to the command line."
      ],
      "metadata": {
        "id": "eGxC_iYc1Ijy"
      }
    },
    {
      "cell_type": "markdown",
      "source": [
        "Finally, the operations on text above may be applied to strings that are not \"exact\", i.e. imagine that instead of finding the character \"1\", you want to find \"a number\", or \"that starts with A\". Then you use *regular expressions*. Luckily, the rules in `R` for regular expressions are the standard for any language."
      ],
      "metadata": {
        "id": "79s6-z85t8_8"
      }
    },
    {
      "cell_type": "code",
      "source": [
        "data <- c('abcd', 'dcba', 'efg', '1xyz', 'mnop0')\n",
        "\n",
        "# Find the strings that...\n",
        "grep('^a', data)  # start with \"a\"\n",
        "grep('a$', data)  # end with \"a\"\n",
        "grep('[am]', data)  # have any of the characters \"a\", \"m\"\n",
        "grep('[ab|fg]', data)  # have either the characters \"ab\" or \"fg\"\n",
        "grep('[a-c]', data)  # have a character in the range \"a\"-\"c\"\n",
        "grep('[:digit:]', data)  # have a digit\n",
        "grep('a[?=b]', data)  # have \"a\" followed by \"b\"\n",
        "# ..."
      ],
      "metadata": {
        "id": "tO1Pg_6ct-q3"
      },
      "execution_count": null,
      "outputs": []
    },
    {
      "cell_type": "markdown",
      "source": [
        "Regular expressions are a **very** rich language, you can virtually find one for anything you can think of, and they are generic. Here is a link to a cheat sheet that contains a very complete summary of the expressions you can apply:\n",
        "*   https://evoldyn.gitlab.io/evomics-2018/ref-sheets/R_strings.pdf\n"
      ],
      "metadata": {
        "id": "mBYpaAsSyNZZ"
      }
    },
    {
      "cell_type": "markdown",
      "source": [
        "Finally, it is worth mentioning that simple text in `R` revolves around standard roman letters, anything else needs to be *encoded* carefully: letters with accents (`è`, `ã`,  `ö`, `ê`, ...) and other special characters that need to be processed adequately. I don't recommend using them unless strictly necessary. For example, a natural text in Catalan contains certain characters (accents, or letters like `ç`), and may need to be converted prior to everything, else it may cause errors. There is a very helpful function that translates encodings from one to the other.\n",
        "\n"
      ],
      "metadata": {
        "id": "brHgz2tosvFz"
      }
    },
    {
      "cell_type": "code",
      "source": [
        "txt <- \"El pingüí està glaçat però a ell li fa il·lusió passar fred.\"\n",
        "Encoding(txt)  # UTF-8\n",
        "\n",
        "# Strip down to simple roman characters\n",
        "new.txt <- iconv(txt, from = 'UTF-8', to = 'ASCII//TRANSLIT')\n",
        "print(txt)\n",
        "print(new.txt)  # Converts to full-roman simple characters"
      ],
      "metadata": {
        "id": "-wVAJfll1QSB"
      },
      "execution_count": null,
      "outputs": []
    },
    {
      "cell_type": "markdown",
      "source": [
        "I recommend you convert all text to these simple characters or you can run into coherence problems. Use `iconvlist()` for a dictionary of encodings that can be converted.\n",
        "\n",
        "For more advanced things, a nice package to deal with strings in `R` is `stringr`, check it out."
      ],
      "metadata": {
        "id": "SjgZq0Yj3DIP"
      }
    },
    {
      "cell_type": "markdown",
      "metadata": {
        "id": "TTAdo_uDBPk3"
      },
      "source": [
        "## 10. Basic data visualization"
      ]
    },
    {
      "cell_type": "markdown",
      "source": [
        "Beyond numerical summaries, charts and graphs are often fundamental to communicate and understand the information contained in your data. `R` offers an extremely flexible framework to produce high quality plots, which sometimes requires a bit of practice. Let us cover some basic static plots, and the essential tools to build some of your own.\n",
        "\n",
        "Some basic built-in charts:"
      ],
      "metadata": {
        "id": "xbps2NIweIT-"
      }
    },
    {
      "cell_type": "code",
      "source": [
        "set.seed(666)\n",
        "x <- rnorm(1e3, mean = 1, sd = 2)\n",
        "y <- rnorm(1e3, mean = -1, sd = 0.5)\n",
        "z <- sample(LETTERS[1:4], 1e3, replace = TRUE)\n",
        "\n",
        "# Boxplot (look at the set of arguments)\n",
        "boxplot(x)\n",
        "boxplot(x, y)  # Joint plot\n",
        "\n",
        "# Histogram\n",
        "hist(x)\n",
        "hist(y, breaks = 50)  # Number of columns\n",
        "\n",
        "# Barplot (categorical variable)\n",
        "barplot(table(z))"
      ],
      "metadata": {
        "id": "R8wPDD3HfZcv"
      },
      "execution_count": null,
      "outputs": []
    },
    {
      "cell_type": "markdown",
      "source": [
        "However, the generic function to generate static charts in `R` is `plot()`. The functions we just used have `plot()` underlying their structure, and use the same parameters. This function allows for a large number of arguments that allow to fully customize it to what you might need."
      ],
      "metadata": {
        "id": "KWzlrkrZiLV-"
      }
    },
    {
      "cell_type": "code",
      "source": [
        "plot(x, y, col = 'black', pch = 16,  # \"pch\" is a parameter determining the shape of the dot\n",
        "  xlab = 'Name of the x-axis',\n",
        "  ylab = 'Name of the y-axis',\n",
        "  main = 'This is a scatter plot')"
      ],
      "metadata": {
        "id": "rP0V0w83ioOZ"
      },
      "execution_count": null,
      "outputs": []
    },
    {
      "cell_type": "markdown",
      "source": [
        "One key-parameter is `type`, which determines the nature of the plot. By default this is of `type = 'p'`, i.e. of points. Set it to `type = 'l'` for a line plot, or, for example, or to `type = 'n'` to just plot the framework. "
      ],
      "metadata": {
        "id": "3g5hQqfbxI0k"
      }
    },
    {
      "cell_type": "code",
      "source": [
        "# Line plots\n",
        "plot(sort(x), cumsum(sort(x)), type = 'l',\n",
        "  xlab = 'Name of the x-axis',\n",
        "  ylab = 'Name of the y-axis')"
      ],
      "metadata": {
        "id": "XWXUYQwuxEpx"
      },
      "execution_count": null,
      "outputs": []
    },
    {
      "cell_type": "markdown",
      "source": [
        "Other very relevant parameters:\n",
        "\n",
        "*  `xlim`: two-position vector to establish limits of the $x$-axis\n",
        "*  `ylim`: same for the $y$-axis\n",
        "*  `xaxt`: boolean to have values on the $x$-axis\n",
        "*  `yaxt`: boolean to have values on the $y$-axis\n",
        "*  `asp`: sets the aspect-ratio of the plot\n",
        "*  `frame.plot`: draw a frame on the edges of the plot\n",
        "*  `log`: to use a logarithmic scale on either axis\n",
        "\n",
        "There are other more general graphical parameters that you can specify as well, such as `col` or `pch`, we highlight the following:\n",
        "\n",
        "*   `bg`: background colours of the plot symbols\n",
        "*   `cex`: size of the plot symbols (by default is 1)\n",
        "*   `col`: for colour, but also if you want to regulate opacity of the symbols, e.g. `col = alpha(cols, 0.5)` gives them an opacity of 50%\n",
        "*   `lty` (for line plots): type of line (solid, dashed, points...)\n",
        "*   `lwd` (for line plots): width of the lines\n",
        "\n",
        "The `plot()` function is the backbone to most static diagrams in `R`. We introduce a few more functions to complement it:"
      ],
      "metadata": {
        "id": "ORWfn_SJkV2C"
      }
    },
    {
      "cell_type": "code",
      "source": [
        "# Run again a simple linear model\n",
        "set.seed(666)\n",
        "n <- 100  # rows\n",
        "X <- matrix(rnorm(n), nrow = n, ncol = 1)  # Regression matrix\n",
        "b <- 1  # Regression coefficient\n",
        "y <- X %*% b + rnorm(n)  # Model: y = X * b + epsilon, epsilon is N(0, 1)\n",
        "df <- cbind.data.frame(y, X)  # Put all the data into one data.frame\n",
        "colnames(df) <- c('y', 'x')  # Column names\n",
        "\n",
        "# We will plot the estimated equation\n",
        "plot(df[, 'x'], df[, 'y'],\n",
        "  xlab = 'Explanatory variable',\n",
        "  ylab = 'Response variable',\n",
        "  main = 'Simple linear model',\n",
        "  type = 'n')  # Create only the framework\n",
        "\n",
        "# Filling the plot\n",
        "grid()  # Adds a fine grid\n",
        "neg.x <- which(df[, 'x'] < 0)  # Observations that have negative \"x\"\n",
        "pos.x <- which(df[, 'x'] > 0)  # Observations that have positive \"x\"\n",
        "points(df[neg.x, 'x'], df[neg.x, 'y'], col = 'blue', pch = 16)  # Blue points for negative x's\n",
        "points(df[pos.x, 'x'], df[pos.x, 'y'], col = 'red', pch = 16)  # Red points for negative x's\n",
        "abline(lm(y ~ x, data = df))  # Add line with regression model\n",
        "abline(v = 0, lty = 2)  # Add a line \"vertical\" at 0\n",
        "abline(h = 0, lty = 2)  # Add a line \"horizontal\" at 0\n",
        "text(-2, -5.5, 'here is an extreme value')  # Add text to the plot\n",
        "\n",
        "# Legend\n",
        "legend('topleft', legend = c('positive', 'negative'), col = c('red', 'blue'), pch = 16)  \n",
        "\n",
        "# For a line plot you would need the function \"lines()\" -- works just the same\n",
        "# Try replacing the FALSE with a TRUE to ruin your plot\n",
        "if (FALSE) {\n",
        "  values <- seq(-3, 3, 0.01)\n",
        "  lines(values, sin(values), col = 'orange', lwd = 2)\n",
        "}"
      ],
      "metadata": {
        "id": "Z2oCUvGDrcdG"
      },
      "execution_count": null,
      "outputs": []
    },
    {
      "cell_type": "markdown",
      "source": [
        "**All these functions are super flexible**, I recommend exploring them.\n",
        "\n",
        "Finally, note that you can make multiple plots on the same frame, and that you can store them out as `.png`, `.jpeg`, or `.pdf` (recommended). Here is how:"
      ],
      "metadata": {
        "id": "C1_m9oGi1Nk_"
      }
    },
    {
      "cell_type": "code",
      "source": [
        "set.seed(666)\n",
        "x <- rnorm(1e3, mean = 1, sd = 2)\n",
        "y <- rnorm(1e3, mean = -1, sd = 0.5)\n",
        "\n",
        "# Define the external file as at <file_path.ext>\n",
        "#png(<file_path.png>, height = 4, width = 6)  # To save as .png\n",
        "#jpeg(<file_path.jpeg>, height = 4, width = 6)  # To save as .jpeg\n",
        "#pdf(<file_path.pdf>, height = 4, width = 6)  # To save as .pdf\n",
        "par(mfrow = c(1, 2))  # 1 row and two columns of plots\n",
        "plot(density(x), xlim = c(-6, 6), col = 'blue')  # This plots a kernelised density of the sample\n",
        "plot(density(y), xlim = c(-6, 6), col = 'red')\n",
        "#dev.off()  # If you save it externally, run this at the end to close connection!"
      ],
      "metadata": {
        "id": "3uFeD2E92QhN"
      },
      "execution_count": null,
      "outputs": []
    },
    {
      "cell_type": "markdown",
      "metadata": {
        "id": "ZI0WQtPGBWpr"
      },
      "source": [
        "## 11. Popular packages\n",
        "\n",
        "Out of all the packages available in `R`, some are used by a wide variety of user's and have transformed them into the gold standard to process some operations. The list of useful packages is endless, so we will just highlight a few of the most popular ones. Feel free, however, to explore the package universe, there is pretty much on for anything you can think of."
      ]
    },
    {
      "cell_type": "markdown",
      "source": [
        "### 11.1 `dplyr`\n",
        "\n",
        "This is a popular package that is designed to clean, process, and manipulate data in a faster and more compact way than the canonical methods we have exposed above. In short, it offers a fast alternative to manage tabular data (`data.frame`) with simpler *grammar* than base `R`. We highlight the main operations that can be done with `dplyr`, and offer the corresponding base method to compare."
      ],
      "metadata": {
        "id": "KEIVqR6J1mHf"
      }
    },
    {
      "cell_type": "code",
      "source": [
        "# Load the package\n",
        "library(dplyr)\n",
        "\n",
        "# Dataset: air pollution and temperature data for the city of Chicago (IL)\n",
        "link <- \"https://raw.githubusercontent.com/barcelonagse-datascience/academic_files/master/data/chicago\"\n",
        "chicago <- readRDS(url(link, \"rb\"))  # url() declares the link as an active file\n",
        "\n",
        "# General info\n",
        "dim(chicago)  # 6940x8\n",
        "class(chicago)  # data.frame\n",
        "head(chicago)"
      ],
      "metadata": {
        "id": "eenV79MLAPiL"
      },
      "execution_count": null,
      "outputs": []
    },
    {
      "cell_type": "code",
      "source": [
        "# select(): keep sets of columns\n",
        "data <- dplyr::select(chicago, city:dptp)  # Select variables from 'city' to 'dptp'\n",
        "data <- dplyr::select(chicago, -(city:dptp))  # All but this range\n",
        "data <- dplyr::select(chicago, ends_with('2'))  # That the column name ends in '2'\n",
        "data <- dplyr::select(chicago, starts_with('d'))  # That it starts with 'd'\n",
        "\n",
        "# Same thing with base R...\n",
        "if (FALSE) {\n",
        "  data <- chicago[, colnames(chicago) %in% colnames(chicago)[1:3]]\n",
        "  data <- chicago[, ! colnames(chicago) %in% colnames(chicago)[1:3]]  # NOT in\n",
        "  data <- chicago[, grep('2$', colnames(chicago))]\n",
        "  data <- chicago[, grep('^d', colnames(chicago))]\n",
        "}"
      ],
      "metadata": {
        "id": "B1Q-IYSABXab"
      },
      "execution_count": 94,
      "outputs": []
    },
    {
      "cell_type": "code",
      "source": [
        "# filter(): keep sets of observations\n",
        "chic.f <- dplyr::filter(chicago, (pm25tmean2 > 30) & (tmpd > 80))\n",
        "\n",
        "summary(chic.f[, 'pm25tmean2'])\n",
        "summary(chic.f[, 'tmpd'])\n",
        "\n",
        "# Same thing with base R...\n",
        "if (FALSE) {\n",
        "  chic.f <- chicago[which(chicago[, 'pm25tmean2'] > 30 & chicago[, 'tmpd'] > 80), ]\n",
        "}"
      ],
      "metadata": {
        "id": "p6JowYnQDMMI"
      },
      "execution_count": null,
      "outputs": []
    },
    {
      "cell_type": "code",
      "source": [
        "# arrange(): sort the observations by some criterion\n",
        "chicago <- dplyr::arrange(chicago, date)  # by date (ascending)\n",
        "chicago <- dplyr::arrange(chicago, desc(date))  # descending\n",
        "\n",
        "# Same thing with base R...\n",
        "if (FALSE) {\n",
        "  chicago <- chicago[order(chicago[, 'date'], decreasing = FALSE), ]\n",
        "  chicago <- chicago[order(chicago[, 'date'], decreasing = TRUE), ]\n",
        "}"
      ],
      "metadata": {
        "id": "lzAI09ulE8fj"
      },
      "execution_count": 96,
      "outputs": []
    },
    {
      "cell_type": "code",
      "source": [
        "# rename(): change column names\n",
        "chicago <- dplyr::rename(chicago, dewpoint = dptp, pm25 = pm25tmean2)  # Some names are obscure\n",
        "\n",
        "# Same thing with base R...\n",
        "if (FALSE) {\n",
        "  colnames(chicago)[colnames(chicago) == 'dptp'] <- 'dewpoint'\n",
        "  colnames(chicago)[colnames(chicago) == 'pm25'] <- 'pm25tmean2'\n",
        "}"
      ],
      "metadata": {
        "id": "_2Bar3rAFcke"
      },
      "execution_count": 97,
      "outputs": []
    },
    {
      "cell_type": "code",
      "source": [
        "# mutate(): compute transformations of variables\n",
        "chicago <- dplyr::mutate(chicago, pm25detrend = pm25 - mean(pm25, na.rm = TRUE))\n",
        "\n",
        "# Same thing with base R...\n",
        "# (check also base function: with())\n",
        "if (FALSE) {\n",
        "  chicago[, 'pm25detrend'] <- chicago[, 'pm25'] - mean(chicago[, 'pm25'], na.rm = TRUE)\n",
        "  #chicago[, 'pm25detrend'] <- scale(chicago[, 'pm25'], center = TRUE, scale = FALSE)  # Even simpler\n",
        "}"
      ],
      "metadata": {
        "id": "UmR9W60yGPrq"
      },
      "execution_count": 98,
      "outputs": []
    },
    {
      "cell_type": "code",
      "source": [
        "# For example, we might want to know what the average annual level of PM2.5 is. \n",
        "# The stratum is the year and that is something we can derive from the date variable.\n",
        "chicago_new <- mutate(chicago, year = as.POSIXlt(date)$year + 1900 )\n",
        "\n",
        "# group_by() and summarize(): generate summary stats based on strata\n",
        "years <- dplyr::group_by(chicago_new, year)\n",
        "summ <- dplyr::summarize(years, yearlypm25 = mean(pm25, na.rm=TRUE),\n",
        "  o3 = max(o3tmean2, na.rm = TRUE), no2 = median(no2tmean2, na.rm = TRUE))\n",
        "tail(summ)\n",
        "\n",
        "# Same thing with base R...\n",
        "if (TRUE) {\n",
        "  summ2 <- cbind(\n",
        "    tapply(chicago_new[, 'pm25'], chicago_new[, 'year'], mean, na.rm = TRUE),\n",
        "    tapply(chicago_new[, 'o3tmean2'], chicago_new[, 'year'], max, na.rm = TRUE),\n",
        "    tapply(chicago_new[, 'no2tmean2'], chicago_new[, 'year'], median, na.rm = TRUE))\n",
        "  tail(summ2)\n",
        "}"
      ],
      "metadata": {
        "id": "GUkHBYC3G7qp"
      },
      "execution_count": null,
      "outputs": []
    },
    {
      "cell_type": "markdown",
      "source": [
        "You can also do the usual `join` operations using\n",
        "\n",
        "*   `inner_join(df1, df2, by = c('<column_name(s)>'))`\n",
        "*   `outer_join(df1, df2, by = c('<column_name(s)>'))`\n",
        "*   `left_join(df1, df2, by = c('<column_name(s)>'))`\n",
        "*   `right_join(df1, df2, by = c('<column_name(s)>'))`\n",
        "\n"
      ],
      "metadata": {
        "id": "rNc7mBs2RGb5"
      }
    },
    {
      "cell_type": "markdown",
      "source": [
        "A final feature of this syntax is the use of the *funny* pipeline operator, `%>%`. This operator enables to concatenate together multiple `dplyr` functions in a sequence."
      ],
      "metadata": {
        "id": "HSsk-WRLS1wy"
      }
    },
    {
      "cell_type": "code",
      "source": [
        "# Repeat the previous operation by month (with the pipeline)\n",
        "# Structure (L-to-R): result <- first(x) %>% second %>% third\n",
        "summ <- mutate(chicago, month = as.POSIXlt(date)$mon + 1) %>%\n",
        "  group_by(month) %>%\n",
        "  summarize(pm25_max = max(pm25, na.rm = TRUE),\n",
        "    o3_max = max(o3tmean2, na.rm = TRUE),\n",
        "    no2_max = max(no2tmean2, na.rm = TRUE))\n",
        "\n",
        "summ"
      ],
      "metadata": {
        "id": "LFxpcjbZTLnV"
      },
      "execution_count": null,
      "outputs": []
    },
    {
      "cell_type": "markdown",
      "source": [
        "Use responsibly and with caution, this becomes complicated quickly and debugging can turn into a nightmare."
      ],
      "metadata": {
        "id": "1qpHwPbkUU4t"
      }
    },
    {
      "cell_type": "markdown",
      "source": [
        "### 11.2 `data.table`\n",
        "\n",
        "This is an alternative library to `dplyr`, and its main advantage is speed. In particular, when doing merges (joins) and when reading data. For small datasets the difference may not be relevant, but this changes quickly whenever you deal with *large* datasets (hundreds of Mb). `data.table` provides an enhanced version of `data.frame`s, and is compatible with most base methods to manage `data.frame`s, although it has expanded `data.table` methods.\n",
        "\n",
        "You can follow the official [*vignette*](https://cran.r-project.org/web/packages/data.table/vignettes/datatable-intro.html) of `data.table` for an alternative introduction. A complete [cheat sheet](https://raw.githubusercontent.com/rstudio/cheatsheets/master/datatable.pdf) is also available online."
      ],
      "metadata": {
        "id": "V0a8HxOaDv7W"
      }
    },
    {
      "cell_type": "markdown",
      "source": [
        "### 11.3 `ggplot2`\n",
        "\n",
        "This is one of the most used and abused libraries in `R`, which is designed to make the plotting part of the work a little bit more simple and short. The fundamental idea is to treat plots as any other object in `R` (in particular a `ggplot` object), and to which you can add *layers*, using the simple `+` operator, to make it more complete.\n",
        "\n",
        "Tutorials and a helpful cheat sheet can be found at the official site of the package:\n",
        "\n",
        "*   https://ggplot2.tidyverse.org/index.html\n",
        "\n",
        "The use of `ggplot` is a matter of personal taste and its results are more of an aesthetic nature, since the appearence of a plot is highly malleable with \"little\" work on the coder's end. Personally, if I have to escape from base `R` plotting, I've felt more inclined to use the [`plotly` package](https://plotly.com/r/) in the past, which is a cross-platform graphic interface that can deal with complex plotting needs."
      ],
      "metadata": {
        "id": "bEFpqv-I1uyG"
      }
    },
    {
      "cell_type": "markdown",
      "source": [
        "### 11.4 `shiny`\n",
        "\n",
        "This is a very useful package that is widely used to create interactive webpages with `R`. The idea is to code all visual elements of a webpage that is centered around visualizing and interacting with some data that runs in `R` on the back. It is fairly simple and intuitive to use and implement, and produces outstanding results in a minimal amount of time of development.\n",
        "\n",
        "A proper introduction to `shiny` is well beyond the scope of this course, but the official tutorials are excellent to get you going:\n",
        "\n",
        "*   https://shiny.rstudio.com/tutorial/\n",
        "\n",
        "Have a look at the gallery to see what you can do with this and spark your creativity.\n"
      ],
      "metadata": {
        "id": "kAim-02a1yPo"
      }
    },
    {
      "cell_type": "markdown",
      "metadata": {
        "id": "k3QsbI4MBe9O"
      },
      "source": [
        "## 12. Notes on relevant topics\n",
        " \n",
        "We introduce some specific topics that can be dealt with in `R`."
      ]
    },
    {
      "cell_type": "markdown",
      "source": [
        "### 12.1 Working with time and dates\n",
        "\n",
        "Dates are another type of object in `R`, which you can be operated on like other objects. They are of class `Date` (dates), `POSIXt` (dates and times) and `POSIXct` (dates and times with a time zone) -- you can use `is.` and `as.` operations on them."
      ],
      "metadata": {
        "id": "N_7dDG2S1gWT"
      }
    },
    {
      "cell_type": "code",
      "source": [
        "# Time registered in the computed\n",
        "today <- Sys.Date()  # Current time (class: Date)\n",
        "now <- Sys.time()  # Current time\n",
        "print(now)\n",
        "class(now)\n",
        "\n",
        "# Convert string to date and time format (look at how format is indicated!)\n",
        "date1 <- strptime('2022-01-04 15:00:00', format = '%Y-%m-%d %H:%M:%S')\n",
        "date2 <- strptime('2022-01-03 14:00:00', format = '%Y-%m-%d %H:%M:%S', tz = 'GMT')  # Add a time zone\n",
        "date3 <- as.Date('2022-01-04', format = '%Y-%m-%d')  # If you only have date (no time)\n",
        "\n",
        "# There is a less opaque function to do that\n",
        "ISOdatetime(year = 2022, month = 01, day = 04, hour = 15, min = 0, sec = 0)"
      ],
      "metadata": {
        "id": "IWFLPt-0_OHG"
      },
      "execution_count": null,
      "outputs": []
    },
    {
      "cell_type": "code",
      "source": [
        "# You can also coerce to \"POSIXct\" like in other classes\n",
        "date1 <- as.POSIXct('2022-01-04 15:00', format = '%Y-%m-%d %H:%M')\n",
        "str(date1)\n",
        "unclass(date1)  # it is subsettable!"
      ],
      "metadata": {
        "id": "4CkvjWQEArYD"
      },
      "execution_count": null,
      "outputs": []
    },
    {
      "cell_type": "code",
      "source": [
        "# Some information encoded in a time object\n",
        "julian(now)  # Julian time\n",
        "months(now)\n",
        "quarters(now)\n",
        "weekdays(now)\n",
        "seq.Date(from = as.Date('2017-01-04'),\n",
        "  to = as.Date('2022-01-04'),\n",
        "  by = \"year\")  # Sequence of dates\n",
        "\n",
        "# You can format it the way you need\n",
        "format(date1, format = '%H:%M:%S')\n",
        "# There is a large number of formats: type \"?strptime\" to discover all abbreviations"
      ],
      "metadata": {
        "colab": {
          "base_uri": "https://localhost:8080/",
          "height": 121
        },
        "id": "blfC6b-FEnDM",
        "outputId": "d6283f53-c2f6-4929-8108-549a0d02368f"
      },
      "execution_count": 80,
      "outputs": [
        {
          "output_type": "display_data",
          "data": {
            "text/plain": [
              "Time difference of 18984.68 days"
            ]
          },
          "metadata": {}
        },
        {
          "output_type": "display_data",
          "data": {
            "text/plain": [
              "[1] \"December\""
            ],
            "text/latex": "'December'",
            "text/markdown": "'December'",
            "text/html": [
              "'December'"
            ]
          },
          "metadata": {}
        },
        {
          "output_type": "display_data",
          "data": {
            "text/plain": [
              "[1] \"Q4\""
            ],
            "text/latex": "'Q4'",
            "text/markdown": "'Q4'",
            "text/html": [
              "'Q4'"
            ]
          },
          "metadata": {}
        },
        {
          "output_type": "display_data",
          "data": {
            "text/plain": [
              "[1] \"Thursday\""
            ],
            "text/latex": "'Thursday'",
            "text/markdown": "'Thursday'",
            "text/html": [
              "'Thursday'"
            ]
          },
          "metadata": {}
        },
        {
          "output_type": "display_data",
          "data": {
            "text/plain": [
              "[1] \"2017-01-04\" \"2018-01-04\" \"2019-01-04\" \"2020-01-04\" \"2021-01-04\"\n",
              "[6] \"2022-01-04\""
            ],
            "text/latex": "\\begin{enumerate*}\n\\item 2017-01-04\n\\item 2018-01-04\n\\item 2019-01-04\n\\item 2020-01-04\n\\item 2021-01-04\n\\item 2022-01-04\n\\end{enumerate*}\n",
            "text/markdown": "1. 2017-01-04\n2. 2018-01-04\n3. 2019-01-04\n4. 2020-01-04\n5. 2021-01-04\n6. 2022-01-04\n\n\n",
            "text/html": [
              "<style>\n",
              ".list-inline {list-style: none; margin:0; padding: 0}\n",
              ".list-inline>li {display: inline-block}\n",
              ".list-inline>li:not(:last-child)::after {content: \"\\00b7\"; padding: 0 .5ex}\n",
              "</style>\n",
              "<ol class=list-inline><li><time datetime=\"2017-01-04\">2017-01-04</time></li><li><time datetime=\"2018-01-04\">2018-01-04</time></li><li><time datetime=\"2019-01-04\">2019-01-04</time></li><li><time datetime=\"2020-01-04\">2020-01-04</time></li><li><time datetime=\"2021-01-04\">2021-01-04</time></li><li><time datetime=\"2022-01-04\">2022-01-04</time></li></ol>\n"
            ]
          },
          "metadata": {}
        },
        {
          "output_type": "display_data",
          "data": {
            "text/plain": [
              "[1] \"15:00:00\""
            ],
            "text/latex": "'15:00:00'",
            "text/markdown": "'15:00:00'",
            "text/html": [
              "'15:00:00'"
            ]
          },
          "metadata": {}
        }
      ]
    },
    {
      "cell_type": "code",
      "source": [
        "# Time difference between to time objects\n",
        "difftime(date1, date2)\n",
        "\n",
        "# In fact, you can operate with time objects as if they were numeric\n",
        "date1 - date2  # Same\n",
        "date1 + 1  # Units are seconds\n",
        "date1 > date2\n",
        "\n",
        "# Count days from a date\n",
        "as.Date(7654, origin = \"2000-01-01\")"
      ],
      "metadata": {
        "colab": {
          "base_uri": "https://localhost:8080/",
          "height": 104
        },
        "id": "lOaT7BM4FBkF",
        "outputId": "f0c0c3a8-6b3a-4695-81fe-e5574b4f2a71"
      },
      "execution_count": 74,
      "outputs": [
        {
          "output_type": "display_data",
          "data": {
            "text/plain": [
              "Time difference of 1.041667 days"
            ]
          },
          "metadata": {}
        },
        {
          "output_type": "display_data",
          "data": {
            "text/plain": [
              "Time difference of 1.041667 days"
            ]
          },
          "metadata": {}
        },
        {
          "output_type": "display_data",
          "data": {
            "text/plain": [
              "[1] \"2022-01-04 15:00:01 UTC\""
            ]
          },
          "metadata": {}
        },
        {
          "output_type": "display_data",
          "data": {
            "text/plain": [
              "[1] TRUE"
            ],
            "text/latex": "TRUE",
            "text/markdown": "TRUE",
            "text/html": [
              "TRUE"
            ]
          },
          "metadata": {}
        },
        {
          "output_type": "display_data",
          "data": {
            "text/plain": [
              "[1] \"2020-12-15\""
            ],
            "text/latex": "2020-12-15",
            "text/markdown": "2020-12-15",
            "text/html": [
              "<time datetime=\"2020-12-15\">2020-12-15</time>"
            ]
          },
          "metadata": {}
        }
      ]
    },
    {
      "cell_type": "markdown",
      "source": [
        "Here we have only provided basic native ways to dealing with time objects in `R`. I recommend you have a look at the `lubridate` package if you have more advanced or intensive needs. A link to the *cheat sheet*:\n",
        "\n",
        "*  https://rawgit.com/rstudio/cheatsheets/main/lubridate.pdf\n",
        "\n",
        "This package provides a lot of operations to manage date objects, as well as a few cool features."
      ],
      "metadata": {
        "id": "GKGArPE17mSJ"
      }
    },
    {
      "cell_type": "markdown",
      "source": [
        "### 12.2 Web scrapping and `html` parsing\n",
        "\n",
        "This basically consists on reading web pages from `R` and processing the information that the `html` contains. There are no base methods capable of dealing adequately with this task, thus for such purpose a popular package is `rvest`.\n",
        "\n",
        "To illustrate this, we will try to access weather forecast data for Manhattan, NY from the website of the U.S. [National Weather Service](https://forecast.weather.gov), and lay out the weather forecast we retrieve on a simple table."
      ],
      "metadata": {
        "id": "jwhBtbMj1hT_"
      }
    },
    {
      "cell_type": "code",
      "source": [
        "library(rvest)  # To access and read HTML\n",
        "\n",
        "# URL containing weather forecast in Manhattan, NY\n",
        "wurl <- 'https://forecast.weather.gov/MapClick.php?lat=40.7145&lon=-74.006#.YcSmhB3OGNY'\n",
        "html <- rvest::read_html(wurl)  # Read the HTML on the webpage"
      ],
      "metadata": {
        "id": "xkUH2YyjLFf2"
      },
      "execution_count": null,
      "outputs": []
    },
    {
      "cell_type": "code",
      "source": [
        "# Parse the nodes in the HTML\n",
        "nodes <- rvest::html_nodes(html, \".temp\")\n",
        "nodes"
      ],
      "metadata": {
        "id": "mf5ff7IUNTWj"
      },
      "execution_count": null,
      "outputs": []
    },
    {
      "cell_type": "code",
      "source": [
        "# Extract the text from each node\n",
        "node.txt <- sapply(nodes, rvest::html_text)"
      ],
      "metadata": {
        "id": "a-bZBZeLPbO1"
      },
      "execution_count": null,
      "outputs": []
    },
    {
      "cell_type": "code",
      "source": [
        "# Extract numerical values\n",
        "nums <- readr::parse_number(node.txt)\n",
        "n <- length(nums) - 1  # Ignore the last element\n",
        "forecasts <- cbind(nums[seq(1, n, 2)], nums[seq(2, n, 2)])\n",
        "forecasts"
      ],
      "metadata": {
        "id": "H9n9BH8TP2ki"
      },
      "execution_count": null,
      "outputs": []
    },
    {
      "cell_type": "code",
      "source": [
        "# Make it pretty\n",
        "colnames(forecasts) <- c('High', 'low')\n",
        "rownames(forecasts) <- as.character(seq.Date(\n",
        "  from = as.Date('2022-01-04'),\n",
        "  to = as.Date('2022-01-07'),\n",
        "  by = \"day\"))\n",
        "forecasts  # Remember you can save this object as an R Data file"
      ],
      "metadata": {
        "id": "03eF7SJSRdVv"
      },
      "execution_count": null,
      "outputs": []
    },
    {
      "cell_type": "markdown",
      "source": [
        "This is an extremely simple example, but there are uncountable things you can do with `html` data. I recommend you go deeper into what `rvest` can do if this is something you are interested in.\n",
        "\n",
        "**Final Disclaimer:** web scrapping on certain scales may not be legit depending on the site, or even not completely legal under some jurisdictions, especially if you use what you gather with commercial purposes. Many sites provide what's called a [`robots.txt`](https://developers.google.com/search/docs/advanced/robots/intro) file that tells you what you are allowed to do with data you collect from their website. Respect that."
      ],
      "metadata": {
        "id": "2a7fmYYWRhTA"
      }
    }
  ]
}