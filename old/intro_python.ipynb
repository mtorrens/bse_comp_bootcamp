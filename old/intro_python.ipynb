{
 "cells": [
  {
   "cell_type": "markdown",
   "metadata": {
    "id": "c1CEGPA5zwMi"
   },
   "source": [
    "<img src = \"https://github.com/barcelonagse-datascience/academic_files/raw/master/bgsedsc_0.jpg\">"
   ]
  },
  {
   "cell_type": "markdown",
   "metadata": {
    "ein.tags": "worksheet-0",
    "id": "PPCbr1T8zwMi"
   },
   "source": [
    "# Introduction to programming with Python\n",
    "\n",
    "<img src = \"https://www.python.org/static/img/python-logo.png\">"
   ]
  },
  {
   "cell_type": "markdown",
   "metadata": {
    "ein.tags": "worksheet-0",
    "id": "mXLH_smBzwMi"
   },
   "source": [
    "## Python brief history \n",
    "\n",
    "Created in 1989 by Guido Van Rossum - Monty Python fan hence the name and the jokes!\n",
    "\n",
    "+ Currently there are two versions available\n",
    "  + 2.7.x (2010)\n",
    "  + 3.9.x (2020)\n",
    "\n",
    "+ Python 2.7 is supported until 2020, users are\n",
    "  encouraged to move to Python 3 as soon as possible "
   ]
  },
  {
   "cell_type": "markdown",
   "metadata": {
    "ein.tags": "worksheet-0",
    "id": "YhxowbgrzwMi"
   },
   "source": [
    "## The Zen of Python, by Tim Peters\n",
    "\n",
    "Beautiful is better than ugly.  \n",
    "Explicit is better than implicit.  \n",
    "Simple is better than complex.  \n",
    "Complex is better than complicated.  \n",
    "Flat is better than nested.  \n",
    "Sparse is better than dense.  \n",
    "Readability counts.  \n",
    "Special cases aren't special enough to break the rules.  \n",
    "Although practicality beats purity.  \n",
    "Errors should never pass silently.  \n",
    "Unless explicitly silenced.  \n",
    "In the face of ambiguity, refuse the temptation to guess.  \n",
    "There should be one-- and preferably only one --obvious way to do it.  \n",
    "Although that way may not be obvious at first unless you're Dutch.  \n",
    "Now is better than never.  \n",
    "Although never is often better than *right* now.  \n",
    "If the implementation is hard to explain, it's a bad idea.  \n",
    "If the implementation is easy to explain, it may be a good idea.  \n",
    "Namespaces are one honking great idea -- let's do more of those!  "
   ]
  },
  {
   "cell_type": "markdown",
   "metadata": {
    "ein.tags": "worksheet-0",
    "id": "WrMVlvfkzwMi"
   },
   "source": [
    "## Working with Jupyter notebook \n",
    "\n",
    "+ Edit cells.\n",
    "+ Command completion and help\n",
    "+ Type of cells\n",
    "+ Executing cells (ctrl+enter, shift+enter)\n",
    "+ Command mode vs Edit mode (esc, enter)\n",
    "+ Inserting new cells above and below (a,b)\n",
    "+ Deleting cells (d d)\n",
    "+ Undo deleted cell (z)\n",
    "+ Undo inside code cell (ctrl+z)\n",
    "+ Saving\n",
    "+ Python help on commands: place cursor and type SHIFT+TAB"
   ]
  },
  {
   "cell_type": "markdown",
   "metadata": {
    "id": "HTeZk6ODBQyZ"
   },
   "source": [
    "## Working in Google Collab\n",
    "\n",
    "You can find specificities of working with Jupyter notebook in Google Collab (here)[https://colab.research.google.com/notebooks/basic_features_overview.ipynb].\n",
    "\n",
    "Note that TAB key is used for auto-completion and to explore code documentation.\n",
    "\n",
    "CTRL+/ is used to comment/uncomment lines of code."
   ]
  },
  {
   "cell_type": "markdown",
   "metadata": {
    "ein.tags": "worksheet-0",
    "id": "tqBJ765UzwMi"
   },
   "source": [
    "## Data types and Variables\n",
    "\n",
    "\n",
    "Variables in Python hide what is inside of them. It is _extremely_ important that, whenever you are working with variables, you have in mind what TYPE of thing the variable holds. One way to help yourself is to use helpful names with variables (hint: don't use \"x\"!).\n",
    "\n",
    "You can check the type of a variable with the built-in \"type\" function: \n",
    "\n",
    "```python\n",
    "x = 5\n",
    "type(x)\n",
    "```\n",
    "\n",
    "Use this to check the type of all the variables in the cells below (NOTE: Jupyter will automatically display the value of the last expression evaluated in the cell): "
   ]
  },
  {
   "cell_type": "code",
   "execution_count": 5,
   "metadata": {
    "autoscroll": false,
    "ein.hycell": false,
    "ein.tags": "worksheet-0",
    "executionInfo": {
     "elapsed": 574,
     "status": "ok",
     "timestamp": 1612428977236,
     "user": {
      "displayName": "Joan Verdú",
      "photoUrl": "https://lh3.googleusercontent.com/a-/AOh14Ghq6Zm9ACo3kD6kZhp6ZuWkYJqG_DQfPoIV1Ues=s64",
      "userId": "17893353067607712705"
     },
     "user_tz": -60
    },
    "id": "i0GUVNtUzwMi",
    "scrolled": true
   },
   "outputs": [
    {
     "data": {
      "text/plain": [
       "3.2"
      ]
     },
     "execution_count": 5,
     "metadata": {},
     "output_type": "execute_result"
    }
   ],
   "source": [
    "# Numbers\n",
    "\n",
    "x = 3\n",
    "y = 3.2"
   ]
  },
  {
   "cell_type": "code",
   "execution_count": 10,
   "metadata": {
    "autoscroll": false,
    "ein.hycell": false,
    "ein.tags": "worksheet-0",
    "executionInfo": {
     "elapsed": 1293,
     "status": "ok",
     "timestamp": 1612426172252,
     "user": {
      "displayName": "Joan Verdú",
      "photoUrl": "https://lh3.googleusercontent.com/a-/AOh14Ghq6Zm9ACo3kD6kZhp6ZuWkYJqG_DQfPoIV1Ues=s64",
      "userId": "17893353067607712705"
     },
     "user_tz": -60
    },
    "id": "-E5hNo01zwMi"
   },
   "outputs": [
    {
     "data": {
      "text/plain": [
       "'om\"non\"om'"
      ]
     },
     "execution_count": 10,
     "metadata": {},
     "output_type": "execute_result"
    }
   ],
   "source": [
    "# Strings are written between with double quotes (\"\") or single quotes ('')\n",
    "\n",
    "x = \"om\" \n",
    "y = 'om'\n"
   ]
  },
  {
   "cell_type": "code",
   "execution_count": 20,
   "metadata": {
    "autoscroll": false,
    "ein.hycell": false,
    "ein.tags": "worksheet-0",
    "executionInfo": {
     "elapsed": 1292,
     "status": "ok",
     "timestamp": 1612426172253,
     "user": {
      "displayName": "Joan Verdú",
      "photoUrl": "https://lh3.googleusercontent.com/a-/AOh14Ghq6Zm9ACo3kD6kZhp6ZuWkYJqG_DQfPoIV1Ues=s64",
      "userId": "17893353067607712705"
     },
     "user_tz": -60
    },
    "id": "ja6pDKDNzwMi"
   },
   "outputs": [
    {
     "data": {
      "text/plain": [
       "False"
      ]
     },
     "execution_count": 20,
     "metadata": {},
     "output_type": "execute_result"
    }
   ],
   "source": [
    "# Boolean\n",
    "\n",
    "x = True  \n",
    "x = False \n",
    "0==0 and 1==0"
   ]
  },
  {
   "cell_type": "code",
   "execution_count": 24,
   "metadata": {
    "autoscroll": false,
    "ein.hycell": false,
    "ein.tags": "worksheet-0",
    "executionInfo": {
     "elapsed": 1291,
     "status": "ok",
     "timestamp": 1612426172255,
     "user": {
      "displayName": "Joan Verdú",
      "photoUrl": "https://lh3.googleusercontent.com/a-/AOh14Ghq6Zm9ACo3kD6kZhp6ZuWkYJqG_DQfPoIV1Ues=s64",
      "userId": "17893353067607712705"
     },
     "user_tz": -60
    },
    "id": "xBIxb2FwzwMj"
   },
   "outputs": [],
   "source": [
    "# Null value in Python is a NoneType, written as \"None\"\n",
    "\n",
    "x = None\n"
   ]
  },
  {
   "cell_type": "markdown",
   "metadata": {
    "ein.tags": "worksheet-0",
    "id": "b_FwPY3pzwMj"
   },
   "source": [
    "## Basic operations with numerical data\n",
    "\n",
    "\n",
    "\n",
    "```python\n",
    "# Assignment\n",
    "a = 10      # 10\n",
    "\n",
    "# Increment/Decrement\n",
    "a += 1      # 11\n",
    "a -= 1      # 10\n",
    "\n",
    "# Operations\n",
    "b = a + 1   # 11\n",
    "c = a - 1   # 9\n",
    "\n",
    "d = a * 2   # 20\n",
    "e = a / 2   # 5\n",
    "f = a % 3   # 1   (modulo or integer remainder) \n",
    "g = a ** 2  # 100 (a to the power of 2)\n",
    "\n",
    "# Operations with other variables\n",
    "d = a + b   # 21\n",
    "```"
   ]
  },
  {
   "cell_type": "markdown",
   "metadata": {
    "ein.tags": "worksheet-0",
    "id": "qH2nR31jzwMj"
   },
   "source": [
    "## Basic operations with strings\n",
    "\n",
    "\n",
    "You can concatenate strings together with the + operator: \n",
    "\n",
    "```python\n",
    "\"Hello\" + \" \" + \"World\"\n",
    "```\n",
    "\n",
    "The built-in function \"len\" can be used to find the length of a string: \n",
    "\n",
    "```python\n",
    "len(\"foo\")\n",
    "```"
   ]
  },
  {
   "cell_type": "markdown",
   "metadata": {
    "ein.tags": "worksheet-0",
    "id": "ryjZtG5wzwMj"
   },
   "source": [
    "## Printing\n",
    "\n",
    "It can be useful to \"print\" what we are doing to the screen, this can be done with the built-in \"print\" command\".\n",
    "\n",
    "You might have noticed that Jupyter notebooks automatically displays the value of the last expression in a cell, when you execute it, so you don't need to print that!"
   ]
  },
  {
   "cell_type": "code",
   "execution_count": 5,
   "metadata": {
    "autoscroll": false,
    "colab": {
     "base_uri": "https://localhost:8080/"
    },
    "ein.hycell": false,
    "ein.tags": "worksheet-0",
    "executionInfo": {
     "elapsed": 1280,
     "status": "ok",
     "timestamp": 1612426172256,
     "user": {
      "displayName": "Joan Verdú",
      "photoUrl": "https://lh3.googleusercontent.com/a-/AOh14Ghq6Zm9ACo3kD6kZhp6ZuWkYJqG_DQfPoIV1Ues=s64",
      "userId": "17893353067607712705"
     },
     "user_tz": -60
    },
    "id": "_4HxBwh_zwMj",
    "outputId": "b9d3e0ae-7be6-4232-95d0-f6099e6fe116"
   },
   "outputs": [
    {
     "name": "stdout",
     "output_type": "stream",
     "text": [
      "7.5\n"
     ]
    },
    {
     "data": {
      "text/plain": [
       "True"
      ]
     },
     "execution_count": 5,
     "metadata": {
      "tags": []
     },
     "output_type": "execute_result"
    }
   ],
   "source": [
    "# Printing - note how Jupyter automatically prints \"y\" to \"out\", \n",
    "# but we need to manually print \"x\" if we want to see it!\n",
    "\n",
    "x = 15 / 2\n",
    "print(x)\n",
    "y = x > 2\n",
    "y"
   ]
  },
  {
   "cell_type": "markdown",
   "metadata": {
    "ein.tags": "worksheet-0",
    "id": "MgxDfMM_zwMj"
   },
   "source": [
    "## Logical operations\n",
    "\n",
    "We can check the relationships between different types of data in Python\n",
    "\n",
    "The output of such comparisons/operations are boolean variables\n",
    "\n",
    "Lets see some examples "
   ]
  },
  {
   "cell_type": "code",
   "execution_count": 26,
   "metadata": {
    "autoscroll": false,
    "ein.hycell": false,
    "ein.tags": "worksheet-0",
    "executionInfo": {
     "elapsed": 1277,
     "status": "ok",
     "timestamp": 1612426172256,
     "user": {
      "displayName": "Joan Verdú",
      "photoUrl": "https://lh3.googleusercontent.com/a-/AOh14Ghq6Zm9ACo3kD6kZhp6ZuWkYJqG_DQfPoIV1Ues=s64",
      "userId": "17893353067607712705"
     },
     "user_tz": -60
    },
    "id": "rBB-sqFzzwMj"
   },
   "outputs": [
    {
     "data": {
      "text/plain": [
       "False"
      ]
     },
     "execution_count": 26,
     "metadata": {},
     "output_type": "execute_result"
    }
   ],
   "source": [
    "# Comparing numbers\n",
    "\n",
    "x = 1 >= 2 \n",
    "y = 1 == 2 \n",
    "w = 1 != 2\n"
   ]
  },
  {
   "cell_type": "code",
   "execution_count": 7,
   "metadata": {
    "colab": {
     "base_uri": "https://localhost:8080/"
    },
    "executionInfo": {
     "elapsed": 1270,
     "status": "ok",
     "timestamp": 1612426172258,
     "user": {
      "displayName": "Joan Verdú",
      "photoUrl": "https://lh3.googleusercontent.com/a-/AOh14Ghq6Zm9ACo3kD6kZhp6ZuWkYJqG_DQfPoIV1Ues=s64",
      "userId": "17893353067607712705"
     },
     "user_tz": -60
    },
    "id": "MNGUvqNiz1eC",
    "outputId": "3302ddbf-f3c4-4f4f-f859-dfc25d275599"
   },
   "outputs": [
    {
     "data": {
      "text/plain": [
       "True"
      ]
     },
     "execution_count": 7,
     "metadata": {
      "tags": []
     },
     "output_type": "execute_result"
    }
   ],
   "source": [
    "w"
   ]
  },
  {
   "cell_type": "code",
   "execution_count": 8,
   "metadata": {
    "autoscroll": false,
    "ein.hycell": false,
    "ein.tags": "worksheet-0",
    "executionInfo": {
     "elapsed": 1267,
     "status": "ok",
     "timestamp": 1612426172258,
     "user": {
      "displayName": "Joan Verdú",
      "photoUrl": "https://lh3.googleusercontent.com/a-/AOh14Ghq6Zm9ACo3kD6kZhp6ZuWkYJqG_DQfPoIV1Ues=s64",
      "userId": "17893353067607712705"
     },
     "user_tz": -60
    },
    "id": "TreM_w06zwMj"
   },
   "outputs": [],
   "source": [
    "# It is canonical to use \"is\" instead of == for checking for NoneType:\n",
    "\n",
    "x = None\n",
    "y = x is None\n",
    "z = x is not None"
   ]
  },
  {
   "cell_type": "code",
   "execution_count": 9,
   "metadata": {
    "autoscroll": false,
    "ein.hycell": false,
    "ein.tags": "worksheet-0",
    "executionInfo": {
     "elapsed": 1265,
     "status": "ok",
     "timestamp": 1612426172259,
     "user": {
      "displayName": "Joan Verdú",
      "photoUrl": "https://lh3.googleusercontent.com/a-/AOh14Ghq6Zm9ACo3kD6kZhp6ZuWkYJqG_DQfPoIV1Ues=s64",
      "userId": "17893353067607712705"
     },
     "user_tz": -60
    },
    "id": "_vG0BANXzwMj"
   },
   "outputs": [],
   "source": [
    "# There is a boolean algebra to combine comparisons (and/or)\n",
    "# Note: parentheses not needed here, but they help readability!\n",
    "\n",
    "\n",
    "x = (1 <= 2) and (1 > 0)\n",
    "y = (1 > 2) or (1 < 3)"
   ]
  },
  {
   "cell_type": "markdown",
   "metadata": {
    "ein.tags": "worksheet-0",
    "id": "mtkdzsoLzwMj"
   },
   "source": [
    "## Indentation \n",
    "\n",
    "Most languages don’t care about indentation.\n",
    "\n",
    "Most humans do. We tend to group similar things together. \n",
    "\n",
    "Python encourages “readable” code by enforcing indentation."
   ]
  },
  {
   "cell_type": "markdown",
   "metadata": {
    "ein.tags": "worksheet-0",
    "id": "BHRrLCj2zwMj"
   },
   "source": [
    "## Making decisions on the basis of comparisons (\"control flow\"): if \n",
    "\n",
    "The structure is \n",
    "\n",
    "```python\n",
    "\n",
    "if BOOLEAN: \n",
    "    ACTION 1\n",
    "    ACTION 2 # note indentation! \n",
    "else: \n",
    "    ACTION 3\n",
    "```\n",
    "\n",
    "For example: \n",
    "\n",
    "```python\n",
    "\n",
    "gender = \"male\"\n",
    "age = 20 \n",
    "if gender == \"female\":\n",
    "    if age > 18:\n",
    "        print(\"woman\")\n",
    "    else: \n",
    "        print(\"girl\")\n",
    "```\n",
    "\n",
    "What will it print???"
   ]
  },
  {
   "cell_type": "markdown",
   "metadata": {
    "id": "Rm_5BU3AIDIR"
   },
   "source": [
    "### Exercise 1\n",
    "\n",
    "Practise control flow: \n",
    "write some code that prints \"high\" if the number in x is greater than 5, and \"low\" if the number is less than 5."
   ]
  },
  {
   "cell_type": "code",
   "execution_count": 10,
   "metadata": {
    "autoscroll": false,
    "ein.hycell": false,
    "ein.tags": "worksheet-0",
    "executionInfo": {
     "elapsed": 1264,
     "status": "ok",
     "timestamp": 1612426172261,
     "user": {
      "displayName": "Joan Verdú",
      "photoUrl": "https://lh3.googleusercontent.com/a-/AOh14Ghq6Zm9ACo3kD6kZhp6ZuWkYJqG_DQfPoIV1Ues=s64",
      "userId": "17893353067607712705"
     },
     "user_tz": -60
    },
    "id": "Ri-ZzribzwMj"
   },
   "outputs": [],
   "source": [
    "x = 5\n",
    "\n",
    "# your code here! Hint: use if/else and print."
   ]
  },
  {
   "cell_type": "markdown",
   "metadata": {
    "ein.tags": "worksheet-0",
    "id": "yLuTwyHtzwMj"
   },
   "source": [
    "## Looping \n",
    "\n",
    "\n",
    "\n",
    "\n",
    "\n",
    "<table><tr>\n",
    "<td>  **This is the process of repeating a set of operations *when an index varies within a set*! Within the loop the data used in the operations can change** </td>\n",
    "<td> <img src=\"https://github.com/barcelonagse-datascience/academic_files/raw/master/images/dullboy.jpg\"> </td>\n",
    "</tr></table>\n",
    "\n",
    "\n",
    "Looping is fundamental in Python! Let's see examples. "
   ]
  },
  {
   "cell_type": "markdown",
   "metadata": {
    "ein.tags": "worksheet-0",
    "id": "4Cx-nvwyzwMj"
   },
   "source": [
    "## Lists\n",
    "\n",
    "In order to loop, we need something to loop over! In Python, things that can be looped over are called \"iterables\". \n",
    "\n",
    "Whenever you want to loop in Python, think of everything that needs to change inside the loop and try to put that into an iterable. This might be different than you are used to in other languages!\n",
    "\n",
    "One of the simplest iterables in Python is a list. Lists are created with square brackets: \n",
    "\n",
    "```python\n",
    "my_list = [\"She\", \"turned\", \"me\", \"into\", \"a\", \"newt\"]\n",
    "```\n",
    "\n",
    "Here you can see we created a list of strings. We can also create a list of integers: \n",
    "\n",
    "```python\n",
    "ages = [1,5,10]\n",
    "```\n",
    "\n",
    "But Python lists don't have to be homogenous, you can mix types! This is most useful for including the NoneType: \n",
    "\n",
    "```python\n",
    "ages = [1, None, 10]\n",
    "```"
   ]
  },
  {
   "cell_type": "code",
   "execution_count": 29,
   "metadata": {
    "autoscroll": false,
    "colab": {
     "base_uri": "https://localhost:8080/"
    },
    "ein.hycell": false,
    "ein.tags": "worksheet-0",
    "executionInfo": {
     "elapsed": 1258,
     "status": "ok",
     "timestamp": 1612426172263,
     "user": {
      "displayName": "Joan Verdú",
      "photoUrl": "https://lh3.googleusercontent.com/a-/AOh14Ghq6Zm9ACo3kD6kZhp6ZuWkYJqG_DQfPoIV1Ues=s64",
      "userId": "17893353067607712705"
     },
     "user_tz": -60
    },
    "id": "ltg1EEVPzwMj",
    "outputId": "31775e99-fc74-4447-cdaf-4666e6102ea4"
   },
   "outputs": [
    {
     "name": "stdout",
     "output_type": "stream",
     "text": [
      "This persons age is: 1 \n",
      "This persons age is: 2 \n",
      "This persons age is: 10 \n",
      "This persons age is: None \n",
      "This persons age is: 100 \n",
      "Done\n"
     ]
    }
   ],
   "source": [
    "# A list!\n",
    "ages = [1, 2, 10, None, 100]\n",
    "\n",
    "# A loop! (note the indentation)\n",
    "for x in ages:\n",
    "    print(\"This persons age is: %s \" % x)\n",
    "print(\"Done\")"
   ]
  },
  {
   "cell_type": "markdown",
   "metadata": {
    "id": "Izu8NSeNIvIA"
   },
   "source": [
    "### Exercise 2\n",
    "Repeat the above cell, but only print the age if the\n",
    " age exists (i.e. is not None). \n",
    " \n",
    "HINT: Look back at the cells on logical operations to see how to check if a value is None in Python\n"
   ]
  },
  {
   "cell_type": "code",
   "execution_count": 12,
   "metadata": {
    "autoscroll": false,
    "ein.hycell": false,
    "ein.tags": "worksheet-0",
    "executionInfo": {
     "elapsed": 1256,
     "status": "ok",
     "timestamp": 1612426172264,
     "user": {
      "displayName": "Joan Verdú",
      "photoUrl": "https://lh3.googleusercontent.com/a-/AOh14Ghq6Zm9ACo3kD6kZhp6ZuWkYJqG_DQfPoIV1Ues=s64",
      "userId": "17893353067607712705"
     },
     "user_tz": -60
    },
    "id": "Lbdyu0r5zwMj"
   },
   "outputs": [],
   "source": [
    "# \n",
    "\n",
    "# Your code here"
   ]
  },
  {
   "cell_type": "markdown",
   "metadata": {
    "ein.tags": "worksheet-0",
    "id": "uL1UfjbOzwMj"
   },
   "source": [
    "## Using Lists\n",
    "\n",
    "\n",
    "Sometimes you want to access individual elements from a list. You can do this using square brackets together with the \"index\" of the element: \n",
    "\n",
    "```python\n",
    "ages = [1,5,10,20,30]\n",
    "ages[0]\n",
    "```\n",
    "\n",
    "The first element is indexed at 0, the second element at 1, etc. \n",
    "\n",
    "You can also access a contiguous range of elements: \n",
    "\n",
    "```python\n",
    "ages[1:3] # second item (index 1) and third item (index 2) only!\n",
    "```\n",
    "\n",
    "You can also use negative indices to access items from the end. For example, the last item: \n",
    "\n",
    "```python\n",
    "ages[-1]\n",
    "```\n",
    "\n",
    "You can concatenate multiple lists together with the +: \n",
    "\n",
    "```python\n",
    "ages + [40, 50, 60]\n",
    "```\n",
    "\n",
    "And you can check for membership with \"in\": \n",
    "\n",
    "```python\n",
    "\"foo\" in [\"foo\", \"bar\", \"baz\"]\n",
    "```"
   ]
  },
  {
   "cell_type": "markdown",
   "metadata": {
    "ein.tags": "worksheet-0",
    "id": "ajVtCYOlzwMj"
   },
   "source": [
    "## Operations on Lists\n",
    "\n",
    "In data science, we deal with data! Data, being many datum, are often stored in lists (or list-like structures). \n",
    "\n",
    "There are three main operations we perform with lists: \n",
    "\n",
    "1. Aggregate (reduce)\n",
    "2. Applying a function (map) to each element\n",
    "3. Filter the elements\n",
    "\n",
    "Let's look at examples to understand what these terms mean."
   ]
  },
  {
   "cell_type": "code",
   "execution_count": 13,
   "metadata": {
    "autoscroll": false,
    "colab": {
     "base_uri": "https://localhost:8080/"
    },
    "ein.hycell": false,
    "ein.tags": "worksheet-0",
    "executionInfo": {
     "elapsed": 1251,
     "status": "ok",
     "timestamp": 1612426172266,
     "user": {
      "displayName": "Joan Verdú",
      "photoUrl": "https://lh3.googleusercontent.com/a-/AOh14Ghq6Zm9ACo3kD6kZhp6ZuWkYJqG_DQfPoIV1Ues=s64",
      "userId": "17893353067607712705"
     },
     "user_tz": -60
    },
    "id": "rgp05gzYzwMj",
    "outputId": "5b531512-c325-4916-cc4e-6dd60b12e6eb"
   },
   "outputs": [
    {
     "data": {
      "text/plain": [
       "148.5"
      ]
     },
     "execution_count": 13,
     "metadata": {
      "tags": []
     },
     "output_type": "execute_result"
    }
   ],
   "source": [
    "# Aggregation: \n",
    "# Summing the numbers in a list: \n",
    "\n",
    "nums = [30,1,4,3,10.5,100]\n",
    "\n",
    "total = 0 \n",
    "\n",
    "for num in nums:\n",
    "    total += num\n",
    "    \n",
    "total"
   ]
  },
  {
   "cell_type": "code",
   "execution_count": 14,
   "metadata": {
    "autoscroll": false,
    "colab": {
     "base_uri": "https://localhost:8080/"
    },
    "ein.hycell": false,
    "ein.tags": "worksheet-0",
    "executionInfo": {
     "elapsed": 1246,
     "status": "ok",
     "timestamp": 1612426172267,
     "user": {
      "displayName": "Joan Verdú",
      "photoUrl": "https://lh3.googleusercontent.com/a-/AOh14Ghq6Zm9ACo3kD6kZhp6ZuWkYJqG_DQfPoIV1Ues=s64",
      "userId": "17893353067607712705"
     },
     "user_tz": -60
    },
    "id": "QJKsQSRnzwMj",
    "outputId": "025d0cd3-0157-4288-9408-923c660e7b8d"
   },
   "outputs": [
    {
     "data": {
      "text/plain": [
       "1"
      ]
     },
     "execution_count": 14,
     "metadata": {
      "tags": []
     },
     "output_type": "execute_result"
    }
   ],
   "source": [
    "# Aggregation: \n",
    "# Finding the minimum number in a list of number: \n",
    "\n",
    "nums = [30,1,4,3,10.5,100]\n",
    "\n",
    "min_num = nums[0] \n",
    "\n",
    "for num in nums: \n",
    "    if num < min_num:\n",
    "        min_num = num\n",
    "    \n",
    "min_num"
   ]
  },
  {
   "cell_type": "markdown",
   "metadata": {
    "id": "VrN6UPlnJF8O"
   },
   "source": [
    "### Exercise 3\n",
    "\n",
    "Aggregation: Count the number of NoneTypes in a list:"
   ]
  },
  {
   "cell_type": "code",
   "execution_count": 15,
   "metadata": {
    "autoscroll": false,
    "colab": {
     "base_uri": "https://localhost:8080/"
    },
    "ein.hycell": false,
    "ein.tags": "worksheet-0",
    "executionInfo": {
     "elapsed": 1237,
     "status": "ok",
     "timestamp": 1612426172268,
     "user": {
      "displayName": "Joan Verdú",
      "photoUrl": "https://lh3.googleusercontent.com/a-/AOh14Ghq6Zm9ACo3kD6kZhp6ZuWkYJqG_DQfPoIV1Ues=s64",
      "userId": "17893353067607712705"
     },
     "user_tz": -60
    },
    "id": "WrK_PrACzwMj",
    "outputId": "17f3a9fc-5b95-4034-a582-428feade5ca6"
   },
   "outputs": [
    {
     "data": {
      "text/plain": [
       "[30, 1, None, 3, 10.5, 100]"
      ]
     },
     "execution_count": 15,
     "metadata": {
      "tags": []
     },
     "output_type": "execute_result"
    }
   ],
   "source": [
    "# your code here\n",
    "nums = [30,1,4,3,10.5,100]\n",
    "nums[2]= None\n",
    "nums"
   ]
  },
  {
   "cell_type": "code",
   "execution_count": 16,
   "metadata": {
    "autoscroll": false,
    "colab": {
     "base_uri": "https://localhost:8080/"
    },
    "ein.hycell": false,
    "ein.tags": "worksheet-0",
    "executionInfo": {
     "elapsed": 1228,
     "status": "ok",
     "timestamp": 1612426172269,
     "user": {
      "displayName": "Joan Verdú",
      "photoUrl": "https://lh3.googleusercontent.com/a-/AOh14Ghq6Zm9ACo3kD6kZhp6ZuWkYJqG_DQfPoIV1Ues=s64",
      "userId": "17893353067607712705"
     },
     "user_tz": -60
    },
    "id": "XURv1IhrzwMj",
    "outputId": "e0fb0f28-1de9-4f79-8480-4214b92fb1b5"
   },
   "outputs": [
    {
     "data": {
      "text/plain": [
       "[900, 1, 16, 9, 110.25, 10000]"
      ]
     },
     "execution_count": 16,
     "metadata": {
      "tags": []
     },
     "output_type": "execute_result"
    }
   ],
   "source": [
    "# Applying a function: \n",
    "# Squaring each number in a list\n",
    "\n",
    "nums = [30,1,4,3,10.5,100]\n",
    "\n",
    "# This is called a \"for comprehension\"\n",
    "# and is the Pythonic way to apply a function to \n",
    "# every element in a list\n",
    "squared_nums = [num**2 for num in nums]\n",
    "    \n",
    "squared_nums"
   ]
  },
  {
   "cell_type": "code",
   "execution_count": 17,
   "metadata": {
    "autoscroll": false,
    "colab": {
     "base_uri": "https://localhost:8080/"
    },
    "ein.hycell": false,
    "ein.tags": "worksheet-0",
    "executionInfo": {
     "elapsed": 1221,
     "status": "ok",
     "timestamp": 1612426172270,
     "user": {
      "displayName": "Joan Verdú",
      "photoUrl": "https://lh3.googleusercontent.com/a-/AOh14Ghq6Zm9ACo3kD6kZhp6ZuWkYJqG_DQfPoIV1Ues=s64",
      "userId": "17893353067607712705"
     },
     "user_tz": -60
    },
    "id": "jKuj2tWPzwMj",
    "outputId": "52c6f315-6bd2-4bc8-a6e6-2c353a0a943b"
   },
   "outputs": [
    {
     "data": {
      "text/plain": [
       "[3, 3, 3, 9]"
      ]
     },
     "execution_count": 17,
     "metadata": {
      "tags": []
     },
     "output_type": "execute_result"
    }
   ],
   "source": [
    "# Applying a function: \n",
    "# Getting the length of each string in a list: \n",
    "\n",
    "names = [\"foo\", \"bar\", \"baz\", \"foobarbaz\"]\n",
    "\n",
    "# Note the \"len\" command to get the length of a string. \n",
    "# Hint: this same command can be used to ge the length of a list!\n",
    "lengths = [len(name) for name in names]\n",
    "\n",
    "lengths"
   ]
  },
  {
   "cell_type": "code",
   "execution_count": 18,
   "metadata": {
    "autoscroll": false,
    "colab": {
     "base_uri": "https://localhost:8080/"
    },
    "ein.hycell": false,
    "ein.tags": "worksheet-0",
    "executionInfo": {
     "elapsed": 1215,
     "status": "ok",
     "timestamp": 1612426172271,
     "user": {
      "displayName": "Joan Verdú",
      "photoUrl": "https://lh3.googleusercontent.com/a-/AOh14Ghq6Zm9ACo3kD6kZhp6ZuWkYJqG_DQfPoIV1Ues=s64",
      "userId": "17893353067607712705"
     },
     "user_tz": -60
    },
    "id": "N0z4P_z9zwMj",
    "outputId": "6f8859e4-0b0f-4f86-d0bc-b4cedd0daebb"
   },
   "outputs": [
    {
     "data": {
      "text/plain": [
       "[21, 45, 97]"
      ]
     },
     "execution_count": 18,
     "metadata": {
      "tags": []
     },
     "output_type": "execute_result"
    }
   ],
   "source": [
    "# Filter:\n",
    "# Remove all values less than 18:\n",
    "\n",
    "ages = [0, 3, 21, 45, 10, 97]\n",
    "\n",
    "adults = [a for a in ages if a > 17]\n",
    "\n",
    "adults"
   ]
  },
  {
   "cell_type": "code",
   "execution_count": 19,
   "metadata": {
    "autoscroll": false,
    "colab": {
     "base_uri": "https://localhost:8080/"
    },
    "ein.hycell": false,
    "ein.tags": "worksheet-0",
    "executionInfo": {
     "elapsed": 1209,
     "status": "ok",
     "timestamp": 1612426172272,
     "user": {
      "displayName": "Joan Verdú",
      "photoUrl": "https://lh3.googleusercontent.com/a-/AOh14Ghq6Zm9ACo3kD6kZhp6ZuWkYJqG_DQfPoIV1Ues=s64",
      "userId": "17893353067607712705"
     },
     "user_tz": -60
    },
    "id": "fcwHwcuQzwMj",
    "outputId": "51c99f56-942e-4385-f187-96832e3e6ef4"
   },
   "outputs": [
    {
     "data": {
      "text/plain": [
       "['foo', 'bar', 'baz']"
      ]
     },
     "execution_count": 19,
     "metadata": {
      "tags": []
     },
     "output_type": "execute_result"
    }
   ],
   "source": [
    "# Filter:\n",
    "# Remove NoneTypes from a list: \n",
    "\n",
    "names = [\"foo\", \"bar\", None, \"baz\"]\n",
    "\n",
    "only_names = [name for name in names if name is not None]\n",
    "\n",
    "only_names"
   ]
  },
  {
   "cell_type": "markdown",
   "metadata": {
    "ein.tags": "worksheet-0",
    "id": "Zz6d5X2kzwMk"
   },
   "source": [
    "## Tuples\n",
    "\n",
    "Another iterable is called a \"tuple\". Rather than using square brackets, tuples are created with parentheses: \n",
    "\n",
    "```python\n",
    "x = (\"foo\", 1)\n",
    "```\n",
    "\n",
    "But can also be created without any perentheses, implied by the comma: \n",
    "\n",
    "```python\n",
    "x = \"foo\", 1\n",
    "```\n",
    "\n",
    "Elements in the tuple are also accessed via the index (like lists): \n",
    "\n",
    "```python\n",
    "x[0]\n",
    "```\n",
    "\n",
    "Lists can be used most places that a tuple is used, so it can be confusing what the difference is between the two. Besides technical differences that we won't go in to here, the following rules can help you decide when to use a tuple and when to use a list: \n",
    "\n",
    "* LIST: Potentially many elements, unknown number of elements, relatively homogenous elements.\n",
    "* TUPLE: Few elements, fixed number of elements, completely heterogeneous elements.\n",
    "\n",
    "\n",
    "The name comes from here: _double, triple, quadruple, quintuple, sextuple, septuple, octuple._ Which gives a hint that they should be of fixed length! Because of this, we rarely iterate over them in a for loop like lists. \n",
    "\n",
    "Because they have a fixed length, we often use them with destructuring: \n",
    "\n",
    "```python\n",
    "name,num = x\n",
    "```\n",
    "Now the variable \"name\" contains the value \"foo\" and the variable \"num\" contains the value 1. This may not seem particularly useful at the moment, but we will soon see how it can be used. "
   ]
  },
  {
   "cell_type": "code",
   "execution_count": 20,
   "metadata": {
    "autoscroll": false,
    "colab": {
     "base_uri": "https://localhost:8080/"
    },
    "ein.hycell": false,
    "ein.tags": "worksheet-0",
    "executionInfo": {
     "elapsed": 1201,
     "status": "ok",
     "timestamp": 1612426172273,
     "user": {
      "displayName": "Joan Verdú",
      "photoUrl": "https://lh3.googleusercontent.com/a-/AOh14Ghq6Zm9ACo3kD6kZhp6ZuWkYJqG_DQfPoIV1Ues=s64",
      "userId": "17893353067607712705"
     },
     "user_tz": -60
    },
    "id": "ntBKEz_wzwMk",
    "outputId": "d5cdb465-f8df-4b41-f4d8-7d0d1a8caf8f"
   },
   "outputs": [
    {
     "name": "stdout",
     "output_type": "stream",
     "text": [
      "om has scored 100 points\n",
      "nandan has scored 10000 points\n",
      "arapakis has scored 55 points\n"
     ]
    }
   ],
   "source": [
    "# Destructuring tuples in a for loop:\n",
    "\n",
    "# Note: a list of tuples is a useful data structure \n",
    "# when your data is a set of \"pairs\":\n",
    "\n",
    "scoreboard = [(\"om\", 100), (\"nandan\", 10000), (\"arapakis\", 55)]\n",
    "\n",
    "for name,score in scoreboard: \n",
    "    print(f\"{name} has scored {score} points\") # string interpolation with f\"\"!"
   ]
  },
  {
   "cell_type": "markdown",
   "metadata": {
    "id": "OvZjYqZtJdUG"
   },
   "source": [
    "### Exercise 4\n",
    "\n",
    "Return the name of the top scoring teacher.\n",
    "Hint: this is an aggregation!"
   ]
  },
  {
   "cell_type": "code",
   "execution_count": 21,
   "metadata": {
    "autoscroll": false,
    "ein.hycell": false,
    "ein.tags": "worksheet-0",
    "executionInfo": {
     "elapsed": 1199,
     "status": "ok",
     "timestamp": 1612426172274,
     "user": {
      "displayName": "Joan Verdú",
      "photoUrl": "https://lh3.googleusercontent.com/a-/AOh14Ghq6Zm9ACo3kD6kZhp6ZuWkYJqG_DQfPoIV1Ues=s64",
      "userId": "17893353067607712705"
     },
     "user_tz": -60
    },
    "id": "ftEnPDHJzwMk"
   },
   "outputs": [],
   "source": [
    "# Aggregating a list of tuples: \n",
    "scoreboard = [(\"om\", 100), (\"nandan\", 10000), (\"arapakis\", 55)]\n",
    "\n",
    "# Your code here\n"
   ]
  },
  {
   "cell_type": "markdown",
   "metadata": {
    "ein.tags": "worksheet-0",
    "id": "UVU1yrhwzwMk"
   },
   "source": [
    "## Dictionaries\n",
    "\n",
    "\n",
    "We saw that it can be great to put our data into a tuple if it is easily represented as a pair (or a triple, quadruple, etc.). But sometimes our data is more complicated than that, and we don't want to try and remember the \"order\" of each distinct part (as we need in a tuple). \n",
    "\n",
    "Dictionaries are another basic type in Python. \n",
    "\n",
    "They are \"associative\" data structures. Like the eponymous dictionary, they associate a KEY with a VALUE and are created with the {}: \n",
    "\n",
    "```python\n",
    "teacher = {\"name\": \"nandan\", \"score\": 10000}\n",
    "```\n",
    "\n",
    "You can access the value via the key:\n",
    "\n",
    "```python\n",
    "teacher[\"name\"]\n",
    "```\n",
    "\n",
    "You can also set a value in a similar way: \n",
    "\n",
    "```python\n",
    "teacher[\"name\"] = \"nandan rao\"\n",
    "```\n",
    "\n",
    "Note that each key can ONLY HAVE ONE VALUE. In the above example, I have overwritten the original \"name\" key with a new value."
   ]
  },
  {
   "cell_type": "code",
   "execution_count": 22,
   "metadata": {
    "colab": {
     "base_uri": "https://localhost:8080/",
     "height": 35
    },
    "executionInfo": {
     "elapsed": 1191,
     "status": "ok",
     "timestamp": 1612426172275,
     "user": {
      "displayName": "Joan Verdú",
      "photoUrl": "https://lh3.googleusercontent.com/a-/AOh14Ghq6Zm9ACo3kD6kZhp6ZuWkYJqG_DQfPoIV1Ues=s64",
      "userId": "17893353067607712705"
     },
     "user_tz": -60
    },
    "id": "0lQIHY7ALFFH",
    "outputId": "63eb3feb-373a-43da-f85e-80968c87024f"
   },
   "outputs": [
    {
     "data": {
      "application/vnd.google.colaboratory.intrinsic+json": {
       "type": "string"
      },
      "text/plain": [
       "'om'"
      ]
     },
     "execution_count": 22,
     "metadata": {
      "tags": []
     },
     "output_type": "execute_result"
    }
   ],
   "source": [
    "teachers = [{\"name\": \"om\", \"score\": 100, \"likes\": [\"statistics\", \"more statistics\", \"even more statistics\"]},\n",
    "            {\"name\": \"nandan\", \"score\": 10000, \"likes\": [\"ice cream\"]},\n",
    "            {\"name\": \"arapakis\", \"score\": 55, \"likes\": [\"R\", \"D3\"]}]\n",
    "teachers[0]\n",
    "#Try those options to access first element of first dictionary\n",
    "#teachers[0][0]\n",
    "#teachers[0]['name']\n",
    "teachers[0].get('name')"
   ]
  },
  {
   "cell_type": "markdown",
   "metadata": {
    "id": "JC4i5ekuKGHG"
   },
   "source": [
    "### Exercise 5\n",
    "\n",
    "Collect all the likes of the teachers into one list: \n",
    "\n",
    "Hint: this is an aggregation!"
   ]
  },
  {
   "cell_type": "code",
   "execution_count": 23,
   "metadata": {
    "autoscroll": false,
    "ein.hycell": false,
    "ein.tags": "worksheet-0",
    "executionInfo": {
     "elapsed": 1428,
     "status": "ok",
     "timestamp": 1612426172515,
     "user": {
      "displayName": "Joan Verdú",
      "photoUrl": "https://lh3.googleusercontent.com/a-/AOh14Ghq6Zm9ACo3kD6kZhp6ZuWkYJqG_DQfPoIV1Ues=s64",
      "userId": "17893353067607712705"
     },
     "user_tz": -60
    },
    "id": "YSxdiBlbzwMk"
   },
   "outputs": [],
   "source": [
    "\n",
    "# Notice: What is \"teachers\"? \n",
    "# A list of dictionaries, but each dictionary has three keys \n",
    "# and the \"likes\" key contains a list of strings!\n",
    "teachers = [{\"name\": \"om\", \"score\": 100, \"likes\": [\"statistics\", \"more statistics\", \"even more statistics\"]},\n",
    "            {\"name\": \"nandan\", \"score\": 10000, \"likes\": [\"ice cream\"]},\n",
    "            {\"name\": \"arapakis\", \"score\": 55, \"likes\": [\"R\", \"D3\"]}]\n",
    "\n",
    "# Your code here"
   ]
  },
  {
   "cell_type": "markdown",
   "metadata": {
    "id": "FcUhpKhPzwMk"
   },
   "source": [
    "## Classes: Custom Types\n",
    "\n",
    "We've seen how we can use the `type` function to check the type of a variable. But Python also lets us create our own \"types.\" These are called _classes_. We can use the terms \"type\" and \"class\" interchangeably in Python. "
   ]
  },
  {
   "cell_type": "code",
   "execution_count": 24,
   "metadata": {
    "colab": {
     "base_uri": "https://localhost:8080/"
    },
    "executionInfo": {
     "elapsed": 1423,
     "status": "ok",
     "timestamp": 1612426172516,
     "user": {
      "displayName": "Joan Verdú",
      "photoUrl": "https://lh3.googleusercontent.com/a-/AOh14Ghq6Zm9ACo3kD6kZhp6ZuWkYJqG_DQfPoIV1Ues=s64",
      "userId": "17893353067607712705"
     },
     "user_tz": -60
    },
    "id": "Kjk7xWfqzwMk",
    "outputId": "f38fd7d7-6517-430c-9d5b-81314d8573a3"
   },
   "outputs": [
    {
     "data": {
      "text/plain": [
       "__main__.MySimpleClass"
      ]
     },
     "execution_count": 24,
     "metadata": {
      "tags": []
     },
     "output_type": "execute_result"
    }
   ],
   "source": [
    "# This is the syntax for creating a class. Right now, this class does nothing. \n",
    "# We'll learn how to create more useful classes later.\n",
    "\n",
    "class MySimpleClass():\n",
    "    pass\n",
    "\n",
    "\n",
    "foo = MySimpleClass()\n",
    "\n",
    "\n",
    "# Check the type of `foo`!\n",
    "type(foo)"
   ]
  },
  {
   "cell_type": "markdown",
   "metadata": {
    "id": "OUyfIVrazwMk"
   },
   "source": [
    "## Instances and Attributes\n",
    "\n",
    "\n",
    "In the above example, `MySimpleClass` is the class and we call `foo` an instance of the class `MySimpleClass`. To connect this to what we've seen: \n",
    "\n",
    "```\n",
    "bar = [1,2,3]\n",
    "type(bar)\n",
    "```\n",
    "\n",
    "`bar` is an instance of the class `list`. \n",
    "\n",
    "Instances can have _attributes_. Attributes are just variables that are attached to the instance. They are accessed with dot notation: \n",
    "\n",
    "```\n",
    "foo.shape\n",
    "```\n",
    "\n",
    "Would access the hypothetical \"shape\" attribute of instance `foo`. If the attribute happens to be a function, we call it a _method_. \n",
    "\n",
    "Methods are functions that have a special purpose: they interact with the instance itself in some way.\n",
    "\n",
    "We'll see examples now: "
   ]
  },
  {
   "cell_type": "markdown",
   "metadata": {
    "ein.tags": "worksheet-0",
    "id": "UdzfXZSRzwMk"
   },
   "source": [
    "## Advanced operations with strings\n",
    "\n",
    "Strings are actually iterables, just like lists! They can be subset just like lists: \n",
    "\n",
    "```python\n",
    "x = \"my python string\"\n",
    "x[3:9]\n",
    "```\n",
    "\n",
    "You can also turn a string into a list of strings via the \"split\" method: \n",
    "\n",
    "```python\n",
    "x = \"my python string\"\n",
    "y = x.split(\" \")\n",
    "y == [\"my\", \"python\", \"string\"]\n",
    "```\n",
    "\n",
    "And the reverse is also possible via the \"join\" method: \n",
    "\n",
    "```python\n",
    "space = \" \"\n",
    "z = space.join(y)\n",
    "z == x\n",
    "```\n",
    "\n",
    "\n",
    "You can also make everything lower (or upper!) case, replace certain substrings with other substrings, and check for the existence of a substring with \"in\":  \n",
    "\n",
    "```python\n",
    "z = \"My Python String\"\n",
    "z.lower() == x\n",
    "z.upper() == \"MY PYTHON STRING\"\n",
    "w = z.replace(\"Python\", \"R\")\n",
    "\"Python\" in w\n",
    "```\n",
    "There are many more easy-to-use, built-in tools for working with text data in Python. You can read more here: https://docs.python.org/3/library/stdtypes.html#string-method"
   ]
  },
  {
   "cell_type": "markdown",
   "metadata": {
    "id": "iiDJexSALMam"
   },
   "source": [
    "### Exercise 6\n",
    "\n",
    "Count the instances of \"foo\" in the following text, \n",
    " ignoring case."
   ]
  },
  {
   "cell_type": "code",
   "execution_count": 25,
   "metadata": {
    "autoscroll": false,
    "ein.hycell": false,
    "ein.tags": "worksheet-0",
    "executionInfo": {
     "elapsed": 1422,
     "status": "ok",
     "timestamp": 1612426172518,
     "user": {
      "displayName": "Joan Verdú",
      "photoUrl": "https://lh3.googleusercontent.com/a-/AOh14Ghq6Zm9ACo3kD6kZhp6ZuWkYJqG_DQfPoIV1Ues=s64",
      "userId": "17893353067607712705"
     },
     "user_tz": -60
    },
    "id": "8KPHv980zwMk"
   },
   "outputs": [],
   "source": [
    "# Challenge: \n",
    "\n",
    "x = \"Hello, I would like a foo. Foo went for a walk. Foo bar baz. Baz to the foo.\"\n",
    "\n",
    "# Your code here"
   ]
  },
  {
   "cell_type": "markdown",
   "metadata": {
    "ein.tags": "worksheet-0",
    "id": "lczRYpUrzwMk"
   },
   "source": [
    "## Data and operations in a bundle: functions\n",
    "\n",
    "Input data (if any) --> Set of operations --> Output data (if any)\n",
    "\n",
    "```python\n",
    "def name(input):\n",
    "    operations\n",
    "    return output\n",
    "```\n",
    "\n",
    "For example, here is a function that takes a number, and its square:\n",
    "\n",
    "```python\n",
    "def squared(x):\n",
    "    return x**2\n",
    "```\n",
    "\n",
    "Here is a more general function that takes a number and the power, and returns the number to that power: \n",
    "\n",
    "```python\n",
    "def power(x, n):\n",
    "    return x**n\n",
    "```\n",
    "\n",
    "Here is a function that returns the minimum and the sum of a list of numbers:\n",
    "\n",
    "```python\n",
    "def minsumfun(x):\n",
    "    minx = x[0] if len(x) > 0 else None\n",
    "    sumx = 0.0  \n",
    "    for y in x: \n",
    "        if y < minx:\n",
    "            minx = y\n",
    "        sumx += y \n",
    "    return minx,sumx # notice multiple outputs, technically a tuple!\n",
    "```\n",
    "\n",
    "Now we can call that function: \n",
    "\n",
    "```python\n",
    "m,s = minsumfun([1,5,0.3,-1]) # Destructuring! Very Pythonic! :)\n",
    "```"
   ]
  },
  {
   "cell_type": "markdown",
   "metadata": {
    "id": "qqRGt-mtL1jO"
   },
   "source": [
    "### Exercise 7\n",
    "\n",
    "Functions are very useful for transforming data:\n",
    "\n",
    "Let's create a function to compute the highest scores for each teacher."
   ]
  },
  {
   "cell_type": "code",
   "execution_count": 26,
   "metadata": {
    "autoscroll": false,
    "colab": {
     "base_uri": "https://localhost:8080/",
     "height": 130
    },
    "ein.hycell": false,
    "ein.tags": "worksheet-0",
    "executionInfo": {
     "elapsed": 1423,
     "status": "error",
     "timestamp": 1612426172528,
     "user": {
      "displayName": "Joan Verdú",
      "photoUrl": "https://lh3.googleusercontent.com/a-/AOh14Ghq6Zm9ACo3kD6kZhp6ZuWkYJqG_DQfPoIV1Ues=s64",
      "userId": "17893353067607712705"
     },
     "user_tz": -60
    },
    "id": "f0GaYOiNzwMk",
    "outputId": "d93bb7ff-45ef-42fd-8cf9-2e1a597145f7"
   },
   "outputs": [
    {
     "ename": "SyntaxError",
     "evalue": "ignored",
     "output_type": "error",
     "traceback": [
      "\u001b[0;36m  File \u001b[0;32m\"<ipython-input-26-beab40633c09>\"\u001b[0;36m, line \u001b[0;32m18\u001b[0m\n\u001b[0;31m    # Your code here\u001b[0m\n\u001b[0m                    ^\u001b[0m\n\u001b[0;31mSyntaxError\u001b[0m\u001b[0;31m:\u001b[0m unexpected EOF while parsing\n"
     ]
    }
   ],
   "source": [
    "\n",
    "teachers = [{\"name\": \"om\", \"scores\": [100, 200, 150]},\n",
    "            {\"name\": \"nandan\", \"scores\": [10000, 9999, 99987 ]},\n",
    "            {\"name\": \"arapakis\", \"scores\": [55, 100, 5]}]\n",
    "\n",
    "\n",
    "# Fill in this function! \n",
    "# It should take a dictionary, as in the list above, \n",
    "# and it should return a 2-tuple with their name and\n",
    "# their highest score: (name, score)\n",
    "def highest_score(person):\n",
    "    # Your code here\n",
    "\n",
    "\n",
    "\n",
    "# Apply the function to each element in the list \"teachers\": \n",
    "\n",
    "# Your code here"
   ]
  },
  {
   "cell_type": "markdown",
   "metadata": {
    "ein.tags": "worksheet-0",
    "id": "8QfqH6d7zwMk"
   },
   "source": [
    "\n",
    "## Reading and writing from files\n",
    "\n",
    "We can think of files as data types actually! Python effectively does this, and you should then not be suprised that they have attributes etc. \n",
    "\n",
    "There are two modes, read and write\n",
    "\n",
    "In short, the built-in `open` function creates a Python file object, which serves as a link\n",
    "to a file residing on your machine. After calling `open`, you can transfer strings of data\n",
    "to and from the associated external file by calling the returned file object’s methods.\n",
    "\n",
    "`with` is a file context manager which allows us to wrap file-processing code in a logic layer that\n",
    "ensures that the file will be closed automatically on exit.\n",
    "\n",
    "To understand how Python works with such data, lets work with the text file *textfile.txt*\n"
   ]
  },
  {
   "cell_type": "code",
   "execution_count": null,
   "metadata": {
    "executionInfo": {
     "elapsed": 1412,
     "status": "aborted",
     "timestamp": 1612426172520,
     "user": {
      "displayName": "Joan Verdú",
      "photoUrl": "https://lh3.googleusercontent.com/a-/AOh14Ghq6Zm9ACo3kD6kZhp6ZuWkYJqG_DQfPoIV1Ues=s64",
      "userId": "17893353067607712705"
     },
     "user_tz": -60
    },
    "id": "3gwntpZgVdZk"
   },
   "outputs": [],
   "source": [
    "# Run this only if running from Collab\n",
    "# Mount google drive if running from Google Collab\n",
    "\n",
    "from google.colab import drive\n",
    "drive.mount('/content/drive')\n",
    "\n",
    "# Set current directory if running from Google Collab\n",
    "import os\n",
    "os.chdir('/content/drive/My Drive/19D031 Foundations in Data Science All Programs (except DS)/FDS_materials/intro_programming/Python')"
   ]
  },
  {
   "cell_type": "code",
   "execution_count": null,
   "metadata": {
    "autoscroll": false,
    "ein.hycell": false,
    "ein.tags": "worksheet-0",
    "executionInfo": {
     "elapsed": 1412,
     "status": "aborted",
     "timestamp": 1612426172522,
     "user": {
      "displayName": "Joan Verdú",
      "photoUrl": "https://lh3.googleusercontent.com/a-/AOh14Ghq6Zm9ACo3kD6kZhp6ZuWkYJqG_DQfPoIV1Ues=s64",
      "userId": "17893353067607712705"
     },
     "user_tz": -60
    },
    "id": "bhpTKcNUzwMk"
   },
   "outputs": [],
   "source": [
    "# Lets read the file into a variable:\n",
    "\n",
    "with open('../../Data/textfile.txt') as f:\n",
    "    content = f.read()\n",
    "\n",
    "print(content)"
   ]
  },
  {
   "cell_type": "code",
   "execution_count": null,
   "metadata": {
    "autoscroll": false,
    "ein.hycell": false,
    "ein.tags": "worksheet-0",
    "executionInfo": {
     "elapsed": 1411,
     "status": "aborted",
     "timestamp": 1612426172524,
     "user": {
      "displayName": "Joan Verdú",
      "photoUrl": "https://lh3.googleusercontent.com/a-/AOh14Ghq6Zm9ACo3kD6kZhp6ZuWkYJqG_DQfPoIV1Ues=s64",
      "userId": "17893353067607712705"
     },
     "user_tz": -60
    },
    "id": "_2GuK0AQzwMk"
   },
   "outputs": [],
   "source": [
    "# The file object is actually an iterator, so we can do our usual tricks:\n",
    "\n",
    "with open('../../Data/textfile.txt') as f:\n",
    "    for line in f: \n",
    "        print(line)"
   ]
  },
  {
   "cell_type": "code",
   "execution_count": null,
   "metadata": {
    "autoscroll": false,
    "ein.hycell": false,
    "ein.tags": "worksheet-0",
    "executionInfo": {
     "elapsed": 1409,
     "status": "aborted",
     "timestamp": 1612426172524,
     "user": {
      "displayName": "Joan Verdú",
      "photoUrl": "https://lh3.googleusercontent.com/a-/AOh14Ghq6Zm9ACo3kD6kZhp6ZuWkYJqG_DQfPoIV1Ues=s64",
      "userId": "17893353067607712705"
     },
     "user_tz": -60
    },
    "id": "ZHpeF1uCzwMk"
   },
   "outputs": [],
   "source": [
    "# We can also read it into a list by converiting \n",
    "# the iterator into a list directly:\n",
    "\n",
    "with open('../../Data/textfile.txt') as f:\n",
    "    content = list(f)\n",
    "\n",
    "content[0]"
   ]
  },
  {
   "cell_type": "markdown",
   "metadata": {
    "id": "GO8KY1p06u_A"
   },
   "source": [
    "## Reading and writing from URL files\n",
    "\n",
    "Here you have equivalent code for files that we can access with an URL command. Now we are using urllib package. The main difference is how to read the file, and the fact that the object is no longer an iterable.\n",
    "If we want to split into lines we have to code it."
   ]
  },
  {
   "cell_type": "code",
   "execution_count": null,
   "metadata": {
    "executionInfo": {
     "elapsed": 1407,
     "status": "aborted",
     "timestamp": 1612426172525,
     "user": {
      "displayName": "Joan Verdú",
      "photoUrl": "https://lh3.googleusercontent.com/a-/AOh14Ghq6Zm9ACo3kD6kZhp6ZuWkYJqG_DQfPoIV1Ues=s64",
      "userId": "17893353067607712705"
     },
     "user_tz": -60
    },
    "id": "QizJTshw6v2o"
   },
   "outputs": [],
   "source": [
    "# We load the data\n",
    "import urllib.request\n",
    "\n",
    "url = \"https://raw.githubusercontent.com/barcelonagse-datascience/academic_files/master/data/textfile.txt\"\n",
    "file = urllib.request.urlopen(url)\n",
    "\n",
    "txt=file.read().decode() # decode is used to convert to string format\n",
    "txt"
   ]
  },
  {
   "cell_type": "code",
   "execution_count": null,
   "metadata": {
    "executionInfo": {
     "elapsed": 1405,
     "status": "aborted",
     "timestamp": 1612426172526,
     "user": {
      "displayName": "Joan Verdú",
      "photoUrl": "https://lh3.googleusercontent.com/a-/AOh14Ghq6Zm9ACo3kD6kZhp6ZuWkYJqG_DQfPoIV1Ues=s64",
      "userId": "17893353067607712705"
     },
     "user_tz": -60
    },
    "id": "lAnAdYdo6yvo"
   },
   "outputs": [],
   "source": [
    "# Let's recover lines using split and the target line break\n",
    "txt.split('\\n')[0:10]"
   ]
  }
 ],
 "metadata": {
  "celltoolbar": "Raw Cell Format",
  "colab": {
   "collapsed_sections": [],
   "name": "intro_python.ipynb",
   "provenance": []
  },
  "kernelspec": {
   "display_name": "Python 3",
   "language": "python",
   "name": "python3"
  },
  "language_info": {
   "codemirror_mode": {
    "name": "ipython",
    "version": 3
   },
   "file_extension": ".py",
   "mimetype": "text/x-python",
   "name": "python",
   "nbconvert_exporter": "python",
   "pygments_lexer": "ipython3",
   "version": "3.6.9"
  },
  "name": "intro_python.ipynb",
  "toc": {
   "base_numbering": 1,
   "nav_menu": {
    "height": "276px",
    "width": "403px"
   },
   "number_sections": false,
   "sideBar": true,
   "skip_h1_title": true,
   "title_cell": "Table of Contents",
   "title_sidebar": "Contents",
   "toc_cell": false,
   "toc_position": {},
   "toc_section_display": true,
   "toc_window_display": false
  }
 },
 "nbformat": 4,
 "nbformat_minor": 1
}
