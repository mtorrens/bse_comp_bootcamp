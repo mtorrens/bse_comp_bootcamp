{
 "cells": [
  {
   "cell_type": "markdown",
   "metadata": {
    "id": "RMxMB0HxASrr"
   },
   "source": [
    "<img src = \"https://github.com/barcelonagse-datascience/academic_files/raw/master/bgsedsc_0.jpg\">"
   ]
  },
  {
   "cell_type": "markdown",
   "metadata": {
    "ein.tags": "worksheet-0",
    "id": "ai4MRQ6zASrr"
   },
   "source": [
    "# Practice with R\n",
    "\n",
    "This is a short list of short challenges to practice"
   ]
  },
  {
   "cell_type": "code",
   "execution_count": 94,
   "metadata": {
    "scrolled": false
   },
   "outputs": [
    {
     "name": "stderr",
     "output_type": "stream",
     "text": [
      "Loading required package: tidyr\n",
      "\n",
      "Warning message:\n",
      "\"package 'tidyr' was built under R version 3.6.3\"\n"
     ]
    }
   ],
   "source": [
    "if (!require(\"dplyr\")) install.packages(\"dplyr\")\n",
    "if (!require(\"tidyr\")) install.packages(\"tidyr\")\n",
    "if (!require(\"data.table\")) install.packages(\"data.table\")\n",
    "library(dplyr)\n",
    "library(tidyr)\n",
    "library(data.table)"
   ]
  },
  {
   "cell_type": "markdown",
   "metadata": {
    "id": "_f75JBqkASrr"
   },
   "source": [
    "### Vectors"
   ]
  },
  {
   "cell_type": "code",
   "execution_count": 2,
   "metadata": {
    "colab": {
     "base_uri": "https://localhost:8080/",
     "height": 229
    },
    "executionInfo": {
     "elapsed": 668,
     "status": "error",
     "timestamp": 1607296471795,
     "user": {
      "displayName": "Joan Verdú",
      "photoUrl": "https://lh3.googleusercontent.com/a-/AOh14Ghq6Zm9ACo3kD6kZhp6ZuWkYJqG_DQfPoIV1Ues=s64",
      "userId": "17893353067607712705"
     },
     "user_tz": -60
    },
    "id": "5v5ij6BIASrr",
    "outputId": "d4fea315-a77a-4b99-ec8e-15d1899066c4"
   },
   "outputs": [
    {
     "data": {
      "text/html": [
       "<style>\n",
       ".list-inline {list-style: none; margin:0; padding: 0}\n",
       ".list-inline>li {display: inline-block}\n",
       ".list-inline>li:not(:last-child)::after {content: \"\\00b7\"; padding: 0 .5ex}\n",
       "</style>\n",
       "<ol class=list-inline><li>1</li><li>2</li><li>3</li><li>4</li><li>5</li><li>6</li><li>7</li><li>8</li><li>9</li><li>10</li></ol>\n"
      ],
      "text/latex": [
       "\\begin{enumerate*}\n",
       "\\item 1\n",
       "\\item 2\n",
       "\\item 3\n",
       "\\item 4\n",
       "\\item 5\n",
       "\\item 6\n",
       "\\item 7\n",
       "\\item 8\n",
       "\\item 9\n",
       "\\item 10\n",
       "\\end{enumerate*}\n"
      ],
      "text/markdown": [
       "1. 1\n",
       "2. 2\n",
       "3. 3\n",
       "4. 4\n",
       "5. 5\n",
       "6. 6\n",
       "7. 7\n",
       "8. 8\n",
       "9. 9\n",
       "10. 10\n",
       "\n",
       "\n"
      ],
      "text/plain": [
       " [1]  1  2  3  4  5  6  7  8  9 10"
      ]
     },
     "metadata": {},
     "output_type": "display_data"
    }
   ],
   "source": [
    "# Challenge 1: Create a vector with a sequence of number from 1 to 10.\n",
    "mylist<-c(1,2,3,4,5,6,7,8,9,10)\n",
    "#or \n",
    "#mylist<-seq(1, 10)\n",
    "#mylist<-1:10\n",
    "mylist"
   ]
  },
  {
   "cell_type": "code",
   "execution_count": 3,
   "metadata": {
    "colab": {
     "base_uri": "https://localhost:8080/"
    },
    "executionInfo": {
     "elapsed": 1913,
     "status": "ok",
     "timestamp": 1606739053971,
     "user": {
      "displayName": "Joan Verdú",
      "photoUrl": "https://lh3.googleusercontent.com/a-/AOh14Ghq6Zm9ACo3kD6kZhp6ZuWkYJqG_DQfPoIV1Ues=s64",
      "userId": "17893353067607712705"
     },
     "user_tz": -60
    },
    "id": "uOVbI2IXASrs",
    "outputId": "6fe652bc-2def-4327-8c8c-89486ff53a02"
   },
   "outputs": [
    {
     "data": {
      "text/html": [
       "<style>\n",
       ".list-inline {list-style: none; margin:0; padding: 0}\n",
       ".list-inline>li {display: inline-block}\n",
       ".list-inline>li:not(:last-child)::after {content: \"\\00b7\"; padding: 0 .5ex}\n",
       "</style>\n",
       "<ol class=list-inline><li>1</li><li>&lt;NA&gt;</li><li>3</li><li>4</li><li>5</li><li>&lt;NA&gt;</li><li>7</li><li>8</li><li>9</li><li>10</li></ol>\n"
      ],
      "text/latex": [
       "\\begin{enumerate*}\n",
       "\\item 1\n",
       "\\item <NA>\n",
       "\\item 3\n",
       "\\item 4\n",
       "\\item 5\n",
       "\\item <NA>\n",
       "\\item 7\n",
       "\\item 8\n",
       "\\item 9\n",
       "\\item 10\n",
       "\\end{enumerate*}\n"
      ],
      "text/markdown": [
       "1. 1\n",
       "2. &lt;NA&gt;\n",
       "3. 3\n",
       "4. 4\n",
       "5. 5\n",
       "6. &lt;NA&gt;\n",
       "7. 7\n",
       "8. 8\n",
       "9. 9\n",
       "10. 10\n",
       "\n",
       "\n"
      ],
      "text/plain": [
       " [1]  1 NA  3  4  5 NA  7  8  9 10"
      ]
     },
     "metadata": {},
     "output_type": "display_data"
    }
   ],
   "source": [
    "# Challenge 2: From previous one,  set the 2nd and 6th elements to 'no value'\n",
    "mylist[2]<- mylist[6]<-NA\n",
    "\n",
    "mylist"
   ]
  },
  {
   "cell_type": "code",
   "execution_count": 4,
   "metadata": {
    "colab": {
     "base_uri": "https://localhost:8080/"
    },
    "executionInfo": {
     "elapsed": 1909,
     "status": "ok",
     "timestamp": 1606739053972,
     "user": {
      "displayName": "Joan Verdú",
      "photoUrl": "https://lh3.googleusercontent.com/a-/AOh14Ghq6Zm9ACo3kD6kZhp6ZuWkYJqG_DQfPoIV1Ues=s64",
      "userId": "17893353067607712705"
     },
     "user_tz": -60
    },
    "id": "keMTXKF5ASrs",
    "outputId": "791bcb1e-c6ee-4879-d4bf-1fa52ab86f5c"
   },
   "outputs": [
    {
     "data": {
      "text/html": [
       "<style>\n",
       ".list-inline {list-style: none; margin:0; padding: 0}\n",
       ".list-inline>li {display: inline-block}\n",
       ".list-inline>li:not(:last-child)::after {content: \"\\00b7\"; padding: 0 .5ex}\n",
       "</style>\n",
       "<ol class=list-inline><li>8</li><li>9</li><li>10</li></ol>\n"
      ],
      "text/latex": [
       "\\begin{enumerate*}\n",
       "\\item 8\n",
       "\\item 9\n",
       "\\item 10\n",
       "\\end{enumerate*}\n"
      ],
      "text/markdown": [
       "1. 8\n",
       "2. 9\n",
       "3. 10\n",
       "\n",
       "\n"
      ],
      "text/plain": [
       "[1]  8  9 10"
      ]
     },
     "metadata": {},
     "output_type": "display_data"
    }
   ],
   "source": [
    "# Challenge 3: From previous one,  print last 3 elements of the list\n",
    "mylist[(length(mylist)-2):length(mylist)]"
   ]
  },
  {
   "cell_type": "code",
   "execution_count": 5,
   "metadata": {
    "colab": {
     "base_uri": "https://localhost:8080/"
    },
    "executionInfo": {
     "elapsed": 1904,
     "status": "ok",
     "timestamp": 1606739053972,
     "user": {
      "displayName": "Joan Verdú",
      "photoUrl": "https://lh3.googleusercontent.com/a-/AOh14Ghq6Zm9ACo3kD6kZhp6ZuWkYJqG_DQfPoIV1Ues=s64",
      "userId": "17893353067607712705"
     },
     "user_tz": -60
    },
    "id": "sm-PMRQwASrs",
    "outputId": "b8851d8f-c494-468d-cad1-ee513c929b5a"
   },
   "outputs": [
    {
     "data": {
      "text/html": [
       "47"
      ],
      "text/latex": [
       "47"
      ],
      "text/markdown": [
       "47"
      ],
      "text/plain": [
       "[1] 47"
      ]
     },
     "metadata": {},
     "output_type": "display_data"
    },
    {
     "data": {
      "text/html": [
       "47"
      ],
      "text/latex": [
       "47"
      ],
      "text/markdown": [
       "47"
      ],
      "text/plain": [
       "[1] 47"
      ]
     },
     "metadata": {},
     "output_type": "display_data"
    }
   ],
   "source": [
    "# Challenge 4: From 2, sum all the elements that are different than None\n",
    "# Hint: do it first with a for loop\n",
    "# then as alternative, try the same with sum(), managing the NA \n",
    "\n",
    "mysum<-0\n",
    "for (i in mylist){\n",
    "    if (!is.na(i)){\n",
    "        mysum<-mysum+i\n",
    "    }\n",
    "}\n",
    "mysum\n",
    "\n",
    "# or\n",
    "sum(mylist, na.rm=T)\n"
   ]
  },
  {
   "cell_type": "markdown",
   "metadata": {
    "id": "T8X241UGASrs"
   },
   "source": [
    "## Matrices\n",
    "\n"
   ]
  },
  {
   "cell_type": "code",
   "execution_count": 6,
   "metadata": {
    "colab": {
     "base_uri": "https://localhost:8080/",
     "height": 128
    },
    "executionInfo": {
     "elapsed": 607,
     "status": "error",
     "timestamp": 1607297475209,
     "user": {
      "displayName": "Joan Verdú",
      "photoUrl": "https://lh3.googleusercontent.com/a-/AOh14Ghq6Zm9ACo3kD6kZhp6ZuWkYJqG_DQfPoIV1Ues=s64",
      "userId": "17893353067607712705"
     },
     "user_tz": -60
    },
    "id": "UpB73mxZASrs",
    "outputId": "66edc820-7a88-48d2-8d49-5ccc619363bc"
   },
   "outputs": [
    {
     "data": {
      "text/html": [
       "<table>\n",
       "<caption>A matrix: 3 × 4 of type dbl</caption>\n",
       "<tbody>\n",
       "\t<tr><td>0.1019770</td><td>-1.4882742</td><td>-0.04253161</td><td>-1.0473302</td></tr>\n",
       "\t<tr><td>1.4559452</td><td> 1.5378115</td><td> 1.21868800</td><td> 1.1429936</td></tr>\n",
       "\t<tr><td>0.1730759</td><td>-0.9732007</td><td> 0.19594472</td><td>-0.1857031</td></tr>\n",
       "</tbody>\n",
       "</table>\n"
      ],
      "text/latex": [
       "A matrix: 3 × 4 of type dbl\n",
       "\\begin{tabular}{llll}\n",
       "\t 0.1019770 & -1.4882742 & -0.04253161 & -1.0473302\\\\\n",
       "\t 1.4559452 &  1.5378115 &  1.21868800 &  1.1429936\\\\\n",
       "\t 0.1730759 & -0.9732007 &  0.19594472 & -0.1857031\\\\\n",
       "\\end{tabular}\n"
      ],
      "text/markdown": [
       "\n",
       "A matrix: 3 × 4 of type dbl\n",
       "\n",
       "| 0.1019770 | -1.4882742 | -0.04253161 | -1.0473302 |\n",
       "| 1.4559452 |  1.5378115 |  1.21868800 |  1.1429936 |\n",
       "| 0.1730759 | -0.9732007 |  0.19594472 | -0.1857031 |\n",
       "\n"
      ],
      "text/plain": [
       "     [,1]      [,2]       [,3]        [,4]      \n",
       "[1,] 0.1019770 -1.4882742 -0.04253161 -1.0473302\n",
       "[2,] 1.4559452  1.5378115  1.21868800  1.1429936\n",
       "[3,] 0.1730759 -0.9732007  0.19594472 -0.1857031"
      ]
     },
     "metadata": {},
     "output_type": "display_data"
    }
   ],
   "source": [
    "# Challenge 1: Create two matrix \n",
    "# one 3x6 using random numbers from normal distribution \n",
    "# the other 6x4 using random numbers from uniform distribution\n",
    "# and multiply them using matrix algrebra\n",
    "m <- matrix(rnorm(18), nrow = 3, ncol = 6)\n",
    "m2<- matrix(runif(24), nrow = 6, ncol = 4)\n",
    "\n",
    "m %*% m2"
   ]
  },
  {
   "cell_type": "code",
   "execution_count": 7,
   "metadata": {
    "colab": {
     "base_uri": "https://localhost:8080/"
    },
    "executionInfo": {
     "elapsed": 1881,
     "status": "ok",
     "timestamp": 1606739053974,
     "user": {
      "displayName": "Joan Verdú",
      "photoUrl": "https://lh3.googleusercontent.com/a-/AOh14Ghq6Zm9ACo3kD6kZhp6ZuWkYJqG_DQfPoIV1Ues=s64",
      "userId": "17893353067607712705"
     },
     "user_tz": -60
    },
    "id": "iQ3WKs5LASrt",
    "outputId": "81b3c600-0e90-46a3-e4e2-f1dfbe134ed7"
   },
   "outputs": [
    {
     "data": {
      "text/html": [
       "<table>\n",
       "<caption>A matrix: 3 × 6 of type dbl</caption>\n",
       "<tbody>\n",
       "\t<tr><td>2.218585</td><td>4.013380</td><td>5.872324</td><td> 8.666113</td><td>14.15629</td><td>15.03336</td></tr>\n",
       "\t<tr><td>2.642242</td><td>5.544468</td><td>8.427363</td><td>11.753570</td><td>14.22215</td><td>17.44089</td></tr>\n",
       "\t<tr><td>3.080591</td><td>4.910755</td><td>8.440116</td><td>11.183229</td><td>16.18931</td><td>18.31263</td></tr>\n",
       "</tbody>\n",
       "</table>\n"
      ],
      "text/latex": [
       "A matrix: 3 × 6 of type dbl\n",
       "\\begin{tabular}{llllll}\n",
       "\t 2.218585 & 4.013380 & 5.872324 &  8.666113 & 14.15629 & 15.03336\\\\\n",
       "\t 2.642242 & 5.544468 & 8.427363 & 11.753570 & 14.22215 & 17.44089\\\\\n",
       "\t 3.080591 & 4.910755 & 8.440116 & 11.183229 & 16.18931 & 18.31263\\\\\n",
       "\\end{tabular}\n"
      ],
      "text/markdown": [
       "\n",
       "A matrix: 3 × 6 of type dbl\n",
       "\n",
       "| 2.218585 | 4.013380 | 5.872324 |  8.666113 | 14.15629 | 15.03336 |\n",
       "| 2.642242 | 5.544468 | 8.427363 | 11.753570 | 14.22215 | 17.44089 |\n",
       "| 3.080591 | 4.910755 | 8.440116 | 11.183229 | 16.18931 | 18.31263 |\n",
       "\n"
      ],
      "text/plain": [
       "     [,1]     [,2]     [,3]     [,4]      [,5]     [,6]    \n",
       "[1,] 2.218585 4.013380 5.872324  8.666113 14.15629 15.03336\n",
       "[2,] 2.642242 5.544468 8.427363 11.753570 14.22215 17.44089\n",
       "[3,] 3.080591 4.910755 8.440116 11.183229 16.18931 18.31263"
      ]
     },
     "metadata": {},
     "output_type": "display_data"
    }
   ],
   "source": [
    "# Challenge 2: Create a third matrix and sum with the first one elementwise\n",
    "\n",
    "m3<-matrix(1:18, 3,6)\n",
    "\n",
    "m+m3"
   ]
  },
  {
   "cell_type": "code",
   "execution_count": 8,
   "metadata": {},
   "outputs": [
    {
     "data": {
      "text/html": [
       "<table>\n",
       "<caption>A matrix: 3 × 6 of type int</caption>\n",
       "<tbody>\n",
       "\t<tr><td>1</td><td>4</td><td>7</td><td>10</td><td>13</td><td>16</td></tr>\n",
       "\t<tr><td>2</td><td>5</td><td>8</td><td>11</td><td>14</td><td>17</td></tr>\n",
       "\t<tr><td>3</td><td>6</td><td>9</td><td>12</td><td>15</td><td>18</td></tr>\n",
       "</tbody>\n",
       "</table>\n"
      ],
      "text/latex": [
       "A matrix: 3 × 6 of type int\n",
       "\\begin{tabular}{llllll}\n",
       "\t 1 & 4 & 7 & 10 & 13 & 16\\\\\n",
       "\t 2 & 5 & 8 & 11 & 14 & 17\\\\\n",
       "\t 3 & 6 & 9 & 12 & 15 & 18\\\\\n",
       "\\end{tabular}\n"
      ],
      "text/markdown": [
       "\n",
       "A matrix: 3 × 6 of type int\n",
       "\n",
       "| 1 | 4 | 7 | 10 | 13 | 16 |\n",
       "| 2 | 5 | 8 | 11 | 14 | 17 |\n",
       "| 3 | 6 | 9 | 12 | 15 | 18 |\n",
       "\n"
      ],
      "text/plain": [
       "     [,1] [,2] [,3] [,4] [,5] [,6]\n",
       "[1,] 1    4    7    10   13   16  \n",
       "[2,] 2    5    8    11   14   17  \n",
       "[3,] 3    6    9    12   15   18  "
      ]
     },
     "metadata": {},
     "output_type": "display_data"
    }
   ],
   "source": [
    "m3"
   ]
  },
  {
   "cell_type": "code",
   "execution_count": 9,
   "metadata": {},
   "outputs": [
    {
     "data": {
      "text/html": [
       "<table>\n",
       "<caption>A matrix: 3 × 6 of type dbl</caption>\n",
       "<tbody>\n",
       "\t<tr><td>1.21858533</td><td> 0.01338031</td><td>-1.1276756</td><td>-1.3338874</td><td>1.1562905</td><td>-0.9666447</td></tr>\n",
       "\t<tr><td>0.64224199</td><td> 0.54446765</td><td> 0.4273626</td><td> 0.7535702</td><td>0.2221548</td><td> 0.4408884</td></tr>\n",
       "\t<tr><td>0.08059057</td><td>-1.08924521</td><td>-0.5598836</td><td>-0.8167712</td><td>1.1893089</td><td> 0.3126307</td></tr>\n",
       "</tbody>\n",
       "</table>\n"
      ],
      "text/latex": [
       "A matrix: 3 × 6 of type dbl\n",
       "\\begin{tabular}{llllll}\n",
       "\t 1.21858533 &  0.01338031 & -1.1276756 & -1.3338874 & 1.1562905 & -0.9666447\\\\\n",
       "\t 0.64224199 &  0.54446765 &  0.4273626 &  0.7535702 & 0.2221548 &  0.4408884\\\\\n",
       "\t 0.08059057 & -1.08924521 & -0.5598836 & -0.8167712 & 1.1893089 &  0.3126307\\\\\n",
       "\\end{tabular}\n"
      ],
      "text/markdown": [
       "\n",
       "A matrix: 3 × 6 of type dbl\n",
       "\n",
       "| 1.21858533 |  0.01338031 | -1.1276756 | -1.3338874 | 1.1562905 | -0.9666447 |\n",
       "| 0.64224199 |  0.54446765 |  0.4273626 |  0.7535702 | 0.2221548 |  0.4408884 |\n",
       "| 0.08059057 | -1.08924521 | -0.5598836 | -0.8167712 | 1.1893089 |  0.3126307 |\n",
       "\n"
      ],
      "text/plain": [
       "     [,1]       [,2]        [,3]       [,4]       [,5]      [,6]      \n",
       "[1,] 1.21858533  0.01338031 -1.1276756 -1.3338874 1.1562905 -0.9666447\n",
       "[2,] 0.64224199  0.54446765  0.4273626  0.7535702 0.2221548  0.4408884\n",
       "[3,] 0.08059057 -1.08924521 -0.5598836 -0.8167712 1.1893089  0.3126307"
      ]
     },
     "metadata": {},
     "output_type": "display_data"
    }
   ],
   "source": [
    "m"
   ]
  },
  {
   "cell_type": "markdown",
   "metadata": {
    "id": "Zn7F97PRASrs"
   },
   "source": [
    "## Data.frames"
   ]
  },
  {
   "cell_type": "code",
   "execution_count": 10,
   "metadata": {
    "colab": {
     "base_uri": "https://localhost:8080/"
    },
    "executionInfo": {
     "elapsed": 1900,
     "status": "ok",
     "timestamp": 1606739053973,
     "user": {
      "displayName": "Joan Verdú",
      "photoUrl": "https://lh3.googleusercontent.com/a-/AOh14Ghq6Zm9ACo3kD6kZhp6ZuWkYJqG_DQfPoIV1Ues=s64",
      "userId": "17893353067607712705"
     },
     "user_tz": -60
    },
    "id": "AoWHzKlsASrs",
    "outputId": "3bc013ba-e92a-4694-efde-44d9a955962f"
   },
   "outputs": [
    {
     "data": {
      "text/html": [
       "<table>\n",
       "<caption>A data.frame: 6 × 2</caption>\n",
       "<thead>\n",
       "\t<tr><th scope=col>name</th><th scope=col>age</th></tr>\n",
       "\t<tr><th scope=col>&lt;fct&gt;</th><th scope=col>&lt;dbl&gt;</th></tr>\n",
       "</thead>\n",
       "<tbody>\n",
       "\t<tr><td>bob   </td><td>25</td></tr>\n",
       "\t<tr><td>robert</td><td>32</td></tr>\n",
       "\t<tr><td>dad   </td><td>53</td></tr>\n",
       "\t<tr><td>angela</td><td>48</td></tr>\n",
       "\t<tr><td>liz   </td><td>23</td></tr>\n",
       "\t<tr><td>ray   </td><td>43</td></tr>\n",
       "</tbody>\n",
       "</table>\n"
      ],
      "text/latex": [
       "A data.frame: 6 × 2\n",
       "\\begin{tabular}{ll}\n",
       " name & age\\\\\n",
       " <fct> & <dbl>\\\\\n",
       "\\hline\n",
       "\t bob    & 25\\\\\n",
       "\t robert & 32\\\\\n",
       "\t dad    & 53\\\\\n",
       "\t angela & 48\\\\\n",
       "\t liz    & 23\\\\\n",
       "\t ray    & 43\\\\\n",
       "\\end{tabular}\n"
      ],
      "text/markdown": [
       "\n",
       "A data.frame: 6 × 2\n",
       "\n",
       "| name &lt;fct&gt; | age &lt;dbl&gt; |\n",
       "|---|---|\n",
       "| bob    | 25 |\n",
       "| robert | 32 |\n",
       "| dad    | 53 |\n",
       "| angela | 48 |\n",
       "| liz    | 23 |\n",
       "| ray    | 43 |\n",
       "\n"
      ],
      "text/plain": [
       "  name   age\n",
       "1 bob    25 \n",
       "2 robert 32 \n",
       "3 dad    53 \n",
       "4 angela 48 \n",
       "5 liz    23 \n",
       "6 ray    43 "
      ]
     },
     "metadata": {},
     "output_type": "display_data"
    }
   ],
   "source": [
    "# Challenge 1: Create a data.frame of 6 rows, each element would be a pair of name and an age (at your choice, but one has to be 'bob')\n",
    "mydf=data.frame(name=c('bob','robert','dad','angela','liz','ray'),\n",
    "                age=c(25,32,53,48,23,43)\n",
    "                )\n",
    "mydf"
   ]
  },
  {
   "cell_type": "code",
   "execution_count": 11,
   "metadata": {
    "colab": {
     "base_uri": "https://localhost:8080/",
     "height": 128
    },
    "executionInfo": {
     "elapsed": 590,
     "status": "error",
     "timestamp": 1607297023542,
     "user": {
      "displayName": "Joan Verdú",
      "photoUrl": "https://lh3.googleusercontent.com/a-/AOh14Ghq6Zm9ACo3kD6kZhp6ZuWkYJqG_DQfPoIV1Ues=s64",
      "userId": "17893353067607712705"
     },
     "user_tz": -60
    },
    "id": "hLFoGUo8ASrs",
    "outputId": "afefefad-0705-4bfb-efe4-04a60d763c6d"
   },
   "outputs": [
    {
     "data": {
      "text/html": [
       "<strong>age:</strong> 25"
      ],
      "text/latex": [
       "\\textbf{age:} 25"
      ],
      "text/markdown": [
       "**age:** 25"
      ],
      "text/plain": [
       "age \n",
       " 25 "
      ]
     },
     "metadata": {},
     "output_type": "display_data"
    },
    {
     "data": {
      "text/html": [
       "<strong>age:</strong> 25"
      ],
      "text/latex": [
       "\\textbf{age:} 25"
      ],
      "text/markdown": [
       "**age:** 25"
      ],
      "text/plain": [
       "age \n",
       " 25 "
      ]
     },
     "metadata": {},
     "output_type": "display_data"
    }
   ],
   "source": [
    "# Challenge 2: Print bob's age: use dplyr or data.table, at your choice\n",
    "\n",
    "mydf %>% filter(name=='bob')%>%select(age) %>% unlist()\n",
    "\n",
    "\n",
    "mydt<-as.data.table(mydf)\n",
    "mydt[name=='bob', 'age'] %>% unlist()\n"
   ]
  },
  {
   "cell_type": "code",
   "execution_count": 12,
   "metadata": {
    "colab": {
     "base_uri": "https://localhost:8080/"
    },
    "executionInfo": {
     "elapsed": 1890,
     "status": "ok",
     "timestamp": 1606739053974,
     "user": {
      "displayName": "Joan Verdú",
      "photoUrl": "https://lh3.googleusercontent.com/a-/AOh14Ghq6Zm9ACo3kD6kZhp6ZuWkYJqG_DQfPoIV1Ues=s64",
      "userId": "17893353067607712705"
     },
     "user_tz": -60
    },
    "id": "duTZq9chASrs",
    "outputId": "72692cde-a889-4f71-e72c-a140e24846d8"
   },
   "outputs": [
    {
     "data": {
      "text/html": [
       "<table>\n",
       "<caption>A data.frame: 3 × 2</caption>\n",
       "<thead>\n",
       "\t<tr><th></th><th scope=col>name</th><th scope=col>age</th></tr>\n",
       "\t<tr><th></th><th scope=col>&lt;fct&gt;</th><th scope=col>&lt;dbl&gt;</th></tr>\n",
       "</thead>\n",
       "<tbody>\n",
       "\t<tr><th scope=row>1</th><td>bob   </td><td>25</td></tr>\n",
       "\t<tr><th scope=row>2</th><td>robert</td><td>32</td></tr>\n",
       "\t<tr><th scope=row>5</th><td>liz   </td><td>23</td></tr>\n",
       "</tbody>\n",
       "</table>\n"
      ],
      "text/latex": [
       "A data.frame: 3 × 2\n",
       "\\begin{tabular}{r|ll}\n",
       "  & name & age\\\\\n",
       "  & <fct> & <dbl>\\\\\n",
       "\\hline\n",
       "\t1 & bob    & 25\\\\\n",
       "\t2 & robert & 32\\\\\n",
       "\t5 & liz    & 23\\\\\n",
       "\\end{tabular}\n"
      ],
      "text/markdown": [
       "\n",
       "A data.frame: 3 × 2\n",
       "\n",
       "| <!--/--> | name &lt;fct&gt; | age &lt;dbl&gt; |\n",
       "|---|---|---|\n",
       "| 1 | bob    | 25 |\n",
       "| 2 | robert | 32 |\n",
       "| 5 | liz    | 23 |\n",
       "\n"
      ],
      "text/plain": [
       "  name   age\n",
       "1 bob    25 \n",
       "2 robert 32 \n",
       "5 liz    23 "
      ]
     },
     "metadata": {},
     "output_type": "display_data"
    },
    {
     "data": {
      "text/html": [
       "<table>\n",
       "<caption>A data.frame: 3 × 2</caption>\n",
       "<thead>\n",
       "\t<tr><th scope=col>name</th><th scope=col>age</th></tr>\n",
       "\t<tr><th scope=col>&lt;fct&gt;</th><th scope=col>&lt;dbl&gt;</th></tr>\n",
       "</thead>\n",
       "<tbody>\n",
       "\t<tr><td>bob   </td><td>25</td></tr>\n",
       "\t<tr><td>robert</td><td>32</td></tr>\n",
       "\t<tr><td>liz   </td><td>23</td></tr>\n",
       "</tbody>\n",
       "</table>\n"
      ],
      "text/latex": [
       "A data.frame: 3 × 2\n",
       "\\begin{tabular}{ll}\n",
       " name & age\\\\\n",
       " <fct> & <dbl>\\\\\n",
       "\\hline\n",
       "\t bob    & 25\\\\\n",
       "\t robert & 32\\\\\n",
       "\t liz    & 23\\\\\n",
       "\\end{tabular}\n"
      ],
      "text/markdown": [
       "\n",
       "A data.frame: 3 × 2\n",
       "\n",
       "| name &lt;fct&gt; | age &lt;dbl&gt; |\n",
       "|---|---|\n",
       "| bob    | 25 |\n",
       "| robert | 32 |\n",
       "| liz    | 23 |\n",
       "\n"
      ],
      "text/plain": [
       "  name   age\n",
       "1 bob    25 \n",
       "2 robert 32 \n",
       "3 liz    23 "
      ]
     },
     "metadata": {},
     "output_type": "display_data"
    },
    {
     "data": {
      "text/html": [
       "<table>\n",
       "<caption>A data.table: 3 × 2</caption>\n",
       "<thead>\n",
       "\t<tr><th scope=col>name</th><th scope=col>age</th></tr>\n",
       "\t<tr><th scope=col>&lt;fct&gt;</th><th scope=col>&lt;dbl&gt;</th></tr>\n",
       "</thead>\n",
       "<tbody>\n",
       "\t<tr><td>bob   </td><td>25</td></tr>\n",
       "\t<tr><td>robert</td><td>32</td></tr>\n",
       "\t<tr><td>liz   </td><td>23</td></tr>\n",
       "</tbody>\n",
       "</table>\n"
      ],
      "text/latex": [
       "A data.table: 3 × 2\n",
       "\\begin{tabular}{ll}\n",
       " name & age\\\\\n",
       " <fct> & <dbl>\\\\\n",
       "\\hline\n",
       "\t bob    & 25\\\\\n",
       "\t robert & 32\\\\\n",
       "\t liz    & 23\\\\\n",
       "\\end{tabular}\n"
      ],
      "text/markdown": [
       "\n",
       "A data.table: 3 × 2\n",
       "\n",
       "| name &lt;fct&gt; | age &lt;dbl&gt; |\n",
       "|---|---|\n",
       "| bob    | 25 |\n",
       "| robert | 32 |\n",
       "| liz    | 23 |\n",
       "\n"
      ],
      "text/plain": [
       "  name   age\n",
       "1 bob    25 \n",
       "2 robert 32 \n",
       "3 liz    23 "
      ]
     },
     "metadata": {},
     "output_type": "display_data"
    }
   ],
   "source": [
    "# Challenge 3: Extract names of people whose age is under certain value\n",
    "Limit=40\n",
    "\n",
    "# Standard data.frame use\n",
    "mydf[mydf$age<Limit,]\n",
    "\n",
    "# dplyr\n",
    "mydf %>% filter(age<Limit)\n",
    "\n",
    "# data.table\n",
    "mydt[age<Limit]"
   ]
  },
  {
   "cell_type": "code",
   "execution_count": 13,
   "metadata": {},
   "outputs": [
    {
     "data": {
      "text/html": [
       "<table>\n",
       "<caption>A data.frame: 6 × 3</caption>\n",
       "<thead>\n",
       "\t<tr><th scope=col>name</th><th scope=col>age</th><th scope=col>year</th></tr>\n",
       "\t<tr><th scope=col>&lt;fct&gt;</th><th scope=col>&lt;dbl&gt;</th><th scope=col>&lt;dbl&gt;</th></tr>\n",
       "</thead>\n",
       "<tbody>\n",
       "\t<tr><td>bob   </td><td>25</td><td>1996</td></tr>\n",
       "\t<tr><td>robert</td><td>32</td><td>1989</td></tr>\n",
       "\t<tr><td>dad   </td><td>53</td><td>1968</td></tr>\n",
       "\t<tr><td>angela</td><td>48</td><td>1973</td></tr>\n",
       "\t<tr><td>liz   </td><td>23</td><td>1998</td></tr>\n",
       "\t<tr><td>ray   </td><td>43</td><td>1978</td></tr>\n",
       "</tbody>\n",
       "</table>\n"
      ],
      "text/latex": [
       "A data.frame: 6 × 3\n",
       "\\begin{tabular}{lll}\n",
       " name & age & year\\\\\n",
       " <fct> & <dbl> & <dbl>\\\\\n",
       "\\hline\n",
       "\t bob    & 25 & 1996\\\\\n",
       "\t robert & 32 & 1989\\\\\n",
       "\t dad    & 53 & 1968\\\\\n",
       "\t angela & 48 & 1973\\\\\n",
       "\t liz    & 23 & 1998\\\\\n",
       "\t ray    & 43 & 1978\\\\\n",
       "\\end{tabular}\n"
      ],
      "text/markdown": [
       "\n",
       "A data.frame: 6 × 3\n",
       "\n",
       "| name &lt;fct&gt; | age &lt;dbl&gt; | year &lt;dbl&gt; |\n",
       "|---|---|---|\n",
       "| bob    | 25 | 1996 |\n",
       "| robert | 32 | 1989 |\n",
       "| dad    | 53 | 1968 |\n",
       "| angela | 48 | 1973 |\n",
       "| liz    | 23 | 1998 |\n",
       "| ray    | 43 | 1978 |\n",
       "\n"
      ],
      "text/plain": [
       "  name   age year\n",
       "1 bob    25  1996\n",
       "2 robert 32  1989\n",
       "3 dad    53  1968\n",
       "4 angela 48  1973\n",
       "5 liz    23  1998\n",
       "6 ray    43  1978"
      ]
     },
     "metadata": {},
     "output_type": "display_data"
    },
    {
     "data": {
      "text/html": [
       "<table>\n",
       "<caption>A data.frame: 6 × 3</caption>\n",
       "<thead>\n",
       "\t<tr><th scope=col>name</th><th scope=col>age</th><th scope=col>year</th></tr>\n",
       "\t<tr><th scope=col>&lt;fct&gt;</th><th scope=col>&lt;dbl&gt;</th><th scope=col>&lt;dbl&gt;</th></tr>\n",
       "</thead>\n",
       "<tbody>\n",
       "\t<tr><td>bob   </td><td>25</td><td>1996</td></tr>\n",
       "\t<tr><td>robert</td><td>32</td><td>1989</td></tr>\n",
       "\t<tr><td>dad   </td><td>53</td><td>1968</td></tr>\n",
       "\t<tr><td>angela</td><td>48</td><td>1973</td></tr>\n",
       "\t<tr><td>liz   </td><td>23</td><td>1998</td></tr>\n",
       "\t<tr><td>ray   </td><td>43</td><td>1978</td></tr>\n",
       "</tbody>\n",
       "</table>\n"
      ],
      "text/latex": [
       "A data.frame: 6 × 3\n",
       "\\begin{tabular}{lll}\n",
       " name & age & year\\\\\n",
       " <fct> & <dbl> & <dbl>\\\\\n",
       "\\hline\n",
       "\t bob    & 25 & 1996\\\\\n",
       "\t robert & 32 & 1989\\\\\n",
       "\t dad    & 53 & 1968\\\\\n",
       "\t angela & 48 & 1973\\\\\n",
       "\t liz    & 23 & 1998\\\\\n",
       "\t ray    & 43 & 1978\\\\\n",
       "\\end{tabular}\n"
      ],
      "text/markdown": [
       "\n",
       "A data.frame: 6 × 3\n",
       "\n",
       "| name &lt;fct&gt; | age &lt;dbl&gt; | year &lt;dbl&gt; |\n",
       "|---|---|---|\n",
       "| bob    | 25 | 1996 |\n",
       "| robert | 32 | 1989 |\n",
       "| dad    | 53 | 1968 |\n",
       "| angela | 48 | 1973 |\n",
       "| liz    | 23 | 1998 |\n",
       "| ray    | 43 | 1978 |\n",
       "\n"
      ],
      "text/plain": [
       "  name   age year\n",
       "1 bob    25  1996\n",
       "2 robert 32  1989\n",
       "3 dad    53  1968\n",
       "4 angela 48  1973\n",
       "5 liz    23  1998\n",
       "6 ray    43  1978"
      ]
     },
     "metadata": {},
     "output_type": "display_data"
    },
    {
     "data": {
      "text/html": [
       "<table>\n",
       "<caption>A data.table: 6 × 3</caption>\n",
       "<thead>\n",
       "\t<tr><th scope=col>name</th><th scope=col>age</th><th scope=col>year</th></tr>\n",
       "\t<tr><th scope=col>&lt;fct&gt;</th><th scope=col>&lt;dbl&gt;</th><th scope=col>&lt;dbl&gt;</th></tr>\n",
       "</thead>\n",
       "<tbody>\n",
       "\t<tr><td>bob   </td><td>25</td><td>1996</td></tr>\n",
       "\t<tr><td>robert</td><td>32</td><td>1989</td></tr>\n",
       "\t<tr><td>dad   </td><td>53</td><td>1968</td></tr>\n",
       "\t<tr><td>angela</td><td>48</td><td>1973</td></tr>\n",
       "\t<tr><td>liz   </td><td>23</td><td>1998</td></tr>\n",
       "\t<tr><td>ray   </td><td>43</td><td>1978</td></tr>\n",
       "</tbody>\n",
       "</table>\n"
      ],
      "text/latex": [
       "A data.table: 6 × 3\n",
       "\\begin{tabular}{lll}\n",
       " name & age & year\\\\\n",
       " <fct> & <dbl> & <dbl>\\\\\n",
       "\\hline\n",
       "\t bob    & 25 & 1996\\\\\n",
       "\t robert & 32 & 1989\\\\\n",
       "\t dad    & 53 & 1968\\\\\n",
       "\t angela & 48 & 1973\\\\\n",
       "\t liz    & 23 & 1998\\\\\n",
       "\t ray    & 43 & 1978\\\\\n",
       "\\end{tabular}\n"
      ],
      "text/markdown": [
       "\n",
       "A data.table: 6 × 3\n",
       "\n",
       "| name &lt;fct&gt; | age &lt;dbl&gt; | year &lt;dbl&gt; |\n",
       "|---|---|---|\n",
       "| bob    | 25 | 1996 |\n",
       "| robert | 32 | 1989 |\n",
       "| dad    | 53 | 1968 |\n",
       "| angela | 48 | 1973 |\n",
       "| liz    | 23 | 1998 |\n",
       "| ray    | 43 | 1978 |\n",
       "\n"
      ],
      "text/plain": [
       "  name   age year\n",
       "1 bob    25  1996\n",
       "2 robert 32  1989\n",
       "3 dad    53  1968\n",
       "4 angela 48  1973\n",
       "5 liz    23  1998\n",
       "6 ray    43  1978"
      ]
     },
     "metadata": {},
     "output_type": "display_data"
    }
   ],
   "source": [
    "# Challenge 4: Using our data.frame of 'name' and 'age' columns \n",
    "# create a new column year of birth, computed from age\n",
    "\n",
    "# Standard R\n",
    "mydf$year<-2021-mydf$age\n",
    "mydf\n",
    "\n",
    "# dplyr\n",
    "mydf<-mydf %>%mutate(year=2021-age)\n",
    "mydf\n",
    "\n",
    "# data.table\n",
    "mydt[,year:=2021-age]\n",
    "mydt"
   ]
  },
  {
   "cell_type": "markdown",
   "metadata": {
    "id": "ttNXGIseASrt"
   },
   "source": [
    "## Functions"
   ]
  },
  {
   "cell_type": "code",
   "execution_count": 33,
   "metadata": {},
   "outputs": [],
   "source": [
    "## Now we will use this data.frame of real estate rents\n",
    "my_re<-data.frame(\n",
    "    code=c('ID001','ID002','ID003','ID004','ID005','ID006'),\n",
    "    city=c('Barcelona','Paris','Rome','London','Barcelona','Paris'),\n",
    "    sq_mt=c(80,75,95,81,103,89),\n",
    "    value=c(1100, 1600, 1100,2000,1800,1900)\n",
    ")\n",
    "my_re_dt<-as.data.table(my_re) # to practice data.table"
   ]
  },
  {
   "cell_type": "code",
   "execution_count": 34,
   "metadata": {
    "colab": {
     "base_uri": "https://localhost:8080/"
    },
    "executionInfo": {
     "elapsed": 1869,
     "status": "ok",
     "timestamp": 1606739053976,
     "user": {
      "displayName": "Joan Verdú",
      "photoUrl": "https://lh3.googleusercontent.com/a-/AOh14Ghq6Zm9ACo3kD6kZhp6ZuWkYJqG_DQfPoIV1Ues=s64",
      "userId": "17893353067607712705"
     },
     "user_tz": -60
    },
    "id": "qTzOCP2BASrt",
    "outputId": "b8b1a2ff-0768-499e-ce07-941c874a7b97"
   },
   "outputs": [
    {
     "data": {
      "text/html": [
       "14.9038461538462"
      ],
      "text/latex": [
       "14.9038461538462"
      ],
      "text/markdown": [
       "14.9038461538462"
      ],
      "text/plain": [
       "[1] 14.90385"
      ]
     },
     "metadata": {},
     "output_type": "display_data"
    }
   ],
   "source": [
    "# Challenge 1: silly example: Build a function that receives two numbers 'sq_mt' and 'value'\n",
    "# and returns the ratio value/sq_mt\n",
    "\n",
    "# Test it with this example\n",
    "sq_mt=104\n",
    "value=1550\n",
    "\n",
    "# your code here\n",
    "compute_ratio<-function(sq_mt, value){\n",
    "    return (value/sq_mt)\n",
    "}\n",
    "\n",
    "compute_ratio(sq_mt, value)\n",
    "\n",
    "# check that also works also with vectors instead of numbers"
   ]
  },
  {
   "cell_type": "code",
   "execution_count": 35,
   "metadata": {
    "colab": {
     "base_uri": "https://localhost:8080/"
    },
    "executionInfo": {
     "elapsed": 1864,
     "status": "ok",
     "timestamp": 1606739053976,
     "user": {
      "displayName": "Joan Verdú",
      "photoUrl": "https://lh3.googleusercontent.com/a-/AOh14Ghq6Zm9ACo3kD6kZhp6ZuWkYJqG_DQfPoIV1Ues=s64",
      "userId": "17893353067607712705"
     },
     "user_tz": -60
    },
    "id": "ksLRp7zjASrt",
    "outputId": "1954881f-a523-4296-f53d-51c2a6479c36"
   },
   "outputs": [
    {
     "data": {
      "text/html": [
       "<table>\n",
       "<caption>A data.frame: 6 × 5</caption>\n",
       "<thead>\n",
       "\t<tr><th scope=col>code</th><th scope=col>city</th><th scope=col>sq_mt</th><th scope=col>value</th><th scope=col>ratio</th></tr>\n",
       "\t<tr><th scope=col>&lt;fct&gt;</th><th scope=col>&lt;fct&gt;</th><th scope=col>&lt;dbl&gt;</th><th scope=col>&lt;dbl&gt;</th><th scope=col>&lt;dbl&gt;</th></tr>\n",
       "</thead>\n",
       "<tbody>\n",
       "\t<tr><td>ID001</td><td>Barcelona</td><td> 80</td><td>1100</td><td>13.75000</td></tr>\n",
       "\t<tr><td>ID002</td><td>Paris    </td><td> 75</td><td>1600</td><td>21.33333</td></tr>\n",
       "\t<tr><td>ID003</td><td>Rome     </td><td> 95</td><td>1100</td><td>11.57895</td></tr>\n",
       "\t<tr><td>ID004</td><td>London   </td><td> 81</td><td>2000</td><td>24.69136</td></tr>\n",
       "\t<tr><td>ID005</td><td>Barcelona</td><td>103</td><td>1800</td><td>17.47573</td></tr>\n",
       "\t<tr><td>ID006</td><td>Paris    </td><td> 89</td><td>1900</td><td>21.34831</td></tr>\n",
       "</tbody>\n",
       "</table>\n"
      ],
      "text/latex": [
       "A data.frame: 6 × 5\n",
       "\\begin{tabular}{lllll}\n",
       " code & city & sq\\_mt & value & ratio\\\\\n",
       " <fct> & <fct> & <dbl> & <dbl> & <dbl>\\\\\n",
       "\\hline\n",
       "\t ID001 & Barcelona &  80 & 1100 & 13.75000\\\\\n",
       "\t ID002 & Paris     &  75 & 1600 & 21.33333\\\\\n",
       "\t ID003 & Rome      &  95 & 1100 & 11.57895\\\\\n",
       "\t ID004 & London    &  81 & 2000 & 24.69136\\\\\n",
       "\t ID005 & Barcelona & 103 & 1800 & 17.47573\\\\\n",
       "\t ID006 & Paris     &  89 & 1900 & 21.34831\\\\\n",
       "\\end{tabular}\n"
      ],
      "text/markdown": [
       "\n",
       "A data.frame: 6 × 5\n",
       "\n",
       "| code &lt;fct&gt; | city &lt;fct&gt; | sq_mt &lt;dbl&gt; | value &lt;dbl&gt; | ratio &lt;dbl&gt; |\n",
       "|---|---|---|---|---|\n",
       "| ID001 | Barcelona |  80 | 1100 | 13.75000 |\n",
       "| ID002 | Paris     |  75 | 1600 | 21.33333 |\n",
       "| ID003 | Rome      |  95 | 1100 | 11.57895 |\n",
       "| ID004 | London    |  81 | 2000 | 24.69136 |\n",
       "| ID005 | Barcelona | 103 | 1800 | 17.47573 |\n",
       "| ID006 | Paris     |  89 | 1900 | 21.34831 |\n",
       "\n"
      ],
      "text/plain": [
       "  code  city      sq_mt value ratio   \n",
       "1 ID001 Barcelona  80   1100  13.75000\n",
       "2 ID002 Paris      75   1600  21.33333\n",
       "3 ID003 Rome       95   1100  11.57895\n",
       "4 ID004 London     81   2000  24.69136\n",
       "5 ID005 Barcelona 103   1800  17.47573\n",
       "6 ID006 Paris      89   1900  21.34831"
      ]
     },
     "metadata": {},
     "output_type": "display_data"
    },
    {
     "data": {
      "text/html": [
       "<table>\n",
       "<caption>A data.frame: 6 × 5</caption>\n",
       "<thead>\n",
       "\t<tr><th scope=col>code</th><th scope=col>city</th><th scope=col>sq_mt</th><th scope=col>value</th><th scope=col>ratio</th></tr>\n",
       "\t<tr><th scope=col>&lt;fct&gt;</th><th scope=col>&lt;fct&gt;</th><th scope=col>&lt;dbl&gt;</th><th scope=col>&lt;dbl&gt;</th><th scope=col>&lt;dbl&gt;</th></tr>\n",
       "</thead>\n",
       "<tbody>\n",
       "\t<tr><td>ID001</td><td>Barcelona</td><td> 80</td><td>1100</td><td>13.75000</td></tr>\n",
       "\t<tr><td>ID002</td><td>Paris    </td><td> 75</td><td>1600</td><td>21.33333</td></tr>\n",
       "\t<tr><td>ID003</td><td>Rome     </td><td> 95</td><td>1100</td><td>11.57895</td></tr>\n",
       "\t<tr><td>ID004</td><td>London   </td><td> 81</td><td>2000</td><td>24.69136</td></tr>\n",
       "\t<tr><td>ID005</td><td>Barcelona</td><td>103</td><td>1800</td><td>17.47573</td></tr>\n",
       "\t<tr><td>ID006</td><td>Paris    </td><td> 89</td><td>1900</td><td>21.34831</td></tr>\n",
       "</tbody>\n",
       "</table>\n"
      ],
      "text/latex": [
       "A data.frame: 6 × 5\n",
       "\\begin{tabular}{lllll}\n",
       " code & city & sq\\_mt & value & ratio\\\\\n",
       " <fct> & <fct> & <dbl> & <dbl> & <dbl>\\\\\n",
       "\\hline\n",
       "\t ID001 & Barcelona &  80 & 1100 & 13.75000\\\\\n",
       "\t ID002 & Paris     &  75 & 1600 & 21.33333\\\\\n",
       "\t ID003 & Rome      &  95 & 1100 & 11.57895\\\\\n",
       "\t ID004 & London    &  81 & 2000 & 24.69136\\\\\n",
       "\t ID005 & Barcelona & 103 & 1800 & 17.47573\\\\\n",
       "\t ID006 & Paris     &  89 & 1900 & 21.34831\\\\\n",
       "\\end{tabular}\n"
      ],
      "text/markdown": [
       "\n",
       "A data.frame: 6 × 5\n",
       "\n",
       "| code &lt;fct&gt; | city &lt;fct&gt; | sq_mt &lt;dbl&gt; | value &lt;dbl&gt; | ratio &lt;dbl&gt; |\n",
       "|---|---|---|---|---|\n",
       "| ID001 | Barcelona |  80 | 1100 | 13.75000 |\n",
       "| ID002 | Paris     |  75 | 1600 | 21.33333 |\n",
       "| ID003 | Rome      |  95 | 1100 | 11.57895 |\n",
       "| ID004 | London    |  81 | 2000 | 24.69136 |\n",
       "| ID005 | Barcelona | 103 | 1800 | 17.47573 |\n",
       "| ID006 | Paris     |  89 | 1900 | 21.34831 |\n",
       "\n"
      ],
      "text/plain": [
       "  code  city      sq_mt value ratio   \n",
       "1 ID001 Barcelona  80   1100  13.75000\n",
       "2 ID002 Paris      75   1600  21.33333\n",
       "3 ID003 Rome       95   1100  11.57895\n",
       "4 ID004 London     81   2000  24.69136\n",
       "5 ID005 Barcelona 103   1800  17.47573\n",
       "6 ID006 Paris      89   1900  21.34831"
      ]
     },
     "metadata": {},
     "output_type": "display_data"
    },
    {
     "data": {
      "text/html": [
       "<table>\n",
       "<caption>A data.table: 6 × 5</caption>\n",
       "<thead>\n",
       "\t<tr><th scope=col>code</th><th scope=col>city</th><th scope=col>sq_mt</th><th scope=col>value</th><th scope=col>ratio</th></tr>\n",
       "\t<tr><th scope=col>&lt;fct&gt;</th><th scope=col>&lt;fct&gt;</th><th scope=col>&lt;dbl&gt;</th><th scope=col>&lt;dbl&gt;</th><th scope=col>&lt;dbl&gt;</th></tr>\n",
       "</thead>\n",
       "<tbody>\n",
       "\t<tr><td>ID001</td><td>Barcelona</td><td> 80</td><td>1100</td><td>13.75000</td></tr>\n",
       "\t<tr><td>ID002</td><td>Paris    </td><td> 75</td><td>1600</td><td>21.33333</td></tr>\n",
       "\t<tr><td>ID003</td><td>Rome     </td><td> 95</td><td>1100</td><td>11.57895</td></tr>\n",
       "\t<tr><td>ID004</td><td>London   </td><td> 81</td><td>2000</td><td>24.69136</td></tr>\n",
       "\t<tr><td>ID005</td><td>Barcelona</td><td>103</td><td>1800</td><td>17.47573</td></tr>\n",
       "\t<tr><td>ID006</td><td>Paris    </td><td> 89</td><td>1900</td><td>21.34831</td></tr>\n",
       "</tbody>\n",
       "</table>\n"
      ],
      "text/latex": [
       "A data.table: 6 × 5\n",
       "\\begin{tabular}{lllll}\n",
       " code & city & sq\\_mt & value & ratio\\\\\n",
       " <fct> & <fct> & <dbl> & <dbl> & <dbl>\\\\\n",
       "\\hline\n",
       "\t ID001 & Barcelona &  80 & 1100 & 13.75000\\\\\n",
       "\t ID002 & Paris     &  75 & 1600 & 21.33333\\\\\n",
       "\t ID003 & Rome      &  95 & 1100 & 11.57895\\\\\n",
       "\t ID004 & London    &  81 & 2000 & 24.69136\\\\\n",
       "\t ID005 & Barcelona & 103 & 1800 & 17.47573\\\\\n",
       "\t ID006 & Paris     &  89 & 1900 & 21.34831\\\\\n",
       "\\end{tabular}\n"
      ],
      "text/markdown": [
       "\n",
       "A data.table: 6 × 5\n",
       "\n",
       "| code &lt;fct&gt; | city &lt;fct&gt; | sq_mt &lt;dbl&gt; | value &lt;dbl&gt; | ratio &lt;dbl&gt; |\n",
       "|---|---|---|---|---|\n",
       "| ID001 | Barcelona |  80 | 1100 | 13.75000 |\n",
       "| ID002 | Paris     |  75 | 1600 | 21.33333 |\n",
       "| ID003 | Rome      |  95 | 1100 | 11.57895 |\n",
       "| ID004 | London    |  81 | 2000 | 24.69136 |\n",
       "| ID005 | Barcelona | 103 | 1800 | 17.47573 |\n",
       "| ID006 | Paris     |  89 | 1900 | 21.34831 |\n",
       "\n"
      ],
      "text/plain": [
       "  code  city      sq_mt value ratio   \n",
       "1 ID001 Barcelona  80   1100  13.75000\n",
       "2 ID002 Paris      75   1600  21.33333\n",
       "3 ID003 Rome       95   1100  11.57895\n",
       "4 ID004 London     81   2000  24.69136\n",
       "5 ID005 Barcelona 103   1800  17.47573\n",
       "6 ID006 Paris      89   1900  21.34831"
      ]
     },
     "metadata": {},
     "output_type": "display_data"
    }
   ],
   "source": [
    "# Challenge 2: Apply previous function to all rows in our df\n",
    "# hint: this function also works in a vectorized way\n",
    "\n",
    "# Standard R\n",
    "my_re$ratio<-compute_ratio(my_re$sq_mt,my_re$value)\n",
    "my_re\n",
    "\n",
    "# dplyr\n",
    "my_re<-my_re %>% mutate(ratio=compute_ratio(sq_mt,value))\n",
    "my_re\n",
    "\n",
    "# data.table\n",
    "my_re_dt[,ratio := compute_ratio(sq_mt,value)]\n",
    "my_re_dt\n"
   ]
  },
  {
   "cell_type": "code",
   "execution_count": 38,
   "metadata": {
    "colab": {
     "base_uri": "https://localhost:8080/"
    },
    "executionInfo": {
     "elapsed": 1858,
     "status": "ok",
     "timestamp": 1606739053976,
     "user": {
      "displayName": "Joan Verdú",
      "photoUrl": "https://lh3.googleusercontent.com/a-/AOh14Ghq6Zm9ACo3kD6kZhp6ZuWkYJqG_DQfPoIV1Ues=s64",
      "userId": "17893353067607712705"
     },
     "user_tz": -60
    },
    "id": "4wH0O4T9ASrt",
    "outputId": "8fcd2698-d70d-48b6-be5d-8a37a554b412"
   },
   "outputs": [
    {
     "data": {
      "text/html": [
       "<strong>Avg:</strong> 1600"
      ],
      "text/latex": [
       "\\textbf{Avg:} 1600"
      ],
      "text/markdown": [
       "**Avg:** 1600"
      ],
      "text/plain": [
       " Avg \n",
       "1600 "
      ]
     },
     "metadata": {},
     "output_type": "display_data"
    },
    {
     "data": {
      "text/html": [
       "<strong>Avg:</strong> 1600"
      ],
      "text/latex": [
       "\\textbf{Avg:} 1600"
      ],
      "text/markdown": [
       "**Avg:** 1600"
      ],
      "text/plain": [
       " Avg \n",
       "1600 "
      ]
     },
     "metadata": {},
     "output_type": "display_data"
    }
   ],
   "source": [
    "# Challenge 3: Build then a function that receives as input one value of square meters, and a reference data.frame \n",
    "#  and yields the average rent of real estates with area above these square meters\n",
    "# apply to our data.frame\n",
    "Min<-83\n",
    "\n",
    "cond_avg<-function(Min, df){\n",
    "    # Standard R\n",
    "#     aux<-df[df$sq_mt>Min,]\n",
    "#     avg<-mean(aux$value,na.rm=T)\n",
    "    \n",
    "    # dplyr\n",
    "    avg<-df %>%filter(sq_mt>Min) %>% summarize(Avg= mean(value,na.rm=T)) %>% unlist()\n",
    "    \n",
    "    return (avg)\n",
    "}\n",
    "\n",
    "cond_avg_dt<-function(Min, dt){\n",
    "    \n",
    "    # data.table\n",
    "    avg<-dt[sq_mt>Min][,.(Avg=mean(value,na.rm=T))]\n",
    "    avg<-unlist(avg)\n",
    "    \n",
    "    return (avg)\n",
    "}\n",
    "\n",
    "cond_avg(Min,my_re)\n",
    "cond_avg_dt(Min,my_re_dt)"
   ]
  },
  {
   "cell_type": "code",
   "execution_count": 40,
   "metadata": {},
   "outputs": [
    {
     "data": {
      "text/html": [
       "<table>\n",
       "<caption>A data.frame: 6 × 5</caption>\n",
       "<thead>\n",
       "\t<tr><th scope=col>code</th><th scope=col>city</th><th scope=col>sq_mt</th><th scope=col>value</th><th scope=col>ratio</th></tr>\n",
       "\t<tr><th scope=col>&lt;fct&gt;</th><th scope=col>&lt;fct&gt;</th><th scope=col>&lt;dbl&gt;</th><th scope=col>&lt;dbl&gt;</th><th scope=col>&lt;dbl&gt;</th></tr>\n",
       "</thead>\n",
       "<tbody>\n",
       "\t<tr><td>ID001</td><td>Barcelona</td><td> 80</td><td>1100</td><td>13.75000</td></tr>\n",
       "\t<tr><td>ID002</td><td>Paris    </td><td> 75</td><td>1600</td><td>21.33333</td></tr>\n",
       "\t<tr><td>ID003</td><td>Rome     </td><td> 95</td><td>1100</td><td>11.57895</td></tr>\n",
       "\t<tr><td>ID004</td><td>London   </td><td> 81</td><td>2000</td><td>24.69136</td></tr>\n",
       "\t<tr><td>ID005</td><td>Barcelona</td><td>103</td><td>1800</td><td>17.47573</td></tr>\n",
       "\t<tr><td>ID006</td><td>Paris    </td><td> 89</td><td>1900</td><td>21.34831</td></tr>\n",
       "</tbody>\n",
       "</table>\n"
      ],
      "text/latex": [
       "A data.frame: 6 × 5\n",
       "\\begin{tabular}{lllll}\n",
       " code & city & sq\\_mt & value & ratio\\\\\n",
       " <fct> & <fct> & <dbl> & <dbl> & <dbl>\\\\\n",
       "\\hline\n",
       "\t ID001 & Barcelona &  80 & 1100 & 13.75000\\\\\n",
       "\t ID002 & Paris     &  75 & 1600 & 21.33333\\\\\n",
       "\t ID003 & Rome      &  95 & 1100 & 11.57895\\\\\n",
       "\t ID004 & London    &  81 & 2000 & 24.69136\\\\\n",
       "\t ID005 & Barcelona & 103 & 1800 & 17.47573\\\\\n",
       "\t ID006 & Paris     &  89 & 1900 & 21.34831\\\\\n",
       "\\end{tabular}\n"
      ],
      "text/markdown": [
       "\n",
       "A data.frame: 6 × 5\n",
       "\n",
       "| code &lt;fct&gt; | city &lt;fct&gt; | sq_mt &lt;dbl&gt; | value &lt;dbl&gt; | ratio &lt;dbl&gt; |\n",
       "|---|---|---|---|---|\n",
       "| ID001 | Barcelona |  80 | 1100 | 13.75000 |\n",
       "| ID002 | Paris     |  75 | 1600 | 21.33333 |\n",
       "| ID003 | Rome      |  95 | 1100 | 11.57895 |\n",
       "| ID004 | London    |  81 | 2000 | 24.69136 |\n",
       "| ID005 | Barcelona | 103 | 1800 | 17.47573 |\n",
       "| ID006 | Paris     |  89 | 1900 | 21.34831 |\n",
       "\n"
      ],
      "text/plain": [
       "  code  city      sq_mt value ratio   \n",
       "1 ID001 Barcelona  80   1100  13.75000\n",
       "2 ID002 Paris      75   1600  21.33333\n",
       "3 ID003 Rome       95   1100  11.57895\n",
       "4 ID004 London     81   2000  24.69136\n",
       "5 ID005 Barcelona 103   1800  17.47573\n",
       "6 ID006 Paris      89   1900  21.34831"
      ]
     },
     "metadata": {},
     "output_type": "display_data"
    }
   ],
   "source": [
    "my_re"
   ]
  },
  {
   "cell_type": "code",
   "execution_count": 43,
   "metadata": {
    "colab": {
     "base_uri": "https://localhost:8080/",
     "height": 35
    },
    "executionInfo": {
     "elapsed": 1855,
     "status": "ok",
     "timestamp": 1606739053977,
     "user": {
      "displayName": "Joan Verdú",
      "photoUrl": "https://lh3.googleusercontent.com/a-/AOh14Ghq6Zm9ACo3kD6kZhp6ZuWkYJqG_DQfPoIV1Ues=s64",
      "userId": "17893353067607712705"
     },
     "user_tz": -60
    },
    "id": "xjsV4Ia2ASrt",
    "outputId": "266b420e-0302-4222-b9fa-1818f2c342c8"
   },
   "outputs": [
    {
     "data": {
      "text/html": [
       "<strong>Avg:</strong> 1800"
      ],
      "text/latex": [
       "\\textbf{Avg:} 1800"
      ],
      "text/markdown": [
       "**Avg:** 1800"
      ],
      "text/plain": [
       " Avg \n",
       "1800 "
      ]
     },
     "metadata": {},
     "output_type": "display_data"
    },
    {
     "data": {
      "text/html": [
       "<strong>Avg:</strong> 1800"
      ],
      "text/latex": [
       "\\textbf{Avg:} 1800"
      ],
      "text/markdown": [
       "**Avg:** 1800"
      ],
      "text/plain": [
       " Avg \n",
       "1800 "
      ]
     },
     "metadata": {},
     "output_type": "display_data"
    }
   ],
   "source": [
    "# Challenge 4: Modify previous function, so that handles subsetting by cities\n",
    "# and in case the city is not listed, yields an error message\n",
    "Min<-83\n",
    "my_city<-'Barcelona'\n",
    "\n",
    "cond_avg<-function(Min, my_city, df){\n",
    "    \n",
    "    if (my_city %in% df$city){\n",
    "        # Standard R\n",
    "        aux<-df[df$sq_mt>Min & df$city==my_city,]\n",
    "        avg<-mean(aux$value,na.rm=T)\n",
    "\n",
    "        # dplyr\n",
    "        avg<-df %>%filter(sq_mt>Min & city==my_city) %>% summarize(Avg= mean(value,na.rm=T)) %>% unlist()\n",
    "\n",
    "        return (avg)\n",
    "        \n",
    "    } else {\n",
    "        return ('City not listed')\n",
    "    }\n",
    "    \n",
    "\n",
    "}\n",
    "\n",
    "cond_avg_dt<-function(Min, my_city, dt){    \n",
    "    \n",
    "    if (my_city %in% dt$city){\n",
    "    \n",
    "        # data.table\n",
    "        avg<-dt[sq_mt>Min & city==my_city][,.(Avg=mean(value,na.rm=T))]\n",
    "        avg<-unlist(avg)\n",
    "    \n",
    "        return (avg)\n",
    "    } else {\n",
    "        return ('City not listed')\n",
    "    }\n",
    "}\n",
    "\n",
    "cond_avg(Min,'Barcelona', my_re)\n",
    "cond_avg_dt(Min,'Barcelona',my_re_dt)"
   ]
  },
  {
   "cell_type": "markdown",
   "metadata": {
    "id": "3bCgl0BzASru"
   },
   "source": [
    "## Data analysis\n",
    "\n",
    "Use either dplyr+tidyr or data.table functions, at your wish.\n",
    "\n",
    "We will use [mtcars dataset](https://www.rdocumentation.org/packages/datasets/versions/3.6.2/topics/mtcars)."
   ]
  },
  {
   "cell_type": "code",
   "execution_count": 59,
   "metadata": {
    "colab": {
     "base_uri": "https://localhost:8080/",
     "height": 178
    },
    "executionInfo": {
     "elapsed": 613,
     "status": "error",
     "timestamp": 1607299103379,
     "user": {
      "displayName": "Joan Verdú",
      "photoUrl": "https://lh3.googleusercontent.com/a-/AOh14Ghq6Zm9ACo3kD6kZhp6ZuWkYJqG_DQfPoIV1Ues=s64",
      "userId": "17893353067607712705"
     },
     "user_tz": -60
    },
    "id": "zfYlBjpmfJVG",
    "outputId": "706c5ba1-a7ac-4ab7-e68d-5dd79282d590"
   },
   "outputs": [
    {
     "data": {
      "text/html": [
       "<table>\n",
       "<caption>A data.frame: 10 × 11</caption>\n",
       "<thead>\n",
       "\t<tr><th></th><th scope=col>mpg</th><th scope=col>cyl</th><th scope=col>disp</th><th scope=col>hp</th><th scope=col>drat</th><th scope=col>wt</th><th scope=col>qsec</th><th scope=col>vs</th><th scope=col>am</th><th scope=col>gear</th><th scope=col>carb</th></tr>\n",
       "\t<tr><th></th><th scope=col>&lt;dbl&gt;</th><th scope=col>&lt;dbl&gt;</th><th scope=col>&lt;dbl&gt;</th><th scope=col>&lt;dbl&gt;</th><th scope=col>&lt;dbl&gt;</th><th scope=col>&lt;dbl&gt;</th><th scope=col>&lt;dbl&gt;</th><th scope=col>&lt;dbl&gt;</th><th scope=col>&lt;dbl&gt;</th><th scope=col>&lt;dbl&gt;</th><th scope=col>&lt;dbl&gt;</th></tr>\n",
       "</thead>\n",
       "<tbody>\n",
       "\t<tr><th scope=row>Mazda RX4</th><td>21.0</td><td>6</td><td>160.0</td><td>110</td><td>3.90</td><td>2.620</td><td>16.46</td><td>0</td><td>1</td><td>4</td><td>4</td></tr>\n",
       "\t<tr><th scope=row>Mazda RX4 Wag</th><td>21.0</td><td>6</td><td>160.0</td><td>110</td><td>3.90</td><td>2.875</td><td>17.02</td><td>0</td><td>1</td><td>4</td><td>4</td></tr>\n",
       "\t<tr><th scope=row>Datsun 710</th><td>22.8</td><td>4</td><td>108.0</td><td> 93</td><td>3.85</td><td>2.320</td><td>18.61</td><td>1</td><td>1</td><td>4</td><td>1</td></tr>\n",
       "\t<tr><th scope=row>Hornet 4 Drive</th><td>21.4</td><td>6</td><td>258.0</td><td>110</td><td>3.08</td><td>3.215</td><td>19.44</td><td>1</td><td>0</td><td>3</td><td>1</td></tr>\n",
       "\t<tr><th scope=row>Hornet Sportabout</th><td>18.7</td><td>8</td><td>360.0</td><td>175</td><td>3.15</td><td>3.440</td><td>17.02</td><td>0</td><td>0</td><td>3</td><td>2</td></tr>\n",
       "\t<tr><th scope=row>Valiant</th><td>18.1</td><td>6</td><td>225.0</td><td>105</td><td>2.76</td><td>3.460</td><td>20.22</td><td>1</td><td>0</td><td>3</td><td>1</td></tr>\n",
       "\t<tr><th scope=row>Duster 360</th><td>14.3</td><td>8</td><td>360.0</td><td>245</td><td>3.21</td><td>3.570</td><td>15.84</td><td>0</td><td>0</td><td>3</td><td>4</td></tr>\n",
       "\t<tr><th scope=row>Merc 240D</th><td>24.4</td><td>4</td><td>146.7</td><td> 62</td><td>3.69</td><td>3.190</td><td>20.00</td><td>1</td><td>0</td><td>4</td><td>2</td></tr>\n",
       "\t<tr><th scope=row>Merc 230</th><td>22.8</td><td>4</td><td>140.8</td><td> 95</td><td>3.92</td><td>3.150</td><td>22.90</td><td>1</td><td>0</td><td>4</td><td>2</td></tr>\n",
       "\t<tr><th scope=row>Merc 280</th><td>19.2</td><td>6</td><td>167.6</td><td>123</td><td>3.92</td><td>3.440</td><td>18.30</td><td>1</td><td>0</td><td>4</td><td>4</td></tr>\n",
       "</tbody>\n",
       "</table>\n"
      ],
      "text/latex": [
       "A data.frame: 10 × 11\n",
       "\\begin{tabular}{r|lllllllllll}\n",
       "  & mpg & cyl & disp & hp & drat & wt & qsec & vs & am & gear & carb\\\\\n",
       "  & <dbl> & <dbl> & <dbl> & <dbl> & <dbl> & <dbl> & <dbl> & <dbl> & <dbl> & <dbl> & <dbl>\\\\\n",
       "\\hline\n",
       "\tMazda RX4 & 21.0 & 6 & 160.0 & 110 & 3.90 & 2.620 & 16.46 & 0 & 1 & 4 & 4\\\\\n",
       "\tMazda RX4 Wag & 21.0 & 6 & 160.0 & 110 & 3.90 & 2.875 & 17.02 & 0 & 1 & 4 & 4\\\\\n",
       "\tDatsun 710 & 22.8 & 4 & 108.0 &  93 & 3.85 & 2.320 & 18.61 & 1 & 1 & 4 & 1\\\\\n",
       "\tHornet 4 Drive & 21.4 & 6 & 258.0 & 110 & 3.08 & 3.215 & 19.44 & 1 & 0 & 3 & 1\\\\\n",
       "\tHornet Sportabout & 18.7 & 8 & 360.0 & 175 & 3.15 & 3.440 & 17.02 & 0 & 0 & 3 & 2\\\\\n",
       "\tValiant & 18.1 & 6 & 225.0 & 105 & 2.76 & 3.460 & 20.22 & 1 & 0 & 3 & 1\\\\\n",
       "\tDuster 360 & 14.3 & 8 & 360.0 & 245 & 3.21 & 3.570 & 15.84 & 0 & 0 & 3 & 4\\\\\n",
       "\tMerc 240D & 24.4 & 4 & 146.7 &  62 & 3.69 & 3.190 & 20.00 & 1 & 0 & 4 & 2\\\\\n",
       "\tMerc 230 & 22.8 & 4 & 140.8 &  95 & 3.92 & 3.150 & 22.90 & 1 & 0 & 4 & 2\\\\\n",
       "\tMerc 280 & 19.2 & 6 & 167.6 & 123 & 3.92 & 3.440 & 18.30 & 1 & 0 & 4 & 4\\\\\n",
       "\\end{tabular}\n"
      ],
      "text/markdown": [
       "\n",
       "A data.frame: 10 × 11\n",
       "\n",
       "| <!--/--> | mpg &lt;dbl&gt; | cyl &lt;dbl&gt; | disp &lt;dbl&gt; | hp &lt;dbl&gt; | drat &lt;dbl&gt; | wt &lt;dbl&gt; | qsec &lt;dbl&gt; | vs &lt;dbl&gt; | am &lt;dbl&gt; | gear &lt;dbl&gt; | carb &lt;dbl&gt; |\n",
       "|---|---|---|---|---|---|---|---|---|---|---|---|\n",
       "| Mazda RX4 | 21.0 | 6 | 160.0 | 110 | 3.90 | 2.620 | 16.46 | 0 | 1 | 4 | 4 |\n",
       "| Mazda RX4 Wag | 21.0 | 6 | 160.0 | 110 | 3.90 | 2.875 | 17.02 | 0 | 1 | 4 | 4 |\n",
       "| Datsun 710 | 22.8 | 4 | 108.0 |  93 | 3.85 | 2.320 | 18.61 | 1 | 1 | 4 | 1 |\n",
       "| Hornet 4 Drive | 21.4 | 6 | 258.0 | 110 | 3.08 | 3.215 | 19.44 | 1 | 0 | 3 | 1 |\n",
       "| Hornet Sportabout | 18.7 | 8 | 360.0 | 175 | 3.15 | 3.440 | 17.02 | 0 | 0 | 3 | 2 |\n",
       "| Valiant | 18.1 | 6 | 225.0 | 105 | 2.76 | 3.460 | 20.22 | 1 | 0 | 3 | 1 |\n",
       "| Duster 360 | 14.3 | 8 | 360.0 | 245 | 3.21 | 3.570 | 15.84 | 0 | 0 | 3 | 4 |\n",
       "| Merc 240D | 24.4 | 4 | 146.7 |  62 | 3.69 | 3.190 | 20.00 | 1 | 0 | 4 | 2 |\n",
       "| Merc 230 | 22.8 | 4 | 140.8 |  95 | 3.92 | 3.150 | 22.90 | 1 | 0 | 4 | 2 |\n",
       "| Merc 280 | 19.2 | 6 | 167.6 | 123 | 3.92 | 3.440 | 18.30 | 1 | 0 | 4 | 4 |\n",
       "\n"
      ],
      "text/plain": [
       "                  mpg  cyl disp  hp  drat wt    qsec  vs am gear carb\n",
       "Mazda RX4         21.0 6   160.0 110 3.90 2.620 16.46 0  1  4    4   \n",
       "Mazda RX4 Wag     21.0 6   160.0 110 3.90 2.875 17.02 0  1  4    4   \n",
       "Datsun 710        22.8 4   108.0  93 3.85 2.320 18.61 1  1  4    1   \n",
       "Hornet 4 Drive    21.4 6   258.0 110 3.08 3.215 19.44 1  0  3    1   \n",
       "Hornet Sportabout 18.7 8   360.0 175 3.15 3.440 17.02 0  0  3    2   \n",
       "Valiant           18.1 6   225.0 105 2.76 3.460 20.22 1  0  3    1   \n",
       "Duster 360        14.3 8   360.0 245 3.21 3.570 15.84 0  0  3    4   \n",
       "Merc 240D         24.4 4   146.7  62 3.69 3.190 20.00 1  0  4    2   \n",
       "Merc 230          22.8 4   140.8  95 3.92 3.150 22.90 1  0  4    2   \n",
       "Merc 280          19.2 6   167.6 123 3.92 3.440 18.30 1  0  4    4   "
      ]
     },
     "metadata": {},
     "output_type": "display_data"
    }
   ],
   "source": [
    "data(mtcars)\n",
    "head(mtcars,10)\n",
    "mtcars$name<-rownames(mtcars)\n",
    "\n",
    "mtcars_dt<-as.data.table(mtcars)"
   ]
  },
  {
   "cell_type": "code",
   "execution_count": 60,
   "metadata": {
    "colab": {
     "base_uri": "https://localhost:8080/"
    },
    "executionInfo": {
     "elapsed": 1809,
     "status": "ok",
     "timestamp": 1606739053981,
     "user": {
      "displayName": "Joan Verdú",
      "photoUrl": "https://lh3.googleusercontent.com/a-/AOh14Ghq6Zm9ACo3kD6kZhp6ZuWkYJqG_DQfPoIV1Ues=s64",
      "userId": "17893353067607712705"
     },
     "user_tz": -60
    },
    "id": "wK4xlFe7ASru",
    "outputId": "767c4e06-bbbb-41f2-cabe-4672ff38aea4"
   },
   "outputs": [
    {
     "data": {
      "text/html": [
       "<table>\n",
       "<caption>A grouped_df: 6 × 3</caption>\n",
       "<thead>\n",
       "\t<tr><th scope=col>cyl</th><th scope=col>am</th><th scope=col>avg_mpg</th></tr>\n",
       "\t<tr><th scope=col>&lt;dbl&gt;</th><th scope=col>&lt;dbl&gt;</th><th scope=col>&lt;dbl&gt;</th></tr>\n",
       "</thead>\n",
       "<tbody>\n",
       "\t<tr><td>8</td><td>0</td><td>15.05000</td></tr>\n",
       "\t<tr><td>8</td><td>1</td><td>15.40000</td></tr>\n",
       "\t<tr><td>6</td><td>0</td><td>19.12500</td></tr>\n",
       "\t<tr><td>6</td><td>1</td><td>20.56667</td></tr>\n",
       "\t<tr><td>4</td><td>0</td><td>22.90000</td></tr>\n",
       "\t<tr><td>4</td><td>1</td><td>28.07500</td></tr>\n",
       "</tbody>\n",
       "</table>\n"
      ],
      "text/latex": [
       "A grouped\\_df: 6 × 3\n",
       "\\begin{tabular}{lll}\n",
       " cyl & am & avg\\_mpg\\\\\n",
       " <dbl> & <dbl> & <dbl>\\\\\n",
       "\\hline\n",
       "\t 8 & 0 & 15.05000\\\\\n",
       "\t 8 & 1 & 15.40000\\\\\n",
       "\t 6 & 0 & 19.12500\\\\\n",
       "\t 6 & 1 & 20.56667\\\\\n",
       "\t 4 & 0 & 22.90000\\\\\n",
       "\t 4 & 1 & 28.07500\\\\\n",
       "\\end{tabular}\n"
      ],
      "text/markdown": [
       "\n",
       "A grouped_df: 6 × 3\n",
       "\n",
       "| cyl &lt;dbl&gt; | am &lt;dbl&gt; | avg_mpg &lt;dbl&gt; |\n",
       "|---|---|---|\n",
       "| 8 | 0 | 15.05000 |\n",
       "| 8 | 1 | 15.40000 |\n",
       "| 6 | 0 | 19.12500 |\n",
       "| 6 | 1 | 20.56667 |\n",
       "| 4 | 0 | 22.90000 |\n",
       "| 4 | 1 | 28.07500 |\n",
       "\n"
      ],
      "text/plain": [
       "  cyl am avg_mpg \n",
       "1 8   0  15.05000\n",
       "2 8   1  15.40000\n",
       "3 6   0  19.12500\n",
       "4 6   1  20.56667\n",
       "5 4   0  22.90000\n",
       "6 4   1  28.07500"
      ]
     },
     "metadata": {},
     "output_type": "display_data"
    },
    {
     "data": {
      "text/html": [
       "<table>\n",
       "<caption>A data.table: 6 × 3</caption>\n",
       "<thead>\n",
       "\t<tr><th scope=col>cyl</th><th scope=col>am</th><th scope=col>avg_mpg</th></tr>\n",
       "\t<tr><th scope=col>&lt;dbl&gt;</th><th scope=col>&lt;dbl&gt;</th><th scope=col>&lt;dbl&gt;</th></tr>\n",
       "</thead>\n",
       "<tbody>\n",
       "\t<tr><td>8</td><td>0</td><td>15.05000</td></tr>\n",
       "\t<tr><td>8</td><td>1</td><td>15.40000</td></tr>\n",
       "\t<tr><td>6</td><td>0</td><td>19.12500</td></tr>\n",
       "\t<tr><td>6</td><td>1</td><td>20.56667</td></tr>\n",
       "\t<tr><td>4</td><td>0</td><td>22.90000</td></tr>\n",
       "\t<tr><td>4</td><td>1</td><td>28.07500</td></tr>\n",
       "</tbody>\n",
       "</table>\n"
      ],
      "text/latex": [
       "A data.table: 6 × 3\n",
       "\\begin{tabular}{lll}\n",
       " cyl & am & avg\\_mpg\\\\\n",
       " <dbl> & <dbl> & <dbl>\\\\\n",
       "\\hline\n",
       "\t 8 & 0 & 15.05000\\\\\n",
       "\t 8 & 1 & 15.40000\\\\\n",
       "\t 6 & 0 & 19.12500\\\\\n",
       "\t 6 & 1 & 20.56667\\\\\n",
       "\t 4 & 0 & 22.90000\\\\\n",
       "\t 4 & 1 & 28.07500\\\\\n",
       "\\end{tabular}\n"
      ],
      "text/markdown": [
       "\n",
       "A data.table: 6 × 3\n",
       "\n",
       "| cyl &lt;dbl&gt; | am &lt;dbl&gt; | avg_mpg &lt;dbl&gt; |\n",
       "|---|---|---|\n",
       "| 8 | 0 | 15.05000 |\n",
       "| 8 | 1 | 15.40000 |\n",
       "| 6 | 0 | 19.12500 |\n",
       "| 6 | 1 | 20.56667 |\n",
       "| 4 | 0 | 22.90000 |\n",
       "| 4 | 1 | 28.07500 |\n",
       "\n"
      ],
      "text/plain": [
       "  cyl am avg_mpg \n",
       "1 8   0  15.05000\n",
       "2 8   1  15.40000\n",
       "3 6   0  19.12500\n",
       "4 6   1  20.56667\n",
       "5 4   0  22.90000\n",
       "6 4   1  28.07500"
      ]
     },
     "metadata": {},
     "output_type": "display_data"
    }
   ],
   "source": [
    "# Challenge 1: Report average consumption (mpg) of vehicles depending on the combination of cylinder number and transmission (am).\n",
    "\n",
    "# dplyr\n",
    "mtcars %>% group_by(cyl, am) %>% summarize(avg_mpg=mean(mpg,na.rm=T)) %>% arrange(avg_mpg)\n",
    "\n",
    "# data.table\n",
    "mtcars_dt[,.(avg_mpg=mean(mpg,na.rm=T)),by=.(cyl,am)][order(avg_mpg)]"
   ]
  },
  {
   "cell_type": "code",
   "execution_count": 61,
   "metadata": {
    "colab": {
     "base_uri": "https://localhost:8080/"
    },
    "executionInfo": {
     "elapsed": 1806,
     "status": "ok",
     "timestamp": 1606739053982,
     "user": {
      "displayName": "Joan Verdú",
      "photoUrl": "https://lh3.googleusercontent.com/a-/AOh14Ghq6Zm9ACo3kD6kZhp6ZuWkYJqG_DQfPoIV1Ues=s64",
      "userId": "17893353067607712705"
     },
     "user_tz": -60
    },
    "id": "zvD5zVvxASru",
    "outputId": "36610dce-0a33-4306-b935-dabd75e42982"
   },
   "outputs": [
    {
     "data": {
      "text/html": [
       "<table>\n",
       "<caption>A data.frame: 10 × 12</caption>\n",
       "<thead>\n",
       "\t<tr><th></th><th scope=col>mpg</th><th scope=col>cyl</th><th scope=col>disp</th><th scope=col>hp</th><th scope=col>drat</th><th scope=col>wt</th><th scope=col>qsec</th><th scope=col>vs</th><th scope=col>am</th><th scope=col>gear</th><th scope=col>carb</th><th scope=col>name</th></tr>\n",
       "\t<tr><th></th><th scope=col>&lt;dbl&gt;</th><th scope=col>&lt;dbl&gt;</th><th scope=col>&lt;dbl&gt;</th><th scope=col>&lt;dbl&gt;</th><th scope=col>&lt;dbl&gt;</th><th scope=col>&lt;dbl&gt;</th><th scope=col>&lt;dbl&gt;</th><th scope=col>&lt;dbl&gt;</th><th scope=col>&lt;dbl&gt;</th><th scope=col>&lt;dbl&gt;</th><th scope=col>&lt;dbl&gt;</th><th scope=col>&lt;chr&gt;</th></tr>\n",
       "</thead>\n",
       "<tbody>\n",
       "\t<tr><th scope=row>1</th><td>10.4</td><td>8</td><td>460.0</td><td>215</td><td>3.00</td><td>5.424</td><td>17.82</td><td>0</td><td>0</td><td>3</td><td>4</td><td>Lincoln Continental</td></tr>\n",
       "\t<tr><th scope=row>2</th><td>14.7</td><td>8</td><td>440.0</td><td>230</td><td>3.23</td><td>5.345</td><td>17.42</td><td>0</td><td>0</td><td>3</td><td>4</td><td>Chrysler Imperial  </td></tr>\n",
       "\t<tr><th scope=row>3</th><td>10.4</td><td>8</td><td>472.0</td><td>205</td><td>2.93</td><td>5.250</td><td>17.98</td><td>0</td><td>0</td><td>3</td><td>4</td><td>Cadillac Fleetwood </td></tr>\n",
       "\t<tr><th scope=row>4</th><td>16.4</td><td>8</td><td>275.8</td><td>180</td><td>3.07</td><td>4.070</td><td>17.40</td><td>0</td><td>0</td><td>3</td><td>3</td><td>Merc 450SE         </td></tr>\n",
       "\t<tr><th scope=row>5</th><td>19.2</td><td>8</td><td>400.0</td><td>175</td><td>3.08</td><td>3.845</td><td>17.05</td><td>0</td><td>0</td><td>3</td><td>2</td><td>Pontiac Firebird   </td></tr>\n",
       "\t<tr><th scope=row>6</th><td>13.3</td><td>8</td><td>350.0</td><td>245</td><td>3.73</td><td>3.840</td><td>15.41</td><td>0</td><td>0</td><td>3</td><td>4</td><td>Camaro Z28         </td></tr>\n",
       "\t<tr><th scope=row>7</th><td>15.2</td><td>8</td><td>275.8</td><td>180</td><td>3.07</td><td>3.780</td><td>18.00</td><td>0</td><td>0</td><td>3</td><td>3</td><td>Merc 450SLC        </td></tr>\n",
       "\t<tr><th scope=row>8</th><td>17.3</td><td>8</td><td>275.8</td><td>180</td><td>3.07</td><td>3.730</td><td>17.60</td><td>0</td><td>0</td><td>3</td><td>3</td><td>Merc 450SL         </td></tr>\n",
       "\t<tr><th scope=row>9</th><td>14.3</td><td>8</td><td>360.0</td><td>245</td><td>3.21</td><td>3.570</td><td>15.84</td><td>0</td><td>0</td><td>3</td><td>4</td><td>Duster 360         </td></tr>\n",
       "\t<tr><th scope=row>10</th><td>15.0</td><td>8</td><td>301.0</td><td>335</td><td>3.54</td><td>3.570</td><td>14.60</td><td>0</td><td>1</td><td>5</td><td>8</td><td>Maserati Bora      </td></tr>\n",
       "</tbody>\n",
       "</table>\n"
      ],
      "text/latex": [
       "A data.frame: 10 × 12\n",
       "\\begin{tabular}{r|llllllllllll}\n",
       "  & mpg & cyl & disp & hp & drat & wt & qsec & vs & am & gear & carb & name\\\\\n",
       "  & <dbl> & <dbl> & <dbl> & <dbl> & <dbl> & <dbl> & <dbl> & <dbl> & <dbl> & <dbl> & <dbl> & <chr>\\\\\n",
       "\\hline\n",
       "\t1 & 10.4 & 8 & 460.0 & 215 & 3.00 & 5.424 & 17.82 & 0 & 0 & 3 & 4 & Lincoln Continental\\\\\n",
       "\t2 & 14.7 & 8 & 440.0 & 230 & 3.23 & 5.345 & 17.42 & 0 & 0 & 3 & 4 & Chrysler Imperial  \\\\\n",
       "\t3 & 10.4 & 8 & 472.0 & 205 & 2.93 & 5.250 & 17.98 & 0 & 0 & 3 & 4 & Cadillac Fleetwood \\\\\n",
       "\t4 & 16.4 & 8 & 275.8 & 180 & 3.07 & 4.070 & 17.40 & 0 & 0 & 3 & 3 & Merc 450SE         \\\\\n",
       "\t5 & 19.2 & 8 & 400.0 & 175 & 3.08 & 3.845 & 17.05 & 0 & 0 & 3 & 2 & Pontiac Firebird   \\\\\n",
       "\t6 & 13.3 & 8 & 350.0 & 245 & 3.73 & 3.840 & 15.41 & 0 & 0 & 3 & 4 & Camaro Z28         \\\\\n",
       "\t7 & 15.2 & 8 & 275.8 & 180 & 3.07 & 3.780 & 18.00 & 0 & 0 & 3 & 3 & Merc 450SLC        \\\\\n",
       "\t8 & 17.3 & 8 & 275.8 & 180 & 3.07 & 3.730 & 17.60 & 0 & 0 & 3 & 3 & Merc 450SL         \\\\\n",
       "\t9 & 14.3 & 8 & 360.0 & 245 & 3.21 & 3.570 & 15.84 & 0 & 0 & 3 & 4 & Duster 360         \\\\\n",
       "\t10 & 15.0 & 8 & 301.0 & 335 & 3.54 & 3.570 & 14.60 & 0 & 1 & 5 & 8 & Maserati Bora      \\\\\n",
       "\\end{tabular}\n"
      ],
      "text/markdown": [
       "\n",
       "A data.frame: 10 × 12\n",
       "\n",
       "| <!--/--> | mpg &lt;dbl&gt; | cyl &lt;dbl&gt; | disp &lt;dbl&gt; | hp &lt;dbl&gt; | drat &lt;dbl&gt; | wt &lt;dbl&gt; | qsec &lt;dbl&gt; | vs &lt;dbl&gt; | am &lt;dbl&gt; | gear &lt;dbl&gt; | carb &lt;dbl&gt; | name &lt;chr&gt; |\n",
       "|---|---|---|---|---|---|---|---|---|---|---|---|---|\n",
       "| 1 | 10.4 | 8 | 460.0 | 215 | 3.00 | 5.424 | 17.82 | 0 | 0 | 3 | 4 | Lincoln Continental |\n",
       "| 2 | 14.7 | 8 | 440.0 | 230 | 3.23 | 5.345 | 17.42 | 0 | 0 | 3 | 4 | Chrysler Imperial   |\n",
       "| 3 | 10.4 | 8 | 472.0 | 205 | 2.93 | 5.250 | 17.98 | 0 | 0 | 3 | 4 | Cadillac Fleetwood  |\n",
       "| 4 | 16.4 | 8 | 275.8 | 180 | 3.07 | 4.070 | 17.40 | 0 | 0 | 3 | 3 | Merc 450SE          |\n",
       "| 5 | 19.2 | 8 | 400.0 | 175 | 3.08 | 3.845 | 17.05 | 0 | 0 | 3 | 2 | Pontiac Firebird    |\n",
       "| 6 | 13.3 | 8 | 350.0 | 245 | 3.73 | 3.840 | 15.41 | 0 | 0 | 3 | 4 | Camaro Z28          |\n",
       "| 7 | 15.2 | 8 | 275.8 | 180 | 3.07 | 3.780 | 18.00 | 0 | 0 | 3 | 3 | Merc 450SLC         |\n",
       "| 8 | 17.3 | 8 | 275.8 | 180 | 3.07 | 3.730 | 17.60 | 0 | 0 | 3 | 3 | Merc 450SL          |\n",
       "| 9 | 14.3 | 8 | 360.0 | 245 | 3.21 | 3.570 | 15.84 | 0 | 0 | 3 | 4 | Duster 360          |\n",
       "| 10 | 15.0 | 8 | 301.0 | 335 | 3.54 | 3.570 | 14.60 | 0 | 1 | 5 | 8 | Maserati Bora       |\n",
       "\n"
      ],
      "text/plain": [
       "   mpg  cyl disp  hp  drat wt    qsec  vs am gear carb name               \n",
       "1  10.4 8   460.0 215 3.00 5.424 17.82 0  0  3    4    Lincoln Continental\n",
       "2  14.7 8   440.0 230 3.23 5.345 17.42 0  0  3    4    Chrysler Imperial  \n",
       "3  10.4 8   472.0 205 2.93 5.250 17.98 0  0  3    4    Cadillac Fleetwood \n",
       "4  16.4 8   275.8 180 3.07 4.070 17.40 0  0  3    3    Merc 450SE         \n",
       "5  19.2 8   400.0 175 3.08 3.845 17.05 0  0  3    2    Pontiac Firebird   \n",
       "6  13.3 8   350.0 245 3.73 3.840 15.41 0  0  3    4    Camaro Z28         \n",
       "7  15.2 8   275.8 180 3.07 3.780 18.00 0  0  3    3    Merc 450SLC        \n",
       "8  17.3 8   275.8 180 3.07 3.730 17.60 0  0  3    3    Merc 450SL         \n",
       "9  14.3 8   360.0 245 3.21 3.570 15.84 0  0  3    4    Duster 360         \n",
       "10 15.0 8   301.0 335 3.54 3.570 14.60 0  1  5    8    Maserati Bora      "
      ]
     },
     "metadata": {},
     "output_type": "display_data"
    },
    {
     "data": {
      "text/html": [
       "<table>\n",
       "<caption>A data.table: 10 × 12</caption>\n",
       "<thead>\n",
       "\t<tr><th scope=col>mpg</th><th scope=col>cyl</th><th scope=col>disp</th><th scope=col>hp</th><th scope=col>drat</th><th scope=col>wt</th><th scope=col>qsec</th><th scope=col>vs</th><th scope=col>am</th><th scope=col>gear</th><th scope=col>carb</th><th scope=col>name</th></tr>\n",
       "\t<tr><th scope=col>&lt;dbl&gt;</th><th scope=col>&lt;dbl&gt;</th><th scope=col>&lt;dbl&gt;</th><th scope=col>&lt;dbl&gt;</th><th scope=col>&lt;dbl&gt;</th><th scope=col>&lt;dbl&gt;</th><th scope=col>&lt;dbl&gt;</th><th scope=col>&lt;dbl&gt;</th><th scope=col>&lt;dbl&gt;</th><th scope=col>&lt;dbl&gt;</th><th scope=col>&lt;dbl&gt;</th><th scope=col>&lt;chr&gt;</th></tr>\n",
       "</thead>\n",
       "<tbody>\n",
       "\t<tr><td>10.4</td><td>8</td><td>460.0</td><td>215</td><td>3.00</td><td>5.424</td><td>17.82</td><td>0</td><td>0</td><td>3</td><td>4</td><td>Lincoln Continental</td></tr>\n",
       "\t<tr><td>14.7</td><td>8</td><td>440.0</td><td>230</td><td>3.23</td><td>5.345</td><td>17.42</td><td>0</td><td>0</td><td>3</td><td>4</td><td>Chrysler Imperial  </td></tr>\n",
       "\t<tr><td>10.4</td><td>8</td><td>472.0</td><td>205</td><td>2.93</td><td>5.250</td><td>17.98</td><td>0</td><td>0</td><td>3</td><td>4</td><td>Cadillac Fleetwood </td></tr>\n",
       "\t<tr><td>16.4</td><td>8</td><td>275.8</td><td>180</td><td>3.07</td><td>4.070</td><td>17.40</td><td>0</td><td>0</td><td>3</td><td>3</td><td>Merc 450SE         </td></tr>\n",
       "\t<tr><td>19.2</td><td>8</td><td>400.0</td><td>175</td><td>3.08</td><td>3.845</td><td>17.05</td><td>0</td><td>0</td><td>3</td><td>2</td><td>Pontiac Firebird   </td></tr>\n",
       "\t<tr><td>13.3</td><td>8</td><td>350.0</td><td>245</td><td>3.73</td><td>3.840</td><td>15.41</td><td>0</td><td>0</td><td>3</td><td>4</td><td>Camaro Z28         </td></tr>\n",
       "\t<tr><td>15.2</td><td>8</td><td>275.8</td><td>180</td><td>3.07</td><td>3.780</td><td>18.00</td><td>0</td><td>0</td><td>3</td><td>3</td><td>Merc 450SLC        </td></tr>\n",
       "\t<tr><td>17.3</td><td>8</td><td>275.8</td><td>180</td><td>3.07</td><td>3.730</td><td>17.60</td><td>0</td><td>0</td><td>3</td><td>3</td><td>Merc 450SL         </td></tr>\n",
       "\t<tr><td>14.3</td><td>8</td><td>360.0</td><td>245</td><td>3.21</td><td>3.570</td><td>15.84</td><td>0</td><td>0</td><td>3</td><td>4</td><td>Duster 360         </td></tr>\n",
       "\t<tr><td>15.0</td><td>8</td><td>301.0</td><td>335</td><td>3.54</td><td>3.570</td><td>14.60</td><td>0</td><td>1</td><td>5</td><td>8</td><td>Maserati Bora      </td></tr>\n",
       "</tbody>\n",
       "</table>\n"
      ],
      "text/latex": [
       "A data.table: 10 × 12\n",
       "\\begin{tabular}{llllllllllll}\n",
       " mpg & cyl & disp & hp & drat & wt & qsec & vs & am & gear & carb & name\\\\\n",
       " <dbl> & <dbl> & <dbl> & <dbl> & <dbl> & <dbl> & <dbl> & <dbl> & <dbl> & <dbl> & <dbl> & <chr>\\\\\n",
       "\\hline\n",
       "\t 10.4 & 8 & 460.0 & 215 & 3.00 & 5.424 & 17.82 & 0 & 0 & 3 & 4 & Lincoln Continental\\\\\n",
       "\t 14.7 & 8 & 440.0 & 230 & 3.23 & 5.345 & 17.42 & 0 & 0 & 3 & 4 & Chrysler Imperial  \\\\\n",
       "\t 10.4 & 8 & 472.0 & 205 & 2.93 & 5.250 & 17.98 & 0 & 0 & 3 & 4 & Cadillac Fleetwood \\\\\n",
       "\t 16.4 & 8 & 275.8 & 180 & 3.07 & 4.070 & 17.40 & 0 & 0 & 3 & 3 & Merc 450SE         \\\\\n",
       "\t 19.2 & 8 & 400.0 & 175 & 3.08 & 3.845 & 17.05 & 0 & 0 & 3 & 2 & Pontiac Firebird   \\\\\n",
       "\t 13.3 & 8 & 350.0 & 245 & 3.73 & 3.840 & 15.41 & 0 & 0 & 3 & 4 & Camaro Z28         \\\\\n",
       "\t 15.2 & 8 & 275.8 & 180 & 3.07 & 3.780 & 18.00 & 0 & 0 & 3 & 3 & Merc 450SLC        \\\\\n",
       "\t 17.3 & 8 & 275.8 & 180 & 3.07 & 3.730 & 17.60 & 0 & 0 & 3 & 3 & Merc 450SL         \\\\\n",
       "\t 14.3 & 8 & 360.0 & 245 & 3.21 & 3.570 & 15.84 & 0 & 0 & 3 & 4 & Duster 360         \\\\\n",
       "\t 15.0 & 8 & 301.0 & 335 & 3.54 & 3.570 & 14.60 & 0 & 1 & 5 & 8 & Maserati Bora      \\\\\n",
       "\\end{tabular}\n"
      ],
      "text/markdown": [
       "\n",
       "A data.table: 10 × 12\n",
       "\n",
       "| mpg &lt;dbl&gt; | cyl &lt;dbl&gt; | disp &lt;dbl&gt; | hp &lt;dbl&gt; | drat &lt;dbl&gt; | wt &lt;dbl&gt; | qsec &lt;dbl&gt; | vs &lt;dbl&gt; | am &lt;dbl&gt; | gear &lt;dbl&gt; | carb &lt;dbl&gt; | name &lt;chr&gt; |\n",
       "|---|---|---|---|---|---|---|---|---|---|---|---|\n",
       "| 10.4 | 8 | 460.0 | 215 | 3.00 | 5.424 | 17.82 | 0 | 0 | 3 | 4 | Lincoln Continental |\n",
       "| 14.7 | 8 | 440.0 | 230 | 3.23 | 5.345 | 17.42 | 0 | 0 | 3 | 4 | Chrysler Imperial   |\n",
       "| 10.4 | 8 | 472.0 | 205 | 2.93 | 5.250 | 17.98 | 0 | 0 | 3 | 4 | Cadillac Fleetwood  |\n",
       "| 16.4 | 8 | 275.8 | 180 | 3.07 | 4.070 | 17.40 | 0 | 0 | 3 | 3 | Merc 450SE          |\n",
       "| 19.2 | 8 | 400.0 | 175 | 3.08 | 3.845 | 17.05 | 0 | 0 | 3 | 2 | Pontiac Firebird    |\n",
       "| 13.3 | 8 | 350.0 | 245 | 3.73 | 3.840 | 15.41 | 0 | 0 | 3 | 4 | Camaro Z28          |\n",
       "| 15.2 | 8 | 275.8 | 180 | 3.07 | 3.780 | 18.00 | 0 | 0 | 3 | 3 | Merc 450SLC         |\n",
       "| 17.3 | 8 | 275.8 | 180 | 3.07 | 3.730 | 17.60 | 0 | 0 | 3 | 3 | Merc 450SL          |\n",
       "| 14.3 | 8 | 360.0 | 245 | 3.21 | 3.570 | 15.84 | 0 | 0 | 3 | 4 | Duster 360          |\n",
       "| 15.0 | 8 | 301.0 | 335 | 3.54 | 3.570 | 14.60 | 0 | 1 | 5 | 8 | Maserati Bora       |\n",
       "\n"
      ],
      "text/plain": [
       "   mpg  cyl disp  hp  drat wt    qsec  vs am gear carb name               \n",
       "1  10.4 8   460.0 215 3.00 5.424 17.82 0  0  3    4    Lincoln Continental\n",
       "2  14.7 8   440.0 230 3.23 5.345 17.42 0  0  3    4    Chrysler Imperial  \n",
       "3  10.4 8   472.0 205 2.93 5.250 17.98 0  0  3    4    Cadillac Fleetwood \n",
       "4  16.4 8   275.8 180 3.07 4.070 17.40 0  0  3    3    Merc 450SE         \n",
       "5  19.2 8   400.0 175 3.08 3.845 17.05 0  0  3    2    Pontiac Firebird   \n",
       "6  13.3 8   350.0 245 3.73 3.840 15.41 0  0  3    4    Camaro Z28         \n",
       "7  15.2 8   275.8 180 3.07 3.780 18.00 0  0  3    3    Merc 450SLC        \n",
       "8  17.3 8   275.8 180 3.07 3.730 17.60 0  0  3    3    Merc 450SL         \n",
       "9  14.3 8   360.0 245 3.21 3.570 15.84 0  0  3    4    Duster 360         \n",
       "10 15.0 8   301.0 335 3.54 3.570 14.60 0  1  5    8    Maserati Bora      "
      ]
     },
     "metadata": {},
     "output_type": "display_data"
    }
   ],
   "source": [
    "# Challenge 2: Report top10 cars sorted by decreasing number of cylinders and weight '\n",
    "# dplyr\n",
    "mtcars %>% arrange(-cyl, -wt) %>% head(10)\n",
    "\n",
    "# data.table\n",
    "mtcars_dt[order(-cyl,-wt),head(.SD,10)]"
   ]
  },
  {
   "cell_type": "code",
   "execution_count": 81,
   "metadata": {
    "id": "P3mCuaNNASru"
   },
   "outputs": [
    {
     "data": {
      "text/html": [
       "<table>\n",
       "<caption>A data.frame: 6 × 12</caption>\n",
       "<thead>\n",
       "\t<tr><th></th><th scope=col>mpg</th><th scope=col>cyl</th><th scope=col>disp</th><th scope=col>hp</th><th scope=col>drat</th><th scope=col>wt</th><th scope=col>qsec</th><th scope=col>vs</th><th scope=col>am</th><th scope=col>gear</th><th scope=col>carb</th><th scope=col>name</th></tr>\n",
       "\t<tr><th></th><th scope=col>&lt;dbl&gt;</th><th scope=col>&lt;dbl&gt;</th><th scope=col>&lt;dbl&gt;</th><th scope=col>&lt;dbl&gt;</th><th scope=col>&lt;dbl&gt;</th><th scope=col>&lt;dbl&gt;</th><th scope=col>&lt;dbl&gt;</th><th scope=col>&lt;dbl&gt;</th><th scope=col>&lt;dbl&gt;</th><th scope=col>&lt;dbl&gt;</th><th scope=col>&lt;dbl&gt;</th><th scope=col>&lt;chr&gt;</th></tr>\n",
       "</thead>\n",
       "<tbody>\n",
       "\t<tr><th scope=row>Ferrari Dino</th><td>19.70000</td><td>6.0000</td><td>145.0000</td><td>175.0000</td><td>3.620000</td><td>2.77000</td><td>15.50000</td><td>0.0000</td><td>1.00000</td><td>5.0000</td><td>6.0000</td><td>Ferrari Dino </td></tr>\n",
       "\t<tr><th scope=row>Maserati Bora</th><td>15.00000</td><td>8.0000</td><td>301.0000</td><td>335.0000</td><td>3.540000</td><td>3.57000</td><td>14.60000</td><td>0.0000</td><td>1.00000</td><td>5.0000</td><td>8.0000</td><td>Maserati Bora</td></tr>\n",
       "\t<tr><th scope=row>Volvo 142E</th><td>21.40000</td><td>4.0000</td><td>121.0000</td><td>109.0000</td><td>4.110000</td><td>2.78000</td><td>18.60000</td><td>1.0000</td><td>1.00000</td><td>4.0000</td><td>2.0000</td><td>Volvo 142E   </td></tr>\n",
       "\t<tr><th scope=row>sample</th><td>20.09062</td><td>6.1875</td><td>230.7219</td><td>146.6875</td><td>3.596563</td><td>3.21725</td><td>17.84875</td><td>0.4375</td><td>0.40625</td><td>3.6875</td><td>2.8125</td><td>NewModel1    </td></tr>\n",
       "\t<tr><th scope=row>40%</th><td>17.92000</td><td>6.0000</td><td>160.0000</td><td>110.0000</td><td>3.354000</td><td>3.15800</td><td>17.34000</td><td>0.0000</td><td>0.00000</td><td>3.0000</td><td>2.0000</td><td>NewModel2    </td></tr>\n",
       "\t<tr><th scope=row>60%</th><td>21.00000</td><td>8.0000</td><td>275.8000</td><td>165.0000</td><td>3.818000</td><td>3.44000</td><td>18.18000</td><td>1.0000</td><td>0.60000</td><td>4.0000</td><td>3.0000</td><td>NewModel3    </td></tr>\n",
       "</tbody>\n",
       "</table>\n"
      ],
      "text/latex": [
       "A data.frame: 6 × 12\n",
       "\\begin{tabular}{r|llllllllllll}\n",
       "  & mpg & cyl & disp & hp & drat & wt & qsec & vs & am & gear & carb & name\\\\\n",
       "  & <dbl> & <dbl> & <dbl> & <dbl> & <dbl> & <dbl> & <dbl> & <dbl> & <dbl> & <dbl> & <dbl> & <chr>\\\\\n",
       "\\hline\n",
       "\tFerrari Dino & 19.70000 & 6.0000 & 145.0000 & 175.0000 & 3.620000 & 2.77000 & 15.50000 & 0.0000 & 1.00000 & 5.0000 & 6.0000 & Ferrari Dino \\\\\n",
       "\tMaserati Bora & 15.00000 & 8.0000 & 301.0000 & 335.0000 & 3.540000 & 3.57000 & 14.60000 & 0.0000 & 1.00000 & 5.0000 & 8.0000 & Maserati Bora\\\\\n",
       "\tVolvo 142E & 21.40000 & 4.0000 & 121.0000 & 109.0000 & 4.110000 & 2.78000 & 18.60000 & 1.0000 & 1.00000 & 4.0000 & 2.0000 & Volvo 142E   \\\\\n",
       "\tsample & 20.09062 & 6.1875 & 230.7219 & 146.6875 & 3.596563 & 3.21725 & 17.84875 & 0.4375 & 0.40625 & 3.6875 & 2.8125 & NewModel1    \\\\\n",
       "\t40\\% & 17.92000 & 6.0000 & 160.0000 & 110.0000 & 3.354000 & 3.15800 & 17.34000 & 0.0000 & 0.00000 & 3.0000 & 2.0000 & NewModel2    \\\\\n",
       "\t60\\% & 21.00000 & 8.0000 & 275.8000 & 165.0000 & 3.818000 & 3.44000 & 18.18000 & 1.0000 & 0.60000 & 4.0000 & 3.0000 & NewModel3    \\\\\n",
       "\\end{tabular}\n"
      ],
      "text/markdown": [
       "\n",
       "A data.frame: 6 × 12\n",
       "\n",
       "| <!--/--> | mpg &lt;dbl&gt; | cyl &lt;dbl&gt; | disp &lt;dbl&gt; | hp &lt;dbl&gt; | drat &lt;dbl&gt; | wt &lt;dbl&gt; | qsec &lt;dbl&gt; | vs &lt;dbl&gt; | am &lt;dbl&gt; | gear &lt;dbl&gt; | carb &lt;dbl&gt; | name &lt;chr&gt; |\n",
       "|---|---|---|---|---|---|---|---|---|---|---|---|---|\n",
       "| Ferrari Dino | 19.70000 | 6.0000 | 145.0000 | 175.0000 | 3.620000 | 2.77000 | 15.50000 | 0.0000 | 1.00000 | 5.0000 | 6.0000 | Ferrari Dino  |\n",
       "| Maserati Bora | 15.00000 | 8.0000 | 301.0000 | 335.0000 | 3.540000 | 3.57000 | 14.60000 | 0.0000 | 1.00000 | 5.0000 | 8.0000 | Maserati Bora |\n",
       "| Volvo 142E | 21.40000 | 4.0000 | 121.0000 | 109.0000 | 4.110000 | 2.78000 | 18.60000 | 1.0000 | 1.00000 | 4.0000 | 2.0000 | Volvo 142E    |\n",
       "| sample | 20.09062 | 6.1875 | 230.7219 | 146.6875 | 3.596563 | 3.21725 | 17.84875 | 0.4375 | 0.40625 | 3.6875 | 2.8125 | NewModel1     |\n",
       "| 40% | 17.92000 | 6.0000 | 160.0000 | 110.0000 | 3.354000 | 3.15800 | 17.34000 | 0.0000 | 0.00000 | 3.0000 | 2.0000 | NewModel2     |\n",
       "| 60% | 21.00000 | 8.0000 | 275.8000 | 165.0000 | 3.818000 | 3.44000 | 18.18000 | 1.0000 | 0.60000 | 4.0000 | 3.0000 | NewModel3     |\n",
       "\n"
      ],
      "text/plain": [
       "              mpg      cyl    disp     hp       drat     wt      qsec    \n",
       "Ferrari Dino  19.70000 6.0000 145.0000 175.0000 3.620000 2.77000 15.50000\n",
       "Maserati Bora 15.00000 8.0000 301.0000 335.0000 3.540000 3.57000 14.60000\n",
       "Volvo 142E    21.40000 4.0000 121.0000 109.0000 4.110000 2.78000 18.60000\n",
       "sample        20.09062 6.1875 230.7219 146.6875 3.596563 3.21725 17.84875\n",
       "40%           17.92000 6.0000 160.0000 110.0000 3.354000 3.15800 17.34000\n",
       "60%           21.00000 8.0000 275.8000 165.0000 3.818000 3.44000 18.18000\n",
       "              vs     am      gear   carb   name         \n",
       "Ferrari Dino  0.0000 1.00000 5.0000 6.0000 Ferrari Dino \n",
       "Maserati Bora 0.0000 1.00000 5.0000 8.0000 Maserati Bora\n",
       "Volvo 142E    1.0000 1.00000 4.0000 2.0000 Volvo 142E   \n",
       "sample        0.4375 0.40625 3.6875 2.8125 NewModel1    \n",
       "40%           0.0000 0.00000 3.0000 2.0000 NewModel2    \n",
       "60%           1.0000 0.60000 4.0000 3.0000 NewModel3    "
      ]
     },
     "metadata": {},
     "output_type": "display_data"
    }
   ],
   "source": [
    "# Challenge 3: Add a couple more of cars (just generate fake data) and bind to to dataset\n",
    "# you can use variations around mean value to generate those\n",
    "# don't worry if you use float instead of integer, doesn't need to be realistic\n",
    "\n",
    "sample<-colMeans(mtcars%>%select(-name))\n",
    "sample2<-apply(mtcars%>%select(-name),2, quantile, probs=c(0.4,0.6))\n",
    "sample<-rbind(sample, sample2)\n",
    "sample<-as.data.frame(sample)\n",
    "sample$name<-paste0('NewModel',1:nrow(sample))\n",
    "\n",
    "mtcars2<-rbind(mtcars, sample)\n",
    "tail(mtcars2)"
   ]
  },
  {
   "cell_type": "code",
   "execution_count": 91,
   "metadata": {
    "colab": {
     "base_uri": "https://localhost:8080/"
    },
    "executionInfo": {
     "elapsed": 1800,
     "status": "ok",
     "timestamp": 1606739053982,
     "user": {
      "displayName": "Joan Verdú",
      "photoUrl": "https://lh3.googleusercontent.com/a-/AOh14Ghq6Zm9ACo3kD6kZhp6ZuWkYJqG_DQfPoIV1Ues=s64",
      "userId": "17893353067607712705"
     },
     "user_tz": -60
    },
    "id": "0cc2gNukASru",
    "outputId": "70628955-2d70-4c6f-fee6-24625cc8a8b3"
   },
   "outputs": [
    {
     "data": {
      "text/html": [
       "<table>\n",
       "<caption>A data.frame: 3 × 2</caption>\n",
       "<thead>\n",
       "\t<tr><th scope=col>cyl</th><th scope=col>tax</th></tr>\n",
       "\t<tr><th scope=col>&lt;dbl&gt;</th><th scope=col>&lt;dbl&gt;</th></tr>\n",
       "</thead>\n",
       "<tbody>\n",
       "\t<tr><td>4</td><td>100</td></tr>\n",
       "\t<tr><td>6</td><td>150</td></tr>\n",
       "\t<tr><td>8</td><td>200</td></tr>\n",
       "</tbody>\n",
       "</table>\n"
      ],
      "text/latex": [
       "A data.frame: 3 × 2\n",
       "\\begin{tabular}{ll}\n",
       " cyl & tax\\\\\n",
       " <dbl> & <dbl>\\\\\n",
       "\\hline\n",
       "\t 4 & 100\\\\\n",
       "\t 6 & 150\\\\\n",
       "\t 8 & 200\\\\\n",
       "\\end{tabular}\n"
      ],
      "text/markdown": [
       "\n",
       "A data.frame: 3 × 2\n",
       "\n",
       "| cyl &lt;dbl&gt; | tax &lt;dbl&gt; |\n",
       "|---|---|\n",
       "| 4 | 100 |\n",
       "| 6 | 150 |\n",
       "| 8 | 200 |\n",
       "\n"
      ],
      "text/plain": [
       "  cyl tax\n",
       "1 4   100\n",
       "2 6   150\n",
       "3 8   200"
      ]
     },
     "metadata": {},
     "output_type": "display_data"
    },
    {
     "data": {
      "text/html": [
       "<table>\n",
       "<caption>A data.frame: 6 × 13</caption>\n",
       "<thead>\n",
       "\t<tr><th></th><th scope=col>mpg</th><th scope=col>cyl</th><th scope=col>disp</th><th scope=col>hp</th><th scope=col>drat</th><th scope=col>wt</th><th scope=col>qsec</th><th scope=col>vs</th><th scope=col>am</th><th scope=col>gear</th><th scope=col>carb</th><th scope=col>name</th><th scope=col>tax</th></tr>\n",
       "\t<tr><th></th><th scope=col>&lt;dbl&gt;</th><th scope=col>&lt;dbl&gt;</th><th scope=col>&lt;dbl&gt;</th><th scope=col>&lt;dbl&gt;</th><th scope=col>&lt;dbl&gt;</th><th scope=col>&lt;dbl&gt;</th><th scope=col>&lt;dbl&gt;</th><th scope=col>&lt;dbl&gt;</th><th scope=col>&lt;dbl&gt;</th><th scope=col>&lt;dbl&gt;</th><th scope=col>&lt;dbl&gt;</th><th scope=col>&lt;chr&gt;</th><th scope=col>&lt;dbl&gt;</th></tr>\n",
       "</thead>\n",
       "<tbody>\n",
       "\t<tr><th scope=row>1</th><td>21.0</td><td>6</td><td>160</td><td>110</td><td>3.90</td><td>2.620</td><td>16.46</td><td>0</td><td>1</td><td>4</td><td>4</td><td>Mazda RX4        </td><td>150</td></tr>\n",
       "\t<tr><th scope=row>2</th><td>21.0</td><td>6</td><td>160</td><td>110</td><td>3.90</td><td>2.875</td><td>17.02</td><td>0</td><td>1</td><td>4</td><td>4</td><td>Mazda RX4 Wag    </td><td>150</td></tr>\n",
       "\t<tr><th scope=row>3</th><td>22.8</td><td>4</td><td>108</td><td> 93</td><td>3.85</td><td>2.320</td><td>18.61</td><td>1</td><td>1</td><td>4</td><td>1</td><td>Datsun 710       </td><td>100</td></tr>\n",
       "\t<tr><th scope=row>4</th><td>21.4</td><td>6</td><td>258</td><td>110</td><td>3.08</td><td>3.215</td><td>19.44</td><td>1</td><td>0</td><td>3</td><td>1</td><td>Hornet 4 Drive   </td><td>150</td></tr>\n",
       "\t<tr><th scope=row>5</th><td>18.7</td><td>8</td><td>360</td><td>175</td><td>3.15</td><td>3.440</td><td>17.02</td><td>0</td><td>0</td><td>3</td><td>2</td><td>Hornet Sportabout</td><td>200</td></tr>\n",
       "\t<tr><th scope=row>6</th><td>18.1</td><td>6</td><td>225</td><td>105</td><td>2.76</td><td>3.460</td><td>20.22</td><td>1</td><td>0</td><td>3</td><td>1</td><td>Valiant          </td><td>150</td></tr>\n",
       "</tbody>\n",
       "</table>\n"
      ],
      "text/latex": [
       "A data.frame: 6 × 13\n",
       "\\begin{tabular}{r|lllllllllllll}\n",
       "  & mpg & cyl & disp & hp & drat & wt & qsec & vs & am & gear & carb & name & tax\\\\\n",
       "  & <dbl> & <dbl> & <dbl> & <dbl> & <dbl> & <dbl> & <dbl> & <dbl> & <dbl> & <dbl> & <dbl> & <chr> & <dbl>\\\\\n",
       "\\hline\n",
       "\t1 & 21.0 & 6 & 160 & 110 & 3.90 & 2.620 & 16.46 & 0 & 1 & 4 & 4 & Mazda RX4         & 150\\\\\n",
       "\t2 & 21.0 & 6 & 160 & 110 & 3.90 & 2.875 & 17.02 & 0 & 1 & 4 & 4 & Mazda RX4 Wag     & 150\\\\\n",
       "\t3 & 22.8 & 4 & 108 &  93 & 3.85 & 2.320 & 18.61 & 1 & 1 & 4 & 1 & Datsun 710        & 100\\\\\n",
       "\t4 & 21.4 & 6 & 258 & 110 & 3.08 & 3.215 & 19.44 & 1 & 0 & 3 & 1 & Hornet 4 Drive    & 150\\\\\n",
       "\t5 & 18.7 & 8 & 360 & 175 & 3.15 & 3.440 & 17.02 & 0 & 0 & 3 & 2 & Hornet Sportabout & 200\\\\\n",
       "\t6 & 18.1 & 6 & 225 & 105 & 2.76 & 3.460 & 20.22 & 1 & 0 & 3 & 1 & Valiant           & 150\\\\\n",
       "\\end{tabular}\n"
      ],
      "text/markdown": [
       "\n",
       "A data.frame: 6 × 13\n",
       "\n",
       "| <!--/--> | mpg &lt;dbl&gt; | cyl &lt;dbl&gt; | disp &lt;dbl&gt; | hp &lt;dbl&gt; | drat &lt;dbl&gt; | wt &lt;dbl&gt; | qsec &lt;dbl&gt; | vs &lt;dbl&gt; | am &lt;dbl&gt; | gear &lt;dbl&gt; | carb &lt;dbl&gt; | name &lt;chr&gt; | tax &lt;dbl&gt; |\n",
       "|---|---|---|---|---|---|---|---|---|---|---|---|---|---|\n",
       "| 1 | 21.0 | 6 | 160 | 110 | 3.90 | 2.620 | 16.46 | 0 | 1 | 4 | 4 | Mazda RX4         | 150 |\n",
       "| 2 | 21.0 | 6 | 160 | 110 | 3.90 | 2.875 | 17.02 | 0 | 1 | 4 | 4 | Mazda RX4 Wag     | 150 |\n",
       "| 3 | 22.8 | 4 | 108 |  93 | 3.85 | 2.320 | 18.61 | 1 | 1 | 4 | 1 | Datsun 710        | 100 |\n",
       "| 4 | 21.4 | 6 | 258 | 110 | 3.08 | 3.215 | 19.44 | 1 | 0 | 3 | 1 | Hornet 4 Drive    | 150 |\n",
       "| 5 | 18.7 | 8 | 360 | 175 | 3.15 | 3.440 | 17.02 | 0 | 0 | 3 | 2 | Hornet Sportabout | 200 |\n",
       "| 6 | 18.1 | 6 | 225 | 105 | 2.76 | 3.460 | 20.22 | 1 | 0 | 3 | 1 | Valiant           | 150 |\n",
       "\n"
      ],
      "text/plain": [
       "  mpg  cyl disp hp  drat wt    qsec  vs am gear carb name              tax\n",
       "1 21.0 6   160  110 3.90 2.620 16.46 0  1  4    4    Mazda RX4         150\n",
       "2 21.0 6   160  110 3.90 2.875 17.02 0  1  4    4    Mazda RX4 Wag     150\n",
       "3 22.8 4   108   93 3.85 2.320 18.61 1  1  4    1    Datsun 710        100\n",
       "4 21.4 6   258  110 3.08 3.215 19.44 1  0  3    1    Hornet 4 Drive    150\n",
       "5 18.7 8   360  175 3.15 3.440 17.02 0  0  3    2    Hornet Sportabout 200\n",
       "6 18.1 6   225  105 2.76 3.460 20.22 1  0  3    1    Valiant           150"
      ]
     },
     "metadata": {},
     "output_type": "display_data"
    },
    {
     "data": {
      "text/html": [
       "<table>\n",
       "<caption>A data.table: 6 × 13</caption>\n",
       "<thead>\n",
       "\t<tr><th scope=col>cyl</th><th scope=col>mpg</th><th scope=col>disp</th><th scope=col>hp</th><th scope=col>drat</th><th scope=col>wt</th><th scope=col>qsec</th><th scope=col>vs</th><th scope=col>am</th><th scope=col>gear</th><th scope=col>carb</th><th scope=col>name</th><th scope=col>tax</th></tr>\n",
       "\t<tr><th scope=col>&lt;dbl&gt;</th><th scope=col>&lt;dbl&gt;</th><th scope=col>&lt;dbl&gt;</th><th scope=col>&lt;dbl&gt;</th><th scope=col>&lt;dbl&gt;</th><th scope=col>&lt;dbl&gt;</th><th scope=col>&lt;dbl&gt;</th><th scope=col>&lt;dbl&gt;</th><th scope=col>&lt;dbl&gt;</th><th scope=col>&lt;dbl&gt;</th><th scope=col>&lt;dbl&gt;</th><th scope=col>&lt;chr&gt;</th><th scope=col>&lt;dbl&gt;</th></tr>\n",
       "</thead>\n",
       "<tbody>\n",
       "\t<tr><td>4</td><td>22.8</td><td>108.0</td><td>93</td><td>3.85</td><td>2.320</td><td>18.61</td><td>1</td><td>1</td><td>4</td><td>1</td><td>Datsun 710    </td><td>100</td></tr>\n",
       "\t<tr><td>4</td><td>24.4</td><td>146.7</td><td>62</td><td>3.69</td><td>3.190</td><td>20.00</td><td>1</td><td>0</td><td>4</td><td>2</td><td>Merc 240D     </td><td>100</td></tr>\n",
       "\t<tr><td>4</td><td>22.8</td><td>140.8</td><td>95</td><td>3.92</td><td>3.150</td><td>22.90</td><td>1</td><td>0</td><td>4</td><td>2</td><td>Merc 230      </td><td>100</td></tr>\n",
       "\t<tr><td>4</td><td>32.4</td><td> 78.7</td><td>66</td><td>4.08</td><td>2.200</td><td>19.47</td><td>1</td><td>1</td><td>4</td><td>1</td><td>Fiat 128      </td><td>100</td></tr>\n",
       "\t<tr><td>4</td><td>30.4</td><td> 75.7</td><td>52</td><td>4.93</td><td>1.615</td><td>18.52</td><td>1</td><td>1</td><td>4</td><td>2</td><td>Honda Civic   </td><td>100</td></tr>\n",
       "\t<tr><td>4</td><td>33.9</td><td> 71.1</td><td>65</td><td>4.22</td><td>1.835</td><td>19.90</td><td>1</td><td>1</td><td>4</td><td>1</td><td>Toyota Corolla</td><td>100</td></tr>\n",
       "</tbody>\n",
       "</table>\n"
      ],
      "text/latex": [
       "A data.table: 6 × 13\n",
       "\\begin{tabular}{lllllllllllll}\n",
       " cyl & mpg & disp & hp & drat & wt & qsec & vs & am & gear & carb & name & tax\\\\\n",
       " <dbl> & <dbl> & <dbl> & <dbl> & <dbl> & <dbl> & <dbl> & <dbl> & <dbl> & <dbl> & <dbl> & <chr> & <dbl>\\\\\n",
       "\\hline\n",
       "\t 4 & 22.8 & 108.0 & 93 & 3.85 & 2.320 & 18.61 & 1 & 1 & 4 & 1 & Datsun 710     & 100\\\\\n",
       "\t 4 & 24.4 & 146.7 & 62 & 3.69 & 3.190 & 20.00 & 1 & 0 & 4 & 2 & Merc 240D      & 100\\\\\n",
       "\t 4 & 22.8 & 140.8 & 95 & 3.92 & 3.150 & 22.90 & 1 & 0 & 4 & 2 & Merc 230       & 100\\\\\n",
       "\t 4 & 32.4 &  78.7 & 66 & 4.08 & 2.200 & 19.47 & 1 & 1 & 4 & 1 & Fiat 128       & 100\\\\\n",
       "\t 4 & 30.4 &  75.7 & 52 & 4.93 & 1.615 & 18.52 & 1 & 1 & 4 & 2 & Honda Civic    & 100\\\\\n",
       "\t 4 & 33.9 &  71.1 & 65 & 4.22 & 1.835 & 19.90 & 1 & 1 & 4 & 1 & Toyota Corolla & 100\\\\\n",
       "\\end{tabular}\n"
      ],
      "text/markdown": [
       "\n",
       "A data.table: 6 × 13\n",
       "\n",
       "| cyl &lt;dbl&gt; | mpg &lt;dbl&gt; | disp &lt;dbl&gt; | hp &lt;dbl&gt; | drat &lt;dbl&gt; | wt &lt;dbl&gt; | qsec &lt;dbl&gt; | vs &lt;dbl&gt; | am &lt;dbl&gt; | gear &lt;dbl&gt; | carb &lt;dbl&gt; | name &lt;chr&gt; | tax &lt;dbl&gt; |\n",
       "|---|---|---|---|---|---|---|---|---|---|---|---|---|\n",
       "| 4 | 22.8 | 108.0 | 93 | 3.85 | 2.320 | 18.61 | 1 | 1 | 4 | 1 | Datsun 710     | 100 |\n",
       "| 4 | 24.4 | 146.7 | 62 | 3.69 | 3.190 | 20.00 | 1 | 0 | 4 | 2 | Merc 240D      | 100 |\n",
       "| 4 | 22.8 | 140.8 | 95 | 3.92 | 3.150 | 22.90 | 1 | 0 | 4 | 2 | Merc 230       | 100 |\n",
       "| 4 | 32.4 |  78.7 | 66 | 4.08 | 2.200 | 19.47 | 1 | 1 | 4 | 1 | Fiat 128       | 100 |\n",
       "| 4 | 30.4 |  75.7 | 52 | 4.93 | 1.615 | 18.52 | 1 | 1 | 4 | 2 | Honda Civic    | 100 |\n",
       "| 4 | 33.9 |  71.1 | 65 | 4.22 | 1.835 | 19.90 | 1 | 1 | 4 | 1 | Toyota Corolla | 100 |\n",
       "\n"
      ],
      "text/plain": [
       "  cyl mpg  disp  hp drat wt    qsec  vs am gear carb name           tax\n",
       "1 4   22.8 108.0 93 3.85 2.320 18.61 1  1  4    1    Datsun 710     100\n",
       "2 4   24.4 146.7 62 3.69 3.190 20.00 1  0  4    2    Merc 240D      100\n",
       "3 4   22.8 140.8 95 3.92 3.150 22.90 1  0  4    2    Merc 230       100\n",
       "4 4   32.4  78.7 66 4.08 2.200 19.47 1  1  4    1    Fiat 128       100\n",
       "5 4   30.4  75.7 52 4.93 1.615 18.52 1  1  4    2    Honda Civic    100\n",
       "6 4   33.9  71.1 65 4.22 1.835 19.90 1  1  4    1    Toyota Corolla 100"
      ]
     },
     "metadata": {},
     "output_type": "display_data"
    }
   ],
   "source": [
    "# Challenge 4: Try to add tax info, assuming that only depends on cyl\n",
    "# Create a new data.frame or data.table with unique values of column cyl and then add a 'tax' value\n",
    "# (generate a fake tax quantity per cilinder)\n",
    "# Then merge this new df with mtcars\n",
    "\n",
    "df<-data.frame(\n",
    "                cyl=sort(unique(mtcars$cyl)), \n",
    "               tax=seq(100,200,length.out = length(unique(mtcars$cyl)))\n",
    "                      )\n",
    "df\n",
    "\n",
    "# tidyr\n",
    "mtcars<- mtcars %>% left_join(df, by='cyl')\n",
    "head(mtcars)\n",
    "\n",
    "# data.table\n",
    "mtcars_dt<- merge(mtcars_dt,df, all.x=T, by='cyl')\n",
    "head(mtcars_dt)"
   ]
  },
  {
   "cell_type": "code",
   "execution_count": 93,
   "metadata": {
    "colab": {
     "base_uri": "https://localhost:8080/"
    },
    "executionInfo": {
     "elapsed": 1796,
     "status": "ok",
     "timestamp": 1606739053983,
     "user": {
      "displayName": "Joan Verdú",
      "photoUrl": "https://lh3.googleusercontent.com/a-/AOh14Ghq6Zm9ACo3kD6kZhp6ZuWkYJqG_DQfPoIV1Ues=s64",
      "userId": "17893353067607712705"
     },
     "user_tz": -60
    },
    "id": "GXKFFFRkASru",
    "outputId": "5fa42951-2e94-4ea2-993d-41ead993a8c2"
   },
   "outputs": [
    {
     "data": {
      "text/html": [
       "<table>\n",
       "<caption>A data.frame: 12 × 13</caption>\n",
       "<thead>\n",
       "\t<tr><th scope=col>mpg</th><th scope=col>cyl</th><th scope=col>disp</th><th scope=col>hp</th><th scope=col>drat</th><th scope=col>wt</th><th scope=col>qsec</th><th scope=col>vs</th><th scope=col>am</th><th scope=col>gear</th><th scope=col>carb</th><th scope=col>name</th><th scope=col>tax</th></tr>\n",
       "\t<tr><th scope=col>&lt;dbl&gt;</th><th scope=col>&lt;dbl&gt;</th><th scope=col>&lt;dbl&gt;</th><th scope=col>&lt;dbl&gt;</th><th scope=col>&lt;dbl&gt;</th><th scope=col>&lt;dbl&gt;</th><th scope=col>&lt;dbl&gt;</th><th scope=col>&lt;dbl&gt;</th><th scope=col>&lt;dbl&gt;</th><th scope=col>&lt;dbl&gt;</th><th scope=col>&lt;dbl&gt;</th><th scope=col>&lt;chr&gt;</th><th scope=col>&lt;dbl&gt;</th></tr>\n",
       "</thead>\n",
       "<tbody>\n",
       "\t<tr><td>15.2</td><td>8</td><td>304.0</td><td>150</td><td>3.15</td><td>3.435</td><td>17.30</td><td>0</td><td>0</td><td>3</td><td>2</td><td>AMC Javelin        </td><td>200</td></tr>\n",
       "\t<tr><td>10.4</td><td>8</td><td>472.0</td><td>205</td><td>2.93</td><td>5.250</td><td>17.98</td><td>0</td><td>0</td><td>3</td><td>4</td><td>Cadillac Fleetwood </td><td>200</td></tr>\n",
       "\t<tr><td>13.3</td><td>8</td><td>350.0</td><td>245</td><td>3.73</td><td>3.840</td><td>15.41</td><td>0</td><td>0</td><td>3</td><td>4</td><td>Camaro Z28         </td><td>200</td></tr>\n",
       "\t<tr><td>14.7</td><td>8</td><td>440.0</td><td>230</td><td>3.23</td><td>5.345</td><td>17.42</td><td>0</td><td>0</td><td>3</td><td>4</td><td>Chrysler Imperial  </td><td>200</td></tr>\n",
       "\t<tr><td>15.5</td><td>8</td><td>318.0</td><td>150</td><td>2.76</td><td>3.520</td><td>16.87</td><td>0</td><td>0</td><td>3</td><td>2</td><td>Dodge Challenger   </td><td>200</td></tr>\n",
       "\t<tr><td>14.3</td><td>8</td><td>360.0</td><td>245</td><td>3.21</td><td>3.570</td><td>15.84</td><td>0</td><td>0</td><td>3</td><td>4</td><td>Duster 360         </td><td>200</td></tr>\n",
       "\t<tr><td>18.7</td><td>8</td><td>360.0</td><td>175</td><td>3.15</td><td>3.440</td><td>17.02</td><td>0</td><td>0</td><td>3</td><td>2</td><td>Hornet Sportabout  </td><td>200</td></tr>\n",
       "\t<tr><td>10.4</td><td>8</td><td>460.0</td><td>215</td><td>3.00</td><td>5.424</td><td>17.82</td><td>0</td><td>0</td><td>3</td><td>4</td><td>Lincoln Continental</td><td>200</td></tr>\n",
       "\t<tr><td>16.4</td><td>8</td><td>275.8</td><td>180</td><td>3.07</td><td>4.070</td><td>17.40</td><td>0</td><td>0</td><td>3</td><td>3</td><td>Merc 450SE         </td><td>200</td></tr>\n",
       "\t<tr><td>17.3</td><td>8</td><td>275.8</td><td>180</td><td>3.07</td><td>3.730</td><td>17.60</td><td>0</td><td>0</td><td>3</td><td>3</td><td>Merc 450SL         </td><td>200</td></tr>\n",
       "\t<tr><td>15.2</td><td>8</td><td>275.8</td><td>180</td><td>3.07</td><td>3.780</td><td>18.00</td><td>0</td><td>0</td><td>3</td><td>3</td><td>Merc 450SLC        </td><td>200</td></tr>\n",
       "\t<tr><td>19.2</td><td>8</td><td>400.0</td><td>175</td><td>3.08</td><td>3.845</td><td>17.05</td><td>0</td><td>0</td><td>3</td><td>2</td><td>Pontiac Firebird   </td><td>200</td></tr>\n",
       "</tbody>\n",
       "</table>\n"
      ],
      "text/latex": [
       "A data.frame: 12 × 13\n",
       "\\begin{tabular}{lllllllllllll}\n",
       " mpg & cyl & disp & hp & drat & wt & qsec & vs & am & gear & carb & name & tax\\\\\n",
       " <dbl> & <dbl> & <dbl> & <dbl> & <dbl> & <dbl> & <dbl> & <dbl> & <dbl> & <dbl> & <dbl> & <chr> & <dbl>\\\\\n",
       "\\hline\n",
       "\t 15.2 & 8 & 304.0 & 150 & 3.15 & 3.435 & 17.30 & 0 & 0 & 3 & 2 & AMC Javelin         & 200\\\\\n",
       "\t 10.4 & 8 & 472.0 & 205 & 2.93 & 5.250 & 17.98 & 0 & 0 & 3 & 4 & Cadillac Fleetwood  & 200\\\\\n",
       "\t 13.3 & 8 & 350.0 & 245 & 3.73 & 3.840 & 15.41 & 0 & 0 & 3 & 4 & Camaro Z28          & 200\\\\\n",
       "\t 14.7 & 8 & 440.0 & 230 & 3.23 & 5.345 & 17.42 & 0 & 0 & 3 & 4 & Chrysler Imperial   & 200\\\\\n",
       "\t 15.5 & 8 & 318.0 & 150 & 2.76 & 3.520 & 16.87 & 0 & 0 & 3 & 2 & Dodge Challenger    & 200\\\\\n",
       "\t 14.3 & 8 & 360.0 & 245 & 3.21 & 3.570 & 15.84 & 0 & 0 & 3 & 4 & Duster 360          & 200\\\\\n",
       "\t 18.7 & 8 & 360.0 & 175 & 3.15 & 3.440 & 17.02 & 0 & 0 & 3 & 2 & Hornet Sportabout   & 200\\\\\n",
       "\t 10.4 & 8 & 460.0 & 215 & 3.00 & 5.424 & 17.82 & 0 & 0 & 3 & 4 & Lincoln Continental & 200\\\\\n",
       "\t 16.4 & 8 & 275.8 & 180 & 3.07 & 4.070 & 17.40 & 0 & 0 & 3 & 3 & Merc 450SE          & 200\\\\\n",
       "\t 17.3 & 8 & 275.8 & 180 & 3.07 & 3.730 & 17.60 & 0 & 0 & 3 & 3 & Merc 450SL          & 200\\\\\n",
       "\t 15.2 & 8 & 275.8 & 180 & 3.07 & 3.780 & 18.00 & 0 & 0 & 3 & 3 & Merc 450SLC         & 200\\\\\n",
       "\t 19.2 & 8 & 400.0 & 175 & 3.08 & 3.845 & 17.05 & 0 & 0 & 3 & 2 & Pontiac Firebird    & 200\\\\\n",
       "\\end{tabular}\n"
      ],
      "text/markdown": [
       "\n",
       "A data.frame: 12 × 13\n",
       "\n",
       "| mpg &lt;dbl&gt; | cyl &lt;dbl&gt; | disp &lt;dbl&gt; | hp &lt;dbl&gt; | drat &lt;dbl&gt; | wt &lt;dbl&gt; | qsec &lt;dbl&gt; | vs &lt;dbl&gt; | am &lt;dbl&gt; | gear &lt;dbl&gt; | carb &lt;dbl&gt; | name &lt;chr&gt; | tax &lt;dbl&gt; |\n",
       "|---|---|---|---|---|---|---|---|---|---|---|---|---|\n",
       "| 15.2 | 8 | 304.0 | 150 | 3.15 | 3.435 | 17.30 | 0 | 0 | 3 | 2 | AMC Javelin         | 200 |\n",
       "| 10.4 | 8 | 472.0 | 205 | 2.93 | 5.250 | 17.98 | 0 | 0 | 3 | 4 | Cadillac Fleetwood  | 200 |\n",
       "| 13.3 | 8 | 350.0 | 245 | 3.73 | 3.840 | 15.41 | 0 | 0 | 3 | 4 | Camaro Z28          | 200 |\n",
       "| 14.7 | 8 | 440.0 | 230 | 3.23 | 5.345 | 17.42 | 0 | 0 | 3 | 4 | Chrysler Imperial   | 200 |\n",
       "| 15.5 | 8 | 318.0 | 150 | 2.76 | 3.520 | 16.87 | 0 | 0 | 3 | 2 | Dodge Challenger    | 200 |\n",
       "| 14.3 | 8 | 360.0 | 245 | 3.21 | 3.570 | 15.84 | 0 | 0 | 3 | 4 | Duster 360          | 200 |\n",
       "| 18.7 | 8 | 360.0 | 175 | 3.15 | 3.440 | 17.02 | 0 | 0 | 3 | 2 | Hornet Sportabout   | 200 |\n",
       "| 10.4 | 8 | 460.0 | 215 | 3.00 | 5.424 | 17.82 | 0 | 0 | 3 | 4 | Lincoln Continental | 200 |\n",
       "| 16.4 | 8 | 275.8 | 180 | 3.07 | 4.070 | 17.40 | 0 | 0 | 3 | 3 | Merc 450SE          | 200 |\n",
       "| 17.3 | 8 | 275.8 | 180 | 3.07 | 3.730 | 17.60 | 0 | 0 | 3 | 3 | Merc 450SL          | 200 |\n",
       "| 15.2 | 8 | 275.8 | 180 | 3.07 | 3.780 | 18.00 | 0 | 0 | 3 | 3 | Merc 450SLC         | 200 |\n",
       "| 19.2 | 8 | 400.0 | 175 | 3.08 | 3.845 | 17.05 | 0 | 0 | 3 | 2 | Pontiac Firebird    | 200 |\n",
       "\n"
      ],
      "text/plain": [
       "   mpg  cyl disp  hp  drat wt    qsec  vs am gear carb name                tax\n",
       "1  15.2 8   304.0 150 3.15 3.435 17.30 0  0  3    2    AMC Javelin         200\n",
       "2  10.4 8   472.0 205 2.93 5.250 17.98 0  0  3    4    Cadillac Fleetwood  200\n",
       "3  13.3 8   350.0 245 3.73 3.840 15.41 0  0  3    4    Camaro Z28          200\n",
       "4  14.7 8   440.0 230 3.23 5.345 17.42 0  0  3    4    Chrysler Imperial   200\n",
       "5  15.5 8   318.0 150 2.76 3.520 16.87 0  0  3    2    Dodge Challenger    200\n",
       "6  14.3 8   360.0 245 3.21 3.570 15.84 0  0  3    4    Duster 360          200\n",
       "7  18.7 8   360.0 175 3.15 3.440 17.02 0  0  3    2    Hornet Sportabout   200\n",
       "8  10.4 8   460.0 215 3.00 5.424 17.82 0  0  3    4    Lincoln Continental 200\n",
       "9  16.4 8   275.8 180 3.07 4.070 17.40 0  0  3    3    Merc 450SE          200\n",
       "10 17.3 8   275.8 180 3.07 3.730 17.60 0  0  3    3    Merc 450SL          200\n",
       "11 15.2 8   275.8 180 3.07 3.780 18.00 0  0  3    3    Merc 450SLC         200\n",
       "12 19.2 8   400.0 175 3.08 3.845 17.05 0  0  3    2    Pontiac Firebird    200"
      ]
     },
     "metadata": {},
     "output_type": "display_data"
    },
    {
     "data": {
      "text/html": [
       "<table>\n",
       "<caption>A data.table: 12 × 13</caption>\n",
       "<thead>\n",
       "\t<tr><th scope=col>cyl</th><th scope=col>mpg</th><th scope=col>disp</th><th scope=col>hp</th><th scope=col>drat</th><th scope=col>wt</th><th scope=col>qsec</th><th scope=col>vs</th><th scope=col>am</th><th scope=col>gear</th><th scope=col>carb</th><th scope=col>name</th><th scope=col>tax</th></tr>\n",
       "\t<tr><th scope=col>&lt;dbl&gt;</th><th scope=col>&lt;dbl&gt;</th><th scope=col>&lt;dbl&gt;</th><th scope=col>&lt;dbl&gt;</th><th scope=col>&lt;dbl&gt;</th><th scope=col>&lt;dbl&gt;</th><th scope=col>&lt;dbl&gt;</th><th scope=col>&lt;dbl&gt;</th><th scope=col>&lt;dbl&gt;</th><th scope=col>&lt;dbl&gt;</th><th scope=col>&lt;dbl&gt;</th><th scope=col>&lt;chr&gt;</th><th scope=col>&lt;dbl&gt;</th></tr>\n",
       "</thead>\n",
       "<tbody>\n",
       "\t<tr><td>8</td><td>15.2</td><td>304.0</td><td>150</td><td>3.15</td><td>3.435</td><td>17.30</td><td>0</td><td>0</td><td>3</td><td>2</td><td>AMC Javelin        </td><td>200</td></tr>\n",
       "\t<tr><td>8</td><td>10.4</td><td>472.0</td><td>205</td><td>2.93</td><td>5.250</td><td>17.98</td><td>0</td><td>0</td><td>3</td><td>4</td><td>Cadillac Fleetwood </td><td>200</td></tr>\n",
       "\t<tr><td>8</td><td>13.3</td><td>350.0</td><td>245</td><td>3.73</td><td>3.840</td><td>15.41</td><td>0</td><td>0</td><td>3</td><td>4</td><td>Camaro Z28         </td><td>200</td></tr>\n",
       "\t<tr><td>8</td><td>14.7</td><td>440.0</td><td>230</td><td>3.23</td><td>5.345</td><td>17.42</td><td>0</td><td>0</td><td>3</td><td>4</td><td>Chrysler Imperial  </td><td>200</td></tr>\n",
       "\t<tr><td>8</td><td>15.5</td><td>318.0</td><td>150</td><td>2.76</td><td>3.520</td><td>16.87</td><td>0</td><td>0</td><td>3</td><td>2</td><td>Dodge Challenger   </td><td>200</td></tr>\n",
       "\t<tr><td>8</td><td>14.3</td><td>360.0</td><td>245</td><td>3.21</td><td>3.570</td><td>15.84</td><td>0</td><td>0</td><td>3</td><td>4</td><td>Duster 360         </td><td>200</td></tr>\n",
       "\t<tr><td>8</td><td>18.7</td><td>360.0</td><td>175</td><td>3.15</td><td>3.440</td><td>17.02</td><td>0</td><td>0</td><td>3</td><td>2</td><td>Hornet Sportabout  </td><td>200</td></tr>\n",
       "\t<tr><td>8</td><td>10.4</td><td>460.0</td><td>215</td><td>3.00</td><td>5.424</td><td>17.82</td><td>0</td><td>0</td><td>3</td><td>4</td><td>Lincoln Continental</td><td>200</td></tr>\n",
       "\t<tr><td>8</td><td>16.4</td><td>275.8</td><td>180</td><td>3.07</td><td>4.070</td><td>17.40</td><td>0</td><td>0</td><td>3</td><td>3</td><td>Merc 450SE         </td><td>200</td></tr>\n",
       "\t<tr><td>8</td><td>17.3</td><td>275.8</td><td>180</td><td>3.07</td><td>3.730</td><td>17.60</td><td>0</td><td>0</td><td>3</td><td>3</td><td>Merc 450SL         </td><td>200</td></tr>\n",
       "\t<tr><td>8</td><td>15.2</td><td>275.8</td><td>180</td><td>3.07</td><td>3.780</td><td>18.00</td><td>0</td><td>0</td><td>3</td><td>3</td><td>Merc 450SLC        </td><td>200</td></tr>\n",
       "\t<tr><td>8</td><td>19.2</td><td>400.0</td><td>175</td><td>3.08</td><td>3.845</td><td>17.05</td><td>0</td><td>0</td><td>3</td><td>2</td><td>Pontiac Firebird   </td><td>200</td></tr>\n",
       "</tbody>\n",
       "</table>\n"
      ],
      "text/latex": [
       "A data.table: 12 × 13\n",
       "\\begin{tabular}{lllllllllllll}\n",
       " cyl & mpg & disp & hp & drat & wt & qsec & vs & am & gear & carb & name & tax\\\\\n",
       " <dbl> & <dbl> & <dbl> & <dbl> & <dbl> & <dbl> & <dbl> & <dbl> & <dbl> & <dbl> & <dbl> & <chr> & <dbl>\\\\\n",
       "\\hline\n",
       "\t 8 & 15.2 & 304.0 & 150 & 3.15 & 3.435 & 17.30 & 0 & 0 & 3 & 2 & AMC Javelin         & 200\\\\\n",
       "\t 8 & 10.4 & 472.0 & 205 & 2.93 & 5.250 & 17.98 & 0 & 0 & 3 & 4 & Cadillac Fleetwood  & 200\\\\\n",
       "\t 8 & 13.3 & 350.0 & 245 & 3.73 & 3.840 & 15.41 & 0 & 0 & 3 & 4 & Camaro Z28          & 200\\\\\n",
       "\t 8 & 14.7 & 440.0 & 230 & 3.23 & 5.345 & 17.42 & 0 & 0 & 3 & 4 & Chrysler Imperial   & 200\\\\\n",
       "\t 8 & 15.5 & 318.0 & 150 & 2.76 & 3.520 & 16.87 & 0 & 0 & 3 & 2 & Dodge Challenger    & 200\\\\\n",
       "\t 8 & 14.3 & 360.0 & 245 & 3.21 & 3.570 & 15.84 & 0 & 0 & 3 & 4 & Duster 360          & 200\\\\\n",
       "\t 8 & 18.7 & 360.0 & 175 & 3.15 & 3.440 & 17.02 & 0 & 0 & 3 & 2 & Hornet Sportabout   & 200\\\\\n",
       "\t 8 & 10.4 & 460.0 & 215 & 3.00 & 5.424 & 17.82 & 0 & 0 & 3 & 4 & Lincoln Continental & 200\\\\\n",
       "\t 8 & 16.4 & 275.8 & 180 & 3.07 & 4.070 & 17.40 & 0 & 0 & 3 & 3 & Merc 450SE          & 200\\\\\n",
       "\t 8 & 17.3 & 275.8 & 180 & 3.07 & 3.730 & 17.60 & 0 & 0 & 3 & 3 & Merc 450SL          & 200\\\\\n",
       "\t 8 & 15.2 & 275.8 & 180 & 3.07 & 3.780 & 18.00 & 0 & 0 & 3 & 3 & Merc 450SLC         & 200\\\\\n",
       "\t 8 & 19.2 & 400.0 & 175 & 3.08 & 3.845 & 17.05 & 0 & 0 & 3 & 2 & Pontiac Firebird    & 200\\\\\n",
       "\\end{tabular}\n"
      ],
      "text/markdown": [
       "\n",
       "A data.table: 12 × 13\n",
       "\n",
       "| cyl &lt;dbl&gt; | mpg &lt;dbl&gt; | disp &lt;dbl&gt; | hp &lt;dbl&gt; | drat &lt;dbl&gt; | wt &lt;dbl&gt; | qsec &lt;dbl&gt; | vs &lt;dbl&gt; | am &lt;dbl&gt; | gear &lt;dbl&gt; | carb &lt;dbl&gt; | name &lt;chr&gt; | tax &lt;dbl&gt; |\n",
       "|---|---|---|---|---|---|---|---|---|---|---|---|---|\n",
       "| 8 | 15.2 | 304.0 | 150 | 3.15 | 3.435 | 17.30 | 0 | 0 | 3 | 2 | AMC Javelin         | 200 |\n",
       "| 8 | 10.4 | 472.0 | 205 | 2.93 | 5.250 | 17.98 | 0 | 0 | 3 | 4 | Cadillac Fleetwood  | 200 |\n",
       "| 8 | 13.3 | 350.0 | 245 | 3.73 | 3.840 | 15.41 | 0 | 0 | 3 | 4 | Camaro Z28          | 200 |\n",
       "| 8 | 14.7 | 440.0 | 230 | 3.23 | 5.345 | 17.42 | 0 | 0 | 3 | 4 | Chrysler Imperial   | 200 |\n",
       "| 8 | 15.5 | 318.0 | 150 | 2.76 | 3.520 | 16.87 | 0 | 0 | 3 | 2 | Dodge Challenger    | 200 |\n",
       "| 8 | 14.3 | 360.0 | 245 | 3.21 | 3.570 | 15.84 | 0 | 0 | 3 | 4 | Duster 360          | 200 |\n",
       "| 8 | 18.7 | 360.0 | 175 | 3.15 | 3.440 | 17.02 | 0 | 0 | 3 | 2 | Hornet Sportabout   | 200 |\n",
       "| 8 | 10.4 | 460.0 | 215 | 3.00 | 5.424 | 17.82 | 0 | 0 | 3 | 4 | Lincoln Continental | 200 |\n",
       "| 8 | 16.4 | 275.8 | 180 | 3.07 | 4.070 | 17.40 | 0 | 0 | 3 | 3 | Merc 450SE          | 200 |\n",
       "| 8 | 17.3 | 275.8 | 180 | 3.07 | 3.730 | 17.60 | 0 | 0 | 3 | 3 | Merc 450SL          | 200 |\n",
       "| 8 | 15.2 | 275.8 | 180 | 3.07 | 3.780 | 18.00 | 0 | 0 | 3 | 3 | Merc 450SLC         | 200 |\n",
       "| 8 | 19.2 | 400.0 | 175 | 3.08 | 3.845 | 17.05 | 0 | 0 | 3 | 2 | Pontiac Firebird    | 200 |\n",
       "\n"
      ],
      "text/plain": [
       "   cyl mpg  disp  hp  drat wt    qsec  vs am gear carb name                tax\n",
       "1  8   15.2 304.0 150 3.15 3.435 17.30 0  0  3    2    AMC Javelin         200\n",
       "2  8   10.4 472.0 205 2.93 5.250 17.98 0  0  3    4    Cadillac Fleetwood  200\n",
       "3  8   13.3 350.0 245 3.73 3.840 15.41 0  0  3    4    Camaro Z28          200\n",
       "4  8   14.7 440.0 230 3.23 5.345 17.42 0  0  3    4    Chrysler Imperial   200\n",
       "5  8   15.5 318.0 150 2.76 3.520 16.87 0  0  3    2    Dodge Challenger    200\n",
       "6  8   14.3 360.0 245 3.21 3.570 15.84 0  0  3    4    Duster 360          200\n",
       "7  8   18.7 360.0 175 3.15 3.440 17.02 0  0  3    2    Hornet Sportabout   200\n",
       "8  8   10.4 460.0 215 3.00 5.424 17.82 0  0  3    4    Lincoln Continental 200\n",
       "9  8   16.4 275.8 180 3.07 4.070 17.40 0  0  3    3    Merc 450SE          200\n",
       "10 8   17.3 275.8 180 3.07 3.730 17.60 0  0  3    3    Merc 450SL          200\n",
       "11 8   15.2 275.8 180 3.07 3.780 18.00 0  0  3    3    Merc 450SLC         200\n",
       "12 8   19.2 400.0 175 3.08 3.845 17.05 0  0  3    2    Pontiac Firebird    200"
      ]
     },
     "metadata": {},
     "output_type": "display_data"
    }
   ],
   "source": [
    "# Challenge 5: Report in alphabetical order the name of cars that have maximum tax value, \n",
    "# but showing only those ones wit non-automatic transmission\n",
    "\n",
    "# dplyr\n",
    "mtcars %>% filter(am==0 & tax==max(tax)) %>% arrange(name) \n",
    "\n",
    "# data.table\n",
    "mtcars_dt[am==0 & tax==max(tax)][order(name)]"
   ]
  },
  {
   "cell_type": "code",
   "execution_count": 109,
   "metadata": {
    "colab": {
     "base_uri": "https://localhost:8080/"
    },
    "executionInfo": {
     "elapsed": 2177,
     "status": "ok",
     "timestamp": 1606739054369,
     "user": {
      "displayName": "Joan Verdú",
      "photoUrl": "https://lh3.googleusercontent.com/a-/AOh14Ghq6Zm9ACo3kD6kZhp6ZuWkYJqG_DQfPoIV1Ues=s64",
      "userId": "17893353067607712705"
     },
     "user_tz": -60
    },
    "id": "ARVSfj9VASru",
    "outputId": "b0a4b981-d0d1-4172-98bd-37623b7a3e4e"
   },
   "outputs": [
    {
     "data": {
      "text/html": [
       "<table>\n",
       "<caption>A matrix: 3 × 3 of type dbl</caption>\n",
       "<thead>\n",
       "\t<tr><th></th><th scope=col>Cyl_6</th><th scope=col>Cyl_4</th><th scope=col>Cyl_8</th></tr>\n",
       "</thead>\n",
       "<tbody>\n",
       "\t<tr><th scope=row>Gear_3</th><td>21.500</td><td>19.75</td><td>15.05</td></tr>\n",
       "\t<tr><th scope=row>Gear_4</th><td>26.925</td><td>19.75</td><td>   NA</td></tr>\n",
       "\t<tr><th scope=row>Gear_5</th><td>28.200</td><td>19.70</td><td>15.40</td></tr>\n",
       "</tbody>\n",
       "</table>\n"
      ],
      "text/latex": [
       "A matrix: 3 × 3 of type dbl\n",
       "\\begin{tabular}{r|lll}\n",
       "  & Cyl\\_6 & Cyl\\_4 & Cyl\\_8\\\\\n",
       "\\hline\n",
       "\tGear\\_3 & 21.500 & 19.75 & 15.05\\\\\n",
       "\tGear\\_4 & 26.925 & 19.75 &    NA\\\\\n",
       "\tGear\\_5 & 28.200 & 19.70 & 15.40\\\\\n",
       "\\end{tabular}\n"
      ],
      "text/markdown": [
       "\n",
       "A matrix: 3 × 3 of type dbl\n",
       "\n",
       "| <!--/--> | Cyl_6 | Cyl_4 | Cyl_8 |\n",
       "|---|---|---|---|\n",
       "| Gear_3 | 21.500 | 19.75 | 15.05 |\n",
       "| Gear_4 | 26.925 | 19.75 |    NA |\n",
       "| Gear_5 | 28.200 | 19.70 | 15.40 |\n",
       "\n"
      ],
      "text/plain": [
       "       Cyl_6  Cyl_4 Cyl_8\n",
       "Gear_3 21.500 19.75 15.05\n",
       "Gear_4 26.925 19.75    NA\n",
       "Gear_5 28.200 19.70 15.40"
      ]
     },
     "metadata": {},
     "output_type": "display_data"
    },
    {
     "data": {
      "text/html": [
       "<table>\n",
       "<caption>A matrix: 3 × 3 of type dbl</caption>\n",
       "<thead>\n",
       "\t<tr><th></th><th scope=col>Cyl_4</th><th scope=col>Cyl_6</th><th scope=col>Cyl_8</th></tr>\n",
       "</thead>\n",
       "<tbody>\n",
       "\t<tr><th scope=row>Gear_3</th><td>21.500</td><td>19.75</td><td>15.05</td></tr>\n",
       "\t<tr><th scope=row>Gear_4</th><td>26.925</td><td>19.75</td><td>   NA</td></tr>\n",
       "\t<tr><th scope=row>Gear_5</th><td>28.200</td><td>19.70</td><td>15.40</td></tr>\n",
       "</tbody>\n",
       "</table>\n"
      ],
      "text/latex": [
       "A matrix: 3 × 3 of type dbl\n",
       "\\begin{tabular}{r|lll}\n",
       "  & Cyl\\_4 & Cyl\\_6 & Cyl\\_8\\\\\n",
       "\\hline\n",
       "\tGear\\_3 & 21.500 & 19.75 & 15.05\\\\\n",
       "\tGear\\_4 & 26.925 & 19.75 &    NA\\\\\n",
       "\tGear\\_5 & 28.200 & 19.70 & 15.40\\\\\n",
       "\\end{tabular}\n"
      ],
      "text/markdown": [
       "\n",
       "A matrix: 3 × 3 of type dbl\n",
       "\n",
       "| <!--/--> | Cyl_4 | Cyl_6 | Cyl_8 |\n",
       "|---|---|---|---|\n",
       "| Gear_3 | 21.500 | 19.75 | 15.05 |\n",
       "| Gear_4 | 26.925 | 19.75 |    NA |\n",
       "| Gear_5 | 28.200 | 19.70 | 15.40 |\n",
       "\n"
      ],
      "text/plain": [
       "       Cyl_4  Cyl_6 Cyl_8\n",
       "Gear_3 21.500 19.75 15.05\n",
       "Gear_4 26.925 19.75    NA\n",
       "Gear_5 28.200 19.70 15.40"
      ]
     },
     "metadata": {},
     "output_type": "display_data"
    }
   ],
   "source": [
    "# Challenge 6: Build a matrix with cylinders as columns and gears as rows, and mpg as value of each cell\n",
    "# hint: first compute average by groups, then reshape!\n",
    "\n",
    "# dplyr + tidyr\n",
    "aux<- mtcars %>% group_by(cyl,gear) %>% summarize(avg_mpg=mean(mpg)) %>%\n",
    "    spread(key=cyl, value = avg_mpg) # key= which variable I want to use to create column groups\n",
    "matrix<-as.matrix(aux%>% select(-gear))\n",
    "rownames(matrix)<-paste0('Gear_',aux$gear)\n",
    "colnames(matrix)<-paste0('Cyl_',unique(mtcars$cyl) )\n",
    "matrix\n",
    "\n",
    "# data.table\n",
    "aux2<- mtcars_dt[,.(avg_mpg=mean(mpg)),.(cyl,gear)]\n",
    "aux2<-dcast(aux2, gear ~ cyl, value.var = \"avg_mpg\")\n",
    "matrix2<-as.matrix(aux2[,-c('gear')])\n",
    "rownames(matrix2)<-paste0('Gear_',aux$gear)\n",
    "colnames(matrix2)<-paste0('Cyl_',unique(mtcars_dt$cyl) )\n",
    "matrix2\n"
   ]
  },
  {
   "cell_type": "code",
   "execution_count": 112,
   "metadata": {
    "id": "HbWVXQsXi0--"
   },
   "outputs": [
    {
     "data": {
      "text/html": [
       "<table>\n",
       "<caption>A data.frame: 3 × 13</caption>\n",
       "<thead>\n",
       "\t<tr><th></th><th scope=col>mpg</th><th scope=col>cyl</th><th scope=col>disp</th><th scope=col>hp</th><th scope=col>drat</th><th scope=col>wt</th><th scope=col>qsec</th><th scope=col>vs</th><th scope=col>am</th><th scope=col>gear</th><th scope=col>carb</th><th scope=col>name</th><th scope=col>tax</th></tr>\n",
       "\t<tr><th></th><th scope=col>&lt;dbl&gt;</th><th scope=col>&lt;dbl&gt;</th><th scope=col>&lt;dbl&gt;</th><th scope=col>&lt;dbl&gt;</th><th scope=col>&lt;dbl&gt;</th><th scope=col>&lt;dbl&gt;</th><th scope=col>&lt;dbl&gt;</th><th scope=col>&lt;dbl&gt;</th><th scope=col>&lt;dbl&gt;</th><th scope=col>&lt;dbl&gt;</th><th scope=col>&lt;dbl&gt;</th><th scope=col>&lt;chr&gt;</th><th scope=col>&lt;dbl&gt;</th></tr>\n",
       "</thead>\n",
       "<tbody>\n",
       "\t<tr><th scope=row>1</th><td>21.0</td><td>6</td><td>160.0</td><td>110</td><td>3.90</td><td>2.62</td><td>16.46</td><td>0</td><td>1</td><td>4</td><td>4</td><td>Mazda RX4</td><td>150</td></tr>\n",
       "\t<tr><th scope=row>9</th><td>22.8</td><td>4</td><td>140.8</td><td> 95</td><td>3.92</td><td>3.15</td><td>22.90</td><td>1</td><td>0</td><td>4</td><td>2</td><td>Merc 230 </td><td>100</td></tr>\n",
       "\t<tr><th scope=row>10</th><td>19.2</td><td>6</td><td>167.6</td><td>123</td><td>3.92</td><td>3.44</td><td>18.30</td><td>1</td><td>0</td><td>4</td><td>4</td><td>Merc 280 </td><td>150</td></tr>\n",
       "</tbody>\n",
       "</table>\n"
      ],
      "text/latex": [
       "A data.frame: 3 × 13\n",
       "\\begin{tabular}{r|lllllllllllll}\n",
       "  & mpg & cyl & disp & hp & drat & wt & qsec & vs & am & gear & carb & name & tax\\\\\n",
       "  & <dbl> & <dbl> & <dbl> & <dbl> & <dbl> & <dbl> & <dbl> & <dbl> & <dbl> & <dbl> & <dbl> & <chr> & <dbl>\\\\\n",
       "\\hline\n",
       "\t1 & 21.0 & 6 & 160.0 & 110 & 3.90 & 2.62 & 16.46 & 0 & 1 & 4 & 4 & Mazda RX4 & 150\\\\\n",
       "\t9 & 22.8 & 4 & 140.8 &  95 & 3.92 & 3.15 & 22.90 & 1 & 0 & 4 & 2 & Merc 230  & 100\\\\\n",
       "\t10 & 19.2 & 6 & 167.6 & 123 & 3.92 & 3.44 & 18.30 & 1 & 0 & 4 & 4 & Merc 280  & 150\\\\\n",
       "\\end{tabular}\n"
      ],
      "text/markdown": [
       "\n",
       "A data.frame: 3 × 13\n",
       "\n",
       "| <!--/--> | mpg &lt;dbl&gt; | cyl &lt;dbl&gt; | disp &lt;dbl&gt; | hp &lt;dbl&gt; | drat &lt;dbl&gt; | wt &lt;dbl&gt; | qsec &lt;dbl&gt; | vs &lt;dbl&gt; | am &lt;dbl&gt; | gear &lt;dbl&gt; | carb &lt;dbl&gt; | name &lt;chr&gt; | tax &lt;dbl&gt; |\n",
       "|---|---|---|---|---|---|---|---|---|---|---|---|---|---|\n",
       "| 1 | 21.0 | 6 | 160.0 | 110 | 3.90 | 2.62 | 16.46 | 0 | 1 | 4 | 4 | Mazda RX4 | 150 |\n",
       "| 9 | 22.8 | 4 | 140.8 |  95 | 3.92 | 3.15 | 22.90 | 1 | 0 | 4 | 2 | Merc 230  | 100 |\n",
       "| 10 | 19.2 | 6 | 167.6 | 123 | 3.92 | 3.44 | 18.30 | 1 | 0 | 4 | 4 | Merc 280  | 150 |\n",
       "\n"
      ],
      "text/plain": [
       "   mpg  cyl disp  hp  drat wt   qsec  vs am gear carb name      tax\n",
       "1  21.0 6   160.0 110 3.90 2.62 16.46 0  1  4    4    Mazda RX4 150\n",
       "9  22.8 4   140.8  95 3.92 3.15 22.90 1  0  4    2    Merc 230  100\n",
       "10 19.2 6   167.6 123 3.92 3.44 18.30 1  0  4    4    Merc 280  150"
      ]
     },
     "metadata": {},
     "output_type": "display_data"
    },
    {
     "data": {
      "text/html": [
       "<table>\n",
       "<caption>A data.frame: 3 × 13</caption>\n",
       "<thead>\n",
       "\t<tr><th scope=col>mpg</th><th scope=col>cyl</th><th scope=col>disp</th><th scope=col>hp</th><th scope=col>drat</th><th scope=col>wt</th><th scope=col>qsec</th><th scope=col>vs</th><th scope=col>am</th><th scope=col>gear</th><th scope=col>carb</th><th scope=col>name</th><th scope=col>tax</th></tr>\n",
       "\t<tr><th scope=col>&lt;dbl&gt;</th><th scope=col>&lt;dbl&gt;</th><th scope=col>&lt;dbl&gt;</th><th scope=col>&lt;dbl&gt;</th><th scope=col>&lt;dbl&gt;</th><th scope=col>&lt;dbl&gt;</th><th scope=col>&lt;dbl&gt;</th><th scope=col>&lt;dbl&gt;</th><th scope=col>&lt;dbl&gt;</th><th scope=col>&lt;dbl&gt;</th><th scope=col>&lt;dbl&gt;</th><th scope=col>&lt;chr&gt;</th><th scope=col>&lt;dbl&gt;</th></tr>\n",
       "</thead>\n",
       "<tbody>\n",
       "\t<tr><td>21.0</td><td>6</td><td>160.0</td><td>110</td><td>3.90</td><td>2.62</td><td>16.46</td><td>0</td><td>1</td><td>4</td><td>4</td><td>Mazda RX4</td><td>150</td></tr>\n",
       "\t<tr><td>22.8</td><td>4</td><td>140.8</td><td> 95</td><td>3.92</td><td>3.15</td><td>22.90</td><td>1</td><td>0</td><td>4</td><td>2</td><td>Merc 230 </td><td>100</td></tr>\n",
       "\t<tr><td>19.2</td><td>6</td><td>167.6</td><td>123</td><td>3.92</td><td>3.44</td><td>18.30</td><td>1</td><td>0</td><td>4</td><td>4</td><td>Merc 280 </td><td>150</td></tr>\n",
       "</tbody>\n",
       "</table>\n"
      ],
      "text/latex": [
       "A data.frame: 3 × 13\n",
       "\\begin{tabular}{lllllllllllll}\n",
       " mpg & cyl & disp & hp & drat & wt & qsec & vs & am & gear & carb & name & tax\\\\\n",
       " <dbl> & <dbl> & <dbl> & <dbl> & <dbl> & <dbl> & <dbl> & <dbl> & <dbl> & <dbl> & <dbl> & <chr> & <dbl>\\\\\n",
       "\\hline\n",
       "\t 21.0 & 6 & 160.0 & 110 & 3.90 & 2.62 & 16.46 & 0 & 1 & 4 & 4 & Mazda RX4 & 150\\\\\n",
       "\t 22.8 & 4 & 140.8 &  95 & 3.92 & 3.15 & 22.90 & 1 & 0 & 4 & 2 & Merc 230  & 100\\\\\n",
       "\t 19.2 & 6 & 167.6 & 123 & 3.92 & 3.44 & 18.30 & 1 & 0 & 4 & 4 & Merc 280  & 150\\\\\n",
       "\\end{tabular}\n"
      ],
      "text/markdown": [
       "\n",
       "A data.frame: 3 × 13\n",
       "\n",
       "| mpg &lt;dbl&gt; | cyl &lt;dbl&gt; | disp &lt;dbl&gt; | hp &lt;dbl&gt; | drat &lt;dbl&gt; | wt &lt;dbl&gt; | qsec &lt;dbl&gt; | vs &lt;dbl&gt; | am &lt;dbl&gt; | gear &lt;dbl&gt; | carb &lt;dbl&gt; | name &lt;chr&gt; | tax &lt;dbl&gt; |\n",
       "|---|---|---|---|---|---|---|---|---|---|---|---|---|\n",
       "| 21.0 | 6 | 160.0 | 110 | 3.90 | 2.62 | 16.46 | 0 | 1 | 4 | 4 | Mazda RX4 | 150 |\n",
       "| 22.8 | 4 | 140.8 |  95 | 3.92 | 3.15 | 22.90 | 1 | 0 | 4 | 2 | Merc 230  | 100 |\n",
       "| 19.2 | 6 | 167.6 | 123 | 3.92 | 3.44 | 18.30 | 1 | 0 | 4 | 4 | Merc 280  | 150 |\n",
       "\n"
      ],
      "text/plain": [
       "  mpg  cyl disp  hp  drat wt   qsec  vs am gear carb name      tax\n",
       "1 21.0 6   160.0 110 3.90 2.62 16.46 0  1  4    4    Mazda RX4 150\n",
       "2 22.8 4   140.8  95 3.92 3.15 22.90 1  0  4    2    Merc 230  100\n",
       "3 19.2 6   167.6 123 3.92 3.44 18.30 1  0  4    4    Merc 280  150"
      ]
     },
     "metadata": {},
     "output_type": "display_data"
    },
    {
     "data": {
      "text/html": [
       "<table>\n",
       "<caption>A data.table: 3 × 13</caption>\n",
       "<thead>\n",
       "\t<tr><th scope=col>cyl</th><th scope=col>mpg</th><th scope=col>disp</th><th scope=col>hp</th><th scope=col>drat</th><th scope=col>wt</th><th scope=col>qsec</th><th scope=col>vs</th><th scope=col>am</th><th scope=col>gear</th><th scope=col>carb</th><th scope=col>name</th><th scope=col>tax</th></tr>\n",
       "\t<tr><th scope=col>&lt;dbl&gt;</th><th scope=col>&lt;dbl&gt;</th><th scope=col>&lt;dbl&gt;</th><th scope=col>&lt;dbl&gt;</th><th scope=col>&lt;dbl&gt;</th><th scope=col>&lt;dbl&gt;</th><th scope=col>&lt;dbl&gt;</th><th scope=col>&lt;dbl&gt;</th><th scope=col>&lt;dbl&gt;</th><th scope=col>&lt;dbl&gt;</th><th scope=col>&lt;dbl&gt;</th><th scope=col>&lt;chr&gt;</th><th scope=col>&lt;dbl&gt;</th></tr>\n",
       "</thead>\n",
       "<tbody>\n",
       "\t<tr><td>4</td><td>22.8</td><td>140.8</td><td> 95</td><td>3.92</td><td>3.15</td><td>22.90</td><td>1</td><td>0</td><td>4</td><td>2</td><td>Merc 230 </td><td>100</td></tr>\n",
       "\t<tr><td>6</td><td>21.0</td><td>160.0</td><td>110</td><td>3.90</td><td>2.62</td><td>16.46</td><td>0</td><td>1</td><td>4</td><td>4</td><td>Mazda RX4</td><td>150</td></tr>\n",
       "\t<tr><td>6</td><td>19.2</td><td>167.6</td><td>123</td><td>3.92</td><td>3.44</td><td>18.30</td><td>1</td><td>0</td><td>4</td><td>4</td><td>Merc 280 </td><td>150</td></tr>\n",
       "</tbody>\n",
       "</table>\n"
      ],
      "text/latex": [
       "A data.table: 3 × 13\n",
       "\\begin{tabular}{lllllllllllll}\n",
       " cyl & mpg & disp & hp & drat & wt & qsec & vs & am & gear & carb & name & tax\\\\\n",
       " <dbl> & <dbl> & <dbl> & <dbl> & <dbl> & <dbl> & <dbl> & <dbl> & <dbl> & <dbl> & <dbl> & <chr> & <dbl>\\\\\n",
       "\\hline\n",
       "\t 4 & 22.8 & 140.8 &  95 & 3.92 & 3.15 & 22.90 & 1 & 0 & 4 & 2 & Merc 230  & 100\\\\\n",
       "\t 6 & 21.0 & 160.0 & 110 & 3.90 & 2.62 & 16.46 & 0 & 1 & 4 & 4 & Mazda RX4 & 150\\\\\n",
       "\t 6 & 19.2 & 167.6 & 123 & 3.92 & 3.44 & 18.30 & 1 & 0 & 4 & 4 & Merc 280  & 150\\\\\n",
       "\\end{tabular}\n"
      ],
      "text/markdown": [
       "\n",
       "A data.table: 3 × 13\n",
       "\n",
       "| cyl &lt;dbl&gt; | mpg &lt;dbl&gt; | disp &lt;dbl&gt; | hp &lt;dbl&gt; | drat &lt;dbl&gt; | wt &lt;dbl&gt; | qsec &lt;dbl&gt; | vs &lt;dbl&gt; | am &lt;dbl&gt; | gear &lt;dbl&gt; | carb &lt;dbl&gt; | name &lt;chr&gt; | tax &lt;dbl&gt; |\n",
       "|---|---|---|---|---|---|---|---|---|---|---|---|---|\n",
       "| 4 | 22.8 | 140.8 |  95 | 3.92 | 3.15 | 22.90 | 1 | 0 | 4 | 2 | Merc 230  | 100 |\n",
       "| 6 | 21.0 | 160.0 | 110 | 3.90 | 2.62 | 16.46 | 0 | 1 | 4 | 4 | Mazda RX4 | 150 |\n",
       "| 6 | 19.2 | 167.6 | 123 | 3.92 | 3.44 | 18.30 | 1 | 0 | 4 | 4 | Merc 280  | 150 |\n",
       "\n"
      ],
      "text/plain": [
       "  cyl mpg  disp  hp  drat wt   qsec  vs am gear carb name      tax\n",
       "1 4   22.8 140.8  95 3.92 3.15 22.90 1  0  4    2    Merc 230  100\n",
       "2 6   21.0 160.0 110 3.90 2.62 16.46 0  1  4    4    Mazda RX4 150\n",
       "3 6   19.2 167.6 123 3.92 3.44 18.30 1  0  4    4    Merc 280  150"
      ]
     },
     "metadata": {},
     "output_type": "display_data"
    }
   ],
   "source": [
    "# Challenge 7: Report data from all cars whose name starts by 'M' and ends with a number \n",
    "# hint: use grepl\n",
    "\n",
    "# standard R\n",
    "mtcars[grepl('^[Mm].+[0-9]$',mtcars$name),]\n",
    "\n",
    "# dplyr\n",
    "\n",
    "mtcars %>% filter(grepl('^[Mm].+[0-9]$',name))\n",
    "\n",
    "# data.table\n",
    "mtcars_dt[grepl('^[Mm].+[0-9]$',name),]"
   ]
  }
 ],
 "metadata": {
  "colab": {
   "collapsed_sections": [],
   "name": "R_challenges_tutorcopy.ipynb",
   "provenance": [],
   "toc_visible": true
  },
  "kernelspec": {
   "display_name": "R",
   "language": "R",
   "name": "ir"
  },
  "language_info": {
   "codemirror_mode": "r",
   "file_extension": ".r",
   "mimetype": "text/x-r-source",
   "name": "R",
   "pygments_lexer": "r",
   "version": "3.6.1"
  },
  "name": "pandas.ipynb",
  "toc": {
   "base_numbering": 1,
   "nav_menu": {
    "height": "283.333px",
    "width": "309.333px"
   },
   "number_sections": false,
   "sideBar": true,
   "skip_h1_title": true,
   "title_cell": "Table of Contents",
   "title_sidebar": "Contents",
   "toc_cell": false,
   "toc_position": {},
   "toc_section_display": true,
   "toc_window_display": true
  }
 },
 "nbformat": 4,
 "nbformat_minor": 1
}
