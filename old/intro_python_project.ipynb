{
 "cells": [
  {
   "cell_type": "markdown",
   "metadata": {
    "id": "0YmC5SZtzvMI"
   },
   "source": [
    "<img src = \"https://github.com/barcelonagse-datascience/academic_files/raw/master/bgsedsc_0.jpg\">"
   ]
  },
  {
   "cell_type": "markdown",
   "metadata": {
    "ein.tags": "worksheet-0",
    "id": "Rq398wnXzvMI"
   },
   "source": [
    "# Introduction to programming with Python\n",
    "\n",
    "\n",
    "<img src = \"https://www.python.org/static/img/python-logo.png\">"
   ]
  },
  {
   "cell_type": "markdown",
   "metadata": {
    "ein.tags": "worksheet-0",
    "id": "3HjE5aUyzvMM"
   },
   "source": [
    "# Programming project 1: basic text analytics\n",
    "\n",
    "Open the file \"textfile.txt\", which has copied a passage from the book \"Learning Python\". \n",
    "\n",
    "The task is to read the text into Python and do some basic text analysis. In particular, write a Python code that:\n",
    "\n",
    "+ counts how many sentences there are in the text\n",
    "+ counts how many words there are in the text\n",
    "+ finds all the different words in the text and for each computes the frequency of its appearance and stores the output of this analysis in a convenient way so that it is easy later to find out how often a given word appears\n",
    "\n",
    "As a first step, and as a simpler exercise, do the above for a single paragraph of the text. Do this first and if you do not manage to finish the larger project submit this as your solution. \n",
    "\n"
   ]
  },
  {
   "cell_type": "code",
   "execution_count": 1,
   "metadata": {
    "colab": {
     "base_uri": "https://localhost:8080/",
     "height": 137
    },
    "executionInfo": {
     "elapsed": 1728,
     "status": "ok",
     "timestamp": 1608128833994,
     "user": {
      "displayName": "Joan Verdú",
      "photoUrl": "https://lh3.googleusercontent.com/a-/AOh14Ghq6Zm9ACo3kD6kZhp6ZuWkYJqG_DQfPoIV1Ues=s64",
      "userId": "17893353067607712705"
     },
     "user_tz": -60
    },
    "id": "og_WiMqK0qsw",
    "outputId": "54691965-be18-42f7-ae95-5c340a42285d"
   },
   "outputs": [
    {
     "data": {
      "application/vnd.google.colaboratory.intrinsic+json": {
       "type": "string"
      },
      "text/plain": [
       "'Why Do People Use Python?\\n\\nBecause there are many programming languages available today, this is the usual first question of newcomers. Given that there are roughly 1 million Python users out there at the moment, there really is no way to answer this question with complete accuracy; the choice of development tools is sometimes based on unique constraints or personal preference.\\n\\nBut after teaching Python to roughly 225 groups and over 3,000 students during the last 12 years, some common themes have emerged. The primary factors cited by Python users seem to be these:\\n\\nSoftware quality\\nFor many, Python’s focus on readability, coherence, and software quality in general sets it apart from other tools in the scripting world. Python code is designed to be readable, and hence reusable and maintainable—much more so than traditional scripting languages. The uniformity of Python code makes it easy to understand, even if you did not write it. In addition, Python has deep support for more advanced software reuse mechanisms, such as object-oriented programming (OOP).\\n\\nDeveloper productivity\\nPython boosts developer productivity many times beyond compiled or statically\\ntyped languages such as C, C++, and Java. Python code is typically one-third to\\none-fifth the size of equivalent C++ or Java code. That means there is less to type, less to debug, and less to maintain after the fact. Python programs also run immediately, without the lengthy compile and link steps required by some other tools, further boosting programmer speed.\\n\\nProgram portability\\nMost Python programs run unchanged on all major computer platforms. Porting\\nPython code between Linux and Windows, for example, is usually just a matter of\\ncopying a script’s code between machines. Moreover, Python offers multiple options for coding portable graphical user interfaces, database access programs, web-based systems, and more. Even operating system interfaces, including program\\nlaunches and directory processing, are as portable in Python as they can possibly be.\\n\\nSupport libraries\\nPython comes with a large collection of prebuilt and portable functionality, known as the standard library. This library supports an array of application-level programming tasks, from text pattern matching to network scripting. In addition, Python can be extended with both homegrown libraries and a vast collection of third-party application support software. Python’s third-party domain offers tools for website construction, numeric programming, serial port access, game development, and much more. The NumPy extension, for instance, has been described as a free and more powerful equivalent to the Matlab numeric programming system.\\n\\nComponent integration\\nPython scripts can easily communicate with other parts of an application, using a variety of integration mechanisms. Such integrations allow Python to be used as a product customization and extension tool. Today, Python code can invoke C and C++ libraries, can be called from C and C++ programs, can integrate with Java and .NET components, can communicate over frameworks such as COM, can\\ninterface with devices over serial ports, and can interact over networks with interfaces like SOAP, XML-RPC, and CORBA. It is not a standalone tool.\\n\\nEnjoyment\\nBecause of Python’s ease of use and built-in toolset, it can make the act of programming more pleasure than chore. Although this may be an intangible benefit, its effect on productivity is an important asset.\\n\\nOf these factors, the first two (quality and productivity) are probably the most compelling benefits to most Python users.\\n'"
      ]
     },
     "execution_count": 1,
     "metadata": {
      "tags": []
     },
     "output_type": "execute_result"
    }
   ],
   "source": [
    "# First we load the data\n",
    "import urllib.request\n",
    "\n",
    "url = \"https://raw.githubusercontent.com/barcelonagse-datascience/academic_files/master/data/textfile.txt\"\n",
    "file = urllib.request.urlopen(url)\n",
    "\n",
    "txt=file.read().decode()\n",
    "txt"
   ]
  },
  {
   "cell_type": "code",
   "execution_count": 2,
   "metadata": {
    "autoscroll": false,
    "ein.hycell": false,
    "ein.tags": "worksheet-0",
    "executionInfo": {
     "elapsed": 1726,
     "status": "ok",
     "timestamp": 1608128833995,
     "user": {
      "displayName": "Joan Verdú",
      "photoUrl": "https://lh3.googleusercontent.com/a-/AOh14Ghq6Zm9ACo3kD6kZhp6ZuWkYJqG_DQfPoIV1Ues=s64",
      "userId": "17893353067607712705"
     },
     "user_tz": -60
    },
    "id": "MVYmGZkjzvMM"
   },
   "outputs": [],
   "source": [
    "# In case you have a local file\n",
    "# First we load the data\n",
    "# with open('../../Data/textfile.txt') as f:\n",
    "#     txt = f.read()\n",
    "\n",
    "# txt"
   ]
  },
  {
   "cell_type": "code",
   "execution_count": 3,
   "metadata": {
    "autoscroll": false,
    "ein.hycell": false,
    "ein.tags": "worksheet-0",
    "executionInfo": {
     "elapsed": 2013,
     "status": "ok",
     "timestamp": 1608128834287,
     "user": {
      "displayName": "Joan Verdú",
      "photoUrl": "https://lh3.googleusercontent.com/a-/AOh14Ghq6Zm9ACo3kD6kZhp6ZuWkYJqG_DQfPoIV1Ues=s64",
      "userId": "17893353067607712705"
     },
     "user_tz": -60
    },
    "id": "InQexRSlzvMM"
   },
   "outputs": [],
   "source": [
    "# Task 1: Count sentences\n"
   ]
  },
  {
   "cell_type": "code",
   "execution_count": 4,
   "metadata": {
    "executionInfo": {
     "elapsed": 2008,
     "status": "ok",
     "timestamp": 1608128834287,
     "user": {
      "displayName": "Joan Verdú",
      "photoUrl": "https://lh3.googleusercontent.com/a-/AOh14Ghq6Zm9ACo3kD6kZhp6ZuWkYJqG_DQfPoIV1Ues=s64",
      "userId": "17893353067607712705"
     },
     "user_tz": -60
    },
    "id": "MP7TZrU6zvMM"
   },
   "outputs": [],
   "source": [
    "#Task 2: Count words\n",
    "\n",
    "\n"
   ]
  },
  {
   "cell_type": "code",
   "execution_count": 5,
   "metadata": {
    "executionInfo": {
     "elapsed": 2005,
     "status": "ok",
     "timestamp": 1608128834288,
     "user": {
      "displayName": "Joan Verdú",
      "photoUrl": "https://lh3.googleusercontent.com/a-/AOh14Ghq6Zm9ACo3kD6kZhp6ZuWkYJqG_DQfPoIV1Ues=s64",
      "userId": "17893353067607712705"
     },
     "user_tz": -60
    },
    "id": "lvjTgplpzvMN"
   },
   "outputs": [],
   "source": [
    "# Task 3: Now let's count the unique words!\n",
    "\n",
    "\n"
   ]
  },
  {
   "cell_type": "markdown",
   "metadata": {
    "id": "c0ymbBrZ6Ew5"
   },
   "source": [
    "# Programming project 2 :  Customer of the month\n",
    "\n",
    "\n",
    "- We have a list of prices for certain products given in the file \"supermarket_prices.csv\"\n",
    "- We have a list of transactions from certain customers in a period of a month given in \"supermarket_transactions.csv\"\n",
    "\n",
    "Calculate\n",
    "- How many items each client has purchased\n",
    "- How many items of each type each client has purchased\n",
    "- Calculate the total amount spent by each client\n",
    "- The company that provides the supermarket with bananas wishes to give a prize to the client that has spent the largest proportion of their spending on bananas. Who should win the prize? \n",
    "- A marketing company that works with the supermarket is interested to understand better the characteristics of the three people that have spent most of their spending on bananas. For each one of them report the other product that they have spent most of their remaining income on\n",
    "\n",
    "*Needless to say that eyeballing is OK for making sure your code makes sense, but will not result in full credits for the project. We want a fully automated code. To carry out the project successfully you need to use most the attributes and methods described earlier. The last one is a little tricky*"
   ]
  },
  {
   "cell_type": "code",
   "execution_count": 7,
   "metadata": {
    "colab": {
     "base_uri": "https://localhost:8080/",
     "height": 1000
    },
    "executionInfo": {
     "elapsed": 1522,
     "status": "ok",
     "timestamp": 1608128864812,
     "user": {
      "displayName": "Joan Verdú",
      "photoUrl": "https://lh3.googleusercontent.com/a-/AOh14Ghq6Zm9ACo3kD6kZhp6ZuWkYJqG_DQfPoIV1Ues=s64",
      "userId": "17893353067607712705"
     },
     "user_tz": -60
    },
    "id": "fV8sorGyzvMN",
    "outputId": "ddfc95be-02d2-48ac-d8f4-c02ee583e6be"
   },
   "outputs": [
    {
     "data": {
      "text/html": [
       "<div>\n",
       "<style scoped>\n",
       "    .dataframe tbody tr th:only-of-type {\n",
       "        vertical-align: middle;\n",
       "    }\n",
       "\n",
       "    .dataframe tbody tr th {\n",
       "        vertical-align: top;\n",
       "    }\n",
       "\n",
       "    .dataframe thead th {\n",
       "        text-align: right;\n",
       "    }\n",
       "</style>\n",
       "<table border=\"1\" class=\"dataframe\">\n",
       "  <thead>\n",
       "    <tr style=\"text-align: right;\">\n",
       "      <th></th>\n",
       "      <th>Buyer</th>\n",
       "      <th>Product</th>\n",
       "      <th>Quantity</th>\n",
       "      <th>Price</th>\n",
       "      <th>spent</th>\n",
       "      <th>share</th>\n",
       "    </tr>\n",
       "  </thead>\n",
       "  <tbody>\n",
       "    <tr>\n",
       "      <th>0</th>\n",
       "      <td>Emma</td>\n",
       "      <td>apple</td>\n",
       "      <td>25</td>\n",
       "      <td>1.2</td>\n",
       "      <td>30.0</td>\n",
       "      <td>0.121753</td>\n",
       "    </tr>\n",
       "    <tr>\n",
       "      <th>1</th>\n",
       "      <td>Emma</td>\n",
       "      <td>banana</td>\n",
       "      <td>26</td>\n",
       "      <td>5.2</td>\n",
       "      <td>135.2</td>\n",
       "      <td>0.548701</td>\n",
       "    </tr>\n",
       "    <tr>\n",
       "      <th>2</th>\n",
       "      <td>Emma</td>\n",
       "      <td>potato</td>\n",
       "      <td>14</td>\n",
       "      <td>3.4</td>\n",
       "      <td>47.6</td>\n",
       "      <td>0.193182</td>\n",
       "    </tr>\n",
       "    <tr>\n",
       "      <th>3</th>\n",
       "      <td>Emma</td>\n",
       "      <td>tomato</td>\n",
       "      <td>16</td>\n",
       "      <td>2.1</td>\n",
       "      <td>33.6</td>\n",
       "      <td>0.136364</td>\n",
       "    </tr>\n",
       "    <tr>\n",
       "      <th>4</th>\n",
       "      <td>Jackson</td>\n",
       "      <td>apple</td>\n",
       "      <td>18</td>\n",
       "      <td>1.2</td>\n",
       "      <td>21.6</td>\n",
       "      <td>0.106509</td>\n",
       "    </tr>\n",
       "    <tr>\n",
       "      <th>5</th>\n",
       "      <td>Jackson</td>\n",
       "      <td>orange</td>\n",
       "      <td>28</td>\n",
       "      <td>4.3</td>\n",
       "      <td>120.4</td>\n",
       "      <td>0.593688</td>\n",
       "    </tr>\n",
       "    <tr>\n",
       "      <th>6</th>\n",
       "      <td>Jackson</td>\n",
       "      <td>potato</td>\n",
       "      <td>8</td>\n",
       "      <td>3.4</td>\n",
       "      <td>27.2</td>\n",
       "      <td>0.134122</td>\n",
       "    </tr>\n",
       "    <tr>\n",
       "      <th>7</th>\n",
       "      <td>Jackson</td>\n",
       "      <td>tomato</td>\n",
       "      <td>16</td>\n",
       "      <td>2.1</td>\n",
       "      <td>33.6</td>\n",
       "      <td>0.165680</td>\n",
       "    </tr>\n",
       "    <tr>\n",
       "      <th>8</th>\n",
       "      <td>John</td>\n",
       "      <td>apple</td>\n",
       "      <td>7</td>\n",
       "      <td>1.2</td>\n",
       "      <td>8.4</td>\n",
       "      <td>0.018209</td>\n",
       "    </tr>\n",
       "    <tr>\n",
       "      <th>9</th>\n",
       "      <td>John</td>\n",
       "      <td>banana</td>\n",
       "      <td>28</td>\n",
       "      <td>5.2</td>\n",
       "      <td>145.6</td>\n",
       "      <td>0.315630</td>\n",
       "    </tr>\n",
       "    <tr>\n",
       "      <th>10</th>\n",
       "      <td>John</td>\n",
       "      <td>orange</td>\n",
       "      <td>46</td>\n",
       "      <td>4.3</td>\n",
       "      <td>197.8</td>\n",
       "      <td>0.428788</td>\n",
       "    </tr>\n",
       "    <tr>\n",
       "      <th>11</th>\n",
       "      <td>John</td>\n",
       "      <td>potato</td>\n",
       "      <td>18</td>\n",
       "      <td>3.4</td>\n",
       "      <td>61.2</td>\n",
       "      <td>0.132669</td>\n",
       "    </tr>\n",
       "    <tr>\n",
       "      <th>12</th>\n",
       "      <td>John</td>\n",
       "      <td>tomato</td>\n",
       "      <td>23</td>\n",
       "      <td>2.1</td>\n",
       "      <td>48.3</td>\n",
       "      <td>0.104704</td>\n",
       "    </tr>\n",
       "    <tr>\n",
       "      <th>13</th>\n",
       "      <td>Liam</td>\n",
       "      <td>apple</td>\n",
       "      <td>21</td>\n",
       "      <td>1.2</td>\n",
       "      <td>25.2</td>\n",
       "      <td>0.095708</td>\n",
       "    </tr>\n",
       "    <tr>\n",
       "      <th>14</th>\n",
       "      <td>Liam</td>\n",
       "      <td>banana</td>\n",
       "      <td>16</td>\n",
       "      <td>5.2</td>\n",
       "      <td>83.2</td>\n",
       "      <td>0.315989</td>\n",
       "    </tr>\n",
       "    <tr>\n",
       "      <th>15</th>\n",
       "      <td>Liam</td>\n",
       "      <td>orange</td>\n",
       "      <td>16</td>\n",
       "      <td>4.3</td>\n",
       "      <td>68.8</td>\n",
       "      <td>0.261299</td>\n",
       "    </tr>\n",
       "    <tr>\n",
       "      <th>16</th>\n",
       "      <td>Liam</td>\n",
       "      <td>potato</td>\n",
       "      <td>21</td>\n",
       "      <td>3.4</td>\n",
       "      <td>71.4</td>\n",
       "      <td>0.271174</td>\n",
       "    </tr>\n",
       "    <tr>\n",
       "      <th>17</th>\n",
       "      <td>Liam</td>\n",
       "      <td>tomato</td>\n",
       "      <td>7</td>\n",
       "      <td>2.1</td>\n",
       "      <td>14.7</td>\n",
       "      <td>0.055830</td>\n",
       "    </tr>\n",
       "    <tr>\n",
       "      <th>18</th>\n",
       "      <td>Lucas</td>\n",
       "      <td>apple</td>\n",
       "      <td>14</td>\n",
       "      <td>1.2</td>\n",
       "      <td>16.8</td>\n",
       "      <td>0.095455</td>\n",
       "    </tr>\n",
       "    <tr>\n",
       "      <th>19</th>\n",
       "      <td>Lucas</td>\n",
       "      <td>banana</td>\n",
       "      <td>3</td>\n",
       "      <td>5.2</td>\n",
       "      <td>15.6</td>\n",
       "      <td>0.088636</td>\n",
       "    </tr>\n",
       "    <tr>\n",
       "      <th>20</th>\n",
       "      <td>Lucas</td>\n",
       "      <td>orange</td>\n",
       "      <td>17</td>\n",
       "      <td>4.3</td>\n",
       "      <td>73.1</td>\n",
       "      <td>0.415341</td>\n",
       "    </tr>\n",
       "    <tr>\n",
       "      <th>21</th>\n",
       "      <td>Lucas</td>\n",
       "      <td>potato</td>\n",
       "      <td>9</td>\n",
       "      <td>3.4</td>\n",
       "      <td>30.6</td>\n",
       "      <td>0.173864</td>\n",
       "    </tr>\n",
       "    <tr>\n",
       "      <th>22</th>\n",
       "      <td>Lucas</td>\n",
       "      <td>tomato</td>\n",
       "      <td>19</td>\n",
       "      <td>2.1</td>\n",
       "      <td>39.9</td>\n",
       "      <td>0.226705</td>\n",
       "    </tr>\n",
       "    <tr>\n",
       "      <th>23</th>\n",
       "      <td>Sandra</td>\n",
       "      <td>banana</td>\n",
       "      <td>2</td>\n",
       "      <td>5.2</td>\n",
       "      <td>10.4</td>\n",
       "      <td>0.034574</td>\n",
       "    </tr>\n",
       "    <tr>\n",
       "      <th>24</th>\n",
       "      <td>Sandra</td>\n",
       "      <td>orange</td>\n",
       "      <td>37</td>\n",
       "      <td>4.3</td>\n",
       "      <td>159.1</td>\n",
       "      <td>0.528923</td>\n",
       "    </tr>\n",
       "    <tr>\n",
       "      <th>25</th>\n",
       "      <td>Sandra</td>\n",
       "      <td>potato</td>\n",
       "      <td>38</td>\n",
       "      <td>3.4</td>\n",
       "      <td>129.2</td>\n",
       "      <td>0.429521</td>\n",
       "    </tr>\n",
       "    <tr>\n",
       "      <th>26</th>\n",
       "      <td>Sandra</td>\n",
       "      <td>tomato</td>\n",
       "      <td>1</td>\n",
       "      <td>2.1</td>\n",
       "      <td>2.1</td>\n",
       "      <td>0.006981</td>\n",
       "    </tr>\n",
       "    <tr>\n",
       "      <th>27</th>\n",
       "      <td>Sophia</td>\n",
       "      <td>apple</td>\n",
       "      <td>14</td>\n",
       "      <td>1.2</td>\n",
       "      <td>16.8</td>\n",
       "      <td>0.088701</td>\n",
       "    </tr>\n",
       "    <tr>\n",
       "      <th>28</th>\n",
       "      <td>Sophia</td>\n",
       "      <td>banana</td>\n",
       "      <td>13</td>\n",
       "      <td>5.2</td>\n",
       "      <td>67.6</td>\n",
       "      <td>0.356917</td>\n",
       "    </tr>\n",
       "    <tr>\n",
       "      <th>29</th>\n",
       "      <td>Sophia</td>\n",
       "      <td>orange</td>\n",
       "      <td>7</td>\n",
       "      <td>4.3</td>\n",
       "      <td>30.1</td>\n",
       "      <td>0.158923</td>\n",
       "    </tr>\n",
       "    <tr>\n",
       "      <th>30</th>\n",
       "      <td>Sophia</td>\n",
       "      <td>potato</td>\n",
       "      <td>14</td>\n",
       "      <td>3.4</td>\n",
       "      <td>47.6</td>\n",
       "      <td>0.251320</td>\n",
       "    </tr>\n",
       "    <tr>\n",
       "      <th>31</th>\n",
       "      <td>Sophia</td>\n",
       "      <td>tomato</td>\n",
       "      <td>13</td>\n",
       "      <td>2.1</td>\n",
       "      <td>27.3</td>\n",
       "      <td>0.144139</td>\n",
       "    </tr>\n",
       "    <tr>\n",
       "      <th>32</th>\n",
       "      <td>Tom</td>\n",
       "      <td>apple</td>\n",
       "      <td>18</td>\n",
       "      <td>1.2</td>\n",
       "      <td>21.6</td>\n",
       "      <td>0.171293</td>\n",
       "    </tr>\n",
       "    <tr>\n",
       "      <th>33</th>\n",
       "      <td>Tom</td>\n",
       "      <td>banana</td>\n",
       "      <td>6</td>\n",
       "      <td>5.2</td>\n",
       "      <td>31.2</td>\n",
       "      <td>0.247423</td>\n",
       "    </tr>\n",
       "    <tr>\n",
       "      <th>34</th>\n",
       "      <td>Tom</td>\n",
       "      <td>potato</td>\n",
       "      <td>16</td>\n",
       "      <td>3.4</td>\n",
       "      <td>54.4</td>\n",
       "      <td>0.431404</td>\n",
       "    </tr>\n",
       "    <tr>\n",
       "      <th>35</th>\n",
       "      <td>Tom</td>\n",
       "      <td>tomato</td>\n",
       "      <td>9</td>\n",
       "      <td>2.1</td>\n",
       "      <td>18.9</td>\n",
       "      <td>0.149881</td>\n",
       "    </tr>\n",
       "  </tbody>\n",
       "</table>\n",
       "</div>"
      ],
      "text/plain": [
       "      Buyer Product  Quantity  Price  spent     share\n",
       "0      Emma   apple        25    1.2   30.0  0.121753\n",
       "1      Emma  banana        26    5.2  135.2  0.548701\n",
       "2      Emma  potato        14    3.4   47.6  0.193182\n",
       "3      Emma  tomato        16    2.1   33.6  0.136364\n",
       "4   Jackson   apple        18    1.2   21.6  0.106509\n",
       "5   Jackson  orange        28    4.3  120.4  0.593688\n",
       "6   Jackson  potato         8    3.4   27.2  0.134122\n",
       "7   Jackson  tomato        16    2.1   33.6  0.165680\n",
       "8      John   apple         7    1.2    8.4  0.018209\n",
       "9      John  banana        28    5.2  145.6  0.315630\n",
       "10     John  orange        46    4.3  197.8  0.428788\n",
       "11     John  potato        18    3.4   61.2  0.132669\n",
       "12     John  tomato        23    2.1   48.3  0.104704\n",
       "13     Liam   apple        21    1.2   25.2  0.095708\n",
       "14     Liam  banana        16    5.2   83.2  0.315989\n",
       "15     Liam  orange        16    4.3   68.8  0.261299\n",
       "16     Liam  potato        21    3.4   71.4  0.271174\n",
       "17     Liam  tomato         7    2.1   14.7  0.055830\n",
       "18    Lucas   apple        14    1.2   16.8  0.095455\n",
       "19    Lucas  banana         3    5.2   15.6  0.088636\n",
       "20    Lucas  orange        17    4.3   73.1  0.415341\n",
       "21    Lucas  potato         9    3.4   30.6  0.173864\n",
       "22    Lucas  tomato        19    2.1   39.9  0.226705\n",
       "23   Sandra  banana         2    5.2   10.4  0.034574\n",
       "24   Sandra  orange        37    4.3  159.1  0.528923\n",
       "25   Sandra  potato        38    3.4  129.2  0.429521\n",
       "26   Sandra  tomato         1    2.1    2.1  0.006981\n",
       "27   Sophia   apple        14    1.2   16.8  0.088701\n",
       "28   Sophia  banana        13    5.2   67.6  0.356917\n",
       "29   Sophia  orange         7    4.3   30.1  0.158923\n",
       "30   Sophia  potato        14    3.4   47.6  0.251320\n",
       "31   Sophia  tomato        13    2.1   27.3  0.144139\n",
       "32      Tom   apple        18    1.2   21.6  0.171293\n",
       "33      Tom  banana         6    5.2   31.2  0.247423\n",
       "34      Tom  potato        16    3.4   54.4  0.431404\n",
       "35      Tom  tomato         9    2.1   18.9  0.149881"
      ]
     },
     "execution_count": 7,
     "metadata": {
      "tags": []
     },
     "output_type": "execute_result"
    }
   ],
   "source": [
    "import pandas as pd\n",
    "\n",
    "prices = pd.read_csv('https://github.com/barcelonagse-datascience/academic_files/raw/master/data/supermarket_prices.csv')\n",
    "transactions = pd.read_csv('https://github.com/barcelonagse-datascience/academic_files/raw/master/data/supermarket_transactions.csv')\n",
    "\n",
    "# if loading locally\n",
    "# prices = pd.read_csv('../../Data/supermarket_prices.csv')\n",
    "# transactions = pd.read_csv('../../Data/supermarket_transactions.csv')\n",
    "\n",
    "def assign_share(df):\n",
    "    df['spent'] = df.Quantity*df.Price\n",
    "    df['share'] = df.spent / df.spent.sum()\n",
    "    return df\n",
    "\n",
    "\n",
    "df = (transactions\n",
    "          .groupby(['Buyer', 'Product'])\n",
    "          .sum() # Sum Quantity, only column left\n",
    "          .reset_index()\n",
    "          .merge(prices, how='left', on='Product')\n",
    "          .groupby('Buyer', as_index=False)\n",
    "          .apply(assign_share)\n",
    "          .reset_index(drop=True))\n",
    "\n",
    "df"
   ]
  },
  {
   "cell_type": "code",
   "execution_count": null,
   "metadata": {
    "executionInfo": {
     "elapsed": 1999,
     "status": "aborted",
     "timestamp": 1608128834289,
     "user": {
      "displayName": "Joan Verdú",
      "photoUrl": "https://lh3.googleusercontent.com/a-/AOh14Ghq6Zm9ACo3kD6kZhp6ZuWkYJqG_DQfPoIV1Ues=s64",
      "userId": "17893353067607712705"
     },
     "user_tz": -60
    },
    "id": "X_xJKrFF7Afz"
   },
   "outputs": [],
   "source": [
    "#your code here"
   ]
  },
  {
   "cell_type": "code",
   "execution_count": null,
   "metadata": {
    "executionInfo": {
     "elapsed": 1995,
     "status": "aborted",
     "timestamp": 1608128834289,
     "user": {
      "displayName": "Joan Verdú",
      "photoUrl": "https://lh3.googleusercontent.com/a-/AOh14Ghq6Zm9ACo3kD6kZhp6ZuWkYJqG_DQfPoIV1Ues=s64",
      "userId": "17893353067607712705"
     },
     "user_tz": -60
    },
    "id": "_Ntde1a-659i"
   },
   "outputs": [],
   "source": [
    "#Question 1: How many items each client has purchased\n"
   ]
  },
  {
   "cell_type": "code",
   "execution_count": null,
   "metadata": {
    "executionInfo": {
     "elapsed": 1992,
     "status": "aborted",
     "timestamp": 1608128834290,
     "user": {
      "displayName": "Joan Verdú",
      "photoUrl": "https://lh3.googleusercontent.com/a-/AOh14Ghq6Zm9ACo3kD6kZhp6ZuWkYJqG_DQfPoIV1Ues=s64",
      "userId": "17893353067607712705"
     },
     "user_tz": -60
    },
    "id": "e2Sw-BPV7CMh"
   },
   "outputs": [],
   "source": [
    "# Question 2: How many items of each type each client has purchased\n"
   ]
  },
  {
   "cell_type": "code",
   "execution_count": null,
   "metadata": {
    "executionInfo": {
     "elapsed": 1989,
     "status": "aborted",
     "timestamp": 1608128834290,
     "user": {
      "displayName": "Joan Verdú",
      "photoUrl": "https://lh3.googleusercontent.com/a-/AOh14Ghq6Zm9ACo3kD6kZhp6ZuWkYJqG_DQfPoIV1Ues=s64",
      "userId": "17893353067607712705"
     },
     "user_tz": -60
    },
    "id": "WJdVR1Iq7CYR"
   },
   "outputs": [],
   "source": [
    "# Question 3: Calculate the total amount spent by each client\n"
   ]
  },
  {
   "cell_type": "code",
   "execution_count": null,
   "metadata": {
    "executionInfo": {
     "elapsed": 1986,
     "status": "aborted",
     "timestamp": 1608128834291,
     "user": {
      "displayName": "Joan Verdú",
      "photoUrl": "https://lh3.googleusercontent.com/a-/AOh14Ghq6Zm9ACo3kD6kZhp6ZuWkYJqG_DQfPoIV1Ues=s64",
      "userId": "17893353067607712705"
     },
     "user_tz": -60
    },
    "id": "Gs8s4_Zd7Gx6"
   },
   "outputs": [],
   "source": [
    "# Question 4: Proportional spent in bananas\n"
   ]
  },
  {
   "cell_type": "code",
   "execution_count": null,
   "metadata": {
    "executionInfo": {
     "elapsed": 1982,
     "status": "aborted",
     "timestamp": 1608128834291,
     "user": {
      "displayName": "Joan Verdú",
      "photoUrl": "https://lh3.googleusercontent.com/a-/AOh14Ghq6Zm9ACo3kD6kZhp6ZuWkYJqG_DQfPoIV1Ues=s64",
      "userId": "17893353067607712705"
     },
     "user_tz": -60
    },
    "id": "q55ClMOu7KJD"
   },
   "outputs": [],
   "source": [
    "# Question 5: Next product spent for previous buyers (top banana share)\n"
   ]
  }
 ],
 "metadata": {
  "colab": {
   "collapsed_sections": [],
   "name": "intro_python_project.ipynb",
   "provenance": [],
   "toc_visible": true
  },
  "kernelspec": {
   "display_name": "Python 3",
   "language": "python",
   "name": "python3"
  },
  "language_info": {
   "codemirror_mode": {
    "name": "ipython",
    "version": 3
   },
   "file_extension": ".py",
   "mimetype": "text/x-python",
   "name": "python",
   "nbconvert_exporter": "python",
   "pygments_lexer": "ipython3",
   "version": "3.8.5"
  },
  "name": "intro_python.ipynb",
  "toc": {
   "base_numbering": 1,
   "nav_menu": {},
   "number_sections": true,
   "sideBar": true,
   "skip_h1_title": false,
   "title_cell": "Table of Contents",
   "title_sidebar": "Contents",
   "toc_cell": false,
   "toc_position": {},
   "toc_section_display": true,
   "toc_window_display": true
  }
 },
 "nbformat": 4,
 "nbformat_minor": 1
}
