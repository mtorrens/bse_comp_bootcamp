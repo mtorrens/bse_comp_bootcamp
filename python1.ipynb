{
  "nbformat": 4,
  "nbformat_minor": 0,
  "metadata": {
    "colab": {
      "name": "python1.ipynb",
      "provenance": [],
      "collapsed_sections": [
        "SfhOiZIJb0ha",
        "cX0AzCRYb9Aq",
        "0lSx3E5L55l5",
        "ALmxGUmT7zfK",
        "PIAmentK-wVe",
        "ttKbVcsS__75",
        "efHt1_g-BJ4i",
        "Z2E16wDvFeIZ",
        "sZtLa308Kwvr",
        "ITdXvXL9MoL4",
        "qJoRcRp5VYvo",
        "zFU8SWjVV6H6",
        "bY1ElGnIUUkc",
        "f_i9jP5UA-et",
        "VQm6-wUpSMkV",
        "arP58Ywhd6Xd",
        "8SSwdtS8dvbD",
        "ipnrDmFFEG8i",
        "neOHzwXCFDhr",
        "RCESXNfRGQhm",
        "RwSlaPsxfh_a",
        "RmxMKWj41gIu",
        "_tpBwMYBxe79",
        "-S2pP_wZ9E1b",
        "gkOY2q1Q9IFr",
        "YS858YXVHT9_",
        "KIyoQcKHWXrL",
        "pihFEbEzWdLh",
        "fhU1ztJFHGF5",
        "da9FNoY55TqQ",
        "G0JIlmbD--sJ",
        "uAx_G29H_DSa",
        "BMplqP-DJDN7",
        "RDMf69mFhHB8"
      ]
    },
    "kernelspec": {
      "name": "python3",
      "display_name": "Python 3"
    },
    "language_info": {
      "name": "python"
    }
  },
  "cells": [
    {
      "cell_type": "markdown",
      "metadata": {
        "id": "k901S0J55TMo"
      },
      "source": [
        "# Session 1: Python\n",
        "\n",
        "By **Miquel Torrens i Dinarès**\n",
        "\n",
        "*Barcelona School of Economics* –\n",
        "*Data Science Center*\n",
        "\n",
        "January 4, 2022"
      ]
    },
    {
      "cell_type": "markdown",
      "metadata": {
        "id": "b1iVOUGJ53Ur"
      },
      "source": [
        "---\n",
        "## 1. Preliminaries"
      ]
    },
    {
      "cell_type": "markdown",
      "metadata": {
        "id": "SfhOiZIJb0ha"
      },
      "source": [
        "### 1.1 Getting started"
      ]
    },
    {
      "cell_type": "markdown",
      "metadata": {
        "id": "pgPEXnan6oxk"
      },
      "source": [
        "We will be working in Google Colab throughout the course. You can find more details about Colab [here](https://https://colab.research.google.com/notebooks/basic_features_overview.ipynb).\n",
        "\n",
        "There are different styles to writing code, but try to stick consistently to a (sensible) style guide: it is essential that the code not only works but is also understandable by everyone. The \"official\" guide for `python` can be founde here:\n",
        "\n",
        "* Style guide: https://www.python.org/dev/peps/pep-0008/\n",
        "\n",
        "Rules to code properly are fairly common sense, just like those of natural language. You can make them your own (within reason), the important part is to be **consistent**."
      ]
    },
    {
      "cell_type": "markdown",
      "metadata": {
        "id": "cX0AzCRYb9Aq"
      },
      "source": [
        "### 1.2 Printing"
      ]
    },
    {
      "cell_type": "markdown",
      "metadata": {
        "id": "2PnO6gPab_gH"
      },
      "source": [
        "It can be useful to *print* what we are running on the console, this can be done with the built-in `print` command. You might have noticed that Colab notebooks automatically display the value of the last expression in a cell when you execute it, so you don't need to print that."
      ]
    },
    {
      "cell_type": "code",
      "metadata": {
        "id": "d_9s6Bf8cpc3"
      },
      "source": [
        "# Colab automatically prints \"y\" to \"out\", \n",
        "# but we need to manually print \"x\" if we want to see it\n",
        "x = 15 / 2\n",
        "print(x)\n",
        "y = x > 2\n",
        "y"
      ],
      "execution_count": null,
      "outputs": []
    },
    {
      "cell_type": "markdown",
      "metadata": {
        "id": "4rSy59I3cucE"
      },
      "source": [
        "We may want to use placeholders to print strings. There are a number of ways to do that."
      ]
    },
    {
      "cell_type": "code",
      "metadata": {
        "id": "8tyzuNHxc0nC"
      },
      "source": [
        "a = 15\n",
        "b = 2\n",
        "c = 2\n",
        "'%i divided by %i is %.2f, and it is %s that this is greater than %i' % (a, b, a/b, (a/b) > c, c)"
      ],
      "execution_count": null,
      "outputs": []
    },
    {
      "cell_type": "markdown",
      "metadata": {
        "id": "mfEpL8JBdIAn"
      },
      "source": [
        "We will go into what these objects are shortly."
      ]
    },
    {
      "cell_type": "markdown",
      "metadata": {
        "id": "0lSx3E5L55l5"
      },
      "source": [
        "---\n",
        "## 2. Basic data types"
      ]
    },
    {
      "cell_type": "markdown",
      "metadata": {
        "id": "L3LxvHCo8Y_y"
      },
      "source": [
        "Here we highlight the most important native operations you can apply to basic objects in `python`. We will go to a lower level of detail of the structure of these processes in the `R` session later in the afternoon."
      ]
    },
    {
      "cell_type": "markdown",
      "metadata": {
        "id": "ALmxGUmT7zfK"
      },
      "source": [
        "### 2.1 Numerical values"
      ]
    },
    {
      "cell_type": "code",
      "metadata": {
        "id": "QGPKp_wz73SK"
      },
      "source": [
        "# Assignment\n",
        "a = 10  # 10\n",
        "\n",
        "# Increment/Decrement\n",
        "a += 1  # 11 (a = a + 1)\n",
        "a -= 1  # 10 (a = a - 1)\n",
        "\n",
        "# Operations\n",
        "b = a + 1  # 11\n",
        "c = a - 1  # 9\n",
        "\n",
        "d = a * 2  # 20 \n",
        "e = a / 2  # 5 \n",
        "f = a % 3  # 1 (remainder)\n",
        "g = a ** 2  # 100 (exponentiation)\n",
        "\n",
        "# Operations with other variables\n",
        "d = a + b  # 21"
      ],
      "execution_count": null,
      "outputs": []
    },
    {
      "cell_type": "markdown",
      "metadata": {
        "id": "PIAmentK-wVe"
      },
      "source": [
        "### 2.2 String values"
      ]
    },
    {
      "cell_type": "markdown",
      "metadata": {
        "id": "OS9btwsK3iz8"
      },
      "source": [
        "You can concatenate strings together with the `+` operator:"
      ]
    },
    {
      "cell_type": "code",
      "metadata": {
        "id": "-Mre_VMc3lDA"
      },
      "source": [
        "\"Adding\" + \" \" + \"strings\" + \" \" + \"is\" + \" \" + \"pasting\""
      ],
      "execution_count": null,
      "outputs": []
    },
    {
      "cell_type": "markdown",
      "metadata": {
        "id": "cb2NEoPi_bF5"
      },
      "source": [
        "The built-in function `len` can be used to find the length of a string:"
      ]
    },
    {
      "cell_type": "code",
      "metadata": {
        "id": "fw50LqOB_n7i"
      },
      "source": [
        "len(\"four\")"
      ],
      "execution_count": null,
      "outputs": []
    },
    {
      "cell_type": "markdown",
      "metadata": {
        "id": "ttKbVcsS__75"
      },
      "source": [
        "### 2.3 Logical values"
      ]
    },
    {
      "cell_type": "markdown",
      "metadata": {
        "id": "Ack7Ie9hADu1"
      },
      "source": [
        "We can evaluate the relationships between different types of data in `python`. The output of such comparisons/operations are boolean variables. Some examples:"
      ]
    },
    {
      "cell_type": "code",
      "metadata": {
        "id": "R7yoaWRxAR75"
      },
      "source": [
        "# Comparing numbers\n",
        "x = (1 >= 2)  # greater or equal\n",
        "y = (1 == 2)  # equal\n",
        "w = (1 != 2)  # different\n",
        "\n",
        "# Parentheses are not required, but they help readability\n",
        "x = (1 <= 2) and (1 > 0)  # both statements are true\n",
        "y = (1 >  2) or  (1 < 3)  # at least one statement is true\n",
        "\n",
        "# It is good practice to use \"is\" instead of == for checking for NoneType:\n",
        "x = None\n",
        "y = x is None\n",
        "z = x is not None\n",
        "print(y)\n",
        "print(z)"
      ],
      "execution_count": null,
      "outputs": []
    },
    {
      "cell_type": "markdown",
      "metadata": {
        "id": "efHt1_g-BJ4i"
      },
      "source": [
        "### 2.4 Lists"
      ]
    },
    {
      "cell_type": "markdown",
      "metadata": {
        "id": "R6jA6M0NBMYH"
      },
      "source": [
        "Lists are one of the simplest multi-value objects. They are created with square brackets:"
      ]
    },
    {
      "cell_type": "code",
      "metadata": {
        "id": "4pt3sqnIBXgC"
      },
      "source": [
        "a_list = [\"This\", \"is\", \"a\", \"list\", \"of\", \"strings\"]"
      ],
      "execution_count": null,
      "outputs": []
    },
    {
      "cell_type": "markdown",
      "metadata": {
        "id": "uNq8FYyJBZ0Y"
      },
      "source": [
        "Here you can see we created a list of strings. We can also create a list of integers:"
      ]
    },
    {
      "cell_type": "code",
      "metadata": {
        "id": "64GEKJqlBcGu"
      },
      "source": [
        "num_list = [1, 5, 10]"
      ],
      "execution_count": null,
      "outputs": []
    },
    {
      "cell_type": "markdown",
      "metadata": {
        "id": "CLB9pIonBdy4"
      },
      "source": [
        "Lists in `python` need not be homogenous, you can mix object types:"
      ]
    },
    {
      "cell_type": "code",
      "metadata": {
        "id": "urM7nYg7BrLa"
      },
      "source": [
        "mix_list = ['a', 'b', 1, 2, 3, True, None]"
      ],
      "execution_count": null,
      "outputs": []
    },
    {
      "cell_type": "markdown",
      "metadata": {
        "id": "XwN-26sZDUyR"
      },
      "source": [
        "Sometimes you want to access individual elements from a list. You can do this using square brackets together with the index of the element:"
      ]
    },
    {
      "cell_type": "code",
      "metadata": {
        "id": "WHBHYzX0DfWz"
      },
      "source": [
        "mix_list[0]  # first element"
      ],
      "execution_count": null,
      "outputs": []
    },
    {
      "cell_type": "markdown",
      "metadata": {
        "id": "QpGdZZykDiGH"
      },
      "source": [
        "Notice that the first element is indexed at `0`, the second element at `1`, and so on. You can also access a contiguous range of elements:"
      ]
    },
    {
      "cell_type": "code",
      "metadata": {
        "id": "Tyr2SuVDD8Kz"
      },
      "source": [
        "mix_list[1:3]  # second item (index 1) and third item (index 2) only!"
      ],
      "execution_count": null,
      "outputs": []
    },
    {
      "cell_type": "markdown",
      "metadata": {
        "id": "K2p5_rBdD8d_"
      },
      "source": [
        "You can also use negative indices to access items from the end. For example, the last item:"
      ]
    },
    {
      "cell_type": "code",
      "metadata": {
        "id": "TWy7MJxgElK6"
      },
      "source": [
        "num_list[-1]"
      ],
      "execution_count": null,
      "outputs": []
    },
    {
      "cell_type": "markdown",
      "metadata": {
        "id": "jHjQuz1tEmqY"
      },
      "source": [
        "You can concatenate multiple lists together with the operator `+`:"
      ]
    },
    {
      "cell_type": "code",
      "metadata": {
        "id": "He1EJxmEEqQB"
      },
      "source": [
        "num_list + [40, 50, 60]"
      ],
      "execution_count": null,
      "outputs": []
    },
    {
      "cell_type": "markdown",
      "metadata": {
        "id": "PxcdjNw8EvUK"
      },
      "source": [
        "And you can check for membership with the operator `in`:"
      ]
    },
    {
      "cell_type": "code",
      "metadata": {
        "id": "ovRmqqUJEwek"
      },
      "source": [
        "\"abc\" in [\"abc\", \"def\", \"ghi\"]"
      ],
      "execution_count": null,
      "outputs": []
    },
    {
      "cell_type": "markdown",
      "metadata": {
        "id": "Z2E16wDvFeIZ"
      },
      "source": [
        "### 2.5 Tuples"
      ]
    },
    {
      "cell_type": "markdown",
      "metadata": {
        "id": "osObGrVNFfyg"
      },
      "source": [
        "Tuples are created with parenthesis:"
      ]
    },
    {
      "cell_type": "code",
      "metadata": {
        "id": "fZ4nb17kJHJ5"
      },
      "source": [
        "x = (\"foo\", 1)"
      ],
      "execution_count": null,
      "outputs": []
    },
    {
      "cell_type": "markdown",
      "metadata": {
        "id": "7BlKBu2HJJi1"
      },
      "source": [
        "But can also be created without any perenthesis, implied by the comma:"
      ]
    },
    {
      "cell_type": "code",
      "metadata": {
        "id": "7n0qmH5tJNrg"
      },
      "source": [
        "x = \"foo\", 1"
      ],
      "execution_count": null,
      "outputs": []
    },
    {
      "cell_type": "markdown",
      "metadata": {
        "id": "dPP0Mc8NJVD2"
      },
      "source": [
        "Elements in the tuple are also accessed via the index (like lists).\n",
        "\n",
        "Lists can be used most places that a tuple is used, so it can be confusing what the difference is between the two. Besides technicalities, the following rules can help you decide when to use a tuple and when to use a list:\n",
        "\n",
        "* `list`: many elements (potentially), unknown number, relatively homogenous, mutable.\n",
        "* `tuple`: few elements, fixed number, completely heterogeneous, immutable (fixed).\n",
        "\n",
        "The name comes from here: double, triple, quadruple... This hints that they should be of fixed length.\n",
        "Since their length is fixed, we often use them with destructuring:"
      ]
    },
    {
      "cell_type": "code",
      "metadata": {
        "id": "3GSf2ClZKZIA"
      },
      "source": [
        "name,num = x"
      ],
      "execution_count": null,
      "outputs": []
    },
    {
      "cell_type": "markdown",
      "metadata": {
        "id": "b0IAsgKFKmmS"
      },
      "source": [
        "Now the variable `name` contains the value `\"foo\"` and the variable `num` contains the value `1`."
      ]
    },
    {
      "cell_type": "markdown",
      "metadata": {
        "id": "sZtLa308Kwvr"
      },
      "source": [
        "### 2.6 Dictionaries"
      ]
    },
    {
      "cell_type": "markdown",
      "metadata": {
        "id": "e1q1Dtd8KzNj"
      },
      "source": [
        "Dictionaries are another basic type in `python`. They are *associative* data structures. Like a standard dictionary, python dictionaries associate a `KEY` with a `VALUE` and are created with the `{`, `}` operators:\n"
      ]
    },
    {
      "cell_type": "code",
      "metadata": {
        "id": "r54_5dJqKy1J"
      },
      "source": [
        "player = {\"name\": \"Jane\", \"score\": 10000}"
      ],
      "execution_count": null,
      "outputs": []
    },
    {
      "cell_type": "markdown",
      "metadata": {
        "id": "7j2xSMqZLI49"
      },
      "source": [
        "You can access the value via the *key*, and set it in a similar way:\n"
      ]
    },
    {
      "cell_type": "code",
      "metadata": {
        "id": "QmrWJRGpLP-g"
      },
      "source": [
        "player[\"name\"]\n",
        "player[\"name\"] = \"Jane Smith\""
      ],
      "execution_count": null,
      "outputs": []
    },
    {
      "cell_type": "markdown",
      "metadata": {
        "id": "QCJ4nduwLSib"
      },
      "source": [
        "Each key can only have one value. In the above example, we have overwritten the original `\"name\"`-key with a new value."
      ]
    },
    {
      "cell_type": "code",
      "metadata": {
        "id": "ofd6U6PlLRzw"
      },
      "source": [
        "# Create a list whose elements are of type dictionary\n",
        "# Each element on the list is a player, and each player has three attributes.\n",
        "players = [{\"name\": \"John\", \"score\": 100, \"likes\": [\"R\"]},\n",
        "           {\"name\": \"Jane\", \"score\": 10000, \"likes\": [\"python\"]},\n",
        "           {\"name\": \"Stephen\", \"score\": 55, \"likes\": [\"julia\"]}]\n",
        "print(players[0])\n",
        "\n",
        "# We can fetch elements of the dictionary\n",
        "players[0]['name']\n",
        "players[0].get('name')"
      ],
      "execution_count": null,
      "outputs": []
    },
    {
      "cell_type": "markdown",
      "metadata": {
        "id": "ITdXvXL9MoL4"
      },
      "source": [
        "### 2.7 Properties of an object: instances, attributes and methods"
      ]
    },
    {
      "cell_type": "markdown",
      "metadata": {
        "id": "sRingHOhMtrn"
      },
      "source": [
        "Objects in `python` have *classes*. For example:"
      ]
    },
    {
      "cell_type": "code",
      "metadata": {
        "id": "Q2kP5A3ZNpJv"
      },
      "source": [
        "new_list = [1, 2, 3]  # Create a list\n",
        "type(new_list)  # This function tells you the type of object"
      ],
      "execution_count": null,
      "outputs": []
    },
    {
      "cell_type": "markdown",
      "metadata": {
        "id": "qf0UUgfDOfih"
      },
      "source": [
        "`new_list` is an ***instance*** of the class `list`. Instances can have ***attributes***. These attributes are just properties that are attached to the instance. They are accessed with dot notation:"
      ]
    },
    {
      "cell_type": "code",
      "metadata": {
        "id": "CMcA_TJeOpz5"
      },
      "source": [
        "# I define my own class: custom types\n",
        "class invented_class: \n",
        "    name = \"John\"\n",
        "    score = 100\n",
        "    def show(self): \n",
        "        print (self.name) \n",
        "        print (self.score) \n",
        " \n",
        "# Create an object of this new class\n",
        "new_obj = invented_class()\n",
        "print(type(new_obj))\n",
        "print(new_obj.score)"
      ],
      "execution_count": null,
      "outputs": []
    },
    {
      "cell_type": "markdown",
      "source": [
        "Here `new_obj` is an instance of the class `invented_class`, and it has attributes `name` and `score`.\n",
        "\n",
        "If the attribute happens to be a function, we call it a ***method***. Methods are functions that have a special purpose: they interact with the instance itself in some way."
      ],
      "metadata": {
        "id": "iXGSKWVVVWnz"
      }
    },
    {
      "cell_type": "markdown",
      "metadata": {
        "id": "qJoRcRp5VYvo"
      },
      "source": [
        "---\n",
        "## 3. Iterables and control flow"
      ]
    },
    {
      "cell_type": "markdown",
      "metadata": {
        "id": "zFU8SWjVV6H6"
      },
      "source": [
        "### 3.1 Iterate over elements of an object (`for`-loops)"
      ]
    },
    {
      "cell_type": "markdown",
      "metadata": {
        "id": "9JpM-fpZWY6t"
      },
      "source": [
        "You may want to perform an operation for each element in an *iterable* object, and (possibly) store the result of such operation. We do that by *looping* over this object operating on every of its elements sequentially."
      ]
    },
    {
      "cell_type": "code",
      "metadata": {
        "id": "H9WZEeFbW4ib"
      },
      "source": [
        "vector = [1, 2, 3, 4, 5, 6, 7, 8, 9, 10]\n",
        "squared = []\n",
        "for num in vector:\n",
        "    squared_num = num ** 2\n",
        "    squared = squared + [squared_num]\n",
        "\n",
        "squared"
      ],
      "execution_count": null,
      "outputs": []
    },
    {
      "cell_type": "markdown",
      "metadata": {
        "id": "4XMGinz8Xl5l"
      },
      "source": [
        "The structure of the loop is critical and always the same: "
      ]
    },
    {
      "cell_type": "code",
      "metadata": {
        "id": "hzHOdY5lYGX6"
      },
      "source": [
        "## NOT RUN\n",
        "for ELEMENT in EXISTING_OBJECT:  # Use \"for\", \"in\" and \":\"\n",
        "    operation_on(ELEMENT)  # Indent 4 spaces (MANDATORY)\n",
        "\n",
        "# Loop ENDS when indentation is over\n",
        "## END NOT RUN"
      ],
      "execution_count": null,
      "outputs": []
    },
    {
      "cell_type": "markdown",
      "metadata": {
        "id": "VZ9p5FGpYjd-"
      },
      "source": [
        "`for`-loops are applicable to every instance of an iterable object class: `list`, `tuple`, `dictionary`."
      ]
    },
    {
      "cell_type": "markdown",
      "metadata": {
        "id": "bY1ElGnIUUkc"
      },
      "source": [
        "### 3.2 Operations on lists"
      ]
    },
    {
      "cell_type": "markdown",
      "metadata": {
        "id": "k47nhIzZUbM0"
      },
      "source": [
        "There are three main operations we perform on a list:\n",
        "1. Aggregate (*reduce* operation)\n",
        "2. Apply a function to each element (*map* operation)\n",
        "3. Select elements (*filter* operation)\n",
        "\n",
        "We illustrate these with some examples."
      ]
    },
    {
      "cell_type": "code",
      "metadata": {
        "id": "Bp6suLZTUw6h"
      },
      "source": [
        "# 1. AGGREGATION\n",
        "# Summing the numbers in a list: \n",
        "nums = [30, 1, 4, 3, 10.5, 100]\n",
        "total = 0 \n",
        "for num in nums:\n",
        "    total += num\n",
        "    \n",
        "print(total)\n",
        "\n",
        "# 2. APPLY A FUNCTION \n",
        "# Squaring each number in a list\n",
        "nums = [30, 1, 4, 3, 10.5, 100]\n",
        "\n",
        "# This is called a \"list comprehension\"\n",
        "# and is the python way to apply a function to \n",
        "# every element in a list\n",
        "squared_nums = [num ** 2 for num in nums]\n",
        "squared_nums\n",
        "\n",
        "# 3. FILTER\n",
        "# Remove all values less than 18:\n",
        "ages = [0, 3, 21, 45, 10, 97]\n",
        "adults = [a for a in ages if a > 17]\n",
        "adults"
      ],
      "execution_count": null,
      "outputs": []
    },
    {
      "cell_type": "markdown",
      "metadata": {
        "id": "f_i9jP5UA-et"
      },
      "source": [
        "### 3.4. Control flow"
      ]
    },
    {
      "cell_type": "markdown",
      "metadata": {
        "id": "8j581lP2ZG_a"
      },
      "source": [
        "Sometimes you may want to operate only if the object satisfies some relevant criteria, for example make a decision based on some condition holds. In these cases we use `if`-statement operations."
      ]
    },
    {
      "cell_type": "code",
      "metadata": {
        "id": "KxWCcopQZdbc"
      },
      "source": [
        "gender = \"male\"\n",
        "age = 20 \n",
        "\n",
        "# Start of if-statement\n",
        "if gender == \"female\":\n",
        "    if age > 18:\n",
        "        print(\"woman\")\n",
        "    else: \n",
        "        print(\"girl\")\n",
        "elif gender == \"male\":\n",
        "    if age > 18:\n",
        "        print(\"man\")\n",
        "    else: \n",
        "        print(\"boy\")\n",
        "else:\n",
        "    print(\"other\")\n"
      ],
      "execution_count": null,
      "outputs": []
    },
    {
      "cell_type": "markdown",
      "metadata": {
        "id": "RxtUgU61aUb0"
      },
      "source": [
        "Again, the structure of an `if`-statement is always the same, so it is essential that we use it correctly"
      ]
    },
    {
      "cell_type": "code",
      "metadata": {
        "id": "5pc5jSNdaOMd"
      },
      "source": [
        "## NOT RUN\n",
        "if BOOLEAN:  # Use: \"if\", \":\" and supply a boolean condition\n",
        "    ACTION1a  # Indent with 4 spaces\n",
        "    ACTION1b\n",
        "elif BOOLEAN:  # Second layer to \"if\" (else-if)\n",
        "    ACTION2\n",
        "else:  # Rest of scenarios (make sure all contingencies are covered)\n",
        "    ACTION3\n",
        "\n",
        "## END NOT RUN"
      ],
      "execution_count": null,
      "outputs": []
    },
    {
      "cell_type": "markdown",
      "metadata": {
        "id": "zAUjOiPsaA0N"
      },
      "source": [
        "Like in `for`-loops, statements are closed by indentation."
      ]
    },
    {
      "cell_type": "markdown",
      "source": [
        "---\n",
        "## 4. Input/output\n",
        "\n",
        "`python` treats external files as any other regular data type, and so they have attributes, etc. There are two actions to perform on these files, read and write."
      ],
      "metadata": {
        "id": "Weux1hPQYqfB"
      }
    },
    {
      "cell_type": "markdown",
      "source": [
        "In short, the built-in function `open` creates a `python` file object, which serves as a link to a file residing on your machine. After calling `open`, you can transfer strings of data to and from the associated external file by calling the returned file object’s methods.\n",
        "\n",
        "Then, `with` is a file context manager which allows us to wrap file-processing code in a logic layer that ensures that the file will be closed automatically on exit.\n",
        "\n",
        "**NOTE:** Don't run the following code on Google Drive (it will not work), try to run this (if you can) on your computer's `python` using a path to a local file.\n",
        "\n"
      ],
      "metadata": {
        "id": "0dvCPbeMIG52"
      }
    },
    {
      "cell_type": "code",
      "source": [
        "# We need to change directory\n",
        "import os\n",
        "os.chdir('/Users/miquel/Desktop')  # Set to LOCAL directory where *you* have the file\n",
        "\n",
        "# Let's read the file into a variable:\n",
        "with open('simple_example.txt') as file:\n",
        "    content = file.read()\n",
        "\n",
        "print(content)"
      ],
      "metadata": {
        "id": "5PMUxKjeCx9F"
      },
      "execution_count": null,
      "outputs": []
    },
    {
      "cell_type": "code",
      "source": [
        "# The file object is actually an iterator, so we can do our usual tricks:\n",
        "with open('simple_example.txt') as file:\n",
        "    for line in file: \n",
        "        print(line)"
      ],
      "metadata": {
        "id": "FNKuMqEIEfqa"
      },
      "execution_count": null,
      "outputs": []
    },
    {
      "cell_type": "code",
      "source": [
        "# We can also read it into a list by converiting \n",
        "# the iterator into a list directly:\n",
        "with open('simple_example.txt') as f:\n",
        "    content = list(f)\n",
        "\n",
        "content[0]"
      ],
      "metadata": {
        "id": "VbY8GoQPFFA3"
      },
      "execution_count": null,
      "outputs": []
    },
    {
      "cell_type": "markdown",
      "source": [
        "Similarly, you can write things on this outside file by using `file.write()`."
      ],
      "metadata": {
        "id": "pa-L2bX0Emas"
      }
    },
    {
      "cell_type": "code",
      "source": [
        "# 'r' is to read, 'w' to write:\n",
        "with open('simple_example.txt', 'r') as file_in, open('simple_example2.txt', 'w') as file_out:\n",
        "    for line in file_in:\n",
        "        file_out.write(line)\n"
      ],
      "metadata": {
        "id": "i1xPv_jsE7go"
      },
      "execution_count": null,
      "outputs": []
    },
    {
      "cell_type": "markdown",
      "source": [
        "If your file is located on a website, instead of a local path, then we need to proceed differently. We use the `urllib` package. The first task is to access the data contained on a website with an URL command. The main difference with respect to local files is how to read the file, and the structure of the imported object, which is no longer an iterable. If we want to split the loaded content into lines we need to proceed manually."
      ],
      "metadata": {
        "id": "Rl3j698Qjy1j"
      }
    },
    {
      "cell_type": "code",
      "source": [
        "# We load the data\n",
        "import urllib.request\n",
        "\n",
        "url_path = \"https://raw.githubusercontent.com/barcelonagse-datascience/academic_files/master/data/textfile.txt\"\n",
        "file_conn = urllib.request.urlopen(url_path)  # This opens the connection to the URL\n",
        "\n",
        "raw_txt = file_conn.read().decode() # decode is used to convert to string format\n",
        "raw_txt"
      ],
      "metadata": {
        "id": "5LE4tpWEkLOt"
      },
      "execution_count": null,
      "outputs": []
    },
    {
      "cell_type": "code",
      "source": [
        "# Let's recover lines using split and the target line break\n",
        "#split_txt = raw_txt.split('\\n\\n')\n",
        "split_txt = raw_txt.split('\\n')\n",
        "split_txt[0:10]"
      ],
      "metadata": {
        "id": "cxOdiyZdkOS6"
      },
      "execution_count": null,
      "outputs": []
    },
    {
      "cell_type": "markdown",
      "metadata": {
        "id": "VQm6-wUpSMkV"
      },
      "source": [
        "---\n",
        "## 5. Functions"
      ]
    },
    {
      "cell_type": "markdown",
      "source": [
        "### 5.1 Coding functions"
      ],
      "metadata": {
        "id": "arP58Ywhd6Xd"
      }
    },
    {
      "cell_type": "markdown",
      "metadata": {
        "id": "PHodgEzbCe6t"
      },
      "source": [
        "Functions (may) use an input to produce an output through a set of operations."
      ]
    },
    {
      "cell_type": "code",
      "metadata": {
        "id": "m32gw6gdSLWa"
      },
      "source": [
        "## NOT RUN\n",
        "def function_name(input):  # Use \"def\", parenthesis and \":\"\n",
        "    operations\n",
        "    return output  # End with \"return\"\n",
        "\n",
        "## END NOT RUN"
      ],
      "execution_count": null,
      "outputs": []
    },
    {
      "cell_type": "markdown",
      "metadata": {
        "id": "LOhZywhlDBDC"
      },
      "source": [
        "For example, here is a function that takes a number, and returns its square:"
      ]
    },
    {
      "cell_type": "code",
      "metadata": {
        "id": "vWrqZwsdDBbZ"
      },
      "source": [
        "def squared(x):\n",
        "    return x**2\n",
        "\n",
        "squared(7)"
      ],
      "execution_count": null,
      "outputs": []
    },
    {
      "cell_type": "markdown",
      "metadata": {
        "id": "ZiiOAmW4DCA2"
      },
      "source": [
        "Here is a more general function that takes a number and a power and returns the number to that power:"
      ]
    },
    {
      "cell_type": "code",
      "metadata": {
        "id": "Zg2__HbEDCdn"
      },
      "source": [
        "def power(x, n):\n",
        "    return x ** n\n",
        "\n",
        "power(4, 3)"
      ],
      "execution_count": null,
      "outputs": []
    },
    {
      "cell_type": "markdown",
      "metadata": {
        "id": "c9HIE2xBDOH1"
      },
      "source": [
        "Here is a function that returns the minimum and the sum of a list of numbers:"
      ]
    },
    {
      "cell_type": "code",
      "metadata": {
        "id": "gW6Yjr7YDVrL"
      },
      "source": [
        "def min_sum_fun(x):\n",
        "    minx = x[0] if len(x) > 0 else None\n",
        "    sumx = 0.0  \n",
        "    for val in x: \n",
        "        if val < minx:\n",
        "            minx = val\n",
        "        sumx += val \n",
        "    return minx, sumx  # Notice multiple outputs (technically a tuple)\n"
      ],
      "execution_count": null,
      "outputs": []
    },
    {
      "cell_type": "markdown",
      "metadata": {
        "id": "oYuc2pxlDZK4"
      },
      "source": [
        "Now we can call that function:"
      ]
    },
    {
      "cell_type": "code",
      "metadata": {
        "id": "dPQ8vc88DalX"
      },
      "source": [
        "m, s = min_sum_fun([1, 5, 0.3, -1])  # Destructuring\n",
        "w = (m, s) = min_sum_fun([1, 5, 0.3, -1])  # You can assign directly to a tuple\n",
        "\n",
        "print(m)\n",
        "print(s)\n",
        "print(w)\n",
        "print(type(w))"
      ],
      "execution_count": null,
      "outputs": []
    },
    {
      "cell_type": "markdown",
      "source": [
        "### 5.2 Map, reduce and filter\n",
        "\n",
        "`map` is a function used to apply a certain (set of) operation(s) sequentiallt to every element in a list. This is similar to a `for`-loop but through a simpler syntax."
      ],
      "metadata": {
        "id": "8SSwdtS8dvbD"
      }
    },
    {
      "cell_type": "code",
      "source": [
        "items = [1, 4, 9, 16, 25]\n",
        "sqroot = map(lambda x: x**(1/2), items)  #map(function, iterable_object)\n",
        "sqroot = list(sqroot)  # Put into a list\n",
        "print(sqroot)"
      ],
      "metadata": {
        "id": "kryzp4f22_OP"
      },
      "execution_count": null,
      "outputs": []
    },
    {
      "cell_type": "markdown",
      "source": [
        "Note that here `map` is using a so-called `lambda` function: this is an anonymous function (it has not been defined) which takes argument `x`, where `x` is every individual element in the `list`, and applies the function after the semi-colon to each of these elements. Note, however, that the function applied by `map` need not be a `lambda` function.\n",
        "\n",
        "Also, the iterable element need not even be a list of objects, it can be a list of functions:"
      ],
      "metadata": {
        "id": "iDuMw44e3Y18"
      }
    },
    {
      "cell_type": "code",
      "source": [
        "def sqroot(x):\n",
        "    return x**(1/2)\n",
        "\n",
        "def squared(x):\n",
        "    return x**2\n",
        "\n",
        "functions = [sqroot, squared]  # List of functions\n",
        "for i in [1, 4, 9, 16, 25]:\n",
        "    results = list(map(lambda x: x(i), functions))\n",
        "    print(results)\n"
      ],
      "metadata": {
        "id": "G6FiF9XE4mB6"
      },
      "execution_count": null,
      "outputs": []
    },
    {
      "cell_type": "markdown",
      "source": [
        "`reduce` is a similar function, in this case employed to perform rolling computations to sequential pairs of values in a list. In other words, the computation of an operation on an element of the list is connected to the computation of the previous element, and this accumulates (*reducing* the list to a single result).\n",
        "\n",
        "Say you want to compute the factorial of a number:"
      ],
      "metadata": {
        "id": "R4A6QetI6a2c"
      }
    },
    {
      "cell_type": "code",
      "source": [
        "from functools import reduce\n",
        "\n",
        "# This gives a list with the integers needed to compute the factorial\n",
        "def factorial_elements(x):\n",
        "    return [i + 1 for i in range(x)]\n",
        "\n",
        "# Factorial of 5 (5!)\n",
        "factorial5 = reduce(lambda x, y: x * y, factorial_elements(5))  # Needs two arguments\n",
        "factorial5"
      ],
      "metadata": {
        "id": "OFAQ7PRc6nI_"
      },
      "execution_count": null,
      "outputs": []
    },
    {
      "cell_type": "markdown",
      "source": [
        "One final useful function is `filter`. It returns the list of elements of an original list that satisfy a logical condition (i.e. applies a function that returns a logical value). A simple example:"
      ],
      "metadata": {
        "id": "WoMTcTmY9NKx"
      }
    },
    {
      "cell_type": "code",
      "source": [
        "num_list = [-1, 2, -3, 4, -5, 6]\n",
        "pos_vals = filter(lambda x: x > 0, num_list)  # Same syntax as map/reducte\n",
        "pos_vals = list(pos_vals)  # Needs to be coerced to a list too\n",
        "print(pos_vals)"
      ],
      "metadata": {
        "id": "ukXYfke996QR"
      },
      "execution_count": null,
      "outputs": []
    },
    {
      "cell_type": "markdown",
      "metadata": {
        "id": "ipnrDmFFEG8i"
      },
      "source": [
        "---\n",
        "## 6. Modules and imports"
      ]
    },
    {
      "cell_type": "markdown",
      "metadata": {
        "id": "Dyt0cU2PFGPD"
      },
      "source": [
        "*Modules* are `python` files, recognised in the computer as `<filename>.py`. Data and methods defined in the module can become part of the namespace by using `import`."
      ]
    },
    {
      "cell_type": "code",
      "source": [
        "x = sin(5)  # The \"sin\" function does not exist"
      ],
      "metadata": {
        "id": "PdPTr3fuY8FE"
      },
      "execution_count": null,
      "outputs": []
    },
    {
      "cell_type": "code",
      "source": [
        "from math import sin  # You need to \"import\" it\n",
        "x = sin(5)\n",
        "print(x)"
      ],
      "metadata": {
        "id": "H4HFgP1aYkt6"
      },
      "execution_count": null,
      "outputs": []
    },
    {
      "cell_type": "markdown",
      "source": [
        "There are some other useful tricks to import data and methods:"
      ],
      "metadata": {
        "id": "aFc2XminZRGl"
      }
    },
    {
      "cell_type": "code",
      "source": [
        "from math import sin  # Imports a single function\n",
        "from math import sin as sinus  # Nickname, useful when you import something with a long name\n",
        "print(sinus(3))\n",
        "\n",
        "import math  # Imports the module in the namespace, methods can then be accessed e.g.\n",
        "print(math.sin(3))"
      ],
      "metadata": {
        "id": "0rdS_Z1YZXK4"
      },
      "execution_count": null,
      "outputs": []
    },
    {
      "cell_type": "markdown",
      "source": [
        "Let us discuss here a couple of fundamental imports in `python`:"
      ],
      "metadata": {
        "id": "BIJs6rFWZ1PM"
      }
    },
    {
      "cell_type": "markdown",
      "metadata": {
        "id": "neOHzwXCFDhr"
      },
      "source": [
        "### 6.1 `numpy` (Numerical Python)\n",
        "\n",
        "*   User's manual: https://numpy.org/doc/stable/\n",
        "\n",
        "This is Python's stack for scientific computing. The fundamental new data type is that of a **`numpy` `array`**, Python's matrix-type object, which is used in the majority of its data analysis, statistics and machine learning modules.\n",
        "\n",
        "These arrays contain data all of the same type (dtype), numerical of many types or boolean:"
      ]
    },
    {
      "cell_type": "code",
      "source": [
        "# Import module \n",
        "import numpy as np  # usually imported with name \"np\"\n",
        "\n",
        "# Creating an array\n",
        "A = np.array([[1, 2, 3, 4, 5, 6], \n",
        "              [42, 53, 43 ,62, 7, 4], \n",
        "              [-3, -1, -4 ,-8, -52, -4], \n",
        "              [10, 0, 4 , 1, 0, 1]])"
      ],
      "metadata": {
        "id": "oIjyNud0dGIB"
      },
      "execution_count": null,
      "outputs": []
    },
    {
      "cell_type": "markdown",
      "source": [
        "We can access the elements in an array using multi-index notation (counting starts from 0, slicing `a:b` is inclusive:exclusive, negative indices, etc.)"
      ],
      "metadata": {
        "id": "acCVtlQpdha9"
      }
    },
    {
      "cell_type": "code",
      "source": [
        "print(A)\n",
        "# Print from row 3 onwards, columns 3 and 5\n",
        "print(A[2:, [2, 4]])"
      ],
      "metadata": {
        "id": "tu5JZ_xKdtn1"
      },
      "execution_count": null,
      "outputs": []
    },
    {
      "cell_type": "code",
      "source": [
        "# Attributes\n",
        "A.shape  # dimension\n",
        "A.min()  # minimum (you can similarly use max, sum, etc.)\n",
        "A.diagonal()  # diagonal\n",
        "B = A.transpose()  # transposing\n",
        "C = A.reshape(6, 4)  # rearrange values to change dimension (CAREFUL!)\n",
        "print(A.shape)\n",
        "print(B.shape)\n",
        "print(C.shape)\n",
        "A.dot(B)  # dot-product (with array B)\n"
      ],
      "metadata": {
        "id": "KGkO4J8aebVg"
      },
      "execution_count": null,
      "outputs": []
    },
    {
      "cell_type": "markdown",
      "metadata": {
        "id": "JnQHBnQ6FT-R"
      },
      "source": [
        "#### 6.1.1. `array` operations"
      ]
    },
    {
      "cell_type": "markdown",
      "source": [
        "Mathematical symbols take on mathematical meanings in `numpy`, and so the `+` operator between two `np.array` just tries to add them together elementwise (it works differently to `list`-type objects). To concatenate you need a specific function.\n"
      ],
      "metadata": {
        "id": "OulgR7t4g4pX"
      }
    },
    {
      "cell_type": "code",
      "source": [
        "# Numpy array addition: \n",
        "a, b = np.array([1, 2, 3]), np.array([4, 5, 6])\n",
        "print(a + b)  # Addition\n",
        "print(np.concatenate([a,b]))  # Concatenation"
      ],
      "metadata": {
        "id": "xx1yoFLYhiVo"
      },
      "execution_count": null,
      "outputs": []
    },
    {
      "cell_type": "markdown",
      "metadata": {
        "id": "rjsp0uQiFLwy"
      },
      "source": [
        "### 6.2 `pandas` (Panel Data Structures)"
      ]
    },
    {
      "cell_type": "markdown",
      "source": [
        "This is the module in Python for doing rectangular-data management, analysis and plotting. It provides tools to read and write external data.\n"
      ],
      "metadata": {
        "id": "3K-y3YrOjpYj"
      }
    },
    {
      "cell_type": "code",
      "source": [
        "import pandas as pd  # Usually imported with name \"pd\"\n",
        "\n",
        "file_path = \"https://raw.githubusercontent.com/barcelonagse-datascience/academic_files/master/data/tips.csv\"\n",
        "tips = pd.read_csv(file_path)  # read_csv allows importing .CSV files\n",
        "print(tips.head(5))  # head gives first rows (arg = number of rows)\n",
        "\n",
        "# Data formats in pandas\n",
        "print(type(tips))\n",
        "print(type(tips['tip']))"
      ],
      "metadata": {
        "id": "i-wfPqHzi20o"
      },
      "execution_count": null,
      "outputs": []
    },
    {
      "cell_type": "markdown",
      "source": [
        "There are the two basic data formats in `pandas`: `Series` and `DataFrame`. A `Series` is the equivalent to a vector in linear algebra. A `DataFrame` is the equivalent to a rectangular data structure. These types are equipped with several attributes useful for data management and analysis. In the tips example, the variable object `tips` is a `DataFrame`, while any individual column would be a `Series`."
      ],
      "metadata": {
        "id": "LkF0FABWdezQ"
      }
    },
    {
      "cell_type": "markdown",
      "metadata": {
        "id": "RCESXNfRGQhm"
      },
      "source": [
        "---\n",
        "## 7. Structured data operations (`pandas`)"
      ]
    },
    {
      "cell_type": "markdown",
      "source": [
        "### 7.1 `Series`"
      ],
      "metadata": {
        "id": "RwSlaPsxfh_a"
      }
    },
    {
      "cell_type": "markdown",
      "source": [
        "They are accessed via their index, which can be either a number or a string. They are typically obtained by reading a dataset from an external file or when operating on a `DataFrame`, but they can be defined manually:"
      ],
      "metadata": {
        "id": "CW7nQyAlflWx"
      }
    },
    {
      "cell_type": "code",
      "source": [
        "# Here no indices are specified (there are defaults)\n",
        "a_series = pd.Series([1, 15, -5, None, 4, 123, 0, 78, 0, 1, -4])\n",
        "a_series"
      ],
      "metadata": {
        "id": "AV1XFsdVfhrM"
      },
      "execution_count": null,
      "outputs": []
    },
    {
      "cell_type": "code",
      "source": [
        "# Accessing a certain value via the index\n",
        "a_series[0]"
      ],
      "metadata": {
        "id": "Rh0dMfKagF-d"
      },
      "execution_count": null,
      "outputs": []
    },
    {
      "cell_type": "code",
      "source": [
        "# .values returns a numpy.ndarray of the values\n",
        "a_series.values\n",
        "a_series.index, my_series.index.values"
      ],
      "metadata": {
        "id": "Kbn8gNHggJsV"
      },
      "execution_count": null,
      "outputs": []
    },
    {
      "cell_type": "code",
      "source": [
        "# You can overwrite the index directly: \n",
        "a_series.index = [\"a\", \"b\", \"c\", \"d\", \"e\", \"f\", \"g\", \"h\", \"i\", \"j\", \"k\"]\n",
        "a_series"
      ],
      "metadata": {
        "id": "VvmXzQThhSKW"
      },
      "execution_count": null,
      "outputs": []
    },
    {
      "cell_type": "markdown",
      "source": [
        "Accessing values via the index can be very useful, but sometimes you want to access the values as though they were a Python list. In other words \"I want the first value!\", without having to know the name of the label. This can be achieved with `.iloc`:\n"
      ],
      "metadata": {
        "id": "6vS1oWK1ho5d"
      }
    },
    {
      "cell_type": "code",
      "source": [
        "a_series.iloc[0], a_series[\"a\"], a_series.iloc[-1]\n"
      ],
      "metadata": {
        "id": "jX0gOqszlHza"
      },
      "execution_count": null,
      "outputs": []
    },
    {
      "cell_type": "code",
      "source": [
        "# This just resets the index to be as we found it originally\n",
        "a_series = a_series.reset_index(drop = True)\n",
        "x = a_series.sort_values()\n",
        "\n",
        "x[0], x.iloc[0] \n",
        "# the indices remain, so x indexed by 0 is 1\n",
        "# the ordering changes, so the first element of x is -5.0, the minimum"
      ],
      "metadata": {
        "id": "lz9XaTt1mFrN"
      },
      "execution_count": null,
      "outputs": []
    },
    {
      "cell_type": "markdown",
      "source": [
        "As usual one should explore the attributes of any python object one ends up working with. We have already accessed the `.index` and `.value`. Some other that are worth highlighting:\n",
        "\n",
        "*   `.map`\n",
        "*   `.corr`\n",
        "*   `.describe`\n",
        "*   `.hist`\n",
        "*   `.plot`\n",
        "*   `.size`\n",
        "*   `.value_counts`\n",
        "*   `.sort_values`"
      ],
      "metadata": {
        "id": "nBv2VEZ6z5MF"
      }
    },
    {
      "cell_type": "markdown",
      "source": [
        "For example:"
      ],
      "metadata": {
        "id": "4jCJ7CDS1B9c"
      }
    },
    {
      "cell_type": "code",
      "source": [
        "tips.describe()"
      ],
      "metadata": {
        "id": "DE0jn-Tuz6Q5"
      },
      "execution_count": null,
      "outputs": []
    },
    {
      "cell_type": "markdown",
      "source": [
        "### 7.1.1 Operations with `Series`"
      ],
      "metadata": {
        "id": "RmxMKWj41gIu"
      }
    },
    {
      "cell_type": "markdown",
      "source": [
        "`Series` are `numpy` arrays behind the scenes, so we can compute element-wise functions on one series or several series at the same time. The result is another series with data type depending on the type of operations performed.\n"
      ],
      "metadata": {
        "id": "vkOthCCwnJ5l"
      }
    },
    {
      "cell_type": "code",
      "source": [
        "series1 = pd.Series([1, 3, 5, 7])\n",
        "series2 = pd.Series([0, 10, -1, 6])\n",
        "\n",
        "series3 = 2 * series1 + abs(series2)\n",
        "series4 = series1 > series2 \n",
        "\n",
        "print(series3)\n",
        "print(series4)\n",
        "# Take a look at the different Series objects!"
      ],
      "metadata": {
        "id": "IFwLE9_anTxm"
      },
      "execution_count": null,
      "outputs": []
    },
    {
      "cell_type": "markdown",
      "source": [
        "What goes on in the previous examples is more subtle than it looks. How does Python know which elements from each series to join in the required operation together? What happens is that the indices happened to be the same. So when we ask something like\n",
        "\n",
        "`series3 = series1 + series2`,\n",
        "\n",
        "Python looks for entries in each series with the same index and then does an elementwise summation that it stores in a like-wise index in Series 3.\n",
        "\n",
        "Consider instead the following example:\n"
      ],
      "metadata": {
        "id": "fJxzTTJMpLRX"
      }
    },
    {
      "cell_type": "code",
      "source": [
        "series1 = pd.Series([1, 10], index=[\"A\", \"B\"])\n",
        "series2 = pd.Series([4, -1], index=[\"C\", \"D\"])\n",
        "series3 = series1 + series2\n",
        "print(series3)"
      ],
      "metadata": {
        "id": "IX9hf81tpY5a"
      },
      "execution_count": null,
      "outputs": []
    },
    {
      "cell_type": "markdown",
      "source": [
        "This aspect makes it very easy to work with series that we have sorted or manipulated otherwise; there is always the address to access a value. This helps prevent accidentally combining values we didn't mean to combine!"
      ],
      "metadata": {
        "id": "d5NV02lcpiVB"
      }
    },
    {
      "cell_type": "code",
      "source": [
        "# accesing by list of index labels\n",
        "a_series.index = [\"A\", \"B\", \"C\", \"D\", \"E\", \"F\", \"G\", \"H\", \"I\", \"J\", \"K\"]\n",
        "x = a_series[[\"A\", \"K\"]]"
      ],
      "metadata": {
        "id": "U_V0iQXnvh-e"
      },
      "execution_count": null,
      "outputs": []
    },
    {
      "cell_type": "code",
      "source": [
        "a_series"
      ],
      "metadata": {
        "id": "hy8rOvDXwC9y"
      },
      "execution_count": null,
      "outputs": []
    },
    {
      "cell_type": "code",
      "source": [
        "x"
      ],
      "metadata": {
        "id": "Brsq8K9TwDWN"
      },
      "execution_count": null,
      "outputs": []
    },
    {
      "cell_type": "code",
      "source": [
        "# Getting a boolean-valued series by checking a condition\n",
        "choose = (a_series == 0.0)\n",
        "choose"
      ],
      "metadata": {
        "id": "oq04uA8Zvqro"
      },
      "execution_count": null,
      "outputs": []
    },
    {
      "cell_type": "code",
      "source": [
        "# Notice the index of x is a SUBSET of the index of \"a_series\"\n",
        "# This can be useful when needing to relate values back to the original \"a_series\"!\n",
        "x = a_series[choose]\n",
        "print(x)\n",
        "# or the complement\n",
        "a_series[~choose]"
      ],
      "metadata": {
        "id": "scBM8fbSvw2l"
      },
      "execution_count": null,
      "outputs": []
    },
    {
      "cell_type": "markdown",
      "source": [
        "We often use boolean masks to filter data in Pandas. We also get special boolean algebra operators to use in `numpy`/`pandas`, distinct from the and/or/not you will use in regular Python: `&` (AND), `|` (OR), `~` (NOT).\n"
      ],
      "metadata": {
        "id": "hFrX8z9ZwxEc"
      }
    },
    {
      "cell_type": "markdown",
      "source": [
        "### 7.1.2 Missing values\n",
        "\n",
        "A series object in `pandas` can help us deal with missing data. We already see very naturally how data management can quickly lead to missing data."
      ],
      "metadata": {
        "id": "_tpBwMYBxe79"
      }
    },
    {
      "cell_type": "code",
      "source": [
        "series3 = series1 + series2\n",
        "print(series3)"
      ],
      "metadata": {
        "id": "EOouM1SZx4oo"
      },
      "execution_count": null,
      "outputs": []
    },
    {
      "cell_type": "markdown",
      "source": [
        "What happened there is that in the operation labels could not be matched, so `pandas` tried to sum a numeric value with missing value, the result of which is a missing value.\n",
        "The way to manually specify in `pandas` that a value is missing is to use `None`, as below:"
      ],
      "metadata": {
        "id": "-J3r1-gjx5Vz"
      }
    },
    {
      "cell_type": "code",
      "source": [
        "temp = pd.Series([1, None, 2])\n",
        "print(temp)"
      ],
      "metadata": {
        "id": "x2sKM0fdyHDi"
      },
      "execution_count": null,
      "outputs": []
    },
    {
      "cell_type": "markdown",
      "source": [
        "`pandas` coerces `None` values to `NaN` (\"Not a Number\") values. We can create boolean masks on the basis of such values. The way to identify NaN or None values in a Series is to use either of the equivalent two attributes: `.isna()` and `.isnull()` (existing the opposite `.notna()` and `.notnull()`)."
      ],
      "metadata": {
        "id": "iyFuiqSfyNKa"
      }
    },
    {
      "cell_type": "code",
      "source": [
        "temp.isna()\n",
        "temp.isnull()"
      ],
      "metadata": {
        "id": "YKL0BWZ4ys07"
      },
      "execution_count": null,
      "outputs": []
    },
    {
      "cell_type": "code",
      "source": [
        "temp.notna()\n",
        "temp.notnull()"
      ],
      "metadata": {
        "id": "hXKCl1Vczg1z"
      },
      "execution_count": null,
      "outputs": []
    },
    {
      "cell_type": "markdown",
      "source": [
        "### 7.2 `DataFrame`"
      ],
      "metadata": {
        "id": "7wgzBXTO0jiU"
      }
    },
    {
      "cell_type": "markdown",
      "source": [
        "This is `pandas` model for rectangular data. Operationally similar to a dictionary of `Series`; each column of the `DataFrame` is a `Series` object, and comes with all the attributes/methods of a `Series`. An implication is that within each column the data type is common; across columns this can change."
      ],
      "metadata": {
        "id": "Miqvm-D61ulF"
      }
    },
    {
      "cell_type": "code",
      "source": [
        "# Recall our \"tips\" dataset\n",
        "tips.head(5)  # The first method of our DataFrame object"
      ],
      "metadata": {
        "id": "sUiqHzru2EuJ"
      },
      "execution_count": null,
      "outputs": []
    },
    {
      "cell_type": "code",
      "source": [
        "# the other important attribute: name of rows and columns\n",
        "print(tips.shape)\n",
        "print(tips.index)\n",
        "print(tips.columns)"
      ],
      "metadata": {
        "id": "2soiasvW2GmP"
      },
      "execution_count": null,
      "outputs": []
    },
    {
      "cell_type": "markdown",
      "source": [
        "To access the columns of a `DataFrame` there are two standard ways."
      ],
      "metadata": {
        "id": "auK1XdC729qL"
      }
    },
    {
      "cell_type": "code",
      "source": [
        "tips.tip  # As if it were a method (NOT recommended)\n",
        "tips[\"size\"]  # As if it were a named index (RECOMMENDED)"
      ],
      "metadata": {
        "id": "5QRthrPs3C6z"
      },
      "execution_count": null,
      "outputs": []
    },
    {
      "cell_type": "markdown",
      "source": [
        "The latter is recommended because, for example, the column `size` cannot be accessed via the first option (it would be confused with the method `.size`). The result of this operation is an object of type `Series`.\n",
        "\n",
        "We can access various columns at a time, supplying a list of columns, obtaining a dataframe with the same index as the original and columns the chosen subset."
      ],
      "metadata": {
        "id": "bcQnpynH3QQO"
      }
    },
    {
      "cell_type": "code",
      "source": [
        "tips[[\"tip\", \"size\", \"sex\"]].head(5)"
      ],
      "metadata": {
        "id": "wITxlEzs35oY"
      },
      "execution_count": null,
      "outputs": []
    },
    {
      "cell_type": "markdown",
      "source": [
        "Similarly, you can access rows instead of columns with the same philosophy.\n",
        "\n",
        "*   Using a list of index labels: `tips.loc[ [index1, index2, ...] ]`\n",
        "*   Using a list of integer index location (i-loc): `tips.iloc[ [integer1, integer2, ...] ]`\n",
        "\n"
      ],
      "metadata": {
        "id": "Tfec7agC4V7k"
      }
    },
    {
      "cell_type": "code",
      "source": [
        "# Accessing rows AND columns!\n",
        "# Example of 2-dimension loc\n",
        "tips.loc[[1, 3], ['sex', 'smoker']]"
      ],
      "metadata": {
        "id": "5CtOXR2Q43h4"
      },
      "execution_count": null,
      "outputs": []
    },
    {
      "cell_type": "code",
      "source": [
        "# Accessing rows AND columns!\n",
        "# Example of 2-dimensional iloc\n",
        "tips.iloc[[1, 3], 2:5]"
      ],
      "metadata": {
        "id": "06lpQTrN458V"
      },
      "execution_count": null,
      "outputs": []
    },
    {
      "cell_type": "markdown",
      "source": [
        "Note that certain operations are exchangeable: the 3rd element of column \"sex\" can be obtained with either of the following ways:"
      ],
      "metadata": {
        "id": "723-ayPy5C6F"
      }
    },
    {
      "cell_type": "code",
      "source": [
        "tips.sex[2]  # Access col as series, then the 3rd element of that\n",
        "tips.loc[2, \"sex\"]  # Access the entry in DF by giving the index labels of row and col\n",
        "tips.loc[2][\"sex\"]  # Accessing the whole row as a series, then using the column name as index label"
      ],
      "metadata": {
        "id": "e4EsLKeg5D09"
      },
      "execution_count": null,
      "outputs": []
    },
    {
      "cell_type": "markdown",
      "source": [
        "As with `Series`, we can use a boolean-valued series to index a `DataFrame` provided the share the same index labels. The simplest instance of this is to use series produced as boolean masks of columns of the dataframe. The output of this *filtering* operation is a dataframe with subset of rows corresponding to the `True` values in the boolean mask."
      ],
      "metadata": {
        "id": "rEXyZ4x55nHU"
      }
    },
    {
      "cell_type": "code",
      "source": [
        "tips[tips['sex'] == \"Male\"].head(5)"
      ],
      "metadata": {
        "id": "cfxb75CS5x_0"
      },
      "execution_count": null,
      "outputs": []
    },
    {
      "cell_type": "code",
      "source": [
        "tips[(tips['sex'] == \"Male\") & (tips['day'] == \"Sun\")].head(5)  # Multiple booleans (\"&\", \"|\", \"~\")"
      ],
      "metadata": {
        "id": "UCm8O1-h7cgI"
      },
      "execution_count": null,
      "outputs": []
    },
    {
      "cell_type": "markdown",
      "source": [
        "A `DataFrame` comes with several attributes for computing column-wise statistics and summaries. We highlight some of them:\n",
        "\n",
        "*   `.boxplot` (check out the `by = ` option)\n",
        "*   `.corrwith` and `.corr` (within and across `DataFrame`'s)\n",
        "*   `.dot`\n",
        "*   `.mean/median/max/quantile/sum`, etc.\n",
        "*   `.sample`\n",
        "*   `.sort_values`\n",
        "*   `.unique`\n"
      ],
      "metadata": {
        "id": "mRDUV-tZ6E6F"
      }
    },
    {
      "cell_type": "markdown",
      "source": [
        "### 7.2.1 `GroupBy`"
      ],
      "metadata": {
        "id": "-S2pP_wZ9E1b"
      }
    },
    {
      "cell_type": "markdown",
      "source": [
        "This `DataFrame` method groups the `DataFrame` according to the values of a column, treating them as categorical values. It returns a groupby object."
      ],
      "metadata": {
        "id": "tVa4KXKAATQn"
      }
    },
    {
      "cell_type": "code",
      "source": [
        "# Group tips DataFrame by size of table\n",
        "by_size = tips.groupby(\"size\")\n",
        "print(by_size)\n",
        "\n",
        "# If we coerce it to a list, we see something interesting: \n",
        "# it's basically a list of tuples\n",
        "# The first element is the \"category\" variable, the second\n",
        "# is a datafame. \n",
        "list(by_size)"
      ],
      "metadata": {
        "id": "VORb1QlvAjuu"
      },
      "execution_count": null,
      "outputs": []
    },
    {
      "cell_type": "code",
      "source": [
        "list(tips.groupby(\"sex\"))"
      ],
      "metadata": {
        "id": "duXyLLnzBJsa"
      },
      "execution_count": null,
      "outputs": []
    },
    {
      "cell_type": "code",
      "source": [
        "# We can iterate through the groupby just like we would a list of tuples!\n",
        "for sex, data in tips.groupby(\"sex\"):\n",
        "    print(sex)\n",
        "    print(data.mean())\n"
      ],
      "metadata": {
        "id": "-R7wbSOKBSDV"
      },
      "execution_count": null,
      "outputs": []
    },
    {
      "cell_type": "markdown",
      "source": [
        "We `groupby` to perform *some* operation on each group, to *map* over the groups, applying a function to each element Very often this function is itself an aggregation (*reduction*). We want to somehow aggregate each group into a value or set of values that *describe* it.\n",
        "\n",
        "To apply functions to each element of a `groupby`, we use `.apply`:\n"
      ],
      "metadata": {
        "id": "2XNww55FCCxr"
      }
    },
    {
      "cell_type": "code",
      "source": [
        "# Get the maximum bill by gender: \n",
        "def max_bill(df):\n",
        "    return df['total_bill'].max()\n",
        "\n",
        "tips.groupby(\"sex\").apply(max_bill)"
      ],
      "metadata": {
        "id": "LIH-cDcYCwuC"
      },
      "execution_count": null,
      "outputs": []
    },
    {
      "cell_type": "markdown",
      "source": [
        "Many aggregation functions that exist on Series and `DataFrames` (`mean`, `max`, `min`, etc.) can be called directly via the groupby object:"
      ],
      "metadata": {
        "id": "15Yt4Yf_C835"
      }
    },
    {
      "cell_type": "code",
      "source": [
        "print(tips.groupby(\"sex\").max())\n",
        "print(tips.groupby(\"sex\").mean())"
      ],
      "metadata": {
        "id": "vtxi5Y5_DEBW"
      },
      "execution_count": null,
      "outputs": []
    },
    {
      "cell_type": "markdown",
      "source": [
        "We can actually `groupby` more than one column:"
      ],
      "metadata": {
        "id": "eehSz5mJDbrV"
      }
    },
    {
      "cell_type": "code",
      "source": [
        "tips.groupby([\"sex\", \"day\"])['tip'].mean()"
      ],
      "metadata": {
        "id": "tOfKlZvkDavP"
      },
      "execution_count": null,
      "outputs": []
    },
    {
      "cell_type": "markdown",
      "source": [
        "### 7.2.2 Combining `DataFrame`'s"
      ],
      "metadata": {
        "id": "gkOY2q1Q9IFr"
      }
    },
    {
      "cell_type": "markdown",
      "source": [
        "There are many ways to combine various `DataFrame`s into a new one, extending in many ways what we already saw for operations on `Series`. The main ways of doing this are:\n",
        "\n",
        "*   **Concatenate**: paste row-column-wise and taking action on `NaN`s (this works more on the rectangular structure of the data)\n",
        "*   **Merge**: combine `DataFrame`s using a common piece of information, e.g. an identifier column (this works more as a database operation)\n",
        "\n"
      ],
      "metadata": {
        "id": "nBvPJzomEJ-u"
      }
    },
    {
      "cell_type": "code",
      "source": [
        "# Concatenate\n",
        "df1 = pd.DataFrame({\"A\": pd.Series([1, 2, 3]), \"B\": pd.Series([4, 5, 6])})\n",
        "df2 = pd.DataFrame({\"A\": pd.Series([4]), \"C\": pd.Series([7])})\n",
        "pd.concat([df1, df2], axis = 0)\n",
        "# axis: 0 for pasting below, 1 for pasting on the side"
      ],
      "metadata": {
        "id": "j4kHvoGOHxNL"
      },
      "execution_count": null,
      "outputs": []
    },
    {
      "cell_type": "code",
      "source": [
        "df1 = pd.DataFrame({\"A\": pd.Series([1, 2, 3]), \"B\": pd.Series([4, 5, 6])})\n",
        "df2 = pd.DataFrame({\"A\": pd.Series([4]), \"C\": pd.Series([7])})\n",
        "pd.concat([df1, df2], axis = 1, join = \"inner\")  # \"inner\" join"
      ],
      "metadata": {
        "id": "82iO002oIZUH"
      },
      "execution_count": null,
      "outputs": []
    },
    {
      "cell_type": "code",
      "source": [
        "# Concatenation is mostly used when the rows or columns are shared. \n",
        "# For example, you might have data with the same columns and want to concatenate them on axis 0:\n",
        "# But note: what happened to the index? \n",
        "# We might want to reset it. \n",
        "df1 = pd.DataFrame({\"A\": pd.Series([1, 2, 3]), \"B\": pd.Series([4, 5, 6])})\n",
        "df2 = pd.DataFrame({\"A\": pd.Series([4]), \"B\": pd.Series([7])})\n",
        "df3 = pd.concat([df1, df2], axis = 0)\n",
        "df3"
      ],
      "metadata": {
        "id": "bKtAAPjHIsSE"
      },
      "execution_count": null,
      "outputs": []
    },
    {
      "cell_type": "code",
      "source": [
        "# Similarly, you might have data with the same rows and different columns:\n",
        "df1 = pd.DataFrame({\"A\": pd.Series([1, 2, 3]), \"B\": pd.Series([4, 5, 6])})\n",
        "df2 = pd.DataFrame({\"C\": pd.Series([4]), \"D\": pd.Series([7])})\n",
        "pd.concat([df1, df2], axis = 1)"
      ],
      "metadata": {
        "id": "R6mehnrOIuKC"
      },
      "execution_count": null,
      "outputs": []
    },
    {
      "cell_type": "code",
      "source": [
        "# But note what happens if the rows do not align, and you concatenate on axis 1 (by rows):\n",
        "df1 = pd.DataFrame({\"A\": pd.Series([1, 2, 3]), \"B\": pd.Series([4, 5, 6])})\n",
        "df2 = pd.DataFrame({\"C\": pd.Series([7]), \"D\": pd.Series([10])})\n",
        "pd.concat([df1, df2], axis = 1)"
      ],
      "metadata": {
        "id": "Unn6_1LiIwb_"
      },
      "execution_count": null,
      "outputs": []
    },
    {
      "cell_type": "markdown",
      "source": [
        "Let's go with merging now: `merge` is commonly used when your two `DataFrame`s must be connected and they do not share an index or columns. With merge we will connect two `DataFrame`s on some common piece of information, e.g. a common column. There are four types of `join` operations:\n",
        "\n",
        "*   `inner`-join: **intersection** of *keys*\n",
        "*   `outer`-join: **union** of *keys*\n",
        "*   `left`-join: use *keys* from **left only**\n",
        "*   `right`-join: use *keys* from **right only**"
      ],
      "metadata": {
        "id": "xR2E9PJFJLmL"
      }
    },
    {
      "cell_type": "code",
      "source": [
        "# Merging\n",
        "df1 = pd.DataFrame({\"A\": pd.Series([1, 2, 3]), \"B\": pd.Series([4, 5, 6])})\n",
        "df2 = pd.DataFrame({\"A\": pd.Series([3, 4]), \"C\": pd.Series([7, 8])})\n",
        "\n",
        "# \"on\" defines on what piece of information the DataFrame's will merge\n",
        "pd.merge(df1, df2, on = 'A', how = 'right')  # if column names differ, use \"left_on\" and \"right_on\""
      ],
      "metadata": {
        "id": "46tt1Z1tJLUP"
      },
      "execution_count": null,
      "outputs": []
    },
    {
      "cell_type": "code",
      "source": [
        "pd.merge(df1, df2, on = 'A', how = 'left')"
      ],
      "metadata": {
        "id": "j0gJRMeMJ0gr"
      },
      "execution_count": null,
      "outputs": []
    },
    {
      "cell_type": "code",
      "source": [
        "pd.merge(df1, df2, on = 'A', how = 'outer')"
      ],
      "metadata": {
        "id": "U103WteCJ09k"
      },
      "execution_count": null,
      "outputs": []
    },
    {
      "cell_type": "code",
      "source": [
        "pd.merge(df1, df2, on='A', how = 'inner')"
      ],
      "metadata": {
        "id": "i8yGSFG1J3Af"
      },
      "execution_count": null,
      "outputs": []
    },
    {
      "cell_type": "markdown",
      "metadata": {
        "id": "YS858YXVHT9_"
      },
      "source": [
        "---\n",
        "## 8. String manipulation"
      ]
    },
    {
      "cell_type": "markdown",
      "source": [
        "### 8.1 Simple operations\n",
        "\n",
        "You may find yourself working with text data, a.k.a. strings. \n",
        "\n",
        "Strings are actually iterables, just like lists. They can be subset analogously:"
      ],
      "metadata": {
        "id": "KIyoQcKHWXrL"
      }
    },
    {
      "cell_type": "code",
      "source": [
        "x = \"one python string\"\n",
        "x[4:10]"
      ],
      "metadata": {
        "id": "jMwvvpUpU_H2"
      },
      "execution_count": null,
      "outputs": []
    },
    {
      "cell_type": "code",
      "source": [
        "# You can also turn a string into a list of strings via the \"split\" method:\n",
        "x = \"one python string\"\n",
        "y = x.split(\" \")\n",
        "y == [\"one\", \"python\", \"string\"]"
      ],
      "metadata": {
        "id": "mK2rS2DVVGhy"
      },
      "execution_count": null,
      "outputs": []
    },
    {
      "cell_type": "code",
      "source": [
        "# The reverse is also possible via the \"join\" method:\n",
        "space = \" \"\n",
        "z = space.join(y)\n",
        "z == x"
      ],
      "metadata": {
        "id": "Mnay03Q1VQXb"
      },
      "execution_count": null,
      "outputs": []
    },
    {
      "cell_type": "markdown",
      "source": [
        "You can also make everything lower (or upper) case, replace certain substrings with other substrings, and check for the existence of a substring with `in`:"
      ],
      "metadata": {
        "id": "EE-blUVMVX3n"
      }
    },
    {
      "cell_type": "code",
      "source": [
        "z = \"My Python String\"\n",
        "z.lower()"
      ],
      "metadata": {
        "id": "EBofjnfoVUKQ"
      },
      "execution_count": null,
      "outputs": []
    },
    {
      "cell_type": "code",
      "source": [
        "z.upper()"
      ],
      "metadata": {
        "id": "GRv6XFXlVe66"
      },
      "execution_count": null,
      "outputs": []
    },
    {
      "cell_type": "code",
      "source": [
        "w = z.replace(\"Python\", \"R\")\n",
        "print(w)\n",
        "\"Python\" in w"
      ],
      "metadata": {
        "id": "Iq4Od0jmVgPp"
      },
      "execution_count": null,
      "outputs": []
    },
    {
      "cell_type": "markdown",
      "source": [
        "There are many more easy-to-use, built-in tools for working with text data in Python. You can read more here:\n",
        "\n",
        "*   https://docs.python.org/3/library/stdtypes.html#string-method"
      ],
      "metadata": {
        "id": "JuazOlFFV1ZV"
      }
    },
    {
      "cell_type": "markdown",
      "source": [
        "### 8.2 Regular expressions\n",
        "\n",
        "A *regular expression* is a special sequence of characters that helps you match or find other strings or sets of strings, using a specialized syntax held in a pattern. Regular expressions are used in different languages, we'll also review them in the `R` session. Python uses the module `re` to deal with them.\n",
        "\n",
        "Let's pretend we have an `html` text. Find **all** words tagged as bold (`<b>word</b>`) in `html`, turn them to italics (`<i>word</i>`) and add the word \"freaking\" before them."
      ],
      "metadata": {
        "id": "pihFEbEzWdLh"
      }
    },
    {
      "cell_type": "code",
      "source": [
        "import re\n",
        "\n",
        "a_text = 'Why am I taking this <b>course</b>? I want to go back to the <b>holidays</b>.'\n",
        "\n",
        "# Preffix 'r' is an indicator of regular expression\n",
        "the_regex = r'<b>([a-z\\s]+)</b>'\n",
        "replacement = r'<i>freaking \\1</i>'\n",
        "\n",
        "# Function to replace a regular expression with another\n",
        "re.sub(the_regex, replacement, a_text)"
      ],
      "metadata": {
        "id": "O3w8rlYAYjap"
      },
      "execution_count": null,
      "outputs": []
    },
    {
      "cell_type": "markdown",
      "source": [
        "Some helpful functions to manouvering with regular expressions with `re`:\n",
        "\n",
        "*  `re.search(pattern, string)`: scan through `string` looking for locations where the regular expression `pattern` produces a match, and return a corresponding match object.\n",
        "*  `re.match(pattern, string)`: if zero or more characters at the beginning of `string` match the regular expression `pattern`, return a corresponding match object.\n",
        "*  `re.split(pattern, string)`: split `string` by the occurrences of `pattern`\n",
        "*  `re.sub(pattern, repl, string)`: return the `string `obtained by replacing the leftmost non-overlapping occurrences of `pattern` in string by the replacement `repl`\n",
        "*  `re.findall()`: search for *all* occurrences that match a given pattern"
      ],
      "metadata": {
        "id": "oEjqTySIb0qM"
      }
    },
    {
      "cell_type": "markdown",
      "source": [
        "Regular expressions are relatively complex and there is a long list of combinations we can make, which are well outside the scope of this introduction. We limit to mentioning some special characters to form regular expressions:\n",
        "\n",
        "*  `^`: Start of string\n",
        "*  `$`: End of string\n",
        "*  `.`: One character, no matter which (except line break)\n",
        "*  `*`: match 0 or more repetitions of the preceding RE\n",
        "*  `+`: match 1 or more repetitions of the preceding RE\n",
        "*  `?`: match 0 or 1 repetition of the preceding RE\n",
        "*  `{m,n}`: Causes the resulting RE to match from m to n repetitions of the preceding RE. The comma and the n are optional depending on the case\n",
        "*  `|`: OR. E.g. A|B means match RE A or B\n",
        "*  `(...)`: Matches whatever regular expression is inside the parentheses\n",
        "*  `[]`: Defines a subset of characters to match\n",
        "*  `\\`: Either escapes special characters (permitting you to match characters like '*', '?', and so forth), or signals a special sequence (e.g. \\s means a white space).\n",
        "*  `\\w`: Matches a word (letters only)\n",
        "*  `\\W`: Matches a word (letters and characters, equivalent to `[^a-zA-Z0-9_]`)"
      ],
      "metadata": {
        "id": "URSYuLK_Yj_D"
      }
    },
    {
      "cell_type": "markdown",
      "metadata": {
        "id": "fhU1ztJFHGF5"
      },
      "source": [
        "---\n",
        "## 9. Some advanced concepts\n"
      ]
    },
    {
      "cell_type": "markdown",
      "source": [
        "### 9.1 Copy vs. assignment\n",
        "\n",
        "Look at the following example:"
      ],
      "metadata": {
        "id": "da9FNoY55TqQ"
      }
    },
    {
      "cell_type": "code",
      "source": [
        "a = [1, 2, 5]\n",
        "b = a\n",
        "b[2] = 10"
      ],
      "metadata": {
        "id": "8tVIDpDg8pck"
      },
      "execution_count": null,
      "outputs": []
    },
    {
      "cell_type": "code",
      "source": [
        "print(a)\n",
        "print(b)"
      ],
      "metadata": {
        "id": "FKi_NCMi8rQf"
      },
      "execution_count": null,
      "outputs": []
    },
    {
      "cell_type": "markdown",
      "source": [
        "What happens is that really `a` and `b` point to the same place in the memory and share the same data. The way to create an object that will *copy* the data in a but not *share* the data with a is to use the method `copy()`."
      ],
      "metadata": {
        "id": "7wR_qWwX8ygE"
      }
    },
    {
      "cell_type": "code",
      "source": [
        "a = [1, 2, 5]\n",
        "b = a.copy()\n",
        "b[2] = 10"
      ],
      "metadata": {
        "id": "DI51EYm767XB"
      },
      "execution_count": null,
      "outputs": []
    },
    {
      "cell_type": "code",
      "source": [
        "print(a)\n",
        "print(b)"
      ],
      "metadata": {
        "id": "wMZgkFxl6-aP"
      },
      "execution_count": null,
      "outputs": []
    },
    {
      "cell_type": "markdown",
      "source": [
        "This goes a bit deeper into the concept how `python` uses memory in your computer, but it is important to have a grasp on it in order to avoid potential problems when memory becomes an issue."
      ],
      "metadata": {
        "id": "3y9ADLhN9CoI"
      }
    },
    {
      "cell_type": "code",
      "source": [
        "a = [1, [2, 3], 5, 'abc'] \n",
        "b = a.copy()\n",
        "b[1].append(100)"
      ],
      "metadata": {
        "id": "lXZB77BB7d4B"
      },
      "execution_count": null,
      "outputs": []
    },
    {
      "cell_type": "code",
      "source": [
        "print(a)\n",
        "print(b)"
      ],
      "metadata": {
        "id": "y2fnZsyB7ffg"
      },
      "execution_count": null,
      "outputs": []
    },
    {
      "cell_type": "markdown",
      "source": [
        "Things become a little trickier when you deal with lists of lists, for this reason there is also the `deepcopy`. "
      ],
      "metadata": {
        "id": "ZBck8utN9fk8"
      }
    },
    {
      "cell_type": "code",
      "source": [
        "a = [1, [2, 3], 5, 'abc'] \n",
        "b = a.copy()\n",
        "b[1].append(100)"
      ],
      "metadata": {
        "id": "DRLkIA6Y9x3A"
      },
      "execution_count": null,
      "outputs": []
    },
    {
      "cell_type": "code",
      "source": [
        "print(a)\n",
        "print(b)"
      ],
      "metadata": {
        "id": "jBTBcxWI9zdr"
      },
      "execution_count": null,
      "outputs": []
    },
    {
      "cell_type": "markdown",
      "source": [
        "(What happened here is that both `a` and `b` still point to some deeper list `[2, 3]`)"
      ],
      "metadata": {
        "id": "jlPqMp4Y-CVx"
      }
    },
    {
      "cell_type": "code",
      "source": [
        "# Try now \n",
        "from copy import deepcopy\n",
        "b = deepcopy(a)\n",
        "b[1].pop()  # Removes (last) item on the list\n",
        "print(a)\n",
        "print(b)"
      ],
      "metadata": {
        "id": "6D2zE5S8-fXx"
      },
      "execution_count": null,
      "outputs": []
    },
    {
      "cell_type": "markdown",
      "source": [
        "### 9.2 Error handling\n",
        "\n",
        "Sometimes there problems come up in the code that make it not function properlu. When that happens, if there is no error raised, the problem could be anywhere and that makes it very hard to fix.\n",
        "\n",
        "Setting up informative *errors* if something is not working well, on the other hand, tells us where things go wrong and point us to what we need to fix."
      ],
      "metadata": {
        "id": "G0JIlmbD--sJ"
      }
    },
    {
      "cell_type": "code",
      "source": [
        "# Errors in Python are called Exceptions. \n",
        "e = Exception()\n",
        "type(e)"
      ],
      "metadata": {
        "id": "RWnIUTHHBsEM"
      },
      "execution_count": null,
      "outputs": []
    },
    {
      "cell_type": "code",
      "source": [
        "# Exceptions are raised with the \"raise\" keyword: \n",
        "raise Exception('Oops!')"
      ],
      "metadata": {
        "id": "1Y9E1zTVB2rK"
      },
      "execution_count": null,
      "outputs": []
    },
    {
      "cell_type": "markdown",
      "source": [
        "Every *part* of your program, for example each function, must be in charge of things going as expected inside its body. If something goes wrong, it should tell us what happened.\n",
        "\n",
        "One way to do this is to check for possible problems before they occur:"
      ],
      "metadata": {
        "id": "-rbZlYFZCKIg"
      }
    },
    {
      "cell_type": "code",
      "source": [
        "def age_a_person(person):\n",
        "    if not hasattr(person, 'age'):\n",
        "       raise Exception(f'The person must have an age attribute! Given: {person}')\n",
        "    return person.age + 1\n",
        "\n",
        "age_a_person('notaperson')"
      ],
      "metadata": {
        "id": "eyixmzJxCI1E"
      },
      "execution_count": null,
      "outputs": []
    },
    {
      "cell_type": "markdown",
      "source": [
        "Python encourages that one should first try, and *catch* any expected errors that occur, handling them then. By *catching an error* we mean the following:\n"
      ],
      "metadata": {
        "id": "9Xm-J6DtC_z6"
      }
    },
    {
      "cell_type": "code",
      "source": [
        "def age_a_person(person):\n",
        "    try:\n",
        "        return person.age + 1\n",
        "    except AttributeError as e:\n",
        "        raise Exception(f'The person must have an age attribute! Given: {person}') from e\n",
        "\n",
        "age_a_person('notaperson')"
      ],
      "metadata": {
        "id": "9QjvVx6pC42v"
      },
      "execution_count": null,
      "outputs": []
    },
    {
      "cell_type": "markdown",
      "source": [
        "### 9.3 Default values in functions\n",
        "\n",
        "In `python` we get to assign default values to inputs of functions. For example:"
      ],
      "metadata": {
        "id": "uAx_G29H_DSa"
      }
    },
    {
      "cell_type": "code",
      "source": [
        "# New function \"f\"\n",
        "def f(a = 1, b = 2):\n",
        "    return a + b\n"
      ],
      "metadata": {
        "id": "YGEIgl-mEafg"
      },
      "execution_count": null,
      "outputs": []
    },
    {
      "cell_type": "code",
      "source": [
        "# Function \"f\" can be validly be called in the following ways\n",
        "print(f())\n",
        "print(f(10))\n",
        "print(f(b = 4))\n",
        "print(f(10, 4))\n",
        "print(f(a = 10, b = 4))\n",
        "print(f(b = 4, a = 10))"
      ],
      "metadata": {
        "id": "TUdmBujhEiXk"
      },
      "execution_count": null,
      "outputs": []
    },
    {
      "cell_type": "code",
      "source": [
        "# But NOT like this\n",
        "f(a = 10, 4)"
      ],
      "metadata": {
        "id": "J1WDrSvcE1Tf"
      },
      "execution_count": null,
      "outputs": []
    },
    {
      "cell_type": "markdown",
      "metadata": {
        "id": "dUewJe_GHJRC"
      },
      "source": [
        "---\n",
        "## 10. Particular topics"
      ]
    },
    {
      "cell_type": "markdown",
      "source": [
        "### 10.1 Date and time objects\n",
        "\n",
        "We introduce how to deal with time and date type of objects in Python. To do this, we need a module denominated `datetime`, which it also involves the class `datetime`."
      ],
      "metadata": {
        "id": "QZH8TUiXhNb1"
      }
    },
    {
      "cell_type": "code",
      "source": [
        "from datetime import datetime  # This is a module and a class\n",
        "\n",
        "# Current date\n",
        "current_time = datetime.now()\n",
        "print(current_time)\n",
        "print(type(current_time))"
      ],
      "metadata": {
        "id": "IBszoxOGLsdz"
      },
      "execution_count": null,
      "outputs": []
    },
    {
      "cell_type": "markdown",
      "source": [
        "`current_time` is of class `datetime`, but this is just one of five distinct time-object classes:\n",
        "\n",
        "*   `datetime`: allows to work with times and dates together (month, day, year, hour, second, microsecond).\n",
        "*   `date`: works with dates only (month, day, year), independent of time. \n",
        "*   `time`: works with time only (hour, minute, second, microsecond), independent of date. \n",
        "*   `timedelta`: a duration of time used for measuring distance between to time points.\n",
        "*   `tzinfo`: to deal with time zones."
      ],
      "metadata": {
        "id": "SDP3u5RSMZWD"
      }
    },
    {
      "cell_type": "markdown",
      "source": [
        "The most common scenario with time data is translating from and to regular character objects, which is the most frequent format that we will encounter when importing times and dates. We use the following two functions:"
      ],
      "metadata": {
        "id": "8d5hhZCANbaC"
      }
    },
    {
      "cell_type": "code",
      "source": [
        "today_date = '2022-01-04'\n",
        "\n",
        "# Create date object in given time format yyyy-mm-dd\n",
        "today_date = datetime.strptime(today_date, '%Y-%m-%d')\n",
        "\n",
        "print(today_date)\n",
        "print(type(today_date))"
      ],
      "metadata": {
        "id": "UOPhI-hoNqm2"
      },
      "execution_count": null,
      "outputs": []
    },
    {
      "cell_type": "markdown",
      "source": [
        "Note we used the *pattern* `%Y-%m-%d` to indicate the year-month-day format we want to give the date object. A full list of imaginable patterns can be found in the library's [documentation](https://docs.python.org/2/library/datetime.html#strftime-and-strptime-behavior)."
      ],
      "metadata": {
        "id": "Hd9mAzl5OEPt"
      }
    },
    {
      "cell_type": "code",
      "source": [
        "print('* Month:', today_date.month)  # Get month from date\n",
        "print('* Year:', today_date.year)  # Get month from year\n",
        "print('* Day of month:', today_date.day)  # ...\n",
        "print('* Day of Week (number):', today_date.weekday())  # Recall indexing"
      ],
      "metadata": {
        "id": "5HvgXhqDN6Oh"
      },
      "execution_count": null,
      "outputs": []
    },
    {
      "cell_type": "code",
      "source": [
        "print('* Hour: ', current_time.hour)\n",
        "print('* Minute: ', current_time.minute)\n",
        "print(current_time.isocalendar())  # Returns (year, # week, # day)"
      ],
      "metadata": {
        "id": "SLPTtMy4Pc5e"
      },
      "execution_count": null,
      "outputs": []
    },
    {
      "cell_type": "markdown",
      "source": [
        "As mentioned, you can convert from time to string with the function `strftime()`."
      ],
      "metadata": {
        "id": "nnWt5MPjQVdc"
      }
    },
    {
      "cell_type": "code",
      "source": [
        "today_str = datetime.strftime(today_date, format = '%Y-%m-%d')\n",
        "type(today_str)"
      ],
      "metadata": {
        "id": "wMb1Bq6QQDIG"
      },
      "execution_count": null,
      "outputs": []
    },
    {
      "cell_type": "markdown",
      "source": [
        "Recall we mentioned that to measure time spans, or to operate dates or times (add/subtract) we could use the `timedelta` type of object. Mind you, these objects need not be anchored on a specific date and they can be a generic time frame."
      ],
      "metadata": {
        "id": "ocHTeNuIQoK-"
      }
    },
    {
      "cell_type": "code",
      "source": [
        "from datetime import timedelta\n",
        "\n",
        "# timedelta objects\n",
        "three_weeks = timedelta(weeks = 3)\n",
        "one_year = timedelta(days = 365)\n",
        "\n",
        "print(three_weeks)\n",
        "print(type(three_weeks))\n",
        "print(three_weeks.days)\n",
        "print(one_year.days)"
      ],
      "metadata": {
        "id": "SO5NnPXaRK77"
      },
      "execution_count": null,
      "outputs": []
    },
    {
      "cell_type": "markdown",
      "source": [
        "Let us now operate on these objects."
      ],
      "metadata": {
        "id": "i9um5YCGSNMM"
      }
    },
    {
      "cell_type": "code",
      "source": [
        "from datetime import datetime, timedelta\n",
        "\n",
        "# Current time\n",
        "now = datetime.now()\n",
        "print(\"Today's date: \", str(now))\n",
        "\n",
        "# Add three weeks to current date\n",
        "now_in_3weeks = now + three_weeks\n",
        "print('Date after three weeks: ', now_in_3weeks)\n",
        "\n",
        "# Subtract one year from current date\n",
        "one_year_ago = now - one_year\n",
        "print('Date one year ago: ', one_year_ago)\n",
        "print(type(two_weeks_ago))"
      ],
      "metadata": {
        "id": "jph6ZW4ySPny"
      },
      "execution_count": null,
      "outputs": []
    },
    {
      "cell_type": "code",
      "source": [
        "from datetime import date\n",
        "\n",
        "# Create two dates\n",
        "date1 = date(2011, 5, 28)\n",
        "date2 = date(2015, 6, 6)\n",
        "# create two dates with year, month, day, hour, minute, and second\n",
        "date1b = datetime(2011, 5, 28, 23, 1, 0)\n",
        "date2b = datetime(2015, 6, 6, 22, 52, 10)\n",
        "\n",
        "# Difference between two dates\n",
        "date_diff = date2 - date1\n",
        "date_diffb = date2b - date1b\n",
        "print(\"Time difference (days): \", date_diff.days)\n",
        "print(\"Time difference: \", date_diffb)\n",
        "print(type(date_diff))"
      ],
      "metadata": {
        "id": "Zmbg3MZ-S5Pn"
      },
      "execution_count": null,
      "outputs": []
    },
    {
      "cell_type": "code",
      "source": [
        "# To work with time zones:\n",
        "from pytz import timezone\n",
        "\n",
        "# Create timezone US/Eastern\n",
        "est = timezone('US/Eastern')\n",
        "\n",
        "# Re-set date to local time\n",
        "loc_time = est.localize(datetime(2015, 6, 6, 22, 52, 10))\n",
        "print(loc_time)"
      ],
      "metadata": {
        "id": "7JQWOhkXUYlc"
      },
      "execution_count": null,
      "outputs": []
    },
    {
      "cell_type": "markdown",
      "source": [
        "You can also work with time objects using `pandas`. You can convert text strings into `pandas` `Datetime` objects using:\n",
        "\n",
        "*  `to_datetime()`: to convert string dates/times to `datetime` objects.\n",
        "*  `to_timedelta()`: find differences in times.\n"
      ],
      "metadata": {
        "id": "Cc2LG0zuUp9N"
      }
    },
    {
      "cell_type": "code",
      "source": [
        "import pandas as pd\n",
        "import numpy as np\n",
        "\n",
        "# String to datetime\n",
        "good_date = pd.to_datetime(\"6th of June, 2015\")\n",
        "print(good_date)\n",
        "\n",
        "# Create date series to_timedelta() (add numpy)\n",
        "date_series = good_date + pd.to_timedelta(np.arange(12), 'D')\n",
        "print(date_series)\n",
        "\n",
        "# Create date series using date_range() function\n",
        "date_series = pd.date_range('06/06/2015', periods = 12, freq = 'D')\n",
        "print(date_series)"
      ],
      "metadata": {
        "id": "1WdXzwl7W4ix"
      },
      "execution_count": null,
      "outputs": []
    },
    {
      "cell_type": "code",
      "source": [
        "# Create a DataFrame with date as a column\n",
        "data = pd.DataFrame()\n",
        "data['date'] = date_series\n",
        "data.head()"
      ],
      "metadata": {
        "id": "QVDOiXr5X7PC"
      },
      "execution_count": null,
      "outputs": []
    },
    {
      "cell_type": "code",
      "source": [
        "# Extract year, month, day, hour, and minute; and assign to new columns\n",
        "data['year'] = data['date'].dt.year\n",
        "data['month'] = data['date'].dt.month\n",
        "data['day'] = data['date'].dt.day\n",
        "data['hour'] = data['date'].dt.hour\n",
        "data['minute'] = data['date'].dt.minute\n",
        "data.head()"
      ],
      "metadata": {
        "id": "pHUUa5ekYBYc"
      },
      "execution_count": null,
      "outputs": []
    },
    {
      "cell_type": "markdown",
      "source": [
        "### 10.2 Web scraping and `html` parsing\n",
        "\n",
        "Web *scraping* deals with the retrieval of information featured in some web page. It basically consists of reading the content in a URL, and posteriorly *parsing* it to extract the relevant information that you are looking for. This is an extensive topic in itself so we will just introduce the plain basics to get you started."
      ],
      "metadata": {
        "id": "BMplqP-DJDN7"
      }
    },
    {
      "cell_type": "markdown",
      "source": [
        "Before anything, note that most information in a HTML source is of little use to us and is used to render and format the webpage itself. Therefore it would be wise to familiarise yourself with HTML tags as and when needed. We must consider some design aspects of creating a *spider* that will *crawl* the target webpage and get us the desired content.\n",
        "\n",
        "1.   Identify tags that contain useful information\n",
        "2.   Add randomised waiting periods between every access to website\n",
        "3.   Make use of logs to monitor progress\n",
        "4.   Regularly write collected data to an external file\n",
        "5.   **Always** respect `robots.txt` file defined by websites\n",
        "\n",
        "We use as an example Wikipedia. The target will be to  retrieve the summary of the featured article in Wikipedia along with all the URLs in it."
      ],
      "metadata": {
        "id": "RDMf69mFhHB8"
      }
    },
    {
      "cell_type": "code",
      "source": [
        "from bs4 import BeautifulSoup\n",
        "#import urllib  # If you're using Python 2.x\n",
        "import urllib.request  # If you're using Python 3\n",
        "\n",
        "url = 'https://en.wikipedia.org/wiki/Main_Page'\n",
        "#html = urllib.urlopen(url).read()  # Python 2.x\n",
        "with urllib.request.urlopen(url) as url_content:\n",
        "    html = url_content.read()\n",
        "\n",
        "# BeautifulSoup() is a formatting module to interpret html/xml\n",
        "soup = BeautifulSoup(html)\n",
        "print(soup)"
      ],
      "metadata": {
        "id": "sl4cqMBpB2XU"
      },
      "execution_count": null,
      "outputs": []
    },
    {
      "cell_type": "code",
      "source": [
        "print(type(soup))\n",
        "print(soup.prettify()[0:1000])"
      ],
      "metadata": {
        "id": "R799kHqpDd6u"
      },
      "execution_count": null,
      "outputs": []
    },
    {
      "cell_type": "markdown",
      "source": [
        "The text is structured with HTML tags organised in a systematic way. This structure is referred to as a *HTML DOM* (Document Object Model).\n",
        "\n",
        "We are interested grabbing the summary of article of the day, from the Wikipedia main page along with all the links in it. So we'll use `BeautifulSoup`'s functions to parse HTML tags that contain this information or lead us to it in the form of embedded URLs.\n",
        "\n",
        "On inspection of the HTML source we identify that the article summary is enclosed in the tag table with the attribute `id = mp-upper`. The idea is as follows,\n",
        "\n",
        "1.   Using the function in `.find_all()` in BeautifulSoup we search for all tags of the type `table`\n",
        "2.   Search the returned list for all the tag that has an attribute `id = mp-upper`.\n",
        "3.   Now that you have the table notice that the information needed is in the tag called `p`. Search for all tags `p`\n",
        "4.  Identify the correct paragraph and extract URLs.\n",
        "5.  Extract text.\n",
        "\n"
      ],
      "metadata": {
        "id": "_p9x7tE8EMNz"
      }
    },
    {
      "cell_type": "code",
      "source": [
        "# 1. Look for all tags called table\n",
        "tables_list = soup.find_all(name = \"table\")\n",
        "tables_list"
      ],
      "metadata": {
        "id": "Q813eykNE92E"
      },
      "execution_count": null,
      "outputs": []
    },
    {
      "cell_type": "code",
      "source": [
        "# 2. Search for the table of interest by matching on the key 'id'\n",
        "for table in tables_list:\n",
        "    try:\n",
        "        if table['id'] == 'mp-upper':\n",
        "            article_table = table\n",
        "    except:\n",
        "        None\n",
        "\n",
        "print('object type of \"article_table\" is ' + str(type(article_table)) + '\\n')"
      ],
      "metadata": {
        "id": "A_Q1GvgVFVBV"
      },
      "execution_count": null,
      "outputs": []
    },
    {
      "cell_type": "code",
      "source": [
        "# 3. Search for the tag \"p\"\n",
        "paragraph = article_table.findAll(name = 'p')[0]\n",
        "paragraph"
      ],
      "metadata": {
        "id": "X-uuvbTPFm8r"
      },
      "execution_count": null,
      "outputs": []
    },
    {
      "cell_type": "code",
      "source": [
        "# 4. Extract URLs\n",
        "urls = [tag['href'] for tag in paragraph.findAll('a', href = True)]\n",
        "for url in urls:\n",
        "    print(url)\n",
        "\n",
        "print('\\n')"
      ],
      "metadata": {
        "id": "4gennUjOFvL4"
      },
      "execution_count": null,
      "outputs": []
    },
    {
      "cell_type": "code",
      "source": [
        "# 5. Build the text of the article summary by looping through all the children and concatinating the text \n",
        "text = ''\n",
        "for ch in paragraph.children:\n",
        "    text = text + ch.string\n",
        "\n",
        "print(text + '\\n')"
      ],
      "metadata": {
        "id": "DI3zsfYbF7Ty"
      },
      "execution_count": null,
      "outputs": []
    }
  ]
}