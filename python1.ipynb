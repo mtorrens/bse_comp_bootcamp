{
  "nbformat": 4,
  "nbformat_minor": 0,
  "metadata": {
    "colab": {
      "name": "python1.ipynb",
      "provenance": []
    },
    "kernelspec": {
      "name": "python3",
      "display_name": "Python 3"
    },
    "language_info": {
      "name": "python"
    }
  },
  "cells": [
    {
      "cell_type": "markdown",
      "metadata": {
        "id": "k901S0J55TMo"
      },
      "source": [
        "# SESSION A1: Python (i)"
      ]
    },
    {
      "cell_type": "markdown",
      "metadata": {
        "id": "AgT250Tf5iu2"
      },
      "source": [
        "By **Miquel Torrens i Dinarès**\n",
        "\n",
        "*Barcelona School of Economics*\n",
        "\n",
        "*Data Science Center*\n",
        "\n",
        "January 4, 2022"
      ]
    },
    {
      "cell_type": "markdown",
      "metadata": {
        "id": "b1iVOUGJ53Ur"
      },
      "source": [
        "## 1. Preliminaries"
      ]
    },
    {
      "cell_type": "markdown",
      "metadata": {
        "id": "SfhOiZIJb0ha"
      },
      "source": [
        "### 1.1 Getting started"
      ]
    },
    {
      "cell_type": "markdown",
      "metadata": {
        "id": "pgPEXnan6oxk"
      },
      "source": [
        "We will be working in Google Colab throughout the course. You can find more details about Colab [here](https://https://colab.research.google.com/notebooks/basic_features_overview.ipynb).\n",
        "\n",
        "There are different styles to writing code, but try to stick consistently to a (sensible) style guide: it is essential that the code not only works but is also understandable by everyone. The \"official\" guide for `python` can be founde here:\n",
        "\n",
        "* Style guide: https://www.python.org/dev/peps/pep-0008/\n",
        "\n",
        "Rules to code properly are fairly common sense, just like those of natural language. You can make them your own (within reason), the important part is to be **consistent**."
      ]
    },
    {
      "cell_type": "markdown",
      "metadata": {
        "id": "cX0AzCRYb9Aq"
      },
      "source": [
        "### 1.2 Printing"
      ]
    },
    {
      "cell_type": "markdown",
      "metadata": {
        "id": "2PnO6gPab_gH"
      },
      "source": [
        "It can be useful to *print* what we are running on the console, this can be done with the built-in `print` command. You might have noticed that Colab notebooks automatically display the value of the last expression in a cell when you execute it, so you don't need to print that."
      ]
    },
    {
      "cell_type": "code",
      "metadata": {
        "id": "d_9s6Bf8cpc3"
      },
      "source": [
        "# Colab automatically prints \"y\" to \"out\", \n",
        "# but we need to manually print \"x\" if we want to see it\n",
        "x = 15 / 2\n",
        "print(x)\n",
        "y = x > 2\n",
        "y"
      ],
      "execution_count": null,
      "outputs": []
    },
    {
      "cell_type": "markdown",
      "metadata": {
        "id": "4rSy59I3cucE"
      },
      "source": [
        "We may want to use placeholders to print strings. There are a number of ways to do that."
      ]
    },
    {
      "cell_type": "code",
      "metadata": {
        "colab": {
          "base_uri": "https://localhost:8080/",
          "height": 36
        },
        "id": "8tyzuNHxc0nC",
        "outputId": "e2f2d8f0-103c-438e-ac12-dfc0c327f2b7"
      },
      "source": [
        "a = 15\n",
        "b = 2\n",
        "c = 2\n",
        "'%i divided by %i is %.2f, and it is %s that this is greater than %i' % (a, b, a/b, (a/b) > c, c)"
      ],
      "execution_count": 52,
      "outputs": [
        {
          "output_type": "execute_result",
          "data": {
            "application/vnd.google.colaboratory.intrinsic+json": {
              "type": "string"
            },
            "text/plain": [
              "'15 divided by 2 is 7.50, and it is True that this is greater than 2'"
            ]
          },
          "metadata": {},
          "execution_count": 52
        }
      ]
    },
    {
      "cell_type": "markdown",
      "metadata": {
        "id": "mfEpL8JBdIAn"
      },
      "source": [
        "We will go into what these objects are shortly."
      ]
    },
    {
      "cell_type": "markdown",
      "metadata": {
        "id": "0lSx3E5L55l5"
      },
      "source": [
        "## 2. Basic data types"
      ]
    },
    {
      "cell_type": "markdown",
      "metadata": {
        "id": "L3LxvHCo8Y_y"
      },
      "source": [
        "Here we highlight the most important native operations you can apply to basic objects in `python`. We will go to a lower level of detail of the structure of these processes in the `R` session later in the afternoon."
      ]
    },
    {
      "cell_type": "markdown",
      "metadata": {
        "id": "ALmxGUmT7zfK"
      },
      "source": [
        "### 2.1 Numerical values"
      ]
    },
    {
      "cell_type": "code",
      "metadata": {
        "id": "QGPKp_wz73SK"
      },
      "source": [
        "# Assignment\n",
        "a = 10  # 10\n",
        "\n",
        "# Increment/Decrement\n",
        "a += 1  # 11 (a = a + 1)\n",
        "a -= 1  # 10 (a = a - 1)\n",
        "\n",
        "# Operations\n",
        "b = a + 1  # 11\n",
        "c = a - 1  # 9\n",
        "\n",
        "d = a * 2  # 20 \n",
        "e = a / 2  # 5 \n",
        "f = a % 3  # 1 (remainder)\n",
        "g = a ** 2  # 100 (exponentiation)\n",
        "\n",
        "# Operations with other variables\n",
        "d = a + b  # 21"
      ],
      "execution_count": null,
      "outputs": []
    },
    {
      "cell_type": "markdown",
      "metadata": {
        "id": "PIAmentK-wVe"
      },
      "source": [
        "### 2.2 String values"
      ]
    },
    {
      "cell_type": "markdown",
      "metadata": {
        "id": "OS9btwsK3iz8"
      },
      "source": [
        "You can concatenate strings together with the `+` operator:"
      ]
    },
    {
      "cell_type": "code",
      "metadata": {
        "colab": {
          "base_uri": "https://localhost:8080/",
          "height": 36
        },
        "id": "-Mre_VMc3lDA",
        "outputId": "fc143edd-da9f-415b-d222-5a8509060499"
      },
      "source": [
        "\"Adding\" + \" \" + \"strings\" + \" \" + \"is\" + \" \" + \"pasting\""
      ],
      "execution_count": 5,
      "outputs": [
        {
          "output_type": "execute_result",
          "data": {
            "application/vnd.google.colaboratory.intrinsic+json": {
              "type": "string"
            },
            "text/plain": [
              "'Adding strings is pasting'"
            ]
          },
          "metadata": {},
          "execution_count": 5
        }
      ]
    },
    {
      "cell_type": "markdown",
      "metadata": {
        "id": "cb2NEoPi_bF5"
      },
      "source": [
        "The built-in function `len` can be used to find the length of a string:"
      ]
    },
    {
      "cell_type": "code",
      "metadata": {
        "colab": {
          "base_uri": "https://localhost:8080/"
        },
        "id": "fw50LqOB_n7i",
        "outputId": "f3674bc5-b551-4a54-ed33-d46d48e58f11"
      },
      "source": [
        "len(\"four\")"
      ],
      "execution_count": 6,
      "outputs": [
        {
          "output_type": "execute_result",
          "data": {
            "text/plain": [
              "4"
            ]
          },
          "metadata": {},
          "execution_count": 6
        }
      ]
    },
    {
      "cell_type": "markdown",
      "metadata": {
        "id": "ttKbVcsS__75"
      },
      "source": [
        "### 2.3 Logical values"
      ]
    },
    {
      "cell_type": "markdown",
      "metadata": {
        "id": "Ack7Ie9hADu1"
      },
      "source": [
        "We can evaluate the relationships between different types of data in `python`. The output of such comparisons/operations are boolean variables. Some examples:"
      ]
    },
    {
      "cell_type": "code",
      "metadata": {
        "colab": {
          "base_uri": "https://localhost:8080/"
        },
        "id": "R7yoaWRxAR75",
        "outputId": "1a46a9f6-77e9-4c9c-baf3-85415be5d223"
      },
      "source": [
        "# Comparing numbers\n",
        "x = (1 >= 2)  # greater or equal\n",
        "y = (1 == 2)  # equal\n",
        "w = (1 != 2)  # different\n",
        "\n",
        "# Parentheses are not required, but they help readability\n",
        "x = (1 <= 2) and (1 > 0)  # both statements are true\n",
        "y = (1 >  2) or  (1 < 3)  # at least one statement is true\n",
        "\n",
        "# It is good practice to use \"is\" instead of == for checking for NoneType:\n",
        "x = None\n",
        "y = x is None\n",
        "z = x is not None\n",
        "print(y)\n",
        "print(z)"
      ],
      "execution_count": 8,
      "outputs": [
        {
          "output_type": "stream",
          "name": "stdout",
          "text": [
            "True\n",
            "False\n"
          ]
        }
      ]
    },
    {
      "cell_type": "markdown",
      "metadata": {
        "id": "efHt1_g-BJ4i"
      },
      "source": [
        "### 2.4 Lists"
      ]
    },
    {
      "cell_type": "markdown",
      "metadata": {
        "id": "R6jA6M0NBMYH"
      },
      "source": [
        "Lists are one of the simplest multi-value objects. They are created with square brackets:"
      ]
    },
    {
      "cell_type": "code",
      "metadata": {
        "id": "4pt3sqnIBXgC"
      },
      "source": [
        "a_list = [\"This\", \"is\", \"a\", \"list\", \"of\", \"strings\"]"
      ],
      "execution_count": 9,
      "outputs": []
    },
    {
      "cell_type": "markdown",
      "metadata": {
        "id": "uNq8FYyJBZ0Y"
      },
      "source": [
        "Here you can see we created a list of strings. We can also create a list of integers:"
      ]
    },
    {
      "cell_type": "code",
      "metadata": {
        "id": "64GEKJqlBcGu"
      },
      "source": [
        "num_list = [1, 5, 10]"
      ],
      "execution_count": 10,
      "outputs": []
    },
    {
      "cell_type": "markdown",
      "metadata": {
        "id": "CLB9pIonBdy4"
      },
      "source": [
        "Lists in `python` need not be homogenous, you can mix object types:"
      ]
    },
    {
      "cell_type": "code",
      "metadata": {
        "id": "urM7nYg7BrLa"
      },
      "source": [
        "mix_list = ['a', 'b', 1, 2, 3, True, None]"
      ],
      "execution_count": 12,
      "outputs": []
    },
    {
      "cell_type": "markdown",
      "metadata": {
        "id": "XwN-26sZDUyR"
      },
      "source": [
        "Sometimes you want to access individual elements from a list. You can do this using square brackets together with the index of the element:"
      ]
    },
    {
      "cell_type": "code",
      "metadata": {
        "colab": {
          "base_uri": "https://localhost:8080/",
          "height": 36
        },
        "id": "WHBHYzX0DfWz",
        "outputId": "5d78e62c-3303-420f-876b-e7a16c495239"
      },
      "source": [
        "mix_list[0]  # first element"
      ],
      "execution_count": 13,
      "outputs": [
        {
          "output_type": "execute_result",
          "data": {
            "application/vnd.google.colaboratory.intrinsic+json": {
              "type": "string"
            },
            "text/plain": [
              "'a'"
            ]
          },
          "metadata": {},
          "execution_count": 13
        }
      ]
    },
    {
      "cell_type": "markdown",
      "metadata": {
        "id": "QpGdZZykDiGH"
      },
      "source": [
        "Notice that the first element is indexed at `0`, the second element at `1`, and so on. You can also access a contiguous range of elements:"
      ]
    },
    {
      "cell_type": "code",
      "metadata": {
        "colab": {
          "base_uri": "https://localhost:8080/"
        },
        "id": "Tyr2SuVDD8Kz",
        "outputId": "e9c8c9c6-60c4-4d13-b10a-6d1148817f15"
      },
      "source": [
        "mix_list[1:3]  # second item (index 1) and third item (index 2) only!"
      ],
      "execution_count": 15,
      "outputs": [
        {
          "output_type": "execute_result",
          "data": {
            "text/plain": [
              "['b', 1]"
            ]
          },
          "metadata": {},
          "execution_count": 15
        }
      ]
    },
    {
      "cell_type": "markdown",
      "metadata": {
        "id": "K2p5_rBdD8d_"
      },
      "source": [
        "You can also use negative indices to access items from the end. For example, the last item:"
      ]
    },
    {
      "cell_type": "code",
      "metadata": {
        "id": "TWy7MJxgElK6"
      },
      "source": [
        "num_list[-1]"
      ],
      "execution_count": null,
      "outputs": []
    },
    {
      "cell_type": "markdown",
      "metadata": {
        "id": "jHjQuz1tEmqY"
      },
      "source": [
        "You can concatenate multiple lists together with the operator `+`:"
      ]
    },
    {
      "cell_type": "code",
      "metadata": {
        "colab": {
          "base_uri": "https://localhost:8080/"
        },
        "id": "He1EJxmEEqQB",
        "outputId": "8041e116-c680-40fa-a3e2-d8022eadb9da"
      },
      "source": [
        "num_list + [40, 50, 60]"
      ],
      "execution_count": 16,
      "outputs": [
        {
          "output_type": "execute_result",
          "data": {
            "text/plain": [
              "[1, 5, 10, 40, 50, 60]"
            ]
          },
          "metadata": {},
          "execution_count": 16
        }
      ]
    },
    {
      "cell_type": "markdown",
      "metadata": {
        "id": "PxcdjNw8EvUK"
      },
      "source": [
        "And you can check for membership with the operator `in`:"
      ]
    },
    {
      "cell_type": "code",
      "metadata": {
        "colab": {
          "base_uri": "https://localhost:8080/"
        },
        "id": "ovRmqqUJEwek",
        "outputId": "adf6990b-ca24-4fb3-bd00-282a66f45381"
      },
      "source": [
        "\"abc\" in [\"abc\", \"def\", \"ghi\"]"
      ],
      "execution_count": 19,
      "outputs": [
        {
          "output_type": "execute_result",
          "data": {
            "text/plain": [
              "True"
            ]
          },
          "metadata": {},
          "execution_count": 19
        }
      ]
    },
    {
      "cell_type": "markdown",
      "metadata": {
        "id": "Z2E16wDvFeIZ"
      },
      "source": [
        "### 2.5 Tuples"
      ]
    },
    {
      "cell_type": "markdown",
      "metadata": {
        "id": "osObGrVNFfyg"
      },
      "source": [
        "Tuples are created with parenthesis:"
      ]
    },
    {
      "cell_type": "code",
      "metadata": {
        "id": "fZ4nb17kJHJ5"
      },
      "source": [
        "x = (\"foo\", 1)"
      ],
      "execution_count": 20,
      "outputs": []
    },
    {
      "cell_type": "markdown",
      "metadata": {
        "id": "7BlKBu2HJJi1"
      },
      "source": [
        "But can also be created without any perenthesis, implied by the comma:"
      ]
    },
    {
      "cell_type": "code",
      "metadata": {
        "id": "7n0qmH5tJNrg"
      },
      "source": [
        "x = \"foo\", 1"
      ],
      "execution_count": null,
      "outputs": []
    },
    {
      "cell_type": "markdown",
      "metadata": {
        "id": "dPP0Mc8NJVD2"
      },
      "source": [
        "Elements in the tuple are also accessed via the index (like lists).\n",
        "\n",
        "Lists can be used most places that a tuple is used, so it can be confusing what the difference is between the two. Besides technicalities, the following rules can help you decide when to use a tuple and when to use a list:\n",
        "\n",
        "* `list`: many elements (potentially), unknown number, relatively homogenous, mutable.\n",
        "* `tuple`: few elements, fixed number, completely heterogeneous, immutable (fixed).\n",
        "\n",
        "The name comes from here: double, triple, quadruple... This hints that they should be of fixed length.\n",
        "Since their length is fixed, we often use them with destructuring:"
      ]
    },
    {
      "cell_type": "code",
      "metadata": {
        "id": "3GSf2ClZKZIA"
      },
      "source": [
        "name,num = x"
      ],
      "execution_count": null,
      "outputs": []
    },
    {
      "cell_type": "markdown",
      "metadata": {
        "id": "b0IAsgKFKmmS"
      },
      "source": [
        "Now the variable `name` contains the value `\"foo\"` and the variable `num` contains the value `1`."
      ]
    },
    {
      "cell_type": "markdown",
      "metadata": {
        "id": "sZtLa308Kwvr"
      },
      "source": [
        "### 2.6 Dictionaries"
      ]
    },
    {
      "cell_type": "markdown",
      "metadata": {
        "id": "e1q1Dtd8KzNj"
      },
      "source": [
        "Dictionaries are another basic type in `python`. They are *associative* data structures. Like a standard dictionary, python dictionaries associate a `KEY` with a `VALUE` and are created with the `{`, `}` operators:\n"
      ]
    },
    {
      "cell_type": "code",
      "metadata": {
        "id": "r54_5dJqKy1J"
      },
      "source": [
        "player = {\"name\": \"Jane\", \"score\": 10000}"
      ],
      "execution_count": 21,
      "outputs": []
    },
    {
      "cell_type": "markdown",
      "metadata": {
        "id": "7j2xSMqZLI49"
      },
      "source": [
        "You can access the value via the *key*, and set it in a similar way:\n"
      ]
    },
    {
      "cell_type": "code",
      "metadata": {
        "id": "QmrWJRGpLP-g"
      },
      "source": [
        "player[\"name\"]\n",
        "player[\"name\"] = \"Jane Smith\""
      ],
      "execution_count": 22,
      "outputs": []
    },
    {
      "cell_type": "markdown",
      "metadata": {
        "id": "QCJ4nduwLSib"
      },
      "source": [
        "Each key can only have one value. In the above example, we have overwritten the original `\"name\"`-key with a new value."
      ]
    },
    {
      "cell_type": "code",
      "metadata": {
        "id": "ofd6U6PlLRzw"
      },
      "source": [
        "# Create a list whose elements are of type dictionary\n",
        "# Each element on the list is a player, and each player has three attributes.\n",
        "players = [{\"name\": \"John\", \"score\": 100, \"likes\": [\"R\"]},\n",
        "           {\"name\": \"Jane\", \"score\": 10000, \"likes\": [\"python\"]},\n",
        "           {\"name\": \"Stephen\", \"score\": 55, \"likes\": [\"julia\"]}]\n",
        "print(players[0])\n",
        "\n",
        "# We can fetch elements of the dictionary\n",
        "players[0]['name']\n",
        "players[0].get('name')"
      ],
      "execution_count": null,
      "outputs": []
    },
    {
      "cell_type": "markdown",
      "metadata": {
        "id": "ITdXvXL9MoL4"
      },
      "source": [
        "### 2.7 Properties of an object: instances, attributes and methods"
      ]
    },
    {
      "cell_type": "markdown",
      "metadata": {
        "id": "sRingHOhMtrn"
      },
      "source": [
        "Objects in `python` have *classes*. For example:"
      ]
    },
    {
      "cell_type": "code",
      "metadata": {
        "colab": {
          "base_uri": "https://localhost:8080/"
        },
        "id": "Q2kP5A3ZNpJv",
        "outputId": "e3f32e61-211f-4433-b8da-009104e64554"
      },
      "source": [
        "new_list = [1, 2, 3]  # Create a list\n",
        "type(new_list)  # This function tells you the type of object"
      ],
      "execution_count": 29,
      "outputs": [
        {
          "output_type": "execute_result",
          "data": {
            "text/plain": [
              "list"
            ]
          },
          "metadata": {},
          "execution_count": 29
        }
      ]
    },
    {
      "cell_type": "markdown",
      "metadata": {
        "id": "qf0UUgfDOfih"
      },
      "source": [
        "`new_list` is an *instance* of the class `list`. Instances can have attributes.\n",
        "\n",
        "*Attributes* are just variables that are attached to the instance. They are accessed with dot notation:"
      ]
    },
    {
      "cell_type": "code",
      "metadata": {
        "colab": {
          "base_uri": "https://localhost:8080/"
        },
        "id": "CMcA_TJeOpz5",
        "outputId": "af29c573-4d09-487f-e649-c911b1b87cc4"
      },
      "source": [
        "# I define my own class \n",
        "class invented_class: \n",
        "    name = \"John\"\n",
        "    score = 100\n",
        "    def show(self): \n",
        "        print (self.name) \n",
        "        print (self.score) \n",
        " \n",
        "# Create an object of this new class\n",
        "new_obj = invented_class()\n",
        "print(new_obj.score)"
      ],
      "execution_count": 40,
      "outputs": [
        {
          "output_type": "stream",
          "name": "stdout",
          "text": [
            "100\n"
          ]
        }
      ]
    },
    {
      "cell_type": "markdown",
      "metadata": {
        "id": "dHaXorn2QO6r"
      },
      "source": [
        "If the attribute happens to be a function, we call it a *method*. Methods are functions that have a special purpose: they interact with the instance itself in some way."
      ]
    },
    {
      "cell_type": "markdown",
      "metadata": {
        "id": "qJoRcRp5VYvo"
      },
      "source": [
        "## 3. Iterables and control flow"
      ]
    },
    {
      "cell_type": "markdown",
      "metadata": {
        "id": "zFU8SWjVV6H6"
      },
      "source": [
        "### 3.1 Iterate over elements of an object (`for`-loops)"
      ]
    },
    {
      "cell_type": "markdown",
      "metadata": {
        "id": "9JpM-fpZWY6t"
      },
      "source": [
        "You may want to perform an operation for each element in an *iterable* object, and (possibly) store the result of such operation. We do that by *looping* over this object operating on every of its elements sequentially."
      ]
    },
    {
      "cell_type": "code",
      "metadata": {
        "colab": {
          "base_uri": "https://localhost:8080/"
        },
        "id": "H9WZEeFbW4ib",
        "outputId": "71385977-8495-4bec-abbd-9dd491207555"
      },
      "source": [
        "vector = [1, 2, 3, 4, 5, 6, 7, 8, 9, 10]\n",
        "squared = []\n",
        "for num in vector:\n",
        "    squared_num = num ** 2\n",
        "    squared = squared + [squared_num]\n",
        "\n",
        "squared"
      ],
      "execution_count": 47,
      "outputs": [
        {
          "output_type": "execute_result",
          "data": {
            "text/plain": [
              "[1, 4, 9, 16, 25, 36, 49, 64, 81, 100]"
            ]
          },
          "metadata": {},
          "execution_count": 47
        }
      ]
    },
    {
      "cell_type": "markdown",
      "metadata": {
        "id": "4XMGinz8Xl5l"
      },
      "source": [
        "The structure of the loop is critical and always the same: "
      ]
    },
    {
      "cell_type": "code",
      "metadata": {
        "id": "hzHOdY5lYGX6"
      },
      "source": [
        "## NOT RUN\n",
        "for ELEMENT in EXISTING_OBJECT:  # Use \"for\", \"in\" and \":\"\n",
        "    operation_on(ELEMENT)  # Indent 4 spaces (MANDATORY)\n",
        "\n",
        "# Loop ENDS when indentation is over\n",
        "## END NOT RUN"
      ],
      "execution_count": null,
      "outputs": []
    },
    {
      "cell_type": "markdown",
      "metadata": {
        "id": "VZ9p5FGpYjd-"
      },
      "source": [
        "`for`-loops are applicable to every instance of an iterable object class: `list`, `tuple`, `dictionary`."
      ]
    },
    {
      "cell_type": "markdown",
      "metadata": {
        "id": "bY1ElGnIUUkc"
      },
      "source": [
        "### 3.2 Operations on lists"
      ]
    },
    {
      "cell_type": "markdown",
      "metadata": {
        "id": "k47nhIzZUbM0"
      },
      "source": [
        "There are three main operations we perform on a list:\n",
        "1. Aggregate (*reduce* operation)\n",
        "2. Apply a function to each element (*map* operation)\n",
        "3. Select elements (*filter* operation)\n",
        "\n",
        "We illustrate these with some examples."
      ]
    },
    {
      "cell_type": "code",
      "metadata": {
        "id": "Bp6suLZTUw6h"
      },
      "source": [
        "# 1. AGGREGATION\n",
        "# Summing the numbers in a list: \n",
        "nums = [30, 1, 4, 3, 10.5, 100]\n",
        "total = 0 \n",
        "for num in nums:\n",
        "    total += num\n",
        "    \n",
        "print(total)\n",
        "\n",
        "# 2. APPLY A FUNCTION \n",
        "# Squaring each number in a list\n",
        "nums = [30, 1, 4, 3, 10.5, 100]\n",
        "\n",
        "# This is called a \"list comprehension\"\n",
        "# and is the python way to apply a function to \n",
        "# every element in a list\n",
        "squared_nums = [num ** 2 for num in nums]\n",
        "squared_nums\n",
        "\n",
        "# 3. FILTER\n",
        "# Remove all values less than 18:\n",
        "ages = [0, 3, 21, 45, 10, 97]\n",
        "adults = [a for a in ages if a > 17]\n",
        "adults"
      ],
      "execution_count": null,
      "outputs": []
    },
    {
      "cell_type": "markdown",
      "metadata": {
        "id": "f_i9jP5UA-et"
      },
      "source": [
        "### 3.4. Control flow"
      ]
    },
    {
      "cell_type": "markdown",
      "metadata": {
        "id": "8j581lP2ZG_a"
      },
      "source": [
        "Sometimes you may want to operate only if the object satisfies some relevant criteria, for example make a decision based on some condition holds. In these cases we use `if`-statement operations."
      ]
    },
    {
      "cell_type": "code",
      "metadata": {
        "colab": {
          "base_uri": "https://localhost:8080/"
        },
        "id": "KxWCcopQZdbc",
        "outputId": "ff4f16c2-88d2-4864-e784-e20d7e003121"
      },
      "source": [
        "gender = \"male\"\n",
        "age = 20 \n",
        "\n",
        "# Start of if-statement\n",
        "if gender == \"female\":\n",
        "    if age > 18:\n",
        "        print(\"woman\")\n",
        "    else: \n",
        "        print(\"girl\")\n",
        "elif gender == \"male\":\n",
        "    if age > 18:\n",
        "        print(\"man\")\n",
        "    else: \n",
        "        print(\"boy\")\n",
        "else:\n",
        "    print(\"other\")\n"
      ],
      "execution_count": 51,
      "outputs": [
        {
          "output_type": "stream",
          "name": "stdout",
          "text": [
            "man\n"
          ]
        }
      ]
    },
    {
      "cell_type": "markdown",
      "metadata": {
        "id": "RxtUgU61aUb0"
      },
      "source": [
        "Again, the structure of an `if`-statement is always the same, so it is essential that we use it correctly"
      ]
    },
    {
      "cell_type": "code",
      "metadata": {
        "id": "5pc5jSNdaOMd"
      },
      "source": [
        "## NOT RUN\n",
        "if BOOLEAN:  # Use: \"if\", \":\" and supply a boolean condition\n",
        "    ACTION1a  # Indent with 4 spaces\n",
        "    ACTION1b\n",
        "elif BOOLEAN:  # Second layer to \"if\" (else-if)\n",
        "    ACTION2\n",
        "else:  # Rest of scenarios (make sure all contingencies are covered)\n",
        "    ACTION3\n",
        "\n",
        "## END NOT RUN"
      ],
      "execution_count": null,
      "outputs": []
    },
    {
      "cell_type": "markdown",
      "metadata": {
        "id": "zAUjOiPsaA0N"
      },
      "source": [
        "Like in `for`-loops, statements are closed by indentation."
      ]
    },
    {
      "cell_type": "markdown",
      "metadata": {
        "id": "VQm6-wUpSMkV"
      },
      "source": [
        "## 5. Functions"
      ]
    },
    {
      "cell_type": "markdown",
      "metadata": {
        "id": "PHodgEzbCe6t"
      },
      "source": [
        "Functions (may) use an input to produce an output through a set of operations."
      ]
    },
    {
      "cell_type": "code",
      "metadata": {
        "id": "m32gw6gdSLWa"
      },
      "source": [
        "## NOT RUN\n",
        "def function_name(input):  # Use \"def\", parenthesis and \":\"\n",
        "    operations\n",
        "    return output  # End with \"return\"\n",
        "\n",
        "## END NOT RUN"
      ],
      "execution_count": null,
      "outputs": []
    },
    {
      "cell_type": "markdown",
      "metadata": {
        "id": "LOhZywhlDBDC"
      },
      "source": [
        "For example, here is a function that takes a number, and returns its square:"
      ]
    },
    {
      "cell_type": "code",
      "metadata": {
        "colab": {
          "base_uri": "https://localhost:8080/"
        },
        "id": "vWrqZwsdDBbZ",
        "outputId": "ce17e168-3cf1-49b7-8e99-5935342ff30e"
      },
      "source": [
        "def squared(x):\n",
        "    return x**2\n",
        "\n",
        "squared(7)"
      ],
      "execution_count": 2,
      "outputs": [
        {
          "output_type": "execute_result",
          "data": {
            "text/plain": [
              "16"
            ]
          },
          "metadata": {},
          "execution_count": 2
        }
      ]
    },
    {
      "cell_type": "markdown",
      "metadata": {
        "id": "ZiiOAmW4DCA2"
      },
      "source": [
        "Here is a more general function that takes a number and a power and returns the number to that power:"
      ]
    },
    {
      "cell_type": "code",
      "metadata": {
        "colab": {
          "base_uri": "https://localhost:8080/"
        },
        "id": "Zg2__HbEDCdn",
        "outputId": "91b808da-5edd-4714-9291-45b91a228ba4"
      },
      "source": [
        "def power(x, n):\n",
        "    return x ** n\n",
        "\n",
        "power(4, 3)"
      ],
      "execution_count": 3,
      "outputs": [
        {
          "output_type": "execute_result",
          "data": {
            "text/plain": [
              "64"
            ]
          },
          "metadata": {},
          "execution_count": 3
        }
      ]
    },
    {
      "cell_type": "markdown",
      "metadata": {
        "id": "c9HIE2xBDOH1"
      },
      "source": [
        "Here is a function that returns the minimum and the sum of a list of numbers:"
      ]
    },
    {
      "cell_type": "code",
      "metadata": {
        "id": "gW6Yjr7YDVrL"
      },
      "source": [
        "def min_sum_fun(x):\n",
        "    minx = x[0] if len(x) > 0 else None\n",
        "    sumx = 0.0  \n",
        "    for val in x: \n",
        "        if val < minx:\n",
        "            minx = val\n",
        "        sumx += val \n",
        "    return minx, sumx  # Notice multiple outputs (technically a tuple)\n"
      ],
      "execution_count": 8,
      "outputs": []
    },
    {
      "cell_type": "markdown",
      "metadata": {
        "id": "oYuc2pxlDZK4"
      },
      "source": [
        "Now we can call that function:"
      ]
    },
    {
      "cell_type": "code",
      "metadata": {
        "colab": {
          "base_uri": "https://localhost:8080/"
        },
        "id": "dPQ8vc88DalX",
        "outputId": "e7f06981-660c-4e03-a9be-7ebf66df9a40"
      },
      "source": [
        "m, s = min_sum_fun([1, 5, 0.3, -1])  # Destructuring\n",
        "w = (m, s) = min_sum_fun([1, 5, 0.3, -1])  # You can assign directly to a tuple\n",
        "\n",
        "print(m)\n",
        "print(s)\n",
        "print(w)\n",
        "print(type(w))"
      ],
      "execution_count": 14,
      "outputs": [
        {
          "output_type": "stream",
          "name": "stdout",
          "text": [
            "-1\n",
            "5.3\n",
            "(-1, 5.3)\n",
            "<class 'tuple'>\n"
          ]
        }
      ]
    },
    {
      "cell_type": "markdown",
      "metadata": {
        "id": "ipnrDmFFEG8i"
      },
      "source": [
        "## 6. Modules and imports"
      ]
    },
    {
      "cell_type": "markdown",
      "metadata": {
        "id": "Dyt0cU2PFGPD"
      },
      "source": [
        "Talk about import structures"
      ]
    },
    {
      "cell_type": "markdown",
      "metadata": {
        "id": "neOHzwXCFDhr"
      },
      "source": [
        "### 6.1 `numpy`"
      ]
    },
    {
      "cell_type": "markdown",
      "metadata": {
        "id": "JnQHBnQ6FT-R"
      },
      "source": [
        "#### 6.1.1. `array` operations"
      ]
    },
    {
      "cell_type": "markdown",
      "metadata": {
        "id": "rjsp0uQiFLwy"
      },
      "source": [
        "### 6.2 `pandas`"
      ]
    },
    {
      "cell_type": "markdown",
      "metadata": {
        "id": "RCESXNfRGQhm"
      },
      "source": [
        "## 7. Structured data operations (`pandas`)\n",
        "\n",
        "* loading, series/dataframe, iloc, alignmnet, filtering, missing values, subsetting, filtering, groupby, concatenation, merging"
      ]
    },
    {
      "cell_type": "markdown",
      "metadata": {
        "id": "fhU1ztJFHGF5"
      },
      "source": [
        "## 8. Advanced concepts"
      ]
    },
    {
      "cell_type": "markdown",
      "metadata": {
        "id": "dUewJe_GHJRC"
      },
      "source": [
        "## 9. Particular topics\n",
        "\n",
        "* Dates, web scrapping, text mining?"
      ]
    },
    {
      "cell_type": "markdown",
      "metadata": {
        "id": "QGx_01ciHN6z"
      },
      "source": [
        "### 9.1 Web scrapping"
      ]
    }
  ]
}